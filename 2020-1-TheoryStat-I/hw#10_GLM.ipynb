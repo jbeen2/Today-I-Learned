{
 "cells": [
  {
   "cell_type": "markdown",
   "metadata": {},
   "source": [
    "# #10 : GLM "
   ]
  },
  {
   "cell_type": "code",
   "execution_count": 1,
   "metadata": {},
   "outputs": [
    {
     "name": "stderr",
     "output_type": "stream",
     "text": [
      "Registered S3 methods overwritten by 'ggplot2':\n",
      "  method         from \n",
      "  [.quosures     rlang\n",
      "  c.quosures     rlang\n",
      "  print.quosures rlang\n",
      "\n",
      "Registered S3 method overwritten by 'rvest':\n",
      "  method            from\n",
      "  read_xml.response xml2\n",
      "\n",
      "-- \u001b[1mAttaching packages\u001b[22m --------------------------------------- tidyverse 1.2.1 --\n",
      "\n",
      "\u001b[32m√\u001b[39m \u001b[34mggplot2\u001b[39m 3.1.1       \u001b[32m√\u001b[39m \u001b[34mpurrr  \u001b[39m 0.3.4  \n",
      "\u001b[32m√\u001b[39m \u001b[34mtibble \u001b[39m 2.1.1       \u001b[32m√\u001b[39m \u001b[34mdplyr  \u001b[39m 0.8.0.\u001b[31m1\u001b[39m\n",
      "\u001b[32m√\u001b[39m \u001b[34mtidyr  \u001b[39m 0.8.3       \u001b[32m√\u001b[39m \u001b[34mstringr\u001b[39m 1.4.0  \n",
      "\u001b[32m√\u001b[39m \u001b[34mreadr  \u001b[39m 1.3.1       \u001b[32m√\u001b[39m \u001b[34mforcats\u001b[39m 0.4.0  \n",
      "\n",
      "Warning message:\n",
      "\"package 'purrr' was built under R version 3.6.3\"\n",
      "-- \u001b[1mConflicts\u001b[22m ------------------------------------------ tidyverse_conflicts() --\n",
      "\u001b[31mx\u001b[39m \u001b[34mdplyr\u001b[39m::\u001b[32mfilter()\u001b[39m  masks \u001b[34mstats\u001b[39m::filter()\n",
      "\u001b[31mx\u001b[39m \u001b[34mpurrr\u001b[39m::\u001b[32mflatten()\u001b[39m masks \u001b[34mjsonlite\u001b[39m::flatten()\n",
      "\u001b[31mx\u001b[39m \u001b[34mdplyr\u001b[39m::\u001b[32mlag()\u001b[39m     masks \u001b[34mstats\u001b[39m::lag()\n",
      "\n"
     ]
    }
   ],
   "source": [
    "library(readxl)\n",
    "library(tidyverse)"
   ]
  },
  {
   "cell_type": "markdown",
   "metadata": {},
   "source": [
    "## PART 1. Poisson GLM : 흡연과 폐암 "
   ]
  },
  {
   "cell_type": "markdown",
   "metadata": {},
   "source": [
    "* $y_i$ : # of lung cancer deaths in a year, $i = 1,...,m, m = 4\\times9 = 36$   \n",
    "* $n_i$ : populations (단위 100,000명) \n",
    "* $x_{i1}$ : 5-year age groups (1-9 ; 40-44, ..., 75-79, 80+) \n",
    "* $x_{i2}$ : smoking status     \n",
    "  - 1 : no smoke \n",
    "  - 2 : smoke cigar or pipe only \n",
    "  - 3 : smoke cigarettes and cigar/pipe \n",
    "  - 4 : smoke cigarettes only "
   ]
  },
  {
   "cell_type": "code",
   "execution_count": 2,
   "metadata": {},
   "outputs": [],
   "source": [
    "cancer <- read_xlsx(\"lungcancer-yieldcurve.xlsx\", sheet=1)\n",
    "cancer <- as_tibble(cancer) %>% rename(x1=Age,x2=Smoke,n=Pop,y=Lung) %>% mutate(a=(37+5*x1),ln_ybar=log(y/n),lna=log(a))"
   ]
  },
  {
   "cell_type": "markdown",
   "metadata": {},
   "source": [
    "### (a) 산점도\n",
    "* ($ln\\bar{y_i}, a_i), (ln\\bar{y_i}, lna_i), (ln\\bar{y_i}, x_{i2})$ \n",
    "* $\\bar{y_i} = y_i / n_i, a_i = (37+5\\cdot x_{i1})$ : age "
   ]
  },
  {
   "cell_type": "code",
   "execution_count": 3,
   "metadata": {},
   "outputs": [
    {
     "data": {
      "image/png": "[encoded data removed]",
      "text/plain": [
       "plot without title"
      ]
     },
     "metadata": {
      "image/png": {
       "height": 420,
       "width": 420
      }
     },
     "output_type": "display_data"
    }
   ],
   "source": [
    "ggplot(cancer,aes(a,ln_ybar))+geom_point()"
   ]
  },
  {
   "cell_type": "markdown",
   "metadata": {},
   "source": [
    "* linear : 나이가 들수록 사망자 수가 증가한다."
   ]
  },
  {
   "cell_type": "code",
   "execution_count": 4,
   "metadata": {},
   "outputs": [
    {
     "data": {
      "image/png": "[encoded data removed]",
      "text/plain": [
       "plot without title"
      ]
     },
     "metadata": {
      "image/png": {
       "height": 420,
       "width": 420
      }
     },
     "output_type": "display_data"
    }
   ],
   "source": [
    "ggplot(cancer,aes(lna,ln_ybar))+geom_point()"
   ]
  },
  {
   "cell_type": "markdown",
   "metadata": {},
   "source": [
    "* linear : 나이가 들수록 사망자 수가 증가한다."
   ]
  },
  {
   "cell_type": "code",
   "execution_count": 5,
   "metadata": {},
   "outputs": [
    {
     "data": {
      "image/png": "[encoded data removed]",
      "text/plain": [
       "plot without title"
      ]
     },
     "metadata": {
      "image/png": {
       "height": 420,
       "width": 420
      }
     },
     "output_type": "display_data"
    }
   ],
   "source": [
    "ggplot(cancer,aes(x2,ln_ybar))+geom_point()"
   ]
  },
  {
   "cell_type": "markdown",
   "metadata": {},
   "source": [
    "* smoke level에 따른 특징이 보이지 않는다. 따라서 smoke status에 따른 사망자 수는 관계가 없다고 할 수 있다. "
   ]
  },
  {
   "cell_type": "markdown",
   "metadata": {},
   "source": [
    "### (b) Poisson GLM \n",
    "* 범주형 변수 $x_1, x_2$의 지시변수 = $(Z_1, ... , Z_9), (S_1, ... ,S_4)$ \n",
    "* H1 : $\\ln{\\mu} = \\beta_0 + \\beta_1 \\ln{n} + \\beta_2 \\ln{a} + \\sum_{j=2}^{4} \\beta_{2+j}S_j$ \n",
    "* H2 : $\\ln{\\mu} = \\beta_0 + \\beta_1 \\ln{n} + \\sum_{k=2}^{9} \\beta_{k}Z_k  + \\sum_{j=2}^{4} \\beta_{8+j}S_j$ "
   ]
  },
  {
   "cell_type": "code",
   "execution_count": 6,
   "metadata": {},
   "outputs": [],
   "source": [
    "cancer$x1 = as.factor(cancer$x1) ; cancer$x2 = as.factor(cancer$x2)"
   ]
  },
  {
   "cell_type": "code",
   "execution_count": 7,
   "metadata": {},
   "outputs": [
    {
     "data": {
      "text/plain": [
       "\n",
       "Call:\n",
       "glm(formula = y ~ log(n) + log(a) + x2, family = \"poisson\", data = cancer)\n",
       "\n",
       "Deviance Residuals: \n",
       "     Min        1Q    Median        3Q       Max  \n",
       "-2.35696  -0.64816   0.06239   0.69680   1.77542  \n",
       "\n",
       "Coefficients:\n",
       "             Estimate Std. Error z value Pr(>|z|)    \n",
       "(Intercept) -19.25089    0.44084 -43.669  < 2e-16 ***\n",
       "log(n)        1.01684    0.01853  54.886  < 2e-16 ***\n",
       "log(a)        4.15138    0.08606  48.241  < 2e-16 ***\n",
       "x22           0.04433    0.04717   0.940    0.347    \n",
       "x23           0.19386    0.04722   4.106 4.03e-05 ***\n",
       "x24           0.40070    0.04414   9.079  < 2e-16 ***\n",
       "---\n",
       "Signif. codes:  0 '***' 0.001 '**' 0.01 '*' 0.05 '.' 0.1 ' ' 1\n",
       "\n",
       "(Dispersion parameter for poisson family taken to be 1)\n",
       "\n",
       "    Null deviance: 8434.4  on 35  degrees of freedom\n",
       "Residual deviance:   27.4  on 30  degrees of freedom\n",
       "AIC: 279.42\n",
       "\n",
       "Number of Fisher Scoring iterations: 4\n"
      ]
     },
     "metadata": {},
     "output_type": "display_data"
    }
   ],
   "source": [
    "# x2 지시변수만 고려한 모델 \n",
    "H1 <- glm(y ~ log(n)+log(a)+x2, family = \"poisson\", data = cancer)\n",
    "summary(H1)"
   ]
  },
  {
   "cell_type": "code",
   "execution_count": 8,
   "metadata": {},
   "outputs": [
    {
     "data": {
      "text/plain": [
       "\n",
       "Call:\n",
       "glm(formula = y ~ log(n) + x2 + x1, family = \"poisson\", data = cancer)\n",
       "\n",
       "Deviance Residuals: \n",
       "     Min        1Q    Median        3Q       Max  \n",
       "-1.80070  -0.41646   0.02397   0.45315   1.73289  \n",
       "\n",
       "Coefficients:\n",
       "            Estimate Std. Error z value Pr(>|z|)    \n",
       "(Intercept) -4.21924    0.25054 -16.841  < 2e-16 ***\n",
       "log(n)       1.07610    0.03399  31.658  < 2e-16 ***\n",
       "x22          0.01481    0.04941   0.300   0.7643    \n",
       "x23          0.11593    0.05975   1.940   0.0524 .  \n",
       "x24          0.34846    0.05034   6.922 4.45e-12 ***\n",
       "x12          0.58554    0.08123   7.209 5.65e-13 ***\n",
       "x13          1.03041    0.07999  12.881  < 2e-16 ***\n",
       "x14          1.38137    0.06527  21.165  < 2e-16 ***\n",
       "x15          1.64015    0.06288  26.085  < 2e-16 ***\n",
       "x16          2.01577    0.06330  31.845  < 2e-16 ***\n",
       "x17          2.33304    0.07009  33.287  < 2e-16 ***\n",
       "x18          2.67213    0.08478  31.517  < 2e-16 ***\n",
       "x19          2.99162    0.09698  30.849  < 2e-16 ***\n",
       "---\n",
       "Signif. codes:  0 '***' 0.001 '**' 0.01 '*' 0.05 '.' 0.1 ' ' 1\n",
       "\n",
       "(Dispersion parameter for poisson family taken to be 1)\n",
       "\n",
       "    Null deviance: 8434.408  on 35  degrees of freedom\n",
       "Residual deviance:   16.382  on 23  degrees of freedom\n",
       "AIC: 282.4\n",
       "\n",
       "Number of Fisher Scoring iterations: 4\n"
      ]
     },
     "metadata": {},
     "output_type": "display_data"
    }
   ],
   "source": [
    "# x1 지시변수까지 고려한 모델 \n",
    "H2 <- glm(y ~ log(n)+x2+x1, family = \"poisson\", data = cancer)\n",
    "summary(H2)"
   ]
  },
  {
   "cell_type": "code",
   "execution_count": 9,
   "metadata": {},
   "outputs": [
    {
     "data": {
      "text/html": [
       "<table>\n",
       "<caption>A matrix: 2 × 1 of type dbl</caption>\n",
       "<thead>\n",
       "\t<tr><th></th><th scope=col>AIC</th></tr>\n",
       "</thead>\n",
       "<tbody>\n",
       "\t<tr><th scope=row>H1</th><td>279.4228</td></tr>\n",
       "\t<tr><th scope=row>H2</th><td>282.4049</td></tr>\n",
       "</tbody>\n",
       "</table>\n"
      ],
      "text/latex": [
       "A matrix: 2 × 1 of type dbl\n",
       "\\begin{tabular}{r|l}\n",
       "  & AIC\\\\\n",
       "\\hline\n",
       "\tH1 & 279.4228\\\\\n",
       "\tH2 & 282.4049\\\\\n",
       "\\end{tabular}\n"
      ],
      "text/markdown": [
       "\n",
       "A matrix: 2 × 1 of type dbl\n",
       "\n",
       "| <!--/--> | AIC |\n",
       "|---|---|\n",
       "| H1 | 279.4228 |\n",
       "| H2 | 282.4049 |\n",
       "\n"
      ],
      "text/plain": [
       "   AIC     \n",
       "H1 279.4228\n",
       "H2 282.4049"
      ]
     },
     "metadata": {},
     "output_type": "display_data"
    }
   ],
   "source": [
    "AIC <-  rbind(H1$aic, H2$aic)  \n",
    "rownames(AIC) <- c(\"H1\", \"H2\") ; colnames(AIC) <- \"AIC\" ; AIC"
   ]
  },
  {
   "cell_type": "markdown",
   "metadata": {},
   "source": [
    "* H1의 AIC가 더 작으므로, H1 모델이 더 적절한 모델이다. "
   ]
  },
  {
   "cell_type": "markdown",
   "metadata": {},
   "source": [
    "### (c) Poisson GLM offset \n",
    "* H3 : $\\beta_1 = 1$ "
   ]
  },
  {
   "cell_type": "code",
   "execution_count": 10,
   "metadata": {},
   "outputs": [
    {
     "data": {
      "text/plain": [
       "\n",
       "Call:\n",
       "glm(formula = y ~ offset(log(n)) + log(a) + x2, family = \"poisson\", \n",
       "    data = cancer)\n",
       "\n",
       "Deviance Residuals: \n",
       "    Min       1Q   Median       3Q      Max  \n",
       "-2.2910  -0.6552   0.0777   0.5016   1.8521  \n",
       "\n",
       "Coefficients:\n",
       "             Estimate Std. Error z value Pr(>|z|)    \n",
       "(Intercept) -18.96227    0.30429 -62.316  < 2e-16 ***\n",
       "log(a)        4.10852    0.07162  57.366  < 2e-16 ***\n",
       "x22           0.04915    0.04687   1.049    0.294    \n",
       "x23           0.21862    0.03854   5.673  1.4e-08 ***\n",
       "x24           0.41817    0.03971  10.531  < 2e-16 ***\n",
       "---\n",
       "Signif. codes:  0 '***' 0.001 '**' 0.01 '*' 0.05 '.' 0.1 ' ' 1\n",
       "\n",
       "(Dispersion parameter for poisson family taken to be 1)\n",
       "\n",
       "    Null deviance: 4055.98  on 35  degrees of freedom\n",
       "Residual deviance:   28.23  on 31  degrees of freedom\n",
       "AIC: 278.25\n",
       "\n",
       "Number of Fisher Scoring iterations: 4\n"
      ]
     },
     "metadata": {},
     "output_type": "display_data"
    }
   ],
   "source": [
    "H3 <- glm(y ~ offset(log(n))+log(a)+x2, family = \"poisson\", data = cancer)\n",
    "summary(H3)"
   ]
  },
  {
   "cell_type": "code",
   "execution_count": 11,
   "metadata": {},
   "outputs": [
    {
     "data": {
      "text/html": [
       "<table>\n",
       "<caption>A matrix: 3 × 1 of type dbl</caption>\n",
       "<thead>\n",
       "\t<tr><th></th><th scope=col>AIC</th></tr>\n",
       "</thead>\n",
       "<tbody>\n",
       "\t<tr><th scope=row>H1</th><td>279.4228</td></tr>\n",
       "\t<tr><th scope=row>H2</th><td>282.4049</td></tr>\n",
       "\t<tr><th scope=row>H3</th><td>278.2527</td></tr>\n",
       "</tbody>\n",
       "</table>\n"
      ],
      "text/latex": [
       "A matrix: 3 × 1 of type dbl\n",
       "\\begin{tabular}{r|l}\n",
       "  & AIC\\\\\n",
       "\\hline\n",
       "\tH1 & 279.4228\\\\\n",
       "\tH2 & 282.4049\\\\\n",
       "\tH3 & 278.2527\\\\\n",
       "\\end{tabular}\n"
      ],
      "text/markdown": [
       "\n",
       "A matrix: 3 × 1 of type dbl\n",
       "\n",
       "| <!--/--> | AIC |\n",
       "|---|---|\n",
       "| H1 | 279.4228 |\n",
       "| H2 | 282.4049 |\n",
       "| H3 | 278.2527 |\n",
       "\n"
      ],
      "text/plain": [
       "   AIC     \n",
       "H1 279.4228\n",
       "H2 282.4049\n",
       "H3 278.2527"
      ]
     },
     "metadata": {},
     "output_type": "display_data"
    }
   ],
   "source": [
    "AIC <-  rbind(H1$aic, H2$aic, H3$aic)  \n",
    "rownames(AIC) <- c(\"H1\", \"H2\", \"H3\") ; colnames(AIC) <- \"AIC\" ; AIC"
   ]
  },
  {
   "cell_type": "markdown",
   "metadata": {},
   "source": [
    "* H3의 AIC가 가장 작으므로, $\\ln{n}$의 계수를 1로 고정시킨 모형이 가장 적절한 모델이다. "
   ]
  },
  {
   "cell_type": "markdown",
   "metadata": {},
   "source": [
    "### (d) 모형의 적합성 검토 (with Deviance 잔차, Pearson 잔차) "
   ]
  },
  {
   "cell_type": "code",
   "execution_count": 12,
   "metadata": {},
   "outputs": [
    {
     "data": {
      "text/html": [
       "<style>\n",
       ".dl-inline {width: auto; margin:0; padding: 0}\n",
       ".dl-inline>dt, .dl-inline>dd {float: none; width: auto; display: inline-block}\n",
       ".dl-inline>dt::after {content: \":\\0020\"; padding-right: .5ex}\n",
       ".dl-inline>dt:not(:first-of-type) {padding-left: .5ex}\n",
       "</style><dl class=dl-inline><dt>1</dt><dd>0.043149571292159</dd><dt>2</dt><dd>1.5578278577302</dd><dt>3</dt><dd>0.660643562114861</dd><dt>4</dt><dd>-0.679504415720432</dd><dt>5</dt><dd>-2.29096262031504</dd><dt>6</dt><dd>0.310971987396417</dd><dt>7</dt><dd>0.985772258355096</dd><dt>8</dt><dd>0.15593849862428</dd><dt>9</dt><dd>0.343654665381598</dd><dt>10</dt><dd>-1.16895243323411</dd><dt>11</dt><dd>-0.335930801882629</dd><dt>12</dt><dd>-1.61402984919474</dd><dt>13</dt><dd>0.128071193558721</dd><dt>14</dt><dd>-0.605586714502308</dd><dt>15</dt><dd>-0.851781701717841</dd><dt>16</dt><dd>-0.222461891119771</dd><dt>17</dt><dd>0.876700395041935</dd><dt>18</dt><dd>0.873281279684697</dd><dt>19</dt><dd>-0.335943160732115</dd><dt>20</dt><dd>0.501396044924562</dd><dt>21</dt><dd>0.639111237216452</dd><dt>22</dt><dd>0.890047155445881</dd><dt>23</dt><dd>-0.385430104061009</dd><dt>24</dt><dd>0.254688246067428</dd><dt>25</dt><dd>-0.647165891301737</dd><dt>26</dt><dd>-0.972742386211929</dd><dt>27</dt><dd>0.502208949802605</dd><dt>28</dt><dd>-1.43754033651728</dd><dt>29</dt><dd>-0.553896691772671</dd><dt>30</dt><dd>0.244915283643306</dd><dt>31</dt><dd>1.85211895450574</dd><dt>32</dt><dd>0.112255519943387</dd><dt>33</dt><dd>0.323285995151235</dd><dt>34</dt><dd>-0.924321636784597</dd><dt>35</dt><dd>-0.207894950640562</dd><dt>36</dt><dd>-1.18146321092894</dd></dl>\n"
      ],
      "text/latex": [
       "\\begin{description*}\n",
       "\\item[1] 0.043149571292159\n",
       "\\item[2] 1.5578278577302\n",
       "\\item[3] 0.660643562114861\n",
       "\\item[4] -0.679504415720432\n",
       "\\item[5] -2.29096262031504\n",
       "\\item[6] 0.310971987396417\n",
       "\\item[7] 0.985772258355096\n",
       "\\item[8] 0.15593849862428\n",
       "\\item[9] 0.343654665381598\n",
       "\\item[10] -1.16895243323411\n",
       "\\item[11] -0.335930801882629\n",
       "\\item[12] -1.61402984919474\n",
       "\\item[13] 0.128071193558721\n",
       "\\item[14] -0.605586714502308\n",
       "\\item[15] -0.851781701717841\n",
       "\\item[16] -0.222461891119771\n",
       "\\item[17] 0.876700395041935\n",
       "\\item[18] 0.873281279684697\n",
       "\\item[19] -0.335943160732115\n",
       "\\item[20] 0.501396044924562\n",
       "\\item[21] 0.639111237216452\n",
       "\\item[22] 0.890047155445881\n",
       "\\item[23] -0.385430104061009\n",
       "\\item[24] 0.254688246067428\n",
       "\\item[25] -0.647165891301737\n",
       "\\item[26] -0.972742386211929\n",
       "\\item[27] 0.502208949802605\n",
       "\\item[28] -1.43754033651728\n",
       "\\item[29] -0.553896691772671\n",
       "\\item[30] 0.244915283643306\n",
       "\\item[31] 1.85211895450574\n",
       "\\item[32] 0.112255519943387\n",
       "\\item[33] 0.323285995151235\n",
       "\\item[34] -0.924321636784597\n",
       "\\item[35] -0.207894950640562\n",
       "\\item[36] -1.18146321092894\n",
       "\\end{description*}\n"
      ],
      "text/markdown": [
       "1\n",
       ":   0.0431495712921592\n",
       ":   1.55782785773023\n",
       ":   0.6606435621148614\n",
       ":   -0.6795044157204325\n",
       ":   -2.290962620315046\n",
       ":   0.3109719873964177\n",
       ":   0.9857722583550968\n",
       ":   0.155938498624289\n",
       ":   0.34365466538159810\n",
       ":   -1.1689524332341111\n",
       ":   -0.33593080188262912\n",
       ":   -1.6140298491947413\n",
       ":   0.12807119355872114\n",
       ":   -0.60558671450230815\n",
       ":   -0.85178170171784116\n",
       ":   -0.22246189111977117\n",
       ":   0.87670039504193518\n",
       ":   0.87328127968469719\n",
       ":   -0.33594316073211520\n",
       ":   0.50139604492456221\n",
       ":   0.63911123721645222\n",
       ":   0.89004715544588123\n",
       ":   -0.38543010406100924\n",
       ":   0.25468824606742825\n",
       ":   -0.64716589130173726\n",
       ":   -0.97274238621192927\n",
       ":   0.50220894980260528\n",
       ":   -1.4375403365172829\n",
       ":   -0.55389669177267130\n",
       ":   0.24491528364330631\n",
       ":   1.8521189545057432\n",
       ":   0.11225551994338733\n",
       ":   0.32328599515123534\n",
       ":   -0.92432163678459735\n",
       ":   -0.20789495064056236\n",
       ":   -1.18146321092894\n",
       "\n"
      ],
      "text/plain": [
       "          1           2           3           4           5           6 \n",
       " 0.04314957  1.55782786  0.66064356 -0.67950442 -2.29096262  0.31097199 \n",
       "          7           8           9          10          11          12 \n",
       " 0.98577226  0.15593850  0.34365467 -1.16895243 -0.33593080 -1.61402985 \n",
       "         13          14          15          16          17          18 \n",
       " 0.12807119 -0.60558671 -0.85178170 -0.22246189  0.87670040  0.87328128 \n",
       "         19          20          21          22          23          24 \n",
       "-0.33594316  0.50139604  0.63911124  0.89004716 -0.38543010  0.25468825 \n",
       "         25          26          27          28          29          30 \n",
       "-0.64716589 -0.97274239  0.50220895 -1.43754034 -0.55389669  0.24491528 \n",
       "         31          32          33          34          35          36 \n",
       " 1.85211895  0.11225552  0.32328600 -0.92432164 -0.20789495 -1.18146321 "
      ]
     },
     "metadata": {},
     "output_type": "display_data"
    }
   ],
   "source": [
    "# Deviance residuals\n",
    "resid(H3, 'deviance')"
   ]
  },
  {
   "cell_type": "code",
   "execution_count": 13,
   "metadata": {},
   "outputs": [
    {
     "data": {
      "text/html": [
       "<style>\n",
       ".dl-inline {width: auto; margin:0; padding: 0}\n",
       ".dl-inline>dt, .dl-inline>dd {float: none; width: auto; display: inline-block}\n",
       ".dl-inline>dt::after {content: \":\\0020\"; padding-right: .5ex}\n",
       ".dl-inline>dt:not(:first-of-type) {padding-left: .5ex}\n",
       "</style><dl class=dl-inline><dt>1</dt><dd>0.0432230241318615</dd><dt>2</dt><dd>1.65755649244266</dd><dt>3</dt><dd>0.678444748111745</dd><dt>4</dt><dd>-0.669511567112223</dd><dt>5</dt><dd>-2.21672800703584</dd><dt>6</dt><dd>0.312220513684754</dd><dt>7</dt><dd>0.998259090814342</dd><dt>8</dt><dd>0.156310672677516</dd><dt>9</dt><dd>0.34547522695824</dd><dt>10</dt><dd>-1.05056879460061</dd><dt>11</dt><dd>-0.327147733659564</dd><dt>12</dt><dd>-1.43601546115701</dd><dt>13</dt><dd>0.128518526364093</dd><dt>14</dt><dd>-0.599970576139917</dd><dt>15</dt><dd>-0.842830679541396</dd><dt>16</dt><dd>-0.221898988332843</dd><dt>17</dt><dd>0.885114515740086</dd><dt>18</dt><dd>0.881458609375593</dd><dt>19</dt><dd>-0.33441971556076</dd><dt>20</dt><dd>0.504671606294612</dd><dt>21</dt><dd>0.644107021273727</dd><dt>22</dt><dd>0.895634566659898</dd><dt>23</dt><dd>-0.384651489708029</dd><dt>24</dt><dd>0.255049690420434</dd><dt>25</dt><dd>-0.644376961138974</dd><dt>26</dt><dd>-0.964337845970702</dd><dt>27</dt><dd>0.505313740519103</dd><dt>28</dt><dd>-1.40820125426792</dd><dt>29</dt><dd>-0.549658034355034</dd><dt>30</dt><dd>0.245651845252965</dd><dt>31</dt><dd>1.87822043372749</dd><dt>32</dt><dd>0.112330942813984</dd><dt>33</dt><dd>0.323953025512177</dd><dt>34</dt><dd>-0.917595630161854</dd><dt>35</dt><dd>-0.207405438582738</dd><dt>36</dt><dd>-1.15387952691356</dd></dl>\n"
      ],
      "text/latex": [
       "\\begin{description*}\n",
       "\\item[1] 0.0432230241318615\n",
       "\\item[2] 1.65755649244266\n",
       "\\item[3] 0.678444748111745\n",
       "\\item[4] -0.669511567112223\n",
       "\\item[5] -2.21672800703584\n",
       "\\item[6] 0.312220513684754\n",
       "\\item[7] 0.998259090814342\n",
       "\\item[8] 0.156310672677516\n",
       "\\item[9] 0.34547522695824\n",
       "\\item[10] -1.05056879460061\n",
       "\\item[11] -0.327147733659564\n",
       "\\item[12] -1.43601546115701\n",
       "\\item[13] 0.128518526364093\n",
       "\\item[14] -0.599970576139917\n",
       "\\item[15] -0.842830679541396\n",
       "\\item[16] -0.221898988332843\n",
       "\\item[17] 0.885114515740086\n",
       "\\item[18] 0.881458609375593\n",
       "\\item[19] -0.33441971556076\n",
       "\\item[20] 0.504671606294612\n",
       "\\item[21] 0.644107021273727\n",
       "\\item[22] 0.895634566659898\n",
       "\\item[23] -0.384651489708029\n",
       "\\item[24] 0.255049690420434\n",
       "\\item[25] -0.644376961138974\n",
       "\\item[26] -0.964337845970702\n",
       "\\item[27] 0.505313740519103\n",
       "\\item[28] -1.40820125426792\n",
       "\\item[29] -0.549658034355034\n",
       "\\item[30] 0.245651845252965\n",
       "\\item[31] 1.87822043372749\n",
       "\\item[32] 0.112330942813984\n",
       "\\item[33] 0.323953025512177\n",
       "\\item[34] -0.917595630161854\n",
       "\\item[35] -0.207405438582738\n",
       "\\item[36] -1.15387952691356\n",
       "\\end{description*}\n"
      ],
      "text/markdown": [
       "1\n",
       ":   0.04322302413186152\n",
       ":   1.657556492442663\n",
       ":   0.6784447481117454\n",
       ":   -0.6695115671122235\n",
       ":   -2.216728007035846\n",
       ":   0.3122205136847547\n",
       ":   0.9982590908143428\n",
       ":   0.1563106726775169\n",
       ":   0.3454752269582410\n",
       ":   -1.0505687946006111\n",
       ":   -0.32714773365956412\n",
       ":   -1.4360154611570113\n",
       ":   0.12851852636409314\n",
       ":   -0.59997057613991715\n",
       ":   -0.84283067954139616\n",
       ":   -0.22189898833284317\n",
       ":   0.88511451574008618\n",
       ":   0.88145860937559319\n",
       ":   -0.3344197155607620\n",
       ":   0.50467160629461221\n",
       ":   0.64410702127372722\n",
       ":   0.89563456665989823\n",
       ":   -0.38465148970802924\n",
       ":   0.25504969042043425\n",
       ":   -0.64437696113897426\n",
       ":   -0.96433784597070227\n",
       ":   0.50531374051910328\n",
       ":   -1.4082012542679229\n",
       ":   -0.54965803435503430\n",
       ":   0.24565184525296531\n",
       ":   1.8782204337274932\n",
       ":   0.11233094281398433\n",
       ":   0.32395302551217734\n",
       ":   -0.91759563016185435\n",
       ":   -0.20740543858273836\n",
       ":   -1.15387952691356\n",
       "\n"
      ],
      "text/plain": [
       "          1           2           3           4           5           6 \n",
       " 0.04322302  1.65755649  0.67844475 -0.66951157 -2.21672801  0.31222051 \n",
       "          7           8           9          10          11          12 \n",
       " 0.99825909  0.15631067  0.34547523 -1.05056879 -0.32714773 -1.43601546 \n",
       "         13          14          15          16          17          18 \n",
       " 0.12851853 -0.59997058 -0.84283068 -0.22189899  0.88511452  0.88145861 \n",
       "         19          20          21          22          23          24 \n",
       "-0.33441972  0.50467161  0.64410702  0.89563457 -0.38465149  0.25504969 \n",
       "         25          26          27          28          29          30 \n",
       "-0.64437696 -0.96433785  0.50531374 -1.40820125 -0.54965803  0.24565185 \n",
       "         31          32          33          34          35          36 \n",
       " 1.87822043  0.11233094  0.32395303 -0.91759563 -0.20740544 -1.15387953 "
      ]
     },
     "metadata": {},
     "output_type": "display_data"
    }
   ],
   "source": [
    "# Pearson residuals\n",
    "resid(H3, 'pearson')"
   ]
  },
  {
   "cell_type": "code",
   "execution_count": 14,
   "metadata": {},
   "outputs": [
    {
     "data": {
      "text/html": [
       "28.2298193535601"
      ],
      "text/latex": [
       "28.2298193535601"
      ],
      "text/markdown": [
       "28.2298193535601"
      ],
      "text/plain": [
       "[1] 28.22982"
      ]
     },
     "metadata": {},
     "output_type": "display_data"
    },
    {
     "data": {
      "text/html": [
       "27.3832045129675"
      ],
      "text/latex": [
       "27.3832045129675"
      ],
      "text/markdown": [
       "27.3832045129675"
      ],
      "text/plain": [
       "[1] 27.3832"
      ]
     },
     "metadata": {},
     "output_type": "display_data"
    }
   ],
   "source": [
    "D <- H3$deviance ; P<-sum(resid(H3,type=\"pearson\")^2)\n",
    "D ; P"
   ]
  },
  {
   "cell_type": "code",
   "execution_count": 15,
   "metadata": {},
   "outputs": [
    {
     "data": {
      "image/png": "[encoded data removed]",
      "text/plain": [
       "plot without title"
      ]
     },
     "metadata": {
      "image/png": {
       "height": 420,
       "width": 420
      }
     },
     "output_type": "display_data"
    }
   ],
   "source": [
    "p<-5\n",
    "cancer = cancer %>% mutate(devi = resid(H3, 'deviance'), pearson = resid(H3, 'deviance'))\n",
    "\n",
    "# Deviance Residual \n",
    "ggplot(cancer) + geom_qq(aes(sample = devi)) + geom_qq_line(aes(sample = devi)) +\n",
    "  labs(title = 'Deviance Residual QQ-plot')"
   ]
  },
  {
   "cell_type": "code",
   "execution_count": 16,
   "metadata": {
    "scrolled": true
   },
   "outputs": [
    {
     "data": {
      "text/html": [
       "0.609277873807344"
      ],
      "text/latex": [
       "0.609277873807344"
      ],
      "text/markdown": [
       "0.609277873807344"
      ],
      "text/plain": [
       "[1] 0.6092779"
      ]
     },
     "metadata": {},
     "output_type": "display_data"
    }
   ],
   "source": [
    "1-pchisq(D,nrow(cancer)-p) # deviance : p-value"
   ]
  },
  {
   "cell_type": "markdown",
   "metadata": {},
   "source": [
    "* 점들이 일직선상에 놓여있으므로 잔차의 정규성을 만족함을 알 수 있다.\n",
    "* 또한 귀무가설을 채택하므로, H3 모형이 적절한 모형이라고 생각할 수 있다. "
   ]
  },
  {
   "cell_type": "code",
   "execution_count": 17,
   "metadata": {},
   "outputs": [
    {
     "data": {
      "image/png": "[encoded data removed]",
      "text/plain": [
       "plot without title"
      ]
     },
     "metadata": {
      "image/png": {
       "height": 420,
       "width": 420
      }
     },
     "output_type": "display_data"
    }
   ],
   "source": [
    "# Pearson Residual \n",
    "ggplot(cancer) + geom_qq(aes(sample = pearson)) + geom_qq_line(aes(sample = pearson)) +\n",
    "  labs(title = 'Pearson Residual QQ-plot ')"
   ]
  },
  {
   "cell_type": "code",
   "execution_count": 18,
   "metadata": {},
   "outputs": [
    {
     "data": {
      "text/html": [
       "0.652795511496933"
      ],
      "text/latex": [
       "0.652795511496933"
      ],
      "text/markdown": [
       "0.652795511496933"
      ],
      "text/plain": [
       "[1] 0.6527955"
      ]
     },
     "metadata": {},
     "output_type": "display_data"
    }
   ],
   "source": [
    "1-pchisq(P,nrow(cancer)-p) # pearson : p-value"
   ]
  },
  {
   "cell_type": "markdown",
   "metadata": {},
   "source": [
    "* 마찬가지로 점들이 일직선상에 놓여있으므로 잔차의 정규성을 만족함을 알 수 있다.\n",
    "* 또한 귀무가설을 채택하므로, H3 모형이 적절한 모형이라고 생각할 수 있다. "
   ]
  },
  {
   "cell_type": "markdown",
   "metadata": {},
   "source": [
    "### (e) 최적 Poisson GLM : 변수변환, 교호작용 (interaction) 고려"
   ]
  },
  {
   "cell_type": "code",
   "execution_count": 19,
   "metadata": {},
   "outputs": [
    {
     "name": "stdout",
     "output_type": "stream",
     "text": [
      "Start:  AIC=279.81\n",
      "y ~ offset(log(n)) + log(a) + x2 + log(a) * x2\n",
      "\n",
      "            Df Deviance    AIC\n",
      "- log(a):x2  3    28.23 278.25\n",
      "<none>            23.79 279.81\n",
      "\n",
      "Step:  AIC=278.25\n",
      "y ~ log(a) + x2 + offset(log(n))\n",
      "\n",
      "            Df Deviance    AIC\n",
      "<none>             28.2  278.3\n",
      "+ log(a):x2  3     23.8  279.8\n",
      "- x2         3    203.4  447.4\n",
      "- log(a)     1   3910.7 4158.7\n"
     ]
    },
    {
     "data": {
      "text/plain": [
       "\n",
       "Call:  glm(formula = y ~ log(a) + x2 + offset(log(n)), family = poisson(link = \"log\"), \n",
       "    data = cancer)\n",
       "\n",
       "Coefficients:\n",
       "(Intercept)       log(a)          x22          x23          x24  \n",
       "  -18.96227      4.10852      0.04915      0.21862      0.41817  \n",
       "\n",
       "Degrees of Freedom: 35 Total (i.e. Null);  31 Residual\n",
       "Null Deviance:\t    4056 \n",
       "Residual Deviance: 28.23 \tAIC: 278.3"
      ]
     },
     "metadata": {},
     "output_type": "display_data"
    }
   ],
   "source": [
    "H4 <- glm(y ~ offset(log(n))+log(a)+x2+log(a)*x2,family=poisson(link=\"log\"),data=cancer)\n",
    "step(H4, direction=\"both\", alpha=0.15)"
   ]
  },
  {
   "cell_type": "markdown",
   "metadata": {},
   "source": [
    "* 최적 모형 : $\\ln{\\mu} = -18.962 + \\ln{n} + 4.109\\ln{a} + 0.049 S_2 + 0.219 S_3 + 0.418 S_4$ "
   ]
  },
  {
   "cell_type": "markdown",
   "metadata": {},
   "source": [
    "### (f) Logistic GLM \n",
    "* $y_i  \\sim b(n_i, p_i) ; i = 1, ... , m$ \n",
    "* $g(p_i) = \\beta_0 + \\beta_1 S_{i2} + ... ; g(\\centerdot)$ : link function "
   ]
  },
  {
   "cell_type": "code",
   "execution_count": 20,
   "metadata": {},
   "outputs": [
    {
     "data": {
      "text/plain": [
       "\n",
       "Call:\n",
       "glm(formula = cbind(y, n - y) ~ log(n) + log(a) + x2, family = binomial(link = \"logit\"), \n",
       "    data = cancer)\n",
       "\n",
       "Deviance Residuals: \n",
       "    Min       1Q   Median       3Q      Max  \n",
       "-2.4278  -0.6860  -0.1467   0.7754   2.6252  \n",
       "\n",
       "Coefficients:\n",
       "             Estimate Std. Error z value Pr(>|z|)    \n",
       "(Intercept) -21.42509    0.47261 -45.334  < 2e-16 ***\n",
       "log(n)       -0.09056    0.02246  -4.032 5.53e-05 ***\n",
       "log(a)        4.89276    0.09221  53.061  < 2e-16 ***\n",
       "x22           0.09005    0.05430   1.658   0.0972 .  \n",
       "x23           0.41194    0.05601   7.354 1.92e-13 ***\n",
       "x24           0.62881    0.05211  12.067  < 2e-16 ***\n",
       "---\n",
       "Signif. codes:  0 '***' 0.001 '**' 0.01 '*' 0.05 '.' 0.1 ' ' 1\n",
       "\n",
       "(Dispersion parameter for binomial family taken to be 1)\n",
       "\n",
       "    Null deviance: 4917.031  on 35  degrees of freedom\n",
       "Residual deviance:   44.322  on 30  degrees of freedom\n",
       "AIC: 287.27\n",
       "\n",
       "Number of Fisher Scoring iterations: 4\n"
      ]
     },
     "metadata": {},
     "output_type": "display_data"
    }
   ],
   "source": [
    "H5 = glm(cbind(y, n-y) ~ log(n)+log(a)+x2, family=binomial(link=\"logit\"), data = cancer)\n",
    "summary(H5)"
   ]
  },
  {
   "cell_type": "markdown",
   "metadata": {},
   "source": [
    "* 최적 모형 : $\\ln{\\frac{p_i}{1-p_i}} = -21.425 -0.09 \\ln{n} + 4.893\\ln{a} + 0.09 S_2 + 0.412 S_3 + 0.629 S_4$"
   ]
  },
  {
   "cell_type": "markdown",
   "metadata": {},
   "source": [
    "#### Poisson GLM vs Logistic GLM \n",
    "  - link function ($g(\\mu))$ : $-1/\\mu$ (poisson) vs $\\ln{\\frac{\\mu}{1-\\mu}}$ (logistic)  \n",
    "  - y : count (poisson) vs  binary(0,1) (logistic)\n",
    "  - y가 count 관련 추정값이라면 Poisson GLM이 더 안정적이다.       \n",
    "    하지만 $\\lambda \\geq 0$ 이기 때문에, 만약 $\\lambda < 0$ 이라면 문제가 발생할 수 있다. \n",
    "  - Logistic GLM의 경우 오차가 정규분포를 가정하지 않아도 되고, 등분산을 따르지 않아도 된다.        \n",
    "    그렇지만 결과가 안정적이게 출력되려면 sample size가 커야한다는 단점이 있다. "
   ]
  },
  {
   "cell_type": "markdown",
   "metadata": {},
   "source": [
    "## Part 2. Barley Competition Experiment \n",
    "* Gamma GLM을 이용한 Yield-Density Curve 추정 \n",
    "* 단위 면적당 심은 보리 씨앗의 숫자 ($x_i$, density)에 따른 단위면적당 보리 수확량 ($y_i$, yield)의 관계 "
   ]
  },
  {
   "cell_type": "code",
   "execution_count": 21,
   "metadata": {},
   "outputs": [],
   "source": [
    "barley <- read_xlsx(\"lungcancer-yieldcurve.xlsx\", sheet=2)\n",
    "barley <- as_tibble(barley) %>% rename(pot=Pot, x=\"Barley seeds sown\", block=Block, y=\"Yield Fresh weight\", z=\"Plants harvested\")"
   ]
  },
  {
   "cell_type": "markdown",
   "metadata": {},
   "source": [
    "### (a) 산점도 \n",
    "* $(x_i, y_i), (x_i, y_i/x_i), (x_i, x_i/y_i)$ "
   ]
  },
  {
   "cell_type": "code",
   "execution_count": 22,
   "metadata": {},
   "outputs": [
    {
     "data": {
      "image/png": "[encoded data removed]",
      "text/plain": [
       "plot without title"
      ]
     },
     "metadata": {
      "image/png": {
       "height": 420,
       "width": 420
      }
     },
     "output_type": "display_data"
    }
   ],
   "source": [
    "# (x,y)\n",
    "ggplot(barley,aes(x,y))+geom_point()+labs(y = 'yields', x = 'density')"
   ]
  },
  {
   "cell_type": "code",
   "execution_count": 23,
   "metadata": {},
   "outputs": [
    {
     "data": {
      "image/png": "[encoded data removed]",
      "text/plain": [
       "plot without title"
      ]
     },
     "metadata": {
      "image/png": {
       "height": 420,
       "width": 420
      }
     },
     "output_type": "display_data"
    }
   ],
   "source": [
    "# (x, y/x)\n",
    "ggplot(barley,aes(x,y/x))+geom_point()+labs(y = 'yields/density',x = 'density')"
   ]
  },
  {
   "cell_type": "code",
   "execution_count": 24,
   "metadata": {},
   "outputs": [
    {
     "data": {
      "image/png": "[encoded data removed]",
      "text/plain": [
       "plot without title"
      ]
     },
     "metadata": {
      "image/png": {
       "height": 420,
       "width": 420
      }
     },
     "output_type": "display_data"
    }
   ],
   "source": [
    "# (x, x/y)\n",
    "ggplot(barley,aes(x,x/y))+geom_point()+labs(y = 'density/yields',x = 'density')"
   ]
  },
  {
   "cell_type": "markdown",
   "metadata": {},
   "source": [
    "### (b) Gamma GLM : 모수 추정 "
   ]
  },
  {
   "cell_type": "markdown",
   "metadata": {},
   "source": [
    "* $y_i \\sim \\Gamma(\\alpha_i, \\beta_i) , E(y_i) = \\mu_i = \\alpha\\beta_i$\n",
    "* $\\mu_i = x_i / (a+bx_i)$ \n",
    "* $\\theta_i = g(\\mu_i) = (1/\\mu_i) = (a+bx_i)/x_i = b+a/x_i = \\beta_0 + \\beta_1/x_i, i=1, ... , n$ "
   ]
  },
  {
   "cell_type": "code",
   "execution_count": 25,
   "metadata": {},
   "outputs": [
    {
     "name": "stderr",
     "output_type": "stream",
     "text": [
      "\n",
      "Attaching package: 'MASS'\n",
      "\n",
      "\n",
      "The following object is masked from 'package:dplyr':\n",
      "\n",
      "    select\n",
      "\n",
      "\n"
     ]
    }
   ],
   "source": [
    "library(MASS)"
   ]
  },
  {
   "cell_type": "code",
   "execution_count": 26,
   "metadata": {},
   "outputs": [
    {
     "data": {
      "text/plain": [
       "\n",
       "Call:\n",
       "glm(formula = y ~ I(1/x), family = Gamma(link = \"inverse\"), data = barley)\n",
       "\n",
       "Deviance Residuals: \n",
       "     Min        1Q    Median        3Q       Max  \n",
       "-0.70686  -0.16982  -0.00282   0.12930   0.49392  \n",
       "\n",
       "Coefficients:\n",
       "             Estimate Std. Error t value Pr(>|t|)    \n",
       "(Intercept) 0.0038033  0.0003754  10.131 7.22e-11 ***\n",
       "I(1/x)      0.0285537  0.0050312   5.675 4.40e-06 ***\n",
       "---\n",
       "Signif. codes:  0 '***' 0.001 '**' 0.01 '*' 0.05 '.' 0.1 ' ' 1\n",
       "\n",
       "(Dispersion parameter for Gamma family taken to be 0.08761677)\n",
       "\n",
       "    Null deviance: 6.5168  on 29  degrees of freedom\n",
       "Residual deviance: 2.7018  on 28  degrees of freedom\n",
       "AIC: 323.14\n",
       "\n",
       "Number of Fisher Scoring iterations: 5\n"
      ]
     },
     "metadata": {},
     "output_type": "display_data"
    }
   ],
   "source": [
    "G1 <- glm(y ~ I(1/x), family = Gamma(link=\"inverse\") ,data=barley)\n",
    "summary(G1)"
   ]
  },
  {
   "cell_type": "code",
   "execution_count": 27,
   "metadata": {},
   "outputs": [
    {
     "data": {
      "text/html": [
       "<table>\n",
       "<caption>A data.frame: 3 × 3</caption>\n",
       "<thead>\n",
       "\t<tr><th></th><th scope=col>MLE</th><th scope=col>lower_bound</th><th scope=col>upper_bound</th></tr>\n",
       "\t<tr><th></th><th scope=col>&lt;dbl&gt;</th><th scope=col>&lt;dbl&gt;</th><th scope=col>&lt;dbl&gt;</th></tr>\n",
       "</thead>\n",
       "<tbody>\n",
       "\t<tr><th scope=row>CI_alpha</th><td>11.267622248</td><td>5.647810704</td><td>16.887433791</td></tr>\n",
       "\t<tr><th scope=row>CI_beta0</th><td> 0.003803273</td><td>0.003067437</td><td> 0.004539109</td></tr>\n",
       "\t<tr><th scope=row>CI_beta1</th><td> 0.028553733</td><td>0.018692589</td><td> 0.038414876</td></tr>\n",
       "</tbody>\n",
       "</table>\n"
      ],
      "text/latex": [
       "A data.frame: 3 × 3\n",
       "\\begin{tabular}{r|lll}\n",
       "  & MLE & lower\\_bound & upper\\_bound\\\\\n",
       "  & <dbl> & <dbl> & <dbl>\\\\\n",
       "\\hline\n",
       "\tCI\\_alpha & 11.267622248 & 5.647810704 & 16.887433791\\\\\n",
       "\tCI\\_beta0 &  0.003803273 & 0.003067437 &  0.004539109\\\\\n",
       "\tCI\\_beta1 &  0.028553733 & 0.018692589 &  0.038414876\\\\\n",
       "\\end{tabular}\n"
      ],
      "text/markdown": [
       "\n",
       "A data.frame: 3 × 3\n",
       "\n",
       "| <!--/--> | MLE &lt;dbl&gt; | lower_bound &lt;dbl&gt; | upper_bound &lt;dbl&gt; |\n",
       "|---|---|---|---|\n",
       "| CI_alpha | 11.267622248 | 5.647810704 | 16.887433791 |\n",
       "| CI_beta0 |  0.003803273 | 0.003067437 |  0.004539109 |\n",
       "| CI_beta1 |  0.028553733 | 0.018692589 |  0.038414876 |\n",
       "\n"
      ],
      "text/plain": [
       "         MLE          lower_bound upper_bound \n",
       "CI_alpha 11.267622248 5.647810704 16.887433791\n",
       "CI_beta0  0.003803273 0.003067437  0.004539109\n",
       "CI_beta1  0.028553733 0.018692589  0.038414876"
      ]
     },
     "metadata": {},
     "output_type": "display_data"
    }
   ],
   "source": [
    "alpha <- gamma.shape(G1)[1] \n",
    "beta0 <- G1$coefficients[1] ; beta1 <- G1$coefficients[2]\n",
    "\n",
    "mle <- as.numeric(c(alpha, beta0, beta1))\n",
    "se <- as.numeric(c(gamma.shape(G1)[2], summary(G1)$coefficients[1:2,2]))\n",
    "\n",
    "parameter <- data.frame(MLE = mle, lower_bound = mle - 1.96*se, upper_bound = mle + 1.96*se)\n",
    "rownames(parameter) <- c(\"CI_alpha\", \"CI_beta0\", \"CI_beta1\") ; parameter"
   ]
  },
  {
   "cell_type": "markdown",
   "metadata": {},
   "source": [
    "### (c) 모형의 타당성 검토 "
   ]
  },
  {
   "cell_type": "code",
   "execution_count": 28,
   "metadata": {},
   "outputs": [
    {
     "data": {
      "image/png": "[encoded data removed]",
      "text/plain": [
       "plot without title"
      ]
     },
     "metadata": {
      "image/png": {
       "height": 420,
       "width": 420
      }
     },
     "output_type": "display_data"
    }
   ],
   "source": [
    "ggplot(barley, aes(x,y)) + geom_point() + geom_line(aes(y=G1$fitted.values))"
   ]
  },
  {
   "cell_type": "markdown",
   "metadata": {},
   "source": [
    "### (d) 최적 Gamma GLM : 블록효과, 비선형 항 포함 \n",
    "* $y_i \\sim \\Gamma(\\alpha_i, \\beta_i) , E(y_i) = \\mu_i = \\alpha\\beta_i$\n",
    "* $\\mu_i = x_i / (a+bx_i+cx_i^2)$ \n",
    "* $\\theta_i = g(\\mu_i) = (1/\\mu_i) = (a+bx_i+cx_i^2)/x_i$        \n",
    "  $= (a_i / x_i + b_i + cx_i)$        \n",
    "  $= (\\alpha_1 + \\sum_{j=2}^{3} \\alpha_j B_{ij}) / x_i + (\\beta_1 + \\sum_{j=2}^{3} \\beta_j B_{ij}) + \\gamma x_{i}, i = 1, ... ,n$"
   ]
  },
  {
   "cell_type": "code",
   "execution_count": 29,
   "metadata": {},
   "outputs": [
    {
     "name": "stdout",
     "output_type": "stream",
     "text": [
      "Start:  AIC=330.91\n",
      "y ~ I(1/x) + block * I(1/x) + block + x + x * x\n",
      "\n",
      "               Df Deviance    AIC\n",
      "- I(1/x):block  2   2.6774 328.48\n",
      "- x             1   2.5109 328.91\n",
      "<none>              2.5109 330.91\n",
      "\n",
      "Step:  AIC=328.86\n",
      "y ~ I(1/x) + block + x\n",
      "\n",
      "               Df Deviance    AIC\n",
      "- block         2   2.7011 325.10\n",
      "- x             1   2.6782 326.87\n",
      "<none>              2.6775 328.86\n",
      "+ I(1/x):block  2   2.5109 331.14\n",
      "- I(1/x)        1   4.7021 347.77\n",
      "\n",
      "Step:  AIC=325.13\n",
      "y ~ I(1/x) + x\n",
      "\n",
      "         Df Deviance    AIC\n",
      "- x       1   2.7018 323.14\n",
      "<none>        2.7011 325.13\n",
      "+ block   2   2.6775 328.87\n",
      "- I(1/x)  1   4.7264 345.42\n",
      "\n",
      "Step:  AIC=323.14\n",
      "y ~ I(1/x)\n",
      "\n",
      "         Df Deviance    AIC\n",
      "<none>        2.7018 323.14\n",
      "+ x       1   2.7011 325.13\n",
      "+ block   2   2.6782 326.87\n",
      "- I(1/x)  1   6.5168 364.68\n"
     ]
    },
    {
     "data": {
      "text/plain": [
       "\n",
       "Call:  glm(formula = y ~ I(1/x), family = Gamma(link = \"inverse\"), data = barley)\n",
       "\n",
       "Coefficients:\n",
       "(Intercept)       I(1/x)  \n",
       "   0.003803     0.028554  \n",
       "\n",
       "Degrees of Freedom: 29 Total (i.e. Null);  28 Residual\n",
       "Null Deviance:\t    6.517 \n",
       "Residual Deviance: 2.702 \tAIC: 323.1"
      ]
     },
     "metadata": {},
     "output_type": "display_data"
    }
   ],
   "source": [
    "barley$block <- as.factor(barley$block)\n",
    "G2 <- glm(y ~ I(1/x) + block*I(1/x) + block + x + x*x, family = Gamma(link = \"inverse\"), data=barley)\n",
    "step(G2, direction=\"both\", alpha=0.15)"
   ]
  },
  {
   "cell_type": "code",
   "execution_count": 30,
   "metadata": {},
   "outputs": [
    {
     "data": {
      "text/html": [
       "<table>\n",
       "<caption>A data.frame: 3 × 3</caption>\n",
       "<thead>\n",
       "\t<tr><th></th><th scope=col>MLE</th><th scope=col>lower_bound</th><th scope=col>upper_bound</th></tr>\n",
       "\t<tr><th></th><th scope=col>&lt;dbl&gt;</th><th scope=col>&lt;dbl&gt;</th><th scope=col>&lt;dbl&gt;</th></tr>\n",
       "</thead>\n",
       "<tbody>\n",
       "\t<tr><th scope=row>CI_alpha</th><td>11.267622248</td><td>5.647810704</td><td>16.887433791</td></tr>\n",
       "\t<tr><th scope=row>CI_beta0</th><td> 0.003803273</td><td>0.003067437</td><td> 0.004539109</td></tr>\n",
       "\t<tr><th scope=row>CI_beta1</th><td> 0.028553733</td><td>0.018692589</td><td> 0.038414876</td></tr>\n",
       "</tbody>\n",
       "</table>\n"
      ],
      "text/latex": [
       "A data.frame: 3 × 3\n",
       "\\begin{tabular}{r|lll}\n",
       "  & MLE & lower\\_bound & upper\\_bound\\\\\n",
       "  & <dbl> & <dbl> & <dbl>\\\\\n",
       "\\hline\n",
       "\tCI\\_alpha & 11.267622248 & 5.647810704 & 16.887433791\\\\\n",
       "\tCI\\_beta0 &  0.003803273 & 0.003067437 &  0.004539109\\\\\n",
       "\tCI\\_beta1 &  0.028553733 & 0.018692589 &  0.038414876\\\\\n",
       "\\end{tabular}\n"
      ],
      "text/markdown": [
       "\n",
       "A data.frame: 3 × 3\n",
       "\n",
       "| <!--/--> | MLE &lt;dbl&gt; | lower_bound &lt;dbl&gt; | upper_bound &lt;dbl&gt; |\n",
       "|---|---|---|---|\n",
       "| CI_alpha | 11.267622248 | 5.647810704 | 16.887433791 |\n",
       "| CI_beta0 |  0.003803273 | 0.003067437 |  0.004539109 |\n",
       "| CI_beta1 |  0.028553733 | 0.018692589 |  0.038414876 |\n",
       "\n"
      ],
      "text/plain": [
       "         MLE          lower_bound upper_bound \n",
       "CI_alpha 11.267622248 5.647810704 16.887433791\n",
       "CI_beta0  0.003803273 0.003067437  0.004539109\n",
       "CI_beta1  0.028553733 0.018692589  0.038414876"
      ]
     },
     "metadata": {},
     "output_type": "display_data"
    }
   ],
   "source": [
    "# 최적 모형 : glm(formula = y ~ I(1/x), family = Gamma(link = \"inverse\"), data = barley)\n",
    "G3 <- glm(formula = y ~ I(1/x), family = Gamma(link = \"inverse\"), data = barley)\n",
    "alpha <- gamma.shape(G3)[1] \n",
    "beta0 <- G3$coefficients[1] ; beta1 <- G3$coefficients[2]\n",
    "\n",
    "mle <- as.numeric(c(alpha, beta0, beta1))\n",
    "se <- as.numeric(c(gamma.shape(G3)[2],summary(G3)$coefficients[1:2,2]))\n",
    "\n",
    "parameter <- data.frame(MLE = mle, lower_bound = mle - 1.96*se, upper_bound = mle + 1.96*se)\n",
    "rownames(parameter) <- c(\"CI_alpha\", \"CI_beta0\", \"CI_beta1\") ; parameter"
   ]
  },
  {
   "cell_type": "markdown",
   "metadata": {},
   "source": [
    "### (e) 추정된 모형의 의미 "
   ]
  },
  {
   "cell_type": "code",
   "execution_count": 31,
   "metadata": {},
   "outputs": [
    {
     "data": {
      "image/png": "[encoded data removed]",
      "text/plain": [
       "plot without title"
      ]
     },
     "metadata": {
      "image/png": {
       "height": 420,
       "width": 420
      }
     },
     "output_type": "display_data"
    }
   ],
   "source": [
    "ggplot(barley, aes(x,y)) + geom_point() + geom_line(aes(y=G3$fitted.values))"
   ]
  },
  {
   "cell_type": "markdown",
   "metadata": {},
   "source": [
    "* (b)와 동일한 모형이다. \n",
    "* 블록변수는 모델에서 변수선택되지 않았으므로, 블록효과는 유의하지 않다.\n",
    "* 단위 면적당 심은 보리 씨앗의 숫자(x)가 많아질수록 단위 면적당 보리 수확량(y)의 수가 급격히 증가하다가, 씨앗수가 30을 넘어가면서 수확량이 크게 증가하지 않음을 알 수 있다."
   ]
  },
  {
   "cell_type": "markdown",
   "metadata": {},
   "source": [
    "### (f) (xi, zi/xi) 산점도 \n",
    "* $x_i$ : 화분에 파종한 씨앗의 수 \n",
    "* $z_i$ : 실제로 열매를 맺은 씨앗의 수 "
   ]
  },
  {
   "cell_type": "code",
   "execution_count": 32,
   "metadata": {},
   "outputs": [
    {
     "data": {
      "image/png": "[encoded data removed]",
      "text/plain": [
       "plot without title"
      ]
     },
     "metadata": {
      "image/png": {
       "height": 420,
       "width": 420
      }
     },
     "output_type": "display_data"
    }
   ],
   "source": [
    "# (x, z/x)\n",
    "ggplot(barley, aes(x,z/x))+geom_point()+labs(y = 'harvest/density',x = 'density')"
   ]
  },
  {
   "cell_type": "markdown",
   "metadata": {},
   "source": [
    "* x와 z/x는 음의 상관관계가 있다. 화분에 파종한 씨앗수(x)가 적을 때, 파종한 씨앗수 대비 열매를 맺은 씨앗수 비율(z/x)는 1에 가깝다. \n",
    "* 화분에 파종한 씨앗수(x)가 30이 넘으면, 파종씨앗수 대비 열매를 맺는 씨앗수 비율이 80%아래로 내려간다. 씨를 일정 이상 많이 뿌릴수록 파종한 씨앗수 대비 열매를 맺은 씨앗수는 줄어든다."
   ]
  },
  {
   "cell_type": "markdown",
   "metadata": {},
   "source": [
    "### (g) Logistic GLM \n",
    "* $z_i \\sim bin(x_i, p_i)$ \n",
    "* $p_i = G(\\alpha_1 + \\sum_{j=2}^{3} \\alpha_j B_{ij}) / x_i + (\\beta_1 + \\sum_{j=2}^{3} \\beta_j B_{ij}) + ...)$\n",
    "* $G(u)$ : 누적 분포함수 (ex. Normal(0,1), Logistic(0,1), Gompertz(0,1)) "
   ]
  },
  {
   "cell_type": "code",
   "execution_count": 33,
   "metadata": {},
   "outputs": [
    {
     "name": "stderr",
     "output_type": "stream",
     "text": [
      "Warning message:\n",
      "\"glm.fit: fitted probabilities numerically 0 or 1 occurred\"\n",
      "Warning message:\n",
      "\"glm.fit: fitted probabilities numerically 0 or 1 occurred\"\n",
      "Warning message:\n",
      "\"glm.fit: fitted probabilities numerically 0 or 1 occurred\"\n",
      "Warning message:\n",
      "\"glm.fit: fitted probabilities numerically 0 or 1 occurred\"\n"
     ]
    }
   ],
   "source": [
    "M1<-glm(cbind(z,x-z)~x+block+block*x, family=binomial(link=\"logit\"),data=barley)\n",
    "M2<-glm(cbind(z,x-z)~x+block+block*x, family=binomial(link=\"probit\"),data=barley)\n",
    "M3<-glm(cbind(z,x-z)~x+block+block*x, family=binomial(link=\"cloglog\"),data=barley)\n",
    "M4<-glm(cbind(z,x-z)~log(x)+block+block*log(x), family=binomial(link=\"logit\"),data=barley)\n",
    "M5<-glm(cbind(z,x-z)~log(x)+block+block*log(x), family=binomial(link=\"probit\"),data=barley)\n",
    "M6<-glm(cbind(z,x-z)~log(x)+block+block*log(x), family=binomial(link=\"cloglog\"),data=barley)\n",
    "M7<-glm(cbind(z,x-z)~I(1/x)+ block+block*I(1/x), family=binomial(link=\"logit\"),data=barley)\n",
    "M8<-glm(cbind(z,x-z)~I(1/x)+ block+block*I(1/x), family=binomial(link=\"probit\"),data=barley)\n",
    "M9<-glm(cbind(z,x-z)~I(1/x)+ block+block*I(1/x), family=binomial(link=\"cloglog\"),data=barley)"
   ]
  },
  {
   "cell_type": "code",
   "execution_count": 34,
   "metadata": {},
   "outputs": [
    {
     "name": "stdout",
     "output_type": "stream",
     "text": [
      "Start:  AIC=99.97\n",
      "cbind(z, x - z) ~ x + block + block * x\n",
      "\n",
      "          Df Deviance     AIC\n",
      "<none>         28.748  99.972\n",
      "- x:block  2   40.567 107.792\n",
      "Start:  AIC=97.35\n",
      "cbind(z, x - z) ~ x + block + block * x\n",
      "\n",
      "          Df Deviance    AIC\n",
      "<none>         26.126  97.35\n",
      "- x:block  2   37.165 104.39\n",
      "Start:  AIC=93.59\n",
      "cbind(z, x - z) ~ x + block + block * x\n",
      "\n",
      "          Df Deviance    AIC\n",
      "<none>         22.365 93.590\n",
      "- x:block  2   31.105 98.329\n",
      "Start:  AIC=85.19\n",
      "cbind(z, x - z) ~ log(x) + block + block * log(x)\n",
      "\n",
      "               Df Deviance    AIC\n",
      "<none>              13.963 85.187\n",
      "- log(x):block  2   28.655 95.880\n",
      "Start:  AIC=83.81\n",
      "cbind(z, x - z) ~ log(x) + block + block * log(x)\n",
      "\n",
      "               Df Deviance    AIC\n",
      "<none>              12.582 83.806\n",
      "- log(x):block  2   26.894 94.119\n",
      "Start:  AIC=82.73\n",
      "cbind(z, x - z) ~ log(x) + block + block * log(x)\n",
      "\n",
      "               Df Deviance    AIC\n",
      "<none>              11.509 82.733\n",
      "- log(x):block  2   24.804 92.029\n",
      "Start:  AIC=83.65\n",
      "cbind(z, x - z) ~ I(1/x) + block + block * I(1/x)\n",
      "\n",
      "               Df Deviance     AIC\n",
      "<none>              12.430  83.654\n",
      "- I(1/x):block  2   35.485 102.709\n",
      "Start:  AIC=84.76\n",
      "cbind(z, x - z) ~ I(1/x) + block + block * I(1/x)\n",
      "\n"
     ]
    },
    {
     "name": "stderr",
     "output_type": "stream",
     "text": [
      "Warning message:\n",
      "\"glm.fit: fitted probabilities numerically 0 or 1 occurred\"\n"
     ]
    },
    {
     "name": "stdout",
     "output_type": "stream",
     "text": [
      "               Df Deviance     AIC\n",
      "<none>              13.539  84.764\n",
      "- I(1/x):block  2   38.238 105.462\n",
      "Start:  AIC=86.98\n",
      "cbind(z, x - z) ~ I(1/x) + block + block * I(1/x)\n",
      "\n"
     ]
    },
    {
     "name": "stderr",
     "output_type": "stream",
     "text": [
      "Warning message:\n",
      "\"glm.fit: fitted probabilities numerically 0 or 1 occurred\"\n"
     ]
    },
    {
     "name": "stdout",
     "output_type": "stream",
     "text": [
      "               Df Deviance     AIC\n",
      "<none>              15.758  86.982\n",
      "- I(1/x):block  2   42.097 109.321\n"
     ]
    }
   ],
   "source": [
    "models <- list(M1,M2,M3,M4,M5,M6,M7,M8,M9)\n",
    "for(m in models){\n",
    "  step(m, direction = 'backward')$aic\n",
    "}"
   ]
  },
  {
   "cell_type": "markdown",
   "metadata": {},
   "source": [
    "### (h) 최적 모형 "
   ]
  },
  {
   "cell_type": "code",
   "execution_count": 35,
   "metadata": {},
   "outputs": [
    {
     "name": "stdout",
     "output_type": "stream",
     "text": [
      "Start:  AIC=82.73\n",
      "cbind(z, x - z) ~ log(x) + block + block * log(x)\n",
      "\n",
      "               Df Deviance    AIC\n",
      "<none>              11.509 82.733\n",
      "- log(x):block  2   24.804 92.029\n"
     ]
    },
    {
     "data": {
      "text/plain": [
       "\n",
       "Call:\n",
       "glm(formula = cbind(z, x - z) ~ log(x) + block + block * log(x), \n",
       "    family = binomial(link = \"cloglog\"), data = barley)\n",
       "\n",
       "Deviance Residuals: \n",
       "     Min        1Q    Median        3Q       Max  \n",
       "-1.40228  -0.09706   0.04595   0.52798   1.32748  \n",
       "\n",
       "Coefficients:\n",
       "              Estimate Std. Error z value Pr(>|z|)    \n",
       "(Intercept)     5.7022     0.9086   6.276 3.48e-10 ***\n",
       "log(x)         -1.2140     0.2067  -5.872 4.30e-09 ***\n",
       "block2         -3.1299     1.0086  -3.103 0.001914 ** \n",
       "block3         -3.5307     0.9918  -3.560 0.000371 ***\n",
       "log(x):block2   0.6527     0.2321   2.812 0.004919 ** \n",
       "log(x):block3   0.7479     0.2281   3.278 0.001044 ** \n",
       "---\n",
       "Signif. codes:  0 '***' 0.001 '**' 0.01 '*' 0.05 '.' 0.1 ' ' 1\n",
       "\n",
       "(Dispersion parameter for binomial family taken to be 1)\n",
       "\n",
       "    Null deviance: 143.734  on 29  degrees of freedom\n",
       "Residual deviance:  11.509  on 24  degrees of freedom\n",
       "AIC: 82.733\n",
       "\n",
       "Number of Fisher Scoring iterations: 7\n"
      ]
     },
     "metadata": {},
     "output_type": "display_data"
    }
   ],
   "source": [
    "# AIC가 가장 작은 M6 모형이 최적 모형! \n",
    "# M6 : cbind(z, x - z) ~ log(x) + block + block * log(x)\n",
    "summary(step(M6, direction=\"both\"))"
   ]
  },
  {
   "cell_type": "markdown",
   "metadata": {},
   "source": [
    "* 최적 모형 : $p_i = G(5.702 -1.214\\ln{x_i} -3.130B_2 -3.530B_3 +0.653B_2\\ln{x_i} +0.748B_3\\ln{x_i}$\n",
    "* $G(\\centerdot) \\sim Gompertz$ "
   ]
  }
 ],
 "metadata": {
  "kernelspec": {
   "display_name": "R",
   "language": "R",
   "name": "ir"
  },
  "language_info": {
   "codemirror_mode": "r",
   "file_extension": ".r",
   "mimetype": "text/x-r-source",
   "name": "R",
   "pygments_lexer": "r",
   "version": "3.6.1"
  },
  "toc": {
   "base_numbering": 1,
   "nav_menu": {},
   "number_sections": false,
   "sideBar": true,
   "skip_h1_title": false,
   "title_cell": "Table of Contents",
   "title_sidebar": "Contents",
   "toc_cell": false,
   "toc_position": {},
   "toc_section_display": true,
   "toc_window_display": false
  },
  "varInspector": {
   "cols": {
    "lenName": 16,
    "lenType": 16,
    "lenVar": 40
   },
   "kernels_config": {
    "python": {
     "delete_cmd_postfix": "",
     "delete_cmd_prefix": "del ",
     "library": "var_list.py",
     "varRefreshCmd": "print(var_dic_list())"
    },
    "r": {
     "delete_cmd_postfix": ") ",
     "delete_cmd_prefix": "rm(",
     "library": "var_list.r",
     "varRefreshCmd": "cat(var_dic_list()) "
    }
   },
   "types_to_exclude": [
    "module",
    "function",
    "builtin_function_or_method",
    "instance",
    "_Feature"
   ],
   "window_display": false
  }
 },
 "nbformat": 4,
 "nbformat_minor": 2
}
