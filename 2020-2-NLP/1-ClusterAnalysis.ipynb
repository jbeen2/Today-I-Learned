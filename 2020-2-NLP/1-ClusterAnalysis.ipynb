{
 "cells": [
  {
   "cell_type": "markdown",
   "metadata": {},
   "source": [
    "[home](http://www.brandonrose.org)"
   ]
  },
  {
   "cell_type": "markdown",
   "metadata": {},
   "source": [
    "# Document Clustering with Python"
   ]
  },
  {
   "cell_type": "markdown",
   "metadata": {},
   "source": [
    "<img src='https://user-images.githubusercontent.com/43749571/96265717-c40a8400-1000-11eb-9e4f-cc55dbff4e29.jpg'>\n",
    "\n",
    "In this guide, I will explain how to cluster a set of documents using Python. My motivating example is to identify the latent structures within the synopses of the top 100 films of all time (per an IMDB list). See [the original post](http://www.brandonrose.org/top100) for a more detailed discussion on the example. This guide covers:\n",
    "\n",
    "\n",
    "\n",
    "\n",
    "* tokenizing and stemming each synopsis\n",
    "* transforming the corpus into vector space using [tf-idf](http://en.wikipedia.org/wiki/Tf%E2%80%93idf)\n",
    "* calculating cosine distance between each document as a measure of similarity\n",
    "* clustering the documents using the [k-means algorithm](http://en.wikipedia.org/wiki/K-means_clustering)\n",
    "* using [multidimensional scaling](http://en.wikipedia.org/wiki/Multidimensional_scaling) to reduce dimensionality within the corpus \n",
    "* plotting the clustering output using [matplotlib](http://matplotlib.org/) and [mpld3](http://mpld3.github.io/)\n",
    "* conducting a hierarchical clustering on the corpus using [Ward clustering](http://en.wikipedia.org/wiki/Ward%27s_method)\n",
    "* plotting a Ward dendrogram\n",
    "* topic modeling using [Latent Dirichlet Allocation (LDA)](http://en.wikipedia.org/wiki/Latent_Dirichlet_allocation)"
   ]
  },
  {
   "cell_type": "markdown",
   "metadata": {},
   "source": [
    "## Contents"
   ]
  },
  {
   "cell_type": "markdown",
   "metadata": {},
   "source": [
    "* [Stopwords, stemming, and tokenization](#Stopwords,-stemming,-and-tokenizing)\n",
    "* [Tf-idf and document similarity](#Tf-idf-and-document-similarity)\n",
    "* [K-means clustering](#K-means-clustering)\n",
    "* [Multidimensional scaling](#Multidimensional-scaling)\n",
    "* [Visualizing document clusters](#Visualizing-document-clusters)\n",
    "* [Hierarchical document clustering](#Hierarchical-document-clustering)\n",
    "* [Latent Dirichlet Allocation (LDA)](#Latent-Dirichlet-Allocation)"
   ]
  },
  {
   "cell_type": "markdown",
   "metadata": {},
   "source": [
    "But first, I import everything I am going to need up front"
   ]
  },
  {
   "cell_type": "code",
   "execution_count": 3,
   "metadata": {
    "collapsed": false,
    "jupyter": {
     "outputs_hidden": false
    }
   },
   "outputs": [],
   "source": [
    "import numpy as np\n",
    "import pandas as pd\n",
    "\n",
    "import nltk\n",
    "from bs4 import BeautifulSoup\n",
    "import re\n",
    "import os\n",
    "import codecs\n",
    "\n",
    "from sklearn import feature_extraction\n",
    "import mpld3"
   ]
  },
  {
   "cell_type": "markdown",
   "metadata": {},
   "source": [
    "# Stopwords, stemming, and tokenizing"
   ]
  },
  {
   "cell_type": "code",
   "execution_count": 4,
   "metadata": {
    "collapsed": false,
    "jupyter": {
     "outputs_hidden": false
    }
   },
   "outputs": [
    {
     "name": "stdout",
     "output_type": "stream",
     "text": [
      "100 titles\n",
      "100 links\n",
      "100 synopses\n",
      "100 genres\n"
     ]
    }
   ],
   "source": [
    "#import three lists: titles, links and wikipedia synopses\n",
    "titles = open('title_list.txt').read().split('\\n')\n",
    "#ensures that only the first 100 are read in\n",
    "titles = titles[:100]\n",
    "\n",
    "links = open('link_list_imdb.txt').read().split('\\n')\n",
    "links = links[:100]\n",
    "\n",
    "synopses_wiki = open('synopses_list_wiki.txt').read().split('\\n BREAKS HERE')\n",
    "synopses_wiki = synopses_wiki[:100]\n",
    "\n",
    "synopses_clean_wiki = []\n",
    "for text in synopses_wiki:\n",
    "    text = BeautifulSoup(text, 'html.parser').getText()\n",
    "    #strips html formatting and converts to unicode\n",
    "    synopses_clean_wiki.append(text)\n",
    "\n",
    "synopses_wiki = synopses_clean_wiki\n",
    "    \n",
    "    \n",
    "genres = open('genres_list.txt').read().split('\\n')\n",
    "genres = genres[:100]\n",
    "\n",
    "print(str(len(titles)) + ' titles')\n",
    "print(str(len(links)) + ' links')\n",
    "print(str(len(synopses_wiki)) + ' synopses')\n",
    "print(str(len(genres)) + ' genres')"
   ]
  },
  {
   "cell_type": "code",
   "execution_count": 5,
   "metadata": {
    "collapsed": false,
    "jupyter": {
     "outputs_hidden": false
    }
   },
   "outputs": [],
   "source": [
    "synopses_imdb = open('synopses_list_imdb.txt').read().split('\\n BREAKS HERE')\n",
    "synopses_imdb = synopses_imdb[:100]\n",
    "\n",
    "synopses_clean_imdb = []\n",
    "for text in synopses_imdb:\n",
    "    text = BeautifulSoup(text, 'html.parser').getText()\n",
    "    #strips html formatting and converts to unicode\n",
    "    synopses_clean_imdb.append(text)\n",
    "\n",
    "synopses_imdb = synopses_clean_imdb"
   ]
  },
  {
   "cell_type": "code",
   "execution_count": 6,
   "metadata": {
    "collapsed": false,
    "jupyter": {
     "outputs_hidden": false
    }
   },
   "outputs": [],
   "source": [
    "synopses = []\n",
    "\n",
    "for i in range(len(synopses_wiki)):\n",
    "    item = synopses_wiki[i] + synopses_imdb[i]\n",
    "    synopses.append(item)"
   ]
  },
  {
   "cell_type": "code",
   "execution_count": 7,
   "metadata": {
    "collapsed": false,
    "jupyter": {
     "outputs_hidden": false
    }
   },
   "outputs": [],
   "source": [
    "# generates index for each item in the corpora (in this case it's just rank) and I'll use this for scoring later\n",
    "ranks = []\n",
    "\n",
    "for i in range(0,len(titles)):\n",
    "    ranks.append(i)"
   ]
  },
  {
   "cell_type": "markdown",
   "metadata": {},
   "source": [
    "This section is focused on defining some functions to manipulate the synopses. First, I load [NLTK's](http://www.nltk.org/) list of English stop words. [Stop words](http://en.wikipedia.org/wiki/Stop_words) are words like \"a\", \"the\", or \"in\" which don't convey significant meaning. I'm sure there are much better explanations of this out there."
   ]
  },
  {
   "cell_type": "code",
   "execution_count": 12,
   "metadata": {},
   "outputs": [
    {
     "name": "stderr",
     "output_type": "stream",
     "text": [
      "[nltk_data] Downloading package stopwords to /Users/jbeen/nltk_data...\n",
      "[nltk_data]   Unzipping corpora/stopwords.zip.\n"
     ]
    },
    {
     "data": {
      "text/plain": [
       "True"
      ]
     },
     "execution_count": 12,
     "metadata": {},
     "output_type": "execute_result"
    }
   ],
   "source": [
    "nltk.download('stopwords')"
   ]
  },
  {
   "cell_type": "code",
   "execution_count": 8,
   "metadata": {
    "collapsed": false,
    "jupyter": {
     "outputs_hidden": false
    }
   },
   "outputs": [],
   "source": [
    "# load nltk's English stopwords as variable called 'stopwords'\n",
    "stopwords = nltk.corpus.stopwords.words('english')"
   ]
  },
  {
   "cell_type": "markdown",
   "metadata": {},
   "source": [
    "Next I import the [Snowball Stemmer](http://snowball.tartarus.org/) which is actually part of NLTK. [Stemming](http://en.wikipedia.org/wiki/Stemming) is just the process of breaking a word down into its root."
   ]
  },
  {
   "cell_type": "code",
   "execution_count": 9,
   "metadata": {
    "collapsed": false,
    "jupyter": {
     "outputs_hidden": false
    }
   },
   "outputs": [],
   "source": [
    "# load nltk's SnowballStemmer as variabled 'stemmer' -> Lemmatizer \n",
    "from nltk.stem.snowball import SnowballStemmer\n",
    "stemmer = SnowballStemmer(\"english\")"
   ]
  },
  {
   "cell_type": "markdown",
   "metadata": {},
   "source": [
    "\n",
    "Below I define two functions:\n",
    "\n",
    "\n",
    "* **tokenize_and_stem**: tokenizes (splits the synopsis into a list of its respective words (or tokens) and also stems each token \n",
    "* **tokenize_only**: tokenizes the synopsis only\n",
    "\n",
    "\n",
    "I use both these functions to create a dictionary which becomes important in case I want to use stems for an algorithm, but later convert stems back to their full words for presentation purposes. Guess what, I do want to do that!\n",
    "\n"
   ]
  },
  {
   "cell_type": "code",
   "execution_count": 10,
   "metadata": {
    "collapsed": false,
    "jupyter": {
     "outputs_hidden": false
    }
   },
   "outputs": [],
   "source": [
    "# here I define a tokenizer and stemmer which returns the set of stems in the text that it is passed\n",
    "\n",
    "def tokenize_and_stem(text):\n",
    "    # first tokenize by sentence, then by word to ensure that punctuation is caught as it's own token\n",
    "    tokens = [word for sent in nltk.sent_tokenize(text) for word in nltk.word_tokenize(sent)]\n",
    "    filtered_tokens = []\n",
    "    # filter out any tokens not containing letters (e.g., numeric tokens, raw punctuation)\n",
    "    for token in tokens:\n",
    "        if re.search('[a-zA-Z]', token):\n",
    "            filtered_tokens.append(token)\n",
    "    stems = [stemmer.stem(t) for t in filtered_tokens]\n",
    "    return stems\n",
    "\n",
    "\n",
    "def tokenize_only(text):\n",
    "    # first tokenize by sentence, then by word to ensure that punctuation is caught as it's own token\n",
    "    tokens = [word.lower() for sent in nltk.sent_tokenize(text) for word in nltk.word_tokenize(sent)]\n",
    "    filtered_tokens = []\n",
    "    # filter out any tokens not containing letters (e.g., numeric tokens, raw punctuation)\n",
    "    for token in tokens:\n",
    "        if re.search('[a-zA-Z]', token):\n",
    "            filtered_tokens.append(token)\n",
    "    return filtered_tokens"
   ]
  },
  {
   "cell_type": "markdown",
   "metadata": {},
   "source": [
    "Below I use my stemming/tokenizing and tokenizing functions to iterate over the list of synopses to create two vocabularies: one stemmed and one only tokenized. "
   ]
  },
  {
   "cell_type": "code",
   "execution_count": 19,
   "metadata": {},
   "outputs": [
    {
     "name": "stderr",
     "output_type": "stream",
     "text": [
      "[nltk_data] Downloading package punkt to /Users/jbeen/nltk_data...\n",
      "[nltk_data]   Unzipping tokenizers/punkt.zip.\n"
     ]
    },
    {
     "data": {
      "text/plain": [
       "True"
      ]
     },
     "execution_count": 19,
     "metadata": {},
     "output_type": "execute_result"
    }
   ],
   "source": [
    "nltk.download('punkt')"
   ]
  },
  {
   "cell_type": "code",
   "execution_count": 11,
   "metadata": {
    "collapsed": false,
    "jupyter": {
     "outputs_hidden": false
    }
   },
   "outputs": [],
   "source": [
    "totalvocab_stemmed = []  \n",
    "totalvocab_tokenized = []\n",
    "\n",
    "for i in synopses:\n",
    "    allwords_stemmed = tokenize_and_stem(i)\n",
    "    totalvocab_stemmed.extend(allwords_stemmed)\n",
    "    \n",
    "    allwords_tokenized = tokenize_only(i)\n",
    "    totalvocab_tokenized.extend(allwords_tokenized)"
   ]
  },
  {
   "cell_type": "markdown",
   "metadata": {},
   "source": [
    "Using these two lists, I create a pandas DataFrame with the stemmed vocabulary as the index and the tokenized words as the column. The benefit of this is it provides an efficient way to look up a stem and return a full token. The downside here is that stems to tokens are one to many: the stem 'run' could be associated with 'ran', 'runs', 'running', etc. For my purposes this is fine--I'm perfectly happy returning the first token associated with the stem I need to look up."
   ]
  },
  {
   "cell_type": "code",
   "execution_count": 12,
   "metadata": {
    "collapsed": false,
    "jupyter": {
     "outputs_hidden": false
    }
   },
   "outputs": [],
   "source": [
    "vocab_frame = pd.DataFrame({'words': totalvocab_tokenized}, index = totalvocab_stemmed)"
   ]
  },
  {
   "cell_type": "code",
   "execution_count": 13,
   "metadata": {},
   "outputs": [
    {
     "data": {
      "text/html": [
       "<div>\n",
       "<style scoped>\n",
       "    .dataframe tbody tr th:only-of-type {\n",
       "        vertical-align: middle;\n",
       "    }\n",
       "\n",
       "    .dataframe tbody tr th {\n",
       "        vertical-align: top;\n",
       "    }\n",
       "\n",
       "    .dataframe thead th {\n",
       "        text-align: right;\n",
       "    }\n",
       "</style>\n",
       "<table border=\"1\" class=\"dataframe\">\n",
       "  <thead>\n",
       "    <tr style=\"text-align: right;\">\n",
       "      <th></th>\n",
       "      <th>words</th>\n",
       "    </tr>\n",
       "  </thead>\n",
       "  <tbody>\n",
       "    <tr>\n",
       "      <th>plot</th>\n",
       "      <td>plot</td>\n",
       "    </tr>\n",
       "    <tr>\n",
       "      <th>edit</th>\n",
       "      <td>edit</td>\n",
       "    </tr>\n",
       "    <tr>\n",
       "      <th>edit</th>\n",
       "      <td>edit</td>\n",
       "    </tr>\n",
       "    <tr>\n",
       "      <th>edit</th>\n",
       "      <td>edit</td>\n",
       "    </tr>\n",
       "    <tr>\n",
       "      <th>on</th>\n",
       "      <td>on</td>\n",
       "    </tr>\n",
       "    <tr>\n",
       "      <th>...</th>\n",
       "      <td>...</td>\n",
       "    </tr>\n",
       "    <tr>\n",
       "      <th>join</th>\n",
       "      <td>join</td>\n",
       "    </tr>\n",
       "    <tr>\n",
       "      <th>in</th>\n",
       "      <td>in</td>\n",
       "    </tr>\n",
       "    <tr>\n",
       "      <th>which</th>\n",
       "      <td>which</td>\n",
       "    </tr>\n",
       "    <tr>\n",
       "      <th>he</th>\n",
       "      <td>he</td>\n",
       "    </tr>\n",
       "    <tr>\n",
       "      <th>doe</th>\n",
       "      <td>does</td>\n",
       "    </tr>\n",
       "  </tbody>\n",
       "</table>\n",
       "<p>312302 rows × 1 columns</p>\n",
       "</div>"
      ],
      "text/plain": [
       "       words\n",
       "plot    plot\n",
       "edit    edit\n",
       "edit    edit\n",
       "edit    edit\n",
       "on        on\n",
       "...      ...\n",
       "join    join\n",
       "in        in\n",
       "which  which\n",
       "he        he\n",
       "doe     does\n",
       "\n",
       "[312302 rows x 1 columns]"
      ]
     },
     "execution_count": 13,
     "metadata": {},
     "output_type": "execute_result"
    }
   ],
   "source": [
    "vocab_frame"
   ]
  },
  {
   "cell_type": "markdown",
   "metadata": {},
   "source": [
    "## Tf-idf and document similarity"
   ]
  },
  {
   "cell_type": "markdown",
   "metadata": {},
   "source": [
    "<img src='http://www.jiem.org/index.php/jiem/article/viewFile/293/252/2402' align='right' style=\"margin-left:10px\">\n",
    "\n",
    "Here, I define term frequency-inverse document frequency (tf-idf) vectorizer parameters and then convert the *synopses* list into a tf-idf matrix. \n",
    "\n",
    "To get a Tf-idf matrix, first count word occurrences by document. This is transformed into a document-term matrix (dtm). This is also just called a term frequency matrix. An example of a dtm is here at right.\n",
    "\n",
    "Then apply the term frequency-inverse document **frequency weighting**: words that occur frequently within a document but not frequently within the corpus receive a higher weighting as these words are assumed to contain more meaning in relation to the document.\n",
    "\n",
    "A couple things to note about the parameters I define below:\n",
    "\n",
    "\n",
    "\n",
    "* max_df: this is the maximum frequency within the documents a given feature can have to be used in the tfi-idf matrix. If the term is in greater than 80% of the documents it probably cares little meanining (in the context of film synopses)\n",
    "* min_idf: this could be an integer (e.g. 5) and the term would have to be in at least 5 of the documents to be considered. Here I pass 0.2; the term must be in at least 20% of the document. I found that if I allowed a lower min_df I ended up basing clustering on names--for example \"Michael\" or \"Tom\" are names found in several of the movies and the synopses use these names frequently, but the names carry no real meaning.\n",
    "* ngram_range: this just means I'll look at unigrams, bigrams and trigrams. See [n-grams](http://en.wikipedia.org/wiki/N-gram)"
   ]
  },
  {
   "cell_type": "code",
   "execution_count": 14,
   "metadata": {
    "collapsed": false,
    "jupyter": {
     "outputs_hidden": false
    }
   },
   "outputs": [
    {
     "name": "stdout",
     "output_type": "stream",
     "text": [
      "CPU times: user 3 µs, sys: 0 ns, total: 3 µs\n",
      "Wall time: 6.91 µs\n"
     ]
    },
    {
     "name": "stderr",
     "output_type": "stream",
     "text": [
      "/Users/jbeen/anaconda3/lib/python3.8/site-packages/sklearn/feature_extraction/text.py:382: UserWarning: Your stop_words may be inconsistent with your preprocessing. Tokenizing the stop words generated tokens ['abov', 'afterward', 'alon', 'alreadi', 'alway', 'ani', 'anoth', 'anyon', 'anyth', 'anywher', 'becam', 'becaus', 'becom', 'befor', 'besid', 'cri', 'describ', 'dure', 'els', 'elsewher', 'empti', 'everi', 'everyon', 'everyth', 'everywher', 'fifti', 'forti', 'henc', 'hereaft', 'herebi', 'howev', 'hundr', 'inde', 'mani', 'meanwhil', 'moreov', 'nobodi', 'noon', 'noth', 'nowher', 'onc', 'onli', 'otherwis', 'ourselv', 'perhap', 'pleas', 'sever', 'sinc', 'sincer', 'sixti', 'someon', 'someth', 'sometim', 'somewher', 'themselv', 'thenc', 'thereaft', 'therebi', 'therefor', 'togeth', 'twelv', 'twenti', 'veri', 'whatev', 'whenc', 'whenev', 'wherea', 'whereaft', 'wherebi', 'wherev', 'whi', 'yourselv'] not in stop_words.\n",
      "  warnings.warn('Your stop_words may be inconsistent with '\n"
     ]
    },
    {
     "name": "stdout",
     "output_type": "stream",
     "text": [
      "(100, 563)\n"
     ]
    }
   ],
   "source": [
    "from sklearn.feature_extraction.text import TfidfVectorizer\n",
    "\n",
    "tfidf_vectorizer = TfidfVectorizer(max_df=0.8, max_features=200000,\n",
    "                                   min_df=0.2, stop_words='english',\n",
    "                                   use_idf=True, tokenizer=tokenize_and_stem, ngram_range=(1,3))\n",
    "\n",
    "%time \n",
    "tfidf_matrix = tfidf_vectorizer.fit_transform(synopses)\n",
    "\n",
    "print(tfidf_matrix.shape)"
   ]
  },
  {
   "cell_type": "code",
   "execution_count": 15,
   "metadata": {
    "collapsed": false,
    "jupyter": {
     "outputs_hidden": false
    }
   },
   "outputs": [],
   "source": [
    "terms = tfidf_vectorizer.get_feature_names()"
   ]
  },
  {
   "cell_type": "code",
   "execution_count": 16,
   "metadata": {
    "collapsed": false,
    "jupyter": {
     "outputs_hidden": false
    }
   },
   "outputs": [],
   "source": [
    "from sklearn.metrics.pairwise import cosine_similarity\n",
    "dist = 1 - cosine_similarity(tfidf_matrix)"
   ]
  },
  {
   "cell_type": "markdown",
   "metadata": {},
   "source": [
    "# K-means clustering"
   ]
  },
  {
   "cell_type": "markdown",
   "metadata": {},
   "source": [
    "Now onto the fun part. Using the tf-idf matrix, you can run a slew of clustering algorithms to better understand the hidden structure within the synopses. I first chose [k-means](http://en.wikipedia.org/wiki/K-means_clustering). K-means initializes with a pre-determined number of clusters (I chose 5). Each observation is assigned to a cluster (cluster assignment) so as to minimize the within cluster sum of squares. Next, the mean of the clustered observations is calculated and used as the new cluster centroid. Then, observations are reassigned to clusters and  centroids recalculated in an iterative process until the algorithm reaches convergence.\n",
    "\n",
    "I found it took several runs for the algorithm to converge a global optimum as k-means is susceptible to reaching local optima. "
   ]
  },
  {
   "cell_type": "code",
   "execution_count": 17,
   "metadata": {},
   "outputs": [
    {
     "name": "stderr",
     "output_type": "stream",
     "text": [
      "/Users/jbeen/anaconda3/lib/python3.8/site-packages/sklearn/externals/joblib/__init__.py:15: FutureWarning: sklearn.externals.joblib is deprecated in 0.21 and will be removed in 0.23. Please import this functionality directly from joblib, which can be installed with: pip install joblib. If this warning is raised when loading pickled models, you may need to re-serialize those models with scikit-learn 0.21+.\n",
      "  warnings.warn(msg, category=FutureWarning)\n"
     ]
    }
   ],
   "source": [
    "import sklearn.externals.joblib as joblib"
   ]
  },
  {
   "cell_type": "code",
   "execution_count": 18,
   "metadata": {
    "collapsed": false,
    "jupyter": {
     "outputs_hidden": false
    }
   },
   "outputs": [
    {
     "name": "stdout",
     "output_type": "stream",
     "text": [
      "CPU times: user 4 µs, sys: 1e+03 ns, total: 5 µs\n",
      "Wall time: 6.91 µs\n"
     ]
    }
   ],
   "source": [
    "from sklearn.cluster import KMeans\n",
    "\n",
    "num_clusters = 5\n",
    "km = KMeans(n_clusters=num_clusters)\n",
    "\n",
    "%time \n",
    "km.fit(tfidf_matrix)\n",
    "\n",
    "clusters = km.labels_.tolist()"
   ]
  },
  {
   "cell_type": "code",
   "execution_count": 20,
   "metadata": {},
   "outputs": [],
   "source": [
    "import pickle as pkl\n",
    "\n",
    "with open('doc_cluster.pkl', 'rb') as f:\n",
    "    km = pkl.load(f)\n",
    "    \n",
    "clusters = km.labels_"
   ]
  },
  {
   "cell_type": "code",
   "execution_count": 26,
   "metadata": {},
   "outputs": [
    {
     "data": {
      "text/plain": [
       "<joblib.numpy_pickle_compat.NDArrayWrapper at 0x7fd437f87640>"
      ]
     },
     "execution_count": 26,
     "metadata": {},
     "output_type": "execute_result"
    }
   ],
   "source": [
    "clusters  "
   ]
  },
  {
   "cell_type": "code",
   "execution_count": 27,
   "metadata": {},
   "outputs": [],
   "source": [
    "_ = joblib.dump(clusters, \"clusters.npy\", compress=5) # NDArrayWrapper : sklearn.externals.joblib 과 joblib 사이에 계속 충돌이 나서.. npy로 저장한 다음에 다시 불러옴 ^_^"
   ]
  },
  {
   "cell_type": "code",
   "execution_count": 28,
   "metadata": {},
   "outputs": [
    {
     "name": "stderr",
     "output_type": "stream",
     "text": [
      "<ipython-input-28-35c2d67e0b16>:1: DeprecationWarning: The file 'clusters.npy' has been generated with a joblib version less than 0.10. Please regenerate this pickle file.\n",
      "  clusters2 = joblib.load(\"clusters.npy\")\n"
     ]
    }
   ],
   "source": [
    "clusters2 = joblib.load(\"clusters.npy\") "
   ]
  },
  {
   "cell_type": "code",
   "execution_count": 29,
   "metadata": {},
   "outputs": [
    {
     "data": {
      "text/plain": [
       "array([2, 4, 0, 2, 1, 0, 0, 2, 0, 0, 4, 2, 1, 1, 1, 2, 0, 4, 3, 4, 0, 4,\n",
       "       0, 1, 4, 3, 3, 3, 2, 4, 1, 4, 0, 4, 4, 4, 4, 4, 4, 2, 0, 3, 2, 3,\n",
       "       0, 0, 0, 0, 4, 4, 2, 2, 4, 4, 2, 4, 1, 4, 0, 2, 0, 4, 4, 1, 2, 3,\n",
       "       2, 3, 2, 2, 2, 2, 0, 0, 0, 3, 1, 0, 0, 4, 4, 0, 2, 3, 0, 3, 1, 4,\n",
       "       0, 4, 1, 1, 2, 0, 1, 1, 2, 1, 1, 3], dtype=int32)"
      ]
     },
     "execution_count": 29,
     "metadata": {},
     "output_type": "execute_result"
    }
   ],
   "source": [
    "clusters2"
   ]
  },
  {
   "cell_type": "code",
   "execution_count": 30,
   "metadata": {
    "collapsed": false,
    "jupyter": {
     "outputs_hidden": false
    }
   },
   "outputs": [],
   "source": [
    "films = { 'title': titles, 'rank': ranks, 'synopsis': synopses, 'cluster': clusters2, 'genre': genres }\n",
    "frame = pd.DataFrame(films, index = [clusters2] , columns = ['rank', 'title', 'cluster', 'genre'])"
   ]
  },
  {
   "cell_type": "code",
   "execution_count": 31,
   "metadata": {
    "collapsed": false,
    "jupyter": {
     "outputs_hidden": false
    }
   },
   "outputs": [
    {
     "data": {
      "text/plain": [
       "4    26\n",
       "0    25\n",
       "2    21\n",
       "1    16\n",
       "3    12\n",
       "Name: cluster, dtype: int64"
      ]
     },
     "execution_count": 31,
     "metadata": {},
     "output_type": "execute_result"
    }
   ],
   "source": [
    "frame['cluster'].value_counts()"
   ]
  },
  {
   "cell_type": "code",
   "execution_count": 32,
   "metadata": {
    "collapsed": false,
    "jupyter": {
     "outputs_hidden": false
    }
   },
   "outputs": [
    {
     "data": {
      "text/plain": [
       "cluster\n",
       "0    47.200000\n",
       "1    58.875000\n",
       "2    49.380952\n",
       "3    54.500000\n",
       "4    43.730769\n",
       "Name: rank, dtype: float64"
      ]
     },
     "execution_count": 32,
     "metadata": {},
     "output_type": "execute_result"
    }
   ],
   "source": [
    "grouped = frame['rank'].groupby(frame['cluster'])\n",
    "\n",
    "grouped.mean()"
   ]
  },
  {
   "cell_type": "code",
   "execution_count": 34,
   "metadata": {},
   "outputs": [
    {
     "data": {
      "text/plain": [
       "<joblib.numpy_pickle_compat.NDArrayWrapper at 0x7fd437f87400>"
      ]
     },
     "execution_count": 34,
     "metadata": {},
     "output_type": "execute_result"
    }
   ],
   "source": [
    "km.cluster_centers_"
   ]
  },
  {
   "cell_type": "code",
   "execution_count": 38,
   "metadata": {},
   "outputs": [
    {
     "name": "stderr",
     "output_type": "stream",
     "text": [
      "<ipython-input-38-9e139271481a>:2: DeprecationWarning: The file 'cluster_centers_.npy' has been generated with a joblib version less than 0.10. Please regenerate this pickle file.\n",
      "  cluster_centers = joblib.load(\"cluster_centers_.npy\")\n"
     ]
    }
   ],
   "source": [
    "_ = joblib.dump(km.cluster_centers_, \"cluster_centers_.npy\", compress=5)\n",
    "cluster_centers = joblib.load(\"cluster_centers_.npy\") "
   ]
  },
  {
   "cell_type": "code",
   "execution_count": 39,
   "metadata": {},
   "outputs": [
    {
     "data": {
      "text/plain": [
       "array([[0.00696897, 0.01138514, 0.01203234, ..., 0.01030939, 0.03292249,\n",
       "        0.01187134],\n",
       "       [0.01330645, 0.02636773, 0.00989454, ..., 0.01280072, 0.02505616,\n",
       "        0.00804739],\n",
       "       [0.00633176, 0.01015614, 0.02072936, ..., 0.09794459, 0.03146009,\n",
       "        0.00749326],\n",
       "       [0.02400191, 0.00289602, 0.01795369, ..., 0.02637798, 0.01009011,\n",
       "        0.00434982],\n",
       "       [0.00675671, 0.00897455, 0.00041218, ..., 0.00110324, 0.01959045,\n",
       "        0.00486994]])"
      ]
     },
     "execution_count": 39,
     "metadata": {},
     "output_type": "execute_result"
    }
   ],
   "source": [
    "cluster_centers"
   ]
  },
  {
   "cell_type": "code",
   "execution_count": 40,
   "metadata": {
    "collapsed": false,
    "jupyter": {
     "outputs_hidden": false
    }
   },
   "outputs": [
    {
     "name": "stdout",
     "output_type": "stream",
     "text": [
      "Top terms per cluster:\n",
      "\n",
      "Cluster 0 words: b'family', b'home', b'mother', b'war', b'house', b'dies',\n",
      "\n",
      "Cluster 0 titles: Schindler's List, One Flew Over the Cuckoo's Nest, Gone with the Wind, The Wizard of Oz, Titanic, Forrest Gump, E.T. the Extra-Terrestrial, The Silence of the Lambs, Gandhi, A Streetcar Named Desire, The Best Years of Our Lives, My Fair Lady, Ben-Hur, Doctor Zhivago, The Pianist, The Exorcist, Out of Africa, Good Will Hunting, Terms of Endearment, Giant, The Grapes of Wrath, Close Encounters of the Third Kind, The Graduate, Stagecoach, Wuthering Heights,\n",
      "\n",
      "Cluster 1 words: b'police', b'car', b'killed', b'murders', b'driving', b'house',\n",
      "\n",
      "Cluster 1 titles: Casablanca, Psycho, Sunset Blvd., Vertigo, Chinatown, Amadeus, High Noon, The French Connection, Fargo, Pulp Fiction, The Maltese Falcon, A Clockwork Orange, Double Indemnity, Rebel Without a Cause, The Third Man, North by Northwest,\n",
      "\n",
      "Cluster 2 words: b'father', b'new', b'york', b'new', b'brothers', b'apartments',\n",
      "\n",
      "Cluster 2 titles: The Godfather, Raging Bull, Citizen Kane, The Godfather: Part II, On the Waterfront, 12 Angry Men, Rocky, To Kill a Mockingbird, Braveheart, The Good, the Bad and the Ugly, The Apartment, Goodfellas, City Lights, It Happened One Night, Midnight Cowboy, Mr. Smith Goes to Washington, Rain Man, Annie Hall, Network, Taxi Driver, Rear Window,\n",
      "\n",
      "Cluster 3 words: b'george', b'dance', b'singing', b'john', b'love', b'perform',\n",
      "\n",
      "Cluster 3 titles: West Side Story, Singin' in the Rain, It's a Wonderful Life, Some Like It Hot, The Philadelphia Story, An American in Paris, The King's Speech, A Place in the Sun, Tootsie, Nashville, American Graffiti, Yankee Doodle Dandy,\n",
      "\n",
      "Cluster 4 words: b'killed', b'soldiers', b'captain', b'men', b'army', b'command',\n",
      "\n",
      "Cluster 4 titles: The Shawshank Redemption, Lawrence of Arabia, The Sound of Music, Star Wars, 2001: A Space Odyssey, The Bridge on the River Kwai, Dr. Strangelove or: How I Learned to Stop Worrying and Love the Bomb, Apocalypse Now, The Lord of the Rings: The Return of the King, Gladiator, From Here to Eternity, Saving Private Ryan, Unforgiven, Raiders of the Lost Ark, Patton, Jaws, Butch Cassidy and the Sundance Kid, The Treasure of the Sierra Madre, Platoon, Dances with Wolves, The Deer Hunter, All Quiet on the Western Front, Shane, The Green Mile, The African Queen, Mutiny on the Bounty,\n",
      "\n"
     ]
    }
   ],
   "source": [
    "from __future__ import print_function\n",
    "\n",
    "print(\"Top terms per cluster:\")\n",
    "print()\n",
    "order_centroids = cluster_centers.argsort()[:, ::-1]\n",
    "\n",
    "for i in range(num_clusters):\n",
    "    print(\"Cluster %d words:\" % i, end='')\n",
    "    for ind in order_centroids[i, :6]:\n",
    "        print(' %s' % vocab_frame.loc[terms[ind].split(' ')].values.tolist()[0][0].encode('utf-8', 'ignore'), end=',')\n",
    "    print()\n",
    "    print()\n",
    "    print(\"Cluster %d titles:\" % i, end='')\n",
    "    for title in frame.loc[i]['title'].values.tolist():\n",
    "        print(' %s,' % title, end='')\n",
    "    print()\n",
    "    print()"
   ]
  },
  {
   "cell_type": "code",
   "execution_count": 41,
   "metadata": {
    "collapsed": false,
    "jupyter": {
     "outputs_hidden": false
    }
   },
   "outputs": [],
   "source": [
    "#This is purely to help export tables to html and to correct for my 0 start rank (so that Godfather is 1, not 0)\n",
    "frame['Rank'] = frame['rank'] + 1\n",
    "frame['Title'] = frame['title']"
   ]
  },
  {
   "cell_type": "code",
   "execution_count": 74,
   "metadata": {},
   "outputs": [
    {
     "data": {
      "text/html": [
       "<div>\n",
       "<style scoped>\n",
       "    .dataframe tbody tr th:only-of-type {\n",
       "        vertical-align: middle;\n",
       "    }\n",
       "\n",
       "    .dataframe tbody tr th {\n",
       "        vertical-align: top;\n",
       "    }\n",
       "\n",
       "    .dataframe thead th {\n",
       "        text-align: right;\n",
       "    }\n",
       "</style>\n",
       "<table border=\"1\" class=\"dataframe\">\n",
       "  <thead>\n",
       "    <tr style=\"text-align: right;\">\n",
       "      <th></th>\n",
       "      <th>Rank</th>\n",
       "      <th>Title</th>\n",
       "    </tr>\n",
       "  </thead>\n",
       "  <tbody>\n",
       "    <tr>\n",
       "      <th>1</th>\n",
       "      <td>5</td>\n",
       "      <td>Casablanca</td>\n",
       "    </tr>\n",
       "    <tr>\n",
       "      <th>1</th>\n",
       "      <td>13</td>\n",
       "      <td>Psycho</td>\n",
       "    </tr>\n",
       "    <tr>\n",
       "      <th>1</th>\n",
       "      <td>14</td>\n",
       "      <td>Sunset Blvd.</td>\n",
       "    </tr>\n",
       "    <tr>\n",
       "      <th>1</th>\n",
       "      <td>15</td>\n",
       "      <td>Vertigo</td>\n",
       "    </tr>\n",
       "    <tr>\n",
       "      <th>1</th>\n",
       "      <td>24</td>\n",
       "      <td>Chinatown</td>\n",
       "    </tr>\n",
       "    <tr>\n",
       "      <th>1</th>\n",
       "      <td>31</td>\n",
       "      <td>Amadeus</td>\n",
       "    </tr>\n",
       "    <tr>\n",
       "      <th>1</th>\n",
       "      <td>57</td>\n",
       "      <td>High Noon</td>\n",
       "    </tr>\n",
       "    <tr>\n",
       "      <th>1</th>\n",
       "      <td>64</td>\n",
       "      <td>The French Connection</td>\n",
       "    </tr>\n",
       "    <tr>\n",
       "      <th>1</th>\n",
       "      <td>77</td>\n",
       "      <td>Fargo</td>\n",
       "    </tr>\n",
       "    <tr>\n",
       "      <th>1</th>\n",
       "      <td>87</td>\n",
       "      <td>Pulp Fiction</td>\n",
       "    </tr>\n",
       "    <tr>\n",
       "      <th>1</th>\n",
       "      <td>91</td>\n",
       "      <td>The Maltese Falcon</td>\n",
       "    </tr>\n",
       "    <tr>\n",
       "      <th>1</th>\n",
       "      <td>92</td>\n",
       "      <td>A Clockwork Orange</td>\n",
       "    </tr>\n",
       "    <tr>\n",
       "      <th>1</th>\n",
       "      <td>95</td>\n",
       "      <td>Double Indemnity</td>\n",
       "    </tr>\n",
       "    <tr>\n",
       "      <th>1</th>\n",
       "      <td>96</td>\n",
       "      <td>Rebel Without a Cause</td>\n",
       "    </tr>\n",
       "    <tr>\n",
       "      <th>1</th>\n",
       "      <td>98</td>\n",
       "      <td>The Third Man</td>\n",
       "    </tr>\n",
       "    <tr>\n",
       "      <th>1</th>\n",
       "      <td>99</td>\n",
       "      <td>North by Northwest</td>\n",
       "    </tr>\n",
       "  </tbody>\n",
       "</table>\n",
       "</div>"
      ],
      "text/plain": [
       "   Rank                  Title\n",
       "1     5             Casablanca\n",
       "1    13                 Psycho\n",
       "1    14           Sunset Blvd.\n",
       "1    15                Vertigo\n",
       "1    24              Chinatown\n",
       "1    31                Amadeus\n",
       "1    57              High Noon\n",
       "1    64  The French Connection\n",
       "1    77                  Fargo\n",
       "1    87           Pulp Fiction\n",
       "1    91     The Maltese Falcon\n",
       "1    92     A Clockwork Orange\n",
       "1    95       Double Indemnity\n",
       "1    96  Rebel Without a Cause\n",
       "1    98          The Third Man\n",
       "1    99     North by Northwest"
      ]
     },
     "execution_count": 74,
     "metadata": {},
     "output_type": "execute_result"
    }
   ],
   "source": [
    "frame[['Rank', 'Title']].loc[frame['cluster'] == 1]"
   ]
  },
  {
   "cell_type": "code",
   "execution_count": 42,
   "metadata": {
    "collapsed": false,
    "jupyter": {
     "outputs_hidden": false
    }
   },
   "outputs": [
    {
     "name": "stdout",
     "output_type": "stream",
     "text": [
      "<table border=\"1\" class=\"dataframe\">\n",
      "  <thead>\n",
      "    <tr style=\"text-align: right;\">\n",
      "      <th>Rank</th>\n",
      "      <th>Title</th>\n",
      "    </tr>\n",
      "  </thead>\n",
      "  <tbody>\n",
      "    <tr>\n",
      "      <td>5</td>\n",
      "      <td>Casablanca</td>\n",
      "    </tr>\n",
      "    <tr>\n",
      "      <td>13</td>\n",
      "      <td>Psycho</td>\n",
      "    </tr>\n",
      "    <tr>\n",
      "      <td>14</td>\n",
      "      <td>Sunset Blvd.</td>\n",
      "    </tr>\n",
      "    <tr>\n",
      "      <td>15</td>\n",
      "      <td>Vertigo</td>\n",
      "    </tr>\n",
      "    <tr>\n",
      "      <td>24</td>\n",
      "      <td>Chinatown</td>\n",
      "    </tr>\n",
      "    <tr>\n",
      "      <td>31</td>\n",
      "      <td>Amadeus</td>\n",
      "    </tr>\n",
      "    <tr>\n",
      "      <td>57</td>\n",
      "      <td>High Noon</td>\n",
      "    </tr>\n",
      "    <tr>\n",
      "      <td>64</td>\n",
      "      <td>The French Connection</td>\n",
      "    </tr>\n",
      "    <tr>\n",
      "      <td>77</td>\n",
      "      <td>Fargo</td>\n",
      "    </tr>\n",
      "    <tr>\n",
      "      <td>87</td>\n",
      "      <td>Pulp Fiction</td>\n",
      "    </tr>\n",
      "    <tr>\n",
      "      <td>91</td>\n",
      "      <td>The Maltese Falcon</td>\n",
      "    </tr>\n",
      "    <tr>\n",
      "      <td>92</td>\n",
      "      <td>A Clockwork Orange</td>\n",
      "    </tr>\n",
      "    <tr>\n",
      "      <td>95</td>\n",
      "      <td>Double Indemnity</td>\n",
      "    </tr>\n",
      "    <tr>\n",
      "      <td>96</td>\n",
      "      <td>Rebel Without a Cause</td>\n",
      "    </tr>\n",
      "    <tr>\n",
      "      <td>98</td>\n",
      "      <td>The Third Man</td>\n",
      "    </tr>\n",
      "    <tr>\n",
      "      <td>99</td>\n",
      "      <td>North by Northwest</td>\n",
      "    </tr>\n",
      "  </tbody>\n",
      "</table>\n"
     ]
    }
   ],
   "source": [
    "#export tables to HTML\n",
    "print(frame[['Rank', 'Title']].loc[frame['cluster'] == 1].to_html(index=False))"
   ]
  },
  {
   "cell_type": "markdown",
   "metadata": {},
   "source": [
    "# Multidimensional scaling\n",
    "* 다차원척도법 : https://wujincheon.github.io/wujincheon.github.io/machine%20learning/2018/10/23/pca&mds.html \n",
    "  * 원래 차원에서의 **거리순서**를 고려하면서 **저차원으로의 거리정보가 유지**되도록 하는 차원을 구하는 것\n",
    "  * 시각적으로 객체간의 거리를 (유사한 정도를) 쉽게 해석하기 위해서 저차원으로 mapping 하는 것\n",
    "  * 변수 자체의 해석보다는, 타겟으로 설정한 변수들이 어떤 관계를 가지는지, 객체들간의 관계를 보기쉽게 포지셔닝하는데 이용"
   ]
  },
  {
   "cell_type": "code",
   "execution_count": 43,
   "metadata": {
    "collapsed": false,
    "jupyter": {
     "outputs_hidden": false
    }
   },
   "outputs": [],
   "source": [
    "import os  # for os.path.basename\n",
    "\n",
    "import matplotlib.pyplot as plt\n",
    "import matplotlib as mpl\n",
    "\n",
    "from sklearn.manifold import MDS\n",
    "\n",
    "MDS()\n",
    "\n",
    "# two components as we're plotting points in a two-dimensional plane\n",
    "# \"precomputed\" because we provide a distance matrix\n",
    "# we will also specify `random_state` so the plot is reproducible.\n",
    "\n",
    "mds = MDS(n_components=2, dissimilarity=\"precomputed\", random_state=1)\n",
    "pos = mds.fit_transform(dist)  # shape (n_components, n_samples)\n",
    "\n",
    "xs, ys = pos[:, 0], pos[:, 1] # pos : 객체들의 새로운 좌표 "
   ]
  },
  {
   "cell_type": "code",
   "execution_count": 44,
   "metadata": {
    "collapsed": false,
    "jupyter": {
     "outputs_hidden": false
    }
   },
   "outputs": [],
   "source": [
    "#strip any proper nouns (NNP) or plural proper nouns (NNPS) from a text\n",
    "from nltk.tag import pos_tag\n",
    "\n",
    "def strip_proppers_POS(text):\n",
    "    tagged = pos_tag(text.split()) #use NLTK's part of speech tagger\n",
    "    non_propernouns = [word for word,pos in tagged if pos != 'NNP' and pos != 'NNPS']\n",
    "    return non_propernouns"
   ]
  },
  {
   "cell_type": "markdown",
   "metadata": {},
   "source": [
    "## Visualizing document clusters"
   ]
  },
  {
   "cell_type": "code",
   "execution_count": 45,
   "metadata": {
    "collapsed": false,
    "jupyter": {
     "outputs_hidden": false
    }
   },
   "outputs": [],
   "source": [
    "#set up colors per clusters using a dict\n",
    "cluster_colors = {0: '#1b9e77', 1: '#d95f02', 2: '#7570b3', 3: '#e7298a', 4: '#66a61e'}\n",
    "\n",
    "#set up cluster names using a dict\n",
    "cluster_names = {0: 'Family, home, war', \n",
    "                 1: 'Police, killed, murders', \n",
    "                 2: 'Father, New York, brothers', \n",
    "                 3: 'Dance, singing, love', \n",
    "                 4: 'Killed, soldiers, captain'}"
   ]
  },
  {
   "cell_type": "code",
   "execution_count": 46,
   "metadata": {
    "collapsed": false,
    "jupyter": {
     "outputs_hidden": false
    }
   },
   "outputs": [],
   "source": [
    "%matplotlib inline"
   ]
  },
  {
   "cell_type": "code",
   "execution_count": 48,
   "metadata": {
    "collapsed": false,
    "jupyter": {
     "outputs_hidden": false
    }
   },
   "outputs": [
    {
     "data": {
      "image/png": "[encoded data removed]",
      "text/plain": [
       "<Figure size 1224x648 with 1 Axes>"
      ]
     },
     "metadata": {
      "needs_background": "light"
     },
     "output_type": "display_data"
    }
   ],
   "source": [
    "#create data frame that has the result of the MDS plus the cluster numbers and titles\n",
    "df = pd.DataFrame(dict(x=xs, y=ys, label=clusters2, title=titles)) \n",
    "\n",
    "#group by cluster\n",
    "groups = df.groupby('label')\n",
    "\n",
    "\n",
    "# set up plot\n",
    "fig, ax = plt.subplots(figsize=(17, 9)) # set size\n",
    "ax.margins(0.05) # Optional, just adds 5% padding to the autoscaling\n",
    "\n",
    "#iterate through groups to layer the plot\n",
    "#note that I use the cluster_name and cluster_color dicts with the 'name' lookup to return the appropriate color/label\n",
    "for name, group in groups:\n",
    "    ax.plot(group.x, group.y, marker='o', linestyle='', ms=12, label=cluster_names[name], color=cluster_colors[name], mec='none')\n",
    "    ax.set_aspect('auto')\n",
    "    ax.tick_params(\\\n",
    "        axis= 'x',          # changes apply to the x-axis\n",
    "        which='both',      # both major and minor ticks are affected\n",
    "        bottom='off',      # ticks along the bottom edge are off\n",
    "        top='off',         # ticks along the top edge are off\n",
    "        labelbottom='off')\n",
    "    ax.tick_params(\\\n",
    "        axis= 'y',         # changes apply to the y-axis\n",
    "        which='both',      # both major and minor ticks are affected\n",
    "        left='off',      # ticks along the bottom edge are off\n",
    "        top='off',         # ticks along the top edge are off\n",
    "        labelleft='off')\n",
    "    \n",
    "ax.legend(numpoints=1)  #show legend with only 1 point\n",
    "\n",
    "#add label in x,y position with the label as the film title\n",
    "for i in range(len(df)):\n",
    "    ax.text(df.loc[i]['x'], df.loc[i]['y'], df.loc[i]['title'], size=8)  \n",
    "\n",
    "    \n",
    "    \n",
    "plt.show() #show the plot\n",
    "\n",
    "#uncomment the below to save the plot if need be\n",
    "#plt.savefig('clusters_small_noaxes.png', dpi=200)"
   ]
  },
  {
   "cell_type": "code",
   "execution_count": 49,
   "metadata": {
    "collapsed": false,
    "jupyter": {
     "outputs_hidden": false
    }
   },
   "outputs": [],
   "source": [
    "plt.close()"
   ]
  },
  {
   "cell_type": "markdown",
   "metadata": {},
   "source": [
    "The clustering plot looks great, but it pains my eyes to see overlapping labels. Having some experience with [D3.js](http://d3js.org/) I knew one solution would be to use a browser based/javascript interactive. Fortunately, I recently stumbled upon [mpld3](https://mpld3.github.io/) a matplotlib wrapper for D3. Mpld3 basically let's you use matplotlib syntax to create web interactives. It has a really easy, high-level API for adding tooltips on mouse hover, which is what I am interested in.\n",
    "\n",
    "It also has some nice functionality for zooming and panning. The below javascript snippet basicaly defines a custom location for where the zoom/pan toggle resides. Don't worry about it too much and you actually don't need to use it, but it helped for formatting purposes when exporting to the web later. The only thing you might want to change is the x and y attr for the position of the toolbar."
   ]
  },
  {
   "cell_type": "code",
   "execution_count": 50,
   "metadata": {
    "collapsed": false,
    "jupyter": {
     "outputs_hidden": false
    }
   },
   "outputs": [],
   "source": [
    "#define custom toolbar location\n",
    "class TopToolbar(mpld3.plugins.PluginBase):\n",
    "    \"\"\"Plugin for moving toolbar to top of figure\"\"\"\n",
    "\n",
    "    JAVASCRIPT = \"\"\"\n",
    "    mpld3.register_plugin(\"toptoolbar\", TopToolbar);\n",
    "    TopToolbar.prototype = Object.create(mpld3.Plugin.prototype);\n",
    "    TopToolbar.prototype.constructor = TopToolbar;\n",
    "    function TopToolbar(fig, props){\n",
    "        mpld3.Plugin.call(this, fig, props);\n",
    "    };\n",
    "\n",
    "    TopToolbar.prototype.draw = function(){\n",
    "      // the toolbar svg doesn't exist\n",
    "      // yet, so first draw it\n",
    "      this.fig.toolbar.draw();\n",
    "\n",
    "      // then change the y position to be\n",
    "      // at the top of the figure\n",
    "      this.fig.toolbar.toolbar.attr(\"x\", 150);\n",
    "      this.fig.toolbar.toolbar.attr(\"y\", 400);\n",
    "\n",
    "      // then remove the draw function,\n",
    "      // so that it is not called again\n",
    "      this.fig.toolbar.draw = function() {}\n",
    "    }\n",
    "    \"\"\"\n",
    "    def __init__(self):\n",
    "        self.dict_ = {\"type\": \"toptoolbar\"}"
   ]
  },
  {
   "cell_type": "code",
   "execution_count": 51,
   "metadata": {
    "collapsed": false,
    "jupyter": {
     "outputs_hidden": false
    }
   },
   "outputs": [
    {
     "data": {
      "text/html": [
       "\n",
       "\n",
       "<style>\n",
       "\n",
       "text.mpld3-text, div.mpld3-tooltip {\n",
       "  font-family:Arial, Helvetica, sans-serif;\n",
       "}\n",
       "\n",
       "g.mpld3-xaxis, g.mpld3-yaxis {\n",
       "display: none; }\n",
       "\n",
       "text.mpld3-text, div.mpld3-tooltip {\n",
       "  font-family:Arial, Helvetica, sans-serif;\n",
       "}\n",
       "\n",
       "g.mpld3-xaxis, g.mpld3-yaxis {\n",
       "display: none; }\n",
       "\n",
       "text.mpld3-text, div.mpld3-tooltip {\n",
       "  font-family:Arial, Helvetica, sans-serif;\n",
       "}\n",
       "\n",
       "g.mpld3-xaxis, g.mpld3-yaxis {\n",
       "display: none; }\n",
       "\n",
       "text.mpld3-text, div.mpld3-tooltip {\n",
       "  font-family:Arial, Helvetica, sans-serif;\n",
       "}\n",
       "\n",
       "g.mpld3-xaxis, g.mpld3-yaxis {\n",
       "display: none; }\n",
       "\n",
       "text.mpld3-text, div.mpld3-tooltip {\n",
       "  font-family:Arial, Helvetica, sans-serif;\n",
       "}\n",
       "\n",
       "g.mpld3-xaxis, g.mpld3-yaxis {\n",
       "display: none; }\n",
       "\n",
       "</style>\n",
       "\n",
       "<div id=\"fig_el415391405494175133606419072840\"></div>\n",
       "<script>\n",
       "function mpld3_load_lib(url, callback){\n",
       "  var s = document.createElement('script');\n",
       "  s.src = url;\n",
       "  s.async = true;\n",
       "  s.onreadystatechange = s.onload = callback;\n",
       "  s.onerror = function(){console.warn(\"failed to load library \" + url);};\n",
       "  document.getElementsByTagName(\"head\")[0].appendChild(s);\n",
       "}\n",
       "\n",
       "if(typeof(mpld3) !== \"undefined\" && mpld3._mpld3IsLoaded){\n",
       "   // already loaded: just create the figure\n",
       "   !function(mpld3){\n",
       "       \n",
       "    mpld3.register_plugin(\"htmltooltip\", HtmlTooltipPlugin);\n",
       "    HtmlTooltipPlugin.prototype = Object.create(mpld3.Plugin.prototype);\n",
       "    HtmlTooltipPlugin.prototype.constructor = HtmlTooltipPlugin;\n",
       "    HtmlTooltipPlugin.prototype.requiredProps = [\"id\"];\n",
       "    HtmlTooltipPlugin.prototype.defaultProps = {labels:null,\n",
       "                                                target:null,\n",
       "                                                hoffset:0,\n",
       "                                                voffset:10,\n",
       "                                                targets:null};\n",
       "    function HtmlTooltipPlugin(fig, props){\n",
       "        mpld3.Plugin.call(this, fig, props);\n",
       "    };\n",
       "\n",
       "    HtmlTooltipPlugin.prototype.draw = function(){\n",
       "        var obj = mpld3.get_element(this.props.id);\n",
       "        var labels = this.props.labels;\n",
       "        var targets = this.props.targets;\n",
       "        var tooltip = d3.select(\"body\").append(\"div\")\n",
       "            .attr(\"class\", \"mpld3-tooltip\")\n",
       "            .style(\"position\", \"absolute\")\n",
       "            .style(\"z-index\", \"10\")\n",
       "            .style(\"visibility\", \"hidden\");\n",
       "\n",
       "        obj.elements()\n",
       "            .on(\"mouseover\", function(d, i){\n",
       "                tooltip.html(labels[i])\n",
       "                    .style(\"visibility\", \"visible\");\n",
       "            })\n",
       "            .on(\"mousemove\", function(d, i){\n",
       "                tooltip\n",
       "                .style(\"top\", d3.event.pageY + this.props.voffset + \"px\")\n",
       "                .style(\"left\",d3.event.pageX + this.props.hoffset + \"px\");\n",
       "            }.bind(this))\n",
       "            .on(\"mousedown.callout\", function(d, i){\n",
       "                window.open(targets[i],\"_blank\");\n",
       "            })\n",
       "            .on(\"mouseout\", function(d, i){\n",
       "                tooltip.style(\"visibility\", \"hidden\");\n",
       "            });\n",
       "    };\n",
       "    \n",
       "    mpld3.register_plugin(\"toptoolbar\", TopToolbar);\n",
       "    TopToolbar.prototype = Object.create(mpld3.Plugin.prototype);\n",
       "    TopToolbar.prototype.constructor = TopToolbar;\n",
       "    function TopToolbar(fig, props){\n",
       "        mpld3.Plugin.call(this, fig, props);\n",
       "    };\n",
       "\n",
       "    TopToolbar.prototype.draw = function(){\n",
       "      // the toolbar svg doesn't exist\n",
       "      // yet, so first draw it\n",
       "      this.fig.toolbar.draw();\n",
       "\n",
       "      // then change the y position to be\n",
       "      // at the top of the figure\n",
       "      this.fig.toolbar.toolbar.attr(\"x\", 150);\n",
       "      this.fig.toolbar.toolbar.attr(\"y\", 400);\n",
       "\n",
       "      // then remove the draw function,\n",
       "      // so that it is not called again\n",
       "      this.fig.toolbar.draw = function() {}\n",
       "    }\n",
       "    \n",
       "    mpld3.register_plugin(\"htmltooltip\", HtmlTooltipPlugin);\n",
       "    HtmlTooltipPlugin.prototype = Object.create(mpld3.Plugin.prototype);\n",
       "    HtmlTooltipPlugin.prototype.constructor = HtmlTooltipPlugin;\n",
       "    HtmlTooltipPlugin.prototype.requiredProps = [\"id\"];\n",
       "    HtmlTooltipPlugin.prototype.defaultProps = {labels:null,\n",
       "                                                target:null,\n",
       "                                                hoffset:0,\n",
       "                                                voffset:10,\n",
       "                                                targets:null};\n",
       "    function HtmlTooltipPlugin(fig, props){\n",
       "        mpld3.Plugin.call(this, fig, props);\n",
       "    };\n",
       "\n",
       "    HtmlTooltipPlugin.prototype.draw = function(){\n",
       "        var obj = mpld3.get_element(this.props.id);\n",
       "        var labels = this.props.labels;\n",
       "        var targets = this.props.targets;\n",
       "        var tooltip = d3.select(\"body\").append(\"div\")\n",
       "            .attr(\"class\", \"mpld3-tooltip\")\n",
       "            .style(\"position\", \"absolute\")\n",
       "            .style(\"z-index\", \"10\")\n",
       "            .style(\"visibility\", \"hidden\");\n",
       "\n",
       "        obj.elements()\n",
       "            .on(\"mouseover\", function(d, i){\n",
       "                tooltip.html(labels[i])\n",
       "                    .style(\"visibility\", \"visible\");\n",
       "            })\n",
       "            .on(\"mousemove\", function(d, i){\n",
       "                tooltip\n",
       "                .style(\"top\", d3.event.pageY + this.props.voffset + \"px\")\n",
       "                .style(\"left\",d3.event.pageX + this.props.hoffset + \"px\");\n",
       "            }.bind(this))\n",
       "            .on(\"mousedown.callout\", function(d, i){\n",
       "                window.open(targets[i],\"_blank\");\n",
       "            })\n",
       "            .on(\"mouseout\", function(d, i){\n",
       "                tooltip.style(\"visibility\", \"hidden\");\n",
       "            });\n",
       "    };\n",
       "    \n",
       "    mpld3.register_plugin(\"toptoolbar\", TopToolbar);\n",
       "    TopToolbar.prototype = Object.create(mpld3.Plugin.prototype);\n",
       "    TopToolbar.prototype.constructor = TopToolbar;\n",
       "    function TopToolbar(fig, props){\n",
       "        mpld3.Plugin.call(this, fig, props);\n",
       "    };\n",
       "\n",
       "    TopToolbar.prototype.draw = function(){\n",
       "      // the toolbar svg doesn't exist\n",
       "      // yet, so first draw it\n",
       "      this.fig.toolbar.draw();\n",
       "\n",
       "      // then change the y position to be\n",
       "      // at the top of the figure\n",
       "      this.fig.toolbar.toolbar.attr(\"x\", 150);\n",
       "      this.fig.toolbar.toolbar.attr(\"y\", 400);\n",
       "\n",
       "      // then remove the draw function,\n",
       "      // so that it is not called again\n",
       "      this.fig.toolbar.draw = function() {}\n",
       "    }\n",
       "    \n",
       "    mpld3.register_plugin(\"htmltooltip\", HtmlTooltipPlugin);\n",
       "    HtmlTooltipPlugin.prototype = Object.create(mpld3.Plugin.prototype);\n",
       "    HtmlTooltipPlugin.prototype.constructor = HtmlTooltipPlugin;\n",
       "    HtmlTooltipPlugin.prototype.requiredProps = [\"id\"];\n",
       "    HtmlTooltipPlugin.prototype.defaultProps = {labels:null,\n",
       "                                                target:null,\n",
       "                                                hoffset:0,\n",
       "                                                voffset:10,\n",
       "                                                targets:null};\n",
       "    function HtmlTooltipPlugin(fig, props){\n",
       "        mpld3.Plugin.call(this, fig, props);\n",
       "    };\n",
       "\n",
       "    HtmlTooltipPlugin.prototype.draw = function(){\n",
       "        var obj = mpld3.get_element(this.props.id);\n",
       "        var labels = this.props.labels;\n",
       "        var targets = this.props.targets;\n",
       "        var tooltip = d3.select(\"body\").append(\"div\")\n",
       "            .attr(\"class\", \"mpld3-tooltip\")\n",
       "            .style(\"position\", \"absolute\")\n",
       "            .style(\"z-index\", \"10\")\n",
       "            .style(\"visibility\", \"hidden\");\n",
       "\n",
       "        obj.elements()\n",
       "            .on(\"mouseover\", function(d, i){\n",
       "                tooltip.html(labels[i])\n",
       "                    .style(\"visibility\", \"visible\");\n",
       "            })\n",
       "            .on(\"mousemove\", function(d, i){\n",
       "                tooltip\n",
       "                .style(\"top\", d3.event.pageY + this.props.voffset + \"px\")\n",
       "                .style(\"left\",d3.event.pageX + this.props.hoffset + \"px\");\n",
       "            }.bind(this))\n",
       "            .on(\"mousedown.callout\", function(d, i){\n",
       "                window.open(targets[i],\"_blank\");\n",
       "            })\n",
       "            .on(\"mouseout\", function(d, i){\n",
       "                tooltip.style(\"visibility\", \"hidden\");\n",
       "            });\n",
       "    };\n",
       "    \n",
       "    mpld3.register_plugin(\"toptoolbar\", TopToolbar);\n",
       "    TopToolbar.prototype = Object.create(mpld3.Plugin.prototype);\n",
       "    TopToolbar.prototype.constructor = TopToolbar;\n",
       "    function TopToolbar(fig, props){\n",
       "        mpld3.Plugin.call(this, fig, props);\n",
       "    };\n",
       "\n",
       "    TopToolbar.prototype.draw = function(){\n",
       "      // the toolbar svg doesn't exist\n",
       "      // yet, so first draw it\n",
       "      this.fig.toolbar.draw();\n",
       "\n",
       "      // then change the y position to be\n",
       "      // at the top of the figure\n",
       "      this.fig.toolbar.toolbar.attr(\"x\", 150);\n",
       "      this.fig.toolbar.toolbar.attr(\"y\", 400);\n",
       "\n",
       "      // then remove the draw function,\n",
       "      // so that it is not called again\n",
       "      this.fig.toolbar.draw = function() {}\n",
       "    }\n",
       "    \n",
       "    mpld3.register_plugin(\"htmltooltip\", HtmlTooltipPlugin);\n",
       "    HtmlTooltipPlugin.prototype = Object.create(mpld3.Plugin.prototype);\n",
       "    HtmlTooltipPlugin.prototype.constructor = HtmlTooltipPlugin;\n",
       "    HtmlTooltipPlugin.prototype.requiredProps = [\"id\"];\n",
       "    HtmlTooltipPlugin.prototype.defaultProps = {labels:null,\n",
       "                                                target:null,\n",
       "                                                hoffset:0,\n",
       "                                                voffset:10,\n",
       "                                                targets:null};\n",
       "    function HtmlTooltipPlugin(fig, props){\n",
       "        mpld3.Plugin.call(this, fig, props);\n",
       "    };\n",
       "\n",
       "    HtmlTooltipPlugin.prototype.draw = function(){\n",
       "        var obj = mpld3.get_element(this.props.id);\n",
       "        var labels = this.props.labels;\n",
       "        var targets = this.props.targets;\n",
       "        var tooltip = d3.select(\"body\").append(\"div\")\n",
       "            .attr(\"class\", \"mpld3-tooltip\")\n",
       "            .style(\"position\", \"absolute\")\n",
       "            .style(\"z-index\", \"10\")\n",
       "            .style(\"visibility\", \"hidden\");\n",
       "\n",
       "        obj.elements()\n",
       "            .on(\"mouseover\", function(d, i){\n",
       "                tooltip.html(labels[i])\n",
       "                    .style(\"visibility\", \"visible\");\n",
       "            })\n",
       "            .on(\"mousemove\", function(d, i){\n",
       "                tooltip\n",
       "                .style(\"top\", d3.event.pageY + this.props.voffset + \"px\")\n",
       "                .style(\"left\",d3.event.pageX + this.props.hoffset + \"px\");\n",
       "            }.bind(this))\n",
       "            .on(\"mousedown.callout\", function(d, i){\n",
       "                window.open(targets[i],\"_blank\");\n",
       "            })\n",
       "            .on(\"mouseout\", function(d, i){\n",
       "                tooltip.style(\"visibility\", \"hidden\");\n",
       "            });\n",
       "    };\n",
       "    \n",
       "    mpld3.register_plugin(\"toptoolbar\", TopToolbar);\n",
       "    TopToolbar.prototype = Object.create(mpld3.Plugin.prototype);\n",
       "    TopToolbar.prototype.constructor = TopToolbar;\n",
       "    function TopToolbar(fig, props){\n",
       "        mpld3.Plugin.call(this, fig, props);\n",
       "    };\n",
       "\n",
       "    TopToolbar.prototype.draw = function(){\n",
       "      // the toolbar svg doesn't exist\n",
       "      // yet, so first draw it\n",
       "      this.fig.toolbar.draw();\n",
       "\n",
       "      // then change the y position to be\n",
       "      // at the top of the figure\n",
       "      this.fig.toolbar.toolbar.attr(\"x\", 150);\n",
       "      this.fig.toolbar.toolbar.attr(\"y\", 400);\n",
       "\n",
       "      // then remove the draw function,\n",
       "      // so that it is not called again\n",
       "      this.fig.toolbar.draw = function() {}\n",
       "    }\n",
       "    \n",
       "    mpld3.register_plugin(\"htmltooltip\", HtmlTooltipPlugin);\n",
       "    HtmlTooltipPlugin.prototype = Object.create(mpld3.Plugin.prototype);\n",
       "    HtmlTooltipPlugin.prototype.constructor = HtmlTooltipPlugin;\n",
       "    HtmlTooltipPlugin.prototype.requiredProps = [\"id\"];\n",
       "    HtmlTooltipPlugin.prototype.defaultProps = {labels:null,\n",
       "                                                target:null,\n",
       "                                                hoffset:0,\n",
       "                                                voffset:10,\n",
       "                                                targets:null};\n",
       "    function HtmlTooltipPlugin(fig, props){\n",
       "        mpld3.Plugin.call(this, fig, props);\n",
       "    };\n",
       "\n",
       "    HtmlTooltipPlugin.prototype.draw = function(){\n",
       "        var obj = mpld3.get_element(this.props.id);\n",
       "        var labels = this.props.labels;\n",
       "        var targets = this.props.targets;\n",
       "        var tooltip = d3.select(\"body\").append(\"div\")\n",
       "            .attr(\"class\", \"mpld3-tooltip\")\n",
       "            .style(\"position\", \"absolute\")\n",
       "            .style(\"z-index\", \"10\")\n",
       "            .style(\"visibility\", \"hidden\");\n",
       "\n",
       "        obj.elements()\n",
       "            .on(\"mouseover\", function(d, i){\n",
       "                tooltip.html(labels[i])\n",
       "                    .style(\"visibility\", \"visible\");\n",
       "            })\n",
       "            .on(\"mousemove\", function(d, i){\n",
       "                tooltip\n",
       "                .style(\"top\", d3.event.pageY + this.props.voffset + \"px\")\n",
       "                .style(\"left\",d3.event.pageX + this.props.hoffset + \"px\");\n",
       "            }.bind(this))\n",
       "            .on(\"mousedown.callout\", function(d, i){\n",
       "                window.open(targets[i],\"_blank\");\n",
       "            })\n",
       "            .on(\"mouseout\", function(d, i){\n",
       "                tooltip.style(\"visibility\", \"hidden\");\n",
       "            });\n",
       "    };\n",
       "    \n",
       "    mpld3.register_plugin(\"toptoolbar\", TopToolbar);\n",
       "    TopToolbar.prototype = Object.create(mpld3.Plugin.prototype);\n",
       "    TopToolbar.prototype.constructor = TopToolbar;\n",
       "    function TopToolbar(fig, props){\n",
       "        mpld3.Plugin.call(this, fig, props);\n",
       "    };\n",
       "\n",
       "    TopToolbar.prototype.draw = function(){\n",
       "      // the toolbar svg doesn't exist\n",
       "      // yet, so first draw it\n",
       "      this.fig.toolbar.draw();\n",
       "\n",
       "      // then change the y position to be\n",
       "      // at the top of the figure\n",
       "      this.fig.toolbar.toolbar.attr(\"x\", 150);\n",
       "      this.fig.toolbar.toolbar.attr(\"y\", 400);\n",
       "\n",
       "      // then remove the draw function,\n",
       "      // so that it is not called again\n",
       "      this.fig.toolbar.draw = function() {}\n",
       "    }\n",
       "    \n",
       "       mpld3.draw_figure(\"fig_el415391405494175133606419072840\", {\"width\": 1008.0, \"height\": 432.0, \"axes\": [{\"bbox\": [0.125, 0.125, 0.775, 0.755], \"xlim\": [-0.7022446245855734, 0.7098314809788802], \"ylim\": [-0.7081718721860418, 0.6939226674565514], \"xdomain\": [-0.7022446245855734, 0.7098314809788802], \"ydomain\": [-0.7081718721860418, 0.6939226674565514], \"xscale\": \"linear\", \"yscale\": \"linear\", \"axes\": [{\"position\": \"bottom\", \"nticks\": 0, \"tickvalues\": [], \"tickformat_formatter\": \"\", \"tickformat\": \"\", \"scale\": \"linear\", \"fontsize\": null, \"grid\": {\"gridOn\": false}, \"visible\": false}, {\"position\": \"left\", \"nticks\": 0, \"tickvalues\": [], \"tickformat_formatter\": \"\", \"tickformat\": \"\", \"scale\": \"linear\", \"fontsize\": null, \"grid\": {\"gridOn\": false}, \"visible\": false}], \"axesbg\": \"#FFFFFF\", \"axesbgalpha\": null, \"zoomable\": true, \"id\": \"el41539140548945714192\", \"lines\": [], \"paths\": [{\"data\": \"data07\", \"xindex\": 0, \"yindex\": 1, \"coordinates\": \"axes\", \"pathcodes\": [\"M\", \"L\", \"S\", \"L\", \"S\", \"L\", \"S\", \"L\", \"S\", \"Z\"], \"id\": \"el41539140549460539520\", \"dasharray\": \"none\", \"alpha\": 0.8, \"facecolor\": \"rgba(255, 255, 255, 0.8)\", \"edgecolor\": \"rgba(204, 204, 204, 0.8)\", \"edgewidth\": 1.0, \"zorder\": 1000000.0}], \"markers\": [{\"data\": \"data01\", \"xindex\": 0, \"yindex\": 1, \"coordinates\": \"data\", \"id\": \"el41539140549460540096pts\", \"facecolor\": \"#1B9E77\", \"edgecolor\": \"none\", \"edgewidth\": 1.0, \"alpha\": 1, \"zorder\": 2, \"markerpath\": [[[0.0, 9.0], [2.3868279, 9.0], [4.676218837063681, 8.051703224294176], [6.3639610306789285, 6.3639610306789285], [8.051703224294176, 4.676218837063681], [9.0, 2.3868279], [9.0, 0.0], [9.0, -2.3868279], [8.051703224294176, -4.676218837063681], [6.3639610306789285, -6.3639610306789285], [4.676218837063681, -8.051703224294176], [2.3868279, -9.0], [0.0, -9.0], [-2.3868279, -9.0], [-4.676218837063681, -8.051703224294176], [-6.3639610306789285, -6.3639610306789285], [-8.051703224294176, -4.676218837063681], [-9.0, -2.3868279], [-9.0, 0.0], [-9.0, 2.3868279], [-8.051703224294176, 4.676218837063681], [-6.3639610306789285, 6.3639610306789285], [-4.676218837063681, 8.051703224294176], [-2.3868279, 9.0], [0.0, 9.0]], [\"M\", \"C\", \"C\", \"C\", \"C\", \"C\", \"C\", \"C\", \"C\", \"Z\"]]}, {\"data\": \"data02\", \"xindex\": 0, \"yindex\": 1, \"coordinates\": \"data\", \"id\": \"el41539140549460541248pts\", \"facecolor\": \"#D95F02\", \"edgecolor\": \"none\", \"edgewidth\": 1.0, \"alpha\": 1, \"zorder\": 2, \"markerpath\": [[[0.0, 9.0], [2.3868279, 9.0], [4.676218837063681, 8.051703224294176], [6.3639610306789285, 6.3639610306789285], [8.051703224294176, 4.676218837063681], [9.0, 2.3868279], [9.0, 0.0], [9.0, -2.3868279], [8.051703224294176, -4.676218837063681], [6.3639610306789285, -6.3639610306789285], [4.676218837063681, -8.051703224294176], [2.3868279, -9.0], [0.0, -9.0], [-2.3868279, -9.0], [-4.676218837063681, -8.051703224294176], [-6.3639610306789285, -6.3639610306789285], [-8.051703224294176, -4.676218837063681], [-9.0, -2.3868279], [-9.0, 0.0], [-9.0, 2.3868279], [-8.051703224294176, 4.676218837063681], [-6.3639610306789285, 6.3639610306789285], [-4.676218837063681, 8.051703224294176], [-2.3868279, 9.0], [0.0, 9.0]], [\"M\", \"C\", \"C\", \"C\", \"C\", \"C\", \"C\", \"C\", \"C\", \"Z\"]]}, {\"data\": \"data03\", \"xindex\": 0, \"yindex\": 1, \"coordinates\": \"data\", \"id\": \"el41539140549460534320pts\", \"facecolor\": \"#7570B3\", \"edgecolor\": \"none\", \"edgewidth\": 1.0, \"alpha\": 1, \"zorder\": 2, \"markerpath\": [[[0.0, 9.0], [2.3868279, 9.0], [4.676218837063681, 8.051703224294176], [6.3639610306789285, 6.3639610306789285], [8.051703224294176, 4.676218837063681], [9.0, 2.3868279], [9.0, 0.0], [9.0, -2.3868279], [8.051703224294176, -4.676218837063681], [6.3639610306789285, -6.3639610306789285], [4.676218837063681, -8.051703224294176], [2.3868279, -9.0], [0.0, -9.0], [-2.3868279, -9.0], [-4.676218837063681, -8.051703224294176], [-6.3639610306789285, -6.3639610306789285], [-8.051703224294176, -4.676218837063681], [-9.0, -2.3868279], [-9.0, 0.0], [-9.0, 2.3868279], [-8.051703224294176, 4.676218837063681], [-6.3639610306789285, 6.3639610306789285], [-4.676218837063681, 8.051703224294176], [-2.3868279, 9.0], [0.0, 9.0]], [\"M\", \"C\", \"C\", \"C\", \"C\", \"C\", \"C\", \"C\", \"C\", \"Z\"]]}, {\"data\": \"data04\", \"xindex\": 0, \"yindex\": 1, \"coordinates\": \"data\", \"id\": \"el41539140549460535472pts\", \"facecolor\": \"#E7298A\", \"edgecolor\": \"none\", \"edgewidth\": 1.0, \"alpha\": 1, \"zorder\": 2, \"markerpath\": [[[0.0, 9.0], [2.3868279, 9.0], [4.676218837063681, 8.051703224294176], [6.3639610306789285, 6.3639610306789285], [8.051703224294176, 4.676218837063681], [9.0, 2.3868279], [9.0, 0.0], [9.0, -2.3868279], [8.051703224294176, -4.676218837063681], [6.3639610306789285, -6.3639610306789285], [4.676218837063681, -8.051703224294176], [2.3868279, -9.0], [0.0, -9.0], [-2.3868279, -9.0], [-4.676218837063681, -8.051703224294176], [-6.3639610306789285, -6.3639610306789285], [-8.051703224294176, -4.676218837063681], [-9.0, -2.3868279], [-9.0, 0.0], [-9.0, 2.3868279], [-8.051703224294176, 4.676218837063681], [-6.3639610306789285, 6.3639610306789285], [-4.676218837063681, 8.051703224294176], [-2.3868279, 9.0], [0.0, 9.0]], [\"M\", \"C\", \"C\", \"C\", \"C\", \"C\", \"C\", \"C\", \"C\", \"Z\"]]}, {\"data\": \"data05\", \"xindex\": 0, \"yindex\": 1, \"coordinates\": \"data\", \"id\": \"el41539140549460536576pts\", \"facecolor\": \"#66A61E\", \"edgecolor\": \"none\", \"edgewidth\": 1.0, \"alpha\": 1, \"zorder\": 2, \"markerpath\": [[[0.0, 9.0], [2.3868279, 9.0], [4.676218837063681, 8.051703224294176], [6.3639610306789285, 6.3639610306789285], [8.051703224294176, 4.676218837063681], [9.0, 2.3868279], [9.0, 0.0], [9.0, -2.3868279], [8.051703224294176, -4.676218837063681], [6.3639610306789285, -6.3639610306789285], [4.676218837063681, -8.051703224294176], [2.3868279, -9.0], [0.0, -9.0], [-2.3868279, -9.0], [-4.676218837063681, -8.051703224294176], [-6.3639610306789285, -6.3639610306789285], [-8.051703224294176, -4.676218837063681], [-9.0, -2.3868279], [-9.0, 0.0], [-9.0, 2.3868279], [-8.051703224294176, 4.676218837063681], [-6.3639610306789285, 6.3639610306789285], [-4.676218837063681, 8.051703224294176], [-2.3868279, 9.0], [0.0, 9.0]], [\"M\", \"C\", \"C\", \"C\", \"C\", \"C\", \"C\", \"C\", \"C\", \"Z\"]]}, {\"data\": \"data06\", \"xindex\": 0, \"yindex\": 1, \"coordinates\": \"axes\", \"id\": \"el41539140549460563040pts\", \"facecolor\": \"#1B9E77\", \"edgecolor\": \"none\", \"edgewidth\": 1.0, \"alpha\": 1, \"zorder\": 1000002.0, \"markerpath\": [[[0.0, 9.0], [2.3868279, 9.0], [4.676218837063681, 8.051703224294176], [6.3639610306789285, 6.3639610306789285], [8.051703224294176, 4.676218837063681], [9.0, 2.3868279], [9.0, 0.0], [9.0, -2.3868279], [8.051703224294176, -4.676218837063681], [6.3639610306789285, -6.3639610306789285], [4.676218837063681, -8.051703224294176], [2.3868279, -9.0], [0.0, -9.0], [-2.3868279, -9.0], [-4.676218837063681, -8.051703224294176], [-6.3639610306789285, -6.3639610306789285], [-8.051703224294176, -4.676218837063681], [-9.0, -2.3868279], [-9.0, 0.0], [-9.0, 2.3868279], [-8.051703224294176, 4.676218837063681], [-6.3639610306789285, 6.3639610306789285], [-4.676218837063681, 8.051703224294176], [-2.3868279, 9.0], [0.0, 9.0]], [\"M\", \"C\", \"C\", \"C\", \"C\", \"C\", \"C\", \"C\", \"C\", \"Z\"]]}, {\"data\": \"data06\", \"xindex\": 0, \"yindex\": 2, \"coordinates\": \"axes\", \"id\": \"el41539140549460564720pts\", \"facecolor\": \"#D95F02\", \"edgecolor\": \"none\", \"edgewidth\": 1.0, \"alpha\": 1, \"zorder\": 1000002.0, \"markerpath\": [[[0.0, 9.0], [2.3868279, 9.0], [4.676218837063681, 8.051703224294176], [6.3639610306789285, 6.3639610306789285], [8.051703224294176, 4.676218837063681], [9.0, 2.3868279], [9.0, 0.0], [9.0, -2.3868279], [8.051703224294176, -4.676218837063681], [6.3639610306789285, -6.3639610306789285], [4.676218837063681, -8.051703224294176], [2.3868279, -9.0], [0.0, -9.0], [-2.3868279, -9.0], [-4.676218837063681, -8.051703224294176], [-6.3639610306789285, -6.3639610306789285], [-8.051703224294176, -4.676218837063681], [-9.0, -2.3868279], [-9.0, 0.0], [-9.0, 2.3868279], [-8.051703224294176, 4.676218837063681], [-6.3639610306789285, 6.3639610306789285], [-4.676218837063681, 8.051703224294176], [-2.3868279, 9.0], [0.0, 9.0]], [\"M\", \"C\", \"C\", \"C\", \"C\", \"C\", \"C\", \"C\", \"C\", \"Z\"]]}, {\"data\": \"data06\", \"xindex\": 0, \"yindex\": 3, \"coordinates\": \"axes\", \"id\": \"el41539140549421019584pts\", \"facecolor\": \"#7570B3\", \"edgecolor\": \"none\", \"edgewidth\": 1.0, \"alpha\": 1, \"zorder\": 1000002.0, \"markerpath\": [[[0.0, 9.0], [2.3868279, 9.0], [4.676218837063681, 8.051703224294176], [6.3639610306789285, 6.3639610306789285], [8.051703224294176, 4.676218837063681], [9.0, 2.3868279], [9.0, 0.0], [9.0, -2.3868279], [8.051703224294176, -4.676218837063681], [6.3639610306789285, -6.3639610306789285], [4.676218837063681, -8.051703224294176], [2.3868279, -9.0], [0.0, -9.0], [-2.3868279, -9.0], [-4.676218837063681, -8.051703224294176], [-6.3639610306789285, -6.3639610306789285], [-8.051703224294176, -4.676218837063681], [-9.0, -2.3868279], [-9.0, 0.0], [-9.0, 2.3868279], [-8.051703224294176, 4.676218837063681], [-6.3639610306789285, 6.3639610306789285], [-4.676218837063681, 8.051703224294176], [-2.3868279, 9.0], [0.0, 9.0]], [\"M\", \"C\", \"C\", \"C\", \"C\", \"C\", \"C\", \"C\", \"C\", \"Z\"]]}, {\"data\": \"data06\", \"xindex\": 0, \"yindex\": 4, \"coordinates\": \"axes\", \"id\": \"el41539140549421021264pts\", \"facecolor\": \"#E7298A\", \"edgecolor\": \"none\", \"edgewidth\": 1.0, \"alpha\": 1, \"zorder\": 1000002.0, \"markerpath\": [[[0.0, 9.0], [2.3868279, 9.0], [4.676218837063681, 8.051703224294176], [6.3639610306789285, 6.3639610306789285], [8.051703224294176, 4.676218837063681], [9.0, 2.3868279], [9.0, 0.0], [9.0, -2.3868279], [8.051703224294176, -4.676218837063681], [6.3639610306789285, -6.3639610306789285], [4.676218837063681, -8.051703224294176], [2.3868279, -9.0], [0.0, -9.0], [-2.3868279, -9.0], [-4.676218837063681, -8.051703224294176], [-6.3639610306789285, -6.3639610306789285], [-8.051703224294176, -4.676218837063681], [-9.0, -2.3868279], [-9.0, 0.0], [-9.0, 2.3868279], [-8.051703224294176, 4.676218837063681], [-6.3639610306789285, 6.3639610306789285], [-4.676218837063681, 8.051703224294176], [-2.3868279, 9.0], [0.0, 9.0]], [\"M\", \"C\", \"C\", \"C\", \"C\", \"C\", \"C\", \"C\", \"C\", \"Z\"]]}, {\"data\": \"data06\", \"xindex\": 0, \"yindex\": 5, \"coordinates\": \"axes\", \"id\": \"el41539140549460563280pts\", \"facecolor\": \"#66A61E\", \"edgecolor\": \"none\", \"edgewidth\": 1.0, \"alpha\": 1, \"zorder\": 1000002.0, \"markerpath\": [[[0.0, 9.0], [2.3868279, 9.0], [4.676218837063681, 8.051703224294176], [6.3639610306789285, 6.3639610306789285], [8.051703224294176, 4.676218837063681], [9.0, 2.3868279], [9.0, 0.0], [9.0, -2.3868279], [8.051703224294176, -4.676218837063681], [6.3639610306789285, -6.3639610306789285], [4.676218837063681, -8.051703224294176], [2.3868279, -9.0], [0.0, -9.0], [-2.3868279, -9.0], [-4.676218837063681, -8.051703224294176], [-6.3639610306789285, -6.3639610306789285], [-8.051703224294176, -4.676218837063681], [-9.0, -2.3868279], [-9.0, 0.0], [-9.0, 2.3868279], [-8.051703224294176, 4.676218837063681], [-6.3639610306789285, 6.3639610306789285], [-4.676218837063681, 8.051703224294176], [-2.3868279, 9.0], [0.0, 9.0]], [\"M\", \"C\", \"C\", \"C\", \"C\", \"C\", \"C\", \"C\", \"C\", \"Z\"]]}], \"texts\": [{\"text\": \"Family, home, war\", \"position\": [0.8204685099846392, 0.21768457198920774], \"coordinates\": \"axes\", \"h_anchor\": \"start\", \"v_baseline\": \"auto\", \"rotation\": -0.0, \"fontsize\": 10.0, \"color\": \"#000000\", \"alpha\": 1, \"zorder\": 1000003.0, \"id\": \"el41539140549460562128\"}, {\"text\": \"Police, killed, murders\", \"position\": [0.8204685099846392, 0.17169487368162864], \"coordinates\": \"axes\", \"h_anchor\": \"start\", \"v_baseline\": \"auto\", \"rotation\": -0.0, \"fontsize\": 10.0, \"color\": \"#000000\", \"alpha\": 1, \"zorder\": 1000003.0, \"id\": \"el41539140549460563808\"}, {\"text\": \"Father, New York, brothers\", \"position\": [0.8204685099846392, 0.12570517537404954], \"coordinates\": \"axes\", \"h_anchor\": \"start\", \"v_baseline\": \"auto\", \"rotation\": -0.0, \"fontsize\": 10.0, \"color\": \"#000000\", \"alpha\": 1, \"zorder\": 1000003.0, \"id\": \"el41539140549460565488\"}, {\"text\": \"Dance, singing, love\", \"position\": [0.8204685099846392, 0.07971547706647045], \"coordinates\": \"axes\", \"h_anchor\": \"start\", \"v_baseline\": \"auto\", \"rotation\": -0.0, \"fontsize\": 10.0, \"color\": \"#000000\", \"alpha\": 1, \"zorder\": 1000003.0, \"id\": \"el41539140549421020352\"}, {\"text\": \"Killed, soldiers, captain\", \"position\": [0.8204685099846392, 0.03372577875889135], \"coordinates\": \"axes\", \"h_anchor\": \"start\", \"v_baseline\": \"auto\", \"rotation\": -0.0, \"fontsize\": 10.0, \"color\": \"#000000\", \"alpha\": 1, \"zorder\": 1000003.0, \"id\": \"el41539140549421022032\"}], \"collections\": [], \"images\": [], \"sharex\": [], \"sharey\": []}], \"data\": {\"data01\": [[-0.03159215088404366, -0.45663791320402886], [0.05822957027256338, 0.256929533865531], [0.058399024554247426, -0.04612821871658942], [-0.43458221470796804, -0.29655933230579506], [0.6037432800571017, -0.3456991338989089], [0.3548063612344581, 0.008230388449868098], [-0.02172250207705443, -0.04277898807708071], [0.5177811917071925, -0.2536618659106638], [0.4335012948307977, 0.14567214405204687], [0.34339799473545496, 0.24588751780959872], [0.31820603526510766, 0.08767290955547546], [-0.19657213727582853, 0.39573854896210925], [0.3442345942883043, -0.13024993477969463], [0.1607366978752424, -0.11945297477856227], [0.1563795065783695, -0.21300821701033482], [0.18357552763037874, 0.3029327061666986], [0.12067866743532428, 0.4813363821584589], [0.12564351913288888, 0.4177899987124327], [0.21979780091087622, 0.48012585338200914], [0.48195453604347716, 0.008013240019345533], [0.4758882198147056, -0.4358383186309247], [0.2751629686852379, -0.2942902403479915], [-0.3243379724030205, 0.3312099814646893], [0.3243862951002719, -0.45653595159186383], [0.1850753249911779, 0.5789634882504009]], \"data02\": [[-0.2587368350262618, -0.26527516559786957], [-0.22775176430437058, 0.06867225264698684], [-0.4301218469327288, 0.28528616015883534], [-0.3527560545316662, 0.12706104279951017], [-0.5523024142568739, -0.22470452093169108], [0.4157900555927239, 0.4066680050040376], [-0.6622802065035606, -0.20503714364142692], [-0.45990623558854987, 0.007717409858540057], [-0.3416411136605303, 0.036359351999961084], [-0.34156011933518005, -0.06836233054197617], [-0.3394231160832892, -0.1511074564578018], [-0.18645450426356014, 0.150485309679993], [-0.4660099693912445, -0.09927639405993571], [-0.5791042079012638, 0.2903462882632784], [-0.20835174801118317, -0.05859486722959816], [-0.19967295689696812, 0.006401158105055958]], \"data03\": [[0.1842728439475597, -0.011715611328299623], [-0.13227195754649126, 0.5745384801472381], [0.011707339999011584, 0.4624485755347979], [0.07164980401234082, 0.13140842985205484], [-0.05321665416838313, 0.12337031922670556], [0.5307508765954988, 0.1293499548695287], [-0.28445673314938785, 0.27573355826080437], [0.21436568495015884, 0.21833323177235375], [0.4928973738021543, -0.14112529581269717], [-0.0697835765252865, 0.5697755231183568], [-0.5962489128496042, 0.19029081995111047], [0.20869950117396832, 0.06431546201598057], [0.5655872568440865, 0.3427492412662697], [-0.42084558901816005, 0.46273188035729895], [-0.3031164788430419, 0.47587091621770383], [0.6448729810407794, -0.1557495377370637], [-0.18141401157117412, 0.47664757937416014], [-0.028860474947472948, 0.6542407465232705], [0.6688477850887058, -0.08783283749852551], [-0.5521585808438269, 0.028891781654075178], [-0.5810674876200954, 0.10583683075043433]], \"data04\": [[-0.4842963450926421, 0.17299124057611814], [-0.34166783709147913, 0.6344444329502953], [0.4184044202336738, 0.5850489899951163], [-0.17157923142425296, 0.23225249097460976], [0.6698670628968674, 0.11896605280395367], [-0.20377837648670416, 0.5597732710930737], [0.4020451359180303, 0.49856493148445374], [0.6677334884276219, 0.2695002905230577], [-0.02234991385406897, 0.3387044447457824], [0.06214704621807539, 0.6101371440051012], [-0.6012517387271848, -0.0418859194691775], [0.6273622875630892, 0.3594269833423288]], \"data05\": [[0.44206412093578173, -0.27869804841256207], [-0.2509077886527682, -0.5748301691298103], [0.5523203950143739, 0.4906695451776374], [0.19843842072642093, -0.3892916828503908], [0.3500865831297658, -0.33952163222346426], [-0.0822211719046293, -0.5783371225442145], [-0.016415337094761003, -0.6356033887664564], [0.019707608446931178, -0.6360131358153785], [0.24381678674291052, -0.5041387862290508], [0.08011541418687525, -0.4798779364145004], [-0.1524708594907454, -0.3409184384980287], [-0.020101379300060913, -0.3570984271707861], [-0.15353411958657529, -0.3013348801222534], [-0.22754763513663467, -0.45049222698404334], [0.1287536654528344, -0.6684899512527609], [0.07969434882060063, -0.3889371661029437], [-0.34789814258235424, -0.3258509720117311], [-0.3609008933642027, -0.48196142317941265], [-0.11274056497585859, -0.49926901658843537], [0.18267302179861425, -0.5787625309524596], [-0.0876522433589088, -0.20078309954756865], [-0.18334149000822167, -0.5551280766277863], [-0.551459865435424, 0.3351166974656385], [-0.5674182514385872, -0.35374010333970207], [-0.4533760890831642, -0.4451810757043979], [0.33498008050466554, -0.6458620573675335]], \"data06\": [[0.7974270353302613, 0.22841550159430954, 0.18242580328673044, 0.13643610497915135, 0.09044640667157224, 0.04445670836399314]], \"data07\": [[0.7820660522273426, 0.015329899435859717], [0.9910394265232977, 0.015329899435859717], [0.9935995903737841, 0.015329899435859717], [0.9935995903737841, 0.021461859210203577], [0.9935995903737841, 0.24834437086092717], [0.9935995903737841, 0.254476330635271], [0.9910394265232977, 0.254476330635271], [0.7820660522273426, 0.254476330635271], [0.7795058883768562, 0.254476330635271], [0.7795058883768562, 0.24834437086092717], [0.7795058883768562, 0.021461859210203577], [0.7795058883768562, 0.015329899435859717], [0.7820660522273426, 0.015329899435859717]]}, \"id\": \"el41539140549417513360\", \"plugins\": [{\"type\": \"reset\"}, {\"type\": \"zoom\", \"button\": true, \"enabled\": false}, {\"type\": \"boxzoom\", \"button\": true, \"enabled\": false}, {\"type\": \"htmltooltip\", \"id\": \"el41539140549460540096pts\", \"labels\": [\"Schindler's List\", \"One Flew Over the Cuckoo's Nest\", \"Gone with the Wind\", \"The Wizard of Oz\", \"Titanic\", \"Forrest Gump\", \"E.T. the Extra-Terrestrial\", \"The Silence of the Lambs\", \"Gandhi\", \"A Streetcar Named Desire\", \"The Best Years of Our Lives\", \"My Fair Lady\", \"Ben-Hur\", \"Doctor Zhivago\", \"The Pianist\", \"The Exorcist\", \"Out of Africa\", \"Good Will Hunting\", \"Terms of Endearment\", \"Giant\", \"The Grapes of Wrath\", \"Close Encounters of the Third Kind\", \"The Graduate\", \"Stagecoach\", \"Wuthering Heights\"], \"targets\": null, \"hoffset\": 10, \"voffset\": 10}, {\"type\": \"toptoolbar\"}, {\"type\": \"htmltooltip\", \"id\": \"el41539140549460541248pts\", \"labels\": [\"Casablanca\", \"Psycho\", \"Sunset Blvd.\", \"Vertigo\", \"Chinatown\", \"Amadeus\", \"High Noon\", \"The French Connection\", \"Fargo\", \"Pulp Fiction\", \"The Maltese Falcon\", \"A Clockwork Orange\", \"Double Indemnity\", \"Rebel Without a Cause\", \"The Third Man\", \"North by Northwest\"], \"targets\": null, \"hoffset\": 10, \"voffset\": 10}, {\"type\": \"toptoolbar\"}, {\"type\": \"htmltooltip\", \"id\": \"el41539140549460534320pts\", \"labels\": [\"The Godfather\", \"Raging Bull\", \"Citizen Kane\", \"The Godfather: Part II\", \"On the Waterfront\", \"12 Angry Men\", \"Rocky\", \"To Kill a Mockingbird\", \"Braveheart\", \"The Good, the Bad and the Ugly\", \"The Apartment\", \"Goodfellas\", \"City Lights\", \"It Happened One Night\", \"Midnight Cowboy\", \"Mr. Smith Goes to Washington\", \"Rain Man\", \"Annie Hall\", \"Network\", \"Taxi Driver\", \"Rear Window\"], \"targets\": null, \"hoffset\": 10, \"voffset\": 10}, {\"type\": \"toptoolbar\"}, {\"type\": \"htmltooltip\", \"id\": \"el41539140549460535472pts\", \"labels\": [\"West Side Story\", \"Singin' in the Rain\", \"It's a Wonderful Life\", \"Some Like It Hot\", \"The Philadelphia Story\", \"An American in Paris\", \"The King's Speech\", \"A Place in the Sun\", \"Tootsie\", \"Nashville\", \"American Graffiti\", \"Yankee Doodle Dandy\"], \"targets\": null, \"hoffset\": 10, \"voffset\": 10}, {\"type\": \"toptoolbar\"}, {\"type\": \"htmltooltip\", \"id\": \"el41539140549460536576pts\", \"labels\": [\"The Shawshank Redemption\", \"Lawrence of Arabia\", \"The Sound of Music\", \"Star Wars\", \"2001: A Space Odyssey\", \"The Bridge on the River Kwai\", \"Dr. Strangelove or: How I Learned to Stop Worrying and Love the Bomb\", \"Apocalypse Now\", \"The Lord of the Rings: The Return of the King\", \"Gladiator\", \"From Here to Eternity\", \"Saving Private Ryan\", \"Unforgiven\", \"Raiders of the Lost Ark\", \"Patton\", \"Jaws\", \"Butch Cassidy and the Sundance Kid\", \"The Treasure of the Sierra Madre\", \"Platoon\", \"Dances with Wolves\", \"The Deer Hunter\", \"All Quiet on the Western Front\", \"Shane\", \"The Green Mile\", \"The African Queen\", \"Mutiny on the Bounty\"], \"targets\": null, \"hoffset\": 10, \"voffset\": 10}, {\"type\": \"toptoolbar\"}]});\n",
       "   }(mpld3);\n",
       "}else if(typeof define === \"function\" && define.amd){\n",
       "   // require.js is available: use it to load d3/mpld3\n",
       "   require.config({paths: {d3: \"https://d3js.org/d3.v5\"}});\n",
       "   require([\"d3\"], function(d3){\n",
       "      window.d3 = d3;\n",
       "      mpld3_load_lib(\"https://mpld3.github.io/js/mpld3.v0.5.1.js\", function(){\n",
       "         \n",
       "    mpld3.register_plugin(\"htmltooltip\", HtmlTooltipPlugin);\n",
       "    HtmlTooltipPlugin.prototype = Object.create(mpld3.Plugin.prototype);\n",
       "    HtmlTooltipPlugin.prototype.constructor = HtmlTooltipPlugin;\n",
       "    HtmlTooltipPlugin.prototype.requiredProps = [\"id\"];\n",
       "    HtmlTooltipPlugin.prototype.defaultProps = {labels:null,\n",
       "                                                target:null,\n",
       "                                                hoffset:0,\n",
       "                                                voffset:10,\n",
       "                                                targets:null};\n",
       "    function HtmlTooltipPlugin(fig, props){\n",
       "        mpld3.Plugin.call(this, fig, props);\n",
       "    };\n",
       "\n",
       "    HtmlTooltipPlugin.prototype.draw = function(){\n",
       "        var obj = mpld3.get_element(this.props.id);\n",
       "        var labels = this.props.labels;\n",
       "        var targets = this.props.targets;\n",
       "        var tooltip = d3.select(\"body\").append(\"div\")\n",
       "            .attr(\"class\", \"mpld3-tooltip\")\n",
       "            .style(\"position\", \"absolute\")\n",
       "            .style(\"z-index\", \"10\")\n",
       "            .style(\"visibility\", \"hidden\");\n",
       "\n",
       "        obj.elements()\n",
       "            .on(\"mouseover\", function(d, i){\n",
       "                tooltip.html(labels[i])\n",
       "                    .style(\"visibility\", \"visible\");\n",
       "            })\n",
       "            .on(\"mousemove\", function(d, i){\n",
       "                tooltip\n",
       "                .style(\"top\", d3.event.pageY + this.props.voffset + \"px\")\n",
       "                .style(\"left\",d3.event.pageX + this.props.hoffset + \"px\");\n",
       "            }.bind(this))\n",
       "            .on(\"mousedown.callout\", function(d, i){\n",
       "                window.open(targets[i],\"_blank\");\n",
       "            })\n",
       "            .on(\"mouseout\", function(d, i){\n",
       "                tooltip.style(\"visibility\", \"hidden\");\n",
       "            });\n",
       "    };\n",
       "    \n",
       "    mpld3.register_plugin(\"toptoolbar\", TopToolbar);\n",
       "    TopToolbar.prototype = Object.create(mpld3.Plugin.prototype);\n",
       "    TopToolbar.prototype.constructor = TopToolbar;\n",
       "    function TopToolbar(fig, props){\n",
       "        mpld3.Plugin.call(this, fig, props);\n",
       "    };\n",
       "\n",
       "    TopToolbar.prototype.draw = function(){\n",
       "      // the toolbar svg doesn't exist\n",
       "      // yet, so first draw it\n",
       "      this.fig.toolbar.draw();\n",
       "\n",
       "      // then change the y position to be\n",
       "      // at the top of the figure\n",
       "      this.fig.toolbar.toolbar.attr(\"x\", 150);\n",
       "      this.fig.toolbar.toolbar.attr(\"y\", 400);\n",
       "\n",
       "      // then remove the draw function,\n",
       "      // so that it is not called again\n",
       "      this.fig.toolbar.draw = function() {}\n",
       "    }\n",
       "    \n",
       "    mpld3.register_plugin(\"htmltooltip\", HtmlTooltipPlugin);\n",
       "    HtmlTooltipPlugin.prototype = Object.create(mpld3.Plugin.prototype);\n",
       "    HtmlTooltipPlugin.prototype.constructor = HtmlTooltipPlugin;\n",
       "    HtmlTooltipPlugin.prototype.requiredProps = [\"id\"];\n",
       "    HtmlTooltipPlugin.prototype.defaultProps = {labels:null,\n",
       "                                                target:null,\n",
       "                                                hoffset:0,\n",
       "                                                voffset:10,\n",
       "                                                targets:null};\n",
       "    function HtmlTooltipPlugin(fig, props){\n",
       "        mpld3.Plugin.call(this, fig, props);\n",
       "    };\n",
       "\n",
       "    HtmlTooltipPlugin.prototype.draw = function(){\n",
       "        var obj = mpld3.get_element(this.props.id);\n",
       "        var labels = this.props.labels;\n",
       "        var targets = this.props.targets;\n",
       "        var tooltip = d3.select(\"body\").append(\"div\")\n",
       "            .attr(\"class\", \"mpld3-tooltip\")\n",
       "            .style(\"position\", \"absolute\")\n",
       "            .style(\"z-index\", \"10\")\n",
       "            .style(\"visibility\", \"hidden\");\n",
       "\n",
       "        obj.elements()\n",
       "            .on(\"mouseover\", function(d, i){\n",
       "                tooltip.html(labels[i])\n",
       "                    .style(\"visibility\", \"visible\");\n",
       "            })\n",
       "            .on(\"mousemove\", function(d, i){\n",
       "                tooltip\n",
       "                .style(\"top\", d3.event.pageY + this.props.voffset + \"px\")\n",
       "                .style(\"left\",d3.event.pageX + this.props.hoffset + \"px\");\n",
       "            }.bind(this))\n",
       "            .on(\"mousedown.callout\", function(d, i){\n",
       "                window.open(targets[i],\"_blank\");\n",
       "            })\n",
       "            .on(\"mouseout\", function(d, i){\n",
       "                tooltip.style(\"visibility\", \"hidden\");\n",
       "            });\n",
       "    };\n",
       "    \n",
       "    mpld3.register_plugin(\"toptoolbar\", TopToolbar);\n",
       "    TopToolbar.prototype = Object.create(mpld3.Plugin.prototype);\n",
       "    TopToolbar.prototype.constructor = TopToolbar;\n",
       "    function TopToolbar(fig, props){\n",
       "        mpld3.Plugin.call(this, fig, props);\n",
       "    };\n",
       "\n",
       "    TopToolbar.prototype.draw = function(){\n",
       "      // the toolbar svg doesn't exist\n",
       "      // yet, so first draw it\n",
       "      this.fig.toolbar.draw();\n",
       "\n",
       "      // then change the y position to be\n",
       "      // at the top of the figure\n",
       "      this.fig.toolbar.toolbar.attr(\"x\", 150);\n",
       "      this.fig.toolbar.toolbar.attr(\"y\", 400);\n",
       "\n",
       "      // then remove the draw function,\n",
       "      // so that it is not called again\n",
       "      this.fig.toolbar.draw = function() {}\n",
       "    }\n",
       "    \n",
       "    mpld3.register_plugin(\"htmltooltip\", HtmlTooltipPlugin);\n",
       "    HtmlTooltipPlugin.prototype = Object.create(mpld3.Plugin.prototype);\n",
       "    HtmlTooltipPlugin.prototype.constructor = HtmlTooltipPlugin;\n",
       "    HtmlTooltipPlugin.prototype.requiredProps = [\"id\"];\n",
       "    HtmlTooltipPlugin.prototype.defaultProps = {labels:null,\n",
       "                                                target:null,\n",
       "                                                hoffset:0,\n",
       "                                                voffset:10,\n",
       "                                                targets:null};\n",
       "    function HtmlTooltipPlugin(fig, props){\n",
       "        mpld3.Plugin.call(this, fig, props);\n",
       "    };\n",
       "\n",
       "    HtmlTooltipPlugin.prototype.draw = function(){\n",
       "        var obj = mpld3.get_element(this.props.id);\n",
       "        var labels = this.props.labels;\n",
       "        var targets = this.props.targets;\n",
       "        var tooltip = d3.select(\"body\").append(\"div\")\n",
       "            .attr(\"class\", \"mpld3-tooltip\")\n",
       "            .style(\"position\", \"absolute\")\n",
       "            .style(\"z-index\", \"10\")\n",
       "            .style(\"visibility\", \"hidden\");\n",
       "\n",
       "        obj.elements()\n",
       "            .on(\"mouseover\", function(d, i){\n",
       "                tooltip.html(labels[i])\n",
       "                    .style(\"visibility\", \"visible\");\n",
       "            })\n",
       "            .on(\"mousemove\", function(d, i){\n",
       "                tooltip\n",
       "                .style(\"top\", d3.event.pageY + this.props.voffset + \"px\")\n",
       "                .style(\"left\",d3.event.pageX + this.props.hoffset + \"px\");\n",
       "            }.bind(this))\n",
       "            .on(\"mousedown.callout\", function(d, i){\n",
       "                window.open(targets[i],\"_blank\");\n",
       "            })\n",
       "            .on(\"mouseout\", function(d, i){\n",
       "                tooltip.style(\"visibility\", \"hidden\");\n",
       "            });\n",
       "    };\n",
       "    \n",
       "    mpld3.register_plugin(\"toptoolbar\", TopToolbar);\n",
       "    TopToolbar.prototype = Object.create(mpld3.Plugin.prototype);\n",
       "    TopToolbar.prototype.constructor = TopToolbar;\n",
       "    function TopToolbar(fig, props){\n",
       "        mpld3.Plugin.call(this, fig, props);\n",
       "    };\n",
       "\n",
       "    TopToolbar.prototype.draw = function(){\n",
       "      // the toolbar svg doesn't exist\n",
       "      // yet, so first draw it\n",
       "      this.fig.toolbar.draw();\n",
       "\n",
       "      // then change the y position to be\n",
       "      // at the top of the figure\n",
       "      this.fig.toolbar.toolbar.attr(\"x\", 150);\n",
       "      this.fig.toolbar.toolbar.attr(\"y\", 400);\n",
       "\n",
       "      // then remove the draw function,\n",
       "      // so that it is not called again\n",
       "      this.fig.toolbar.draw = function() {}\n",
       "    }\n",
       "    \n",
       "    mpld3.register_plugin(\"htmltooltip\", HtmlTooltipPlugin);\n",
       "    HtmlTooltipPlugin.prototype = Object.create(mpld3.Plugin.prototype);\n",
       "    HtmlTooltipPlugin.prototype.constructor = HtmlTooltipPlugin;\n",
       "    HtmlTooltipPlugin.prototype.requiredProps = [\"id\"];\n",
       "    HtmlTooltipPlugin.prototype.defaultProps = {labels:null,\n",
       "                                                target:null,\n",
       "                                                hoffset:0,\n",
       "                                                voffset:10,\n",
       "                                                targets:null};\n",
       "    function HtmlTooltipPlugin(fig, props){\n",
       "        mpld3.Plugin.call(this, fig, props);\n",
       "    };\n",
       "\n",
       "    HtmlTooltipPlugin.prototype.draw = function(){\n",
       "        var obj = mpld3.get_element(this.props.id);\n",
       "        var labels = this.props.labels;\n",
       "        var targets = this.props.targets;\n",
       "        var tooltip = d3.select(\"body\").append(\"div\")\n",
       "            .attr(\"class\", \"mpld3-tooltip\")\n",
       "            .style(\"position\", \"absolute\")\n",
       "            .style(\"z-index\", \"10\")\n",
       "            .style(\"visibility\", \"hidden\");\n",
       "\n",
       "        obj.elements()\n",
       "            .on(\"mouseover\", function(d, i){\n",
       "                tooltip.html(labels[i])\n",
       "                    .style(\"visibility\", \"visible\");\n",
       "            })\n",
       "            .on(\"mousemove\", function(d, i){\n",
       "                tooltip\n",
       "                .style(\"top\", d3.event.pageY + this.props.voffset + \"px\")\n",
       "                .style(\"left\",d3.event.pageX + this.props.hoffset + \"px\");\n",
       "            }.bind(this))\n",
       "            .on(\"mousedown.callout\", function(d, i){\n",
       "                window.open(targets[i],\"_blank\");\n",
       "            })\n",
       "            .on(\"mouseout\", function(d, i){\n",
       "                tooltip.style(\"visibility\", \"hidden\");\n",
       "            });\n",
       "    };\n",
       "    \n",
       "    mpld3.register_plugin(\"toptoolbar\", TopToolbar);\n",
       "    TopToolbar.prototype = Object.create(mpld3.Plugin.prototype);\n",
       "    TopToolbar.prototype.constructor = TopToolbar;\n",
       "    function TopToolbar(fig, props){\n",
       "        mpld3.Plugin.call(this, fig, props);\n",
       "    };\n",
       "\n",
       "    TopToolbar.prototype.draw = function(){\n",
       "      // the toolbar svg doesn't exist\n",
       "      // yet, so first draw it\n",
       "      this.fig.toolbar.draw();\n",
       "\n",
       "      // then change the y position to be\n",
       "      // at the top of the figure\n",
       "      this.fig.toolbar.toolbar.attr(\"x\", 150);\n",
       "      this.fig.toolbar.toolbar.attr(\"y\", 400);\n",
       "\n",
       "      // then remove the draw function,\n",
       "      // so that it is not called again\n",
       "      this.fig.toolbar.draw = function() {}\n",
       "    }\n",
       "    \n",
       "    mpld3.register_plugin(\"htmltooltip\", HtmlTooltipPlugin);\n",
       "    HtmlTooltipPlugin.prototype = Object.create(mpld3.Plugin.prototype);\n",
       "    HtmlTooltipPlugin.prototype.constructor = HtmlTooltipPlugin;\n",
       "    HtmlTooltipPlugin.prototype.requiredProps = [\"id\"];\n",
       "    HtmlTooltipPlugin.prototype.defaultProps = {labels:null,\n",
       "                                                target:null,\n",
       "                                                hoffset:0,\n",
       "                                                voffset:10,\n",
       "                                                targets:null};\n",
       "    function HtmlTooltipPlugin(fig, props){\n",
       "        mpld3.Plugin.call(this, fig, props);\n",
       "    };\n",
       "\n",
       "    HtmlTooltipPlugin.prototype.draw = function(){\n",
       "        var obj = mpld3.get_element(this.props.id);\n",
       "        var labels = this.props.labels;\n",
       "        var targets = this.props.targets;\n",
       "        var tooltip = d3.select(\"body\").append(\"div\")\n",
       "            .attr(\"class\", \"mpld3-tooltip\")\n",
       "            .style(\"position\", \"absolute\")\n",
       "            .style(\"z-index\", \"10\")\n",
       "            .style(\"visibility\", \"hidden\");\n",
       "\n",
       "        obj.elements()\n",
       "            .on(\"mouseover\", function(d, i){\n",
       "                tooltip.html(labels[i])\n",
       "                    .style(\"visibility\", \"visible\");\n",
       "            })\n",
       "            .on(\"mousemove\", function(d, i){\n",
       "                tooltip\n",
       "                .style(\"top\", d3.event.pageY + this.props.voffset + \"px\")\n",
       "                .style(\"left\",d3.event.pageX + this.props.hoffset + \"px\");\n",
       "            }.bind(this))\n",
       "            .on(\"mousedown.callout\", function(d, i){\n",
       "                window.open(targets[i],\"_blank\");\n",
       "            })\n",
       "            .on(\"mouseout\", function(d, i){\n",
       "                tooltip.style(\"visibility\", \"hidden\");\n",
       "            });\n",
       "    };\n",
       "    \n",
       "    mpld3.register_plugin(\"toptoolbar\", TopToolbar);\n",
       "    TopToolbar.prototype = Object.create(mpld3.Plugin.prototype);\n",
       "    TopToolbar.prototype.constructor = TopToolbar;\n",
       "    function TopToolbar(fig, props){\n",
       "        mpld3.Plugin.call(this, fig, props);\n",
       "    };\n",
       "\n",
       "    TopToolbar.prototype.draw = function(){\n",
       "      // the toolbar svg doesn't exist\n",
       "      // yet, so first draw it\n",
       "      this.fig.toolbar.draw();\n",
       "\n",
       "      // then change the y position to be\n",
       "      // at the top of the figure\n",
       "      this.fig.toolbar.toolbar.attr(\"x\", 150);\n",
       "      this.fig.toolbar.toolbar.attr(\"y\", 400);\n",
       "\n",
       "      // then remove the draw function,\n",
       "      // so that it is not called again\n",
       "      this.fig.toolbar.draw = function() {}\n",
       "    }\n",
       "    \n",
       "         mpld3.draw_figure(\"fig_el415391405494175133606419072840\", {\"width\": 1008.0, \"height\": 432.0, \"axes\": [{\"bbox\": [0.125, 0.125, 0.775, 0.755], \"xlim\": [-0.7022446245855734, 0.7098314809788802], \"ylim\": [-0.7081718721860418, 0.6939226674565514], \"xdomain\": [-0.7022446245855734, 0.7098314809788802], \"ydomain\": [-0.7081718721860418, 0.6939226674565514], \"xscale\": \"linear\", \"yscale\": \"linear\", \"axes\": [{\"position\": \"bottom\", \"nticks\": 0, \"tickvalues\": [], \"tickformat_formatter\": \"\", \"tickformat\": \"\", \"scale\": \"linear\", \"fontsize\": null, \"grid\": {\"gridOn\": false}, \"visible\": false}, {\"position\": \"left\", \"nticks\": 0, \"tickvalues\": [], \"tickformat_formatter\": \"\", \"tickformat\": \"\", \"scale\": \"linear\", \"fontsize\": null, \"grid\": {\"gridOn\": false}, \"visible\": false}], \"axesbg\": \"#FFFFFF\", \"axesbgalpha\": null, \"zoomable\": true, \"id\": \"el41539140548945714192\", \"lines\": [], \"paths\": [{\"data\": \"data07\", \"xindex\": 0, \"yindex\": 1, \"coordinates\": \"axes\", \"pathcodes\": [\"M\", \"L\", \"S\", \"L\", \"S\", \"L\", \"S\", \"L\", \"S\", \"Z\"], \"id\": \"el41539140549460539520\", \"dasharray\": \"none\", \"alpha\": 0.8, \"facecolor\": \"rgba(255, 255, 255, 0.8)\", \"edgecolor\": \"rgba(204, 204, 204, 0.8)\", \"edgewidth\": 1.0, \"zorder\": 1000000.0}], \"markers\": [{\"data\": \"data01\", \"xindex\": 0, \"yindex\": 1, \"coordinates\": \"data\", \"id\": \"el41539140549460540096pts\", \"facecolor\": \"#1B9E77\", \"edgecolor\": \"none\", \"edgewidth\": 1.0, \"alpha\": 1, \"zorder\": 2, \"markerpath\": [[[0.0, 9.0], [2.3868279, 9.0], [4.676218837063681, 8.051703224294176], [6.3639610306789285, 6.3639610306789285], [8.051703224294176, 4.676218837063681], [9.0, 2.3868279], [9.0, 0.0], [9.0, -2.3868279], [8.051703224294176, -4.676218837063681], [6.3639610306789285, -6.3639610306789285], [4.676218837063681, -8.051703224294176], [2.3868279, -9.0], [0.0, -9.0], [-2.3868279, -9.0], [-4.676218837063681, -8.051703224294176], [-6.3639610306789285, -6.3639610306789285], [-8.051703224294176, -4.676218837063681], [-9.0, -2.3868279], [-9.0, 0.0], [-9.0, 2.3868279], [-8.051703224294176, 4.676218837063681], [-6.3639610306789285, 6.3639610306789285], [-4.676218837063681, 8.051703224294176], [-2.3868279, 9.0], [0.0, 9.0]], [\"M\", \"C\", \"C\", \"C\", \"C\", \"C\", \"C\", \"C\", \"C\", \"Z\"]]}, {\"data\": \"data02\", \"xindex\": 0, \"yindex\": 1, \"coordinates\": \"data\", \"id\": \"el41539140549460541248pts\", \"facecolor\": \"#D95F02\", \"edgecolor\": \"none\", \"edgewidth\": 1.0, \"alpha\": 1, \"zorder\": 2, \"markerpath\": [[[0.0, 9.0], [2.3868279, 9.0], [4.676218837063681, 8.051703224294176], [6.3639610306789285, 6.3639610306789285], [8.051703224294176, 4.676218837063681], [9.0, 2.3868279], [9.0, 0.0], [9.0, -2.3868279], [8.051703224294176, -4.676218837063681], [6.3639610306789285, -6.3639610306789285], [4.676218837063681, -8.051703224294176], [2.3868279, -9.0], [0.0, -9.0], [-2.3868279, -9.0], [-4.676218837063681, -8.051703224294176], [-6.3639610306789285, -6.3639610306789285], [-8.051703224294176, -4.676218837063681], [-9.0, -2.3868279], [-9.0, 0.0], [-9.0, 2.3868279], [-8.051703224294176, 4.676218837063681], [-6.3639610306789285, 6.3639610306789285], [-4.676218837063681, 8.051703224294176], [-2.3868279, 9.0], [0.0, 9.0]], [\"M\", \"C\", \"C\", \"C\", \"C\", \"C\", \"C\", \"C\", \"C\", \"Z\"]]}, {\"data\": \"data03\", \"xindex\": 0, \"yindex\": 1, \"coordinates\": \"data\", \"id\": \"el41539140549460534320pts\", \"facecolor\": \"#7570B3\", \"edgecolor\": \"none\", \"edgewidth\": 1.0, \"alpha\": 1, \"zorder\": 2, \"markerpath\": [[[0.0, 9.0], [2.3868279, 9.0], [4.676218837063681, 8.051703224294176], [6.3639610306789285, 6.3639610306789285], [8.051703224294176, 4.676218837063681], [9.0, 2.3868279], [9.0, 0.0], [9.0, -2.3868279], [8.051703224294176, -4.676218837063681], [6.3639610306789285, -6.3639610306789285], [4.676218837063681, -8.051703224294176], [2.3868279, -9.0], [0.0, -9.0], [-2.3868279, -9.0], [-4.676218837063681, -8.051703224294176], [-6.3639610306789285, -6.3639610306789285], [-8.051703224294176, -4.676218837063681], [-9.0, -2.3868279], [-9.0, 0.0], [-9.0, 2.3868279], [-8.051703224294176, 4.676218837063681], [-6.3639610306789285, 6.3639610306789285], [-4.676218837063681, 8.051703224294176], [-2.3868279, 9.0], [0.0, 9.0]], [\"M\", \"C\", \"C\", \"C\", \"C\", \"C\", \"C\", \"C\", \"C\", \"Z\"]]}, {\"data\": \"data04\", \"xindex\": 0, \"yindex\": 1, \"coordinates\": \"data\", \"id\": \"el41539140549460535472pts\", \"facecolor\": \"#E7298A\", \"edgecolor\": \"none\", \"edgewidth\": 1.0, \"alpha\": 1, \"zorder\": 2, \"markerpath\": [[[0.0, 9.0], [2.3868279, 9.0], [4.676218837063681, 8.051703224294176], [6.3639610306789285, 6.3639610306789285], [8.051703224294176, 4.676218837063681], [9.0, 2.3868279], [9.0, 0.0], [9.0, -2.3868279], [8.051703224294176, -4.676218837063681], [6.3639610306789285, -6.3639610306789285], [4.676218837063681, -8.051703224294176], [2.3868279, -9.0], [0.0, -9.0], [-2.3868279, -9.0], [-4.676218837063681, -8.051703224294176], [-6.3639610306789285, -6.3639610306789285], [-8.051703224294176, -4.676218837063681], [-9.0, -2.3868279], [-9.0, 0.0], [-9.0, 2.3868279], [-8.051703224294176, 4.676218837063681], [-6.3639610306789285, 6.3639610306789285], [-4.676218837063681, 8.051703224294176], [-2.3868279, 9.0], [0.0, 9.0]], [\"M\", \"C\", \"C\", \"C\", \"C\", \"C\", \"C\", \"C\", \"C\", \"Z\"]]}, {\"data\": \"data05\", \"xindex\": 0, \"yindex\": 1, \"coordinates\": \"data\", \"id\": \"el41539140549460536576pts\", \"facecolor\": \"#66A61E\", \"edgecolor\": \"none\", \"edgewidth\": 1.0, \"alpha\": 1, \"zorder\": 2, \"markerpath\": [[[0.0, 9.0], [2.3868279, 9.0], [4.676218837063681, 8.051703224294176], [6.3639610306789285, 6.3639610306789285], [8.051703224294176, 4.676218837063681], [9.0, 2.3868279], [9.0, 0.0], [9.0, -2.3868279], [8.051703224294176, -4.676218837063681], [6.3639610306789285, -6.3639610306789285], [4.676218837063681, -8.051703224294176], [2.3868279, -9.0], [0.0, -9.0], [-2.3868279, -9.0], [-4.676218837063681, -8.051703224294176], [-6.3639610306789285, -6.3639610306789285], [-8.051703224294176, -4.676218837063681], [-9.0, -2.3868279], [-9.0, 0.0], [-9.0, 2.3868279], [-8.051703224294176, 4.676218837063681], [-6.3639610306789285, 6.3639610306789285], [-4.676218837063681, 8.051703224294176], [-2.3868279, 9.0], [0.0, 9.0]], [\"M\", \"C\", \"C\", \"C\", \"C\", \"C\", \"C\", \"C\", \"C\", \"Z\"]]}, {\"data\": \"data06\", \"xindex\": 0, \"yindex\": 1, \"coordinates\": \"axes\", \"id\": \"el41539140549460563040pts\", \"facecolor\": \"#1B9E77\", \"edgecolor\": \"none\", \"edgewidth\": 1.0, \"alpha\": 1, \"zorder\": 1000002.0, \"markerpath\": [[[0.0, 9.0], [2.3868279, 9.0], [4.676218837063681, 8.051703224294176], [6.3639610306789285, 6.3639610306789285], [8.051703224294176, 4.676218837063681], [9.0, 2.3868279], [9.0, 0.0], [9.0, -2.3868279], [8.051703224294176, -4.676218837063681], [6.3639610306789285, -6.3639610306789285], [4.676218837063681, -8.051703224294176], [2.3868279, -9.0], [0.0, -9.0], [-2.3868279, -9.0], [-4.676218837063681, -8.051703224294176], [-6.3639610306789285, -6.3639610306789285], [-8.051703224294176, -4.676218837063681], [-9.0, -2.3868279], [-9.0, 0.0], [-9.0, 2.3868279], [-8.051703224294176, 4.676218837063681], [-6.3639610306789285, 6.3639610306789285], [-4.676218837063681, 8.051703224294176], [-2.3868279, 9.0], [0.0, 9.0]], [\"M\", \"C\", \"C\", \"C\", \"C\", \"C\", \"C\", \"C\", \"C\", \"Z\"]]}, {\"data\": \"data06\", \"xindex\": 0, \"yindex\": 2, \"coordinates\": \"axes\", \"id\": \"el41539140549460564720pts\", \"facecolor\": \"#D95F02\", \"edgecolor\": \"none\", \"edgewidth\": 1.0, \"alpha\": 1, \"zorder\": 1000002.0, \"markerpath\": [[[0.0, 9.0], [2.3868279, 9.0], [4.676218837063681, 8.051703224294176], [6.3639610306789285, 6.3639610306789285], [8.051703224294176, 4.676218837063681], [9.0, 2.3868279], [9.0, 0.0], [9.0, -2.3868279], [8.051703224294176, -4.676218837063681], [6.3639610306789285, -6.3639610306789285], [4.676218837063681, -8.051703224294176], [2.3868279, -9.0], [0.0, -9.0], [-2.3868279, -9.0], [-4.676218837063681, -8.051703224294176], [-6.3639610306789285, -6.3639610306789285], [-8.051703224294176, -4.676218837063681], [-9.0, -2.3868279], [-9.0, 0.0], [-9.0, 2.3868279], [-8.051703224294176, 4.676218837063681], [-6.3639610306789285, 6.3639610306789285], [-4.676218837063681, 8.051703224294176], [-2.3868279, 9.0], [0.0, 9.0]], [\"M\", \"C\", \"C\", \"C\", \"C\", \"C\", \"C\", \"C\", \"C\", \"Z\"]]}, {\"data\": \"data06\", \"xindex\": 0, \"yindex\": 3, \"coordinates\": \"axes\", \"id\": \"el41539140549421019584pts\", \"facecolor\": \"#7570B3\", \"edgecolor\": \"none\", \"edgewidth\": 1.0, \"alpha\": 1, \"zorder\": 1000002.0, \"markerpath\": [[[0.0, 9.0], [2.3868279, 9.0], [4.676218837063681, 8.051703224294176], [6.3639610306789285, 6.3639610306789285], [8.051703224294176, 4.676218837063681], [9.0, 2.3868279], [9.0, 0.0], [9.0, -2.3868279], [8.051703224294176, -4.676218837063681], [6.3639610306789285, -6.3639610306789285], [4.676218837063681, -8.051703224294176], [2.3868279, -9.0], [0.0, -9.0], [-2.3868279, -9.0], [-4.676218837063681, -8.051703224294176], [-6.3639610306789285, -6.3639610306789285], [-8.051703224294176, -4.676218837063681], [-9.0, -2.3868279], [-9.0, 0.0], [-9.0, 2.3868279], [-8.051703224294176, 4.676218837063681], [-6.3639610306789285, 6.3639610306789285], [-4.676218837063681, 8.051703224294176], [-2.3868279, 9.0], [0.0, 9.0]], [\"M\", \"C\", \"C\", \"C\", \"C\", \"C\", \"C\", \"C\", \"C\", \"Z\"]]}, {\"data\": \"data06\", \"xindex\": 0, \"yindex\": 4, \"coordinates\": \"axes\", \"id\": \"el41539140549421021264pts\", \"facecolor\": \"#E7298A\", \"edgecolor\": \"none\", \"edgewidth\": 1.0, \"alpha\": 1, \"zorder\": 1000002.0, \"markerpath\": [[[0.0, 9.0], [2.3868279, 9.0], [4.676218837063681, 8.051703224294176], [6.3639610306789285, 6.3639610306789285], [8.051703224294176, 4.676218837063681], [9.0, 2.3868279], [9.0, 0.0], [9.0, -2.3868279], [8.051703224294176, -4.676218837063681], [6.3639610306789285, -6.3639610306789285], [4.676218837063681, -8.051703224294176], [2.3868279, -9.0], [0.0, -9.0], [-2.3868279, -9.0], [-4.676218837063681, -8.051703224294176], [-6.3639610306789285, -6.3639610306789285], [-8.051703224294176, -4.676218837063681], [-9.0, -2.3868279], [-9.0, 0.0], [-9.0, 2.3868279], [-8.051703224294176, 4.676218837063681], [-6.3639610306789285, 6.3639610306789285], [-4.676218837063681, 8.051703224294176], [-2.3868279, 9.0], [0.0, 9.0]], [\"M\", \"C\", \"C\", \"C\", \"C\", \"C\", \"C\", \"C\", \"C\", \"Z\"]]}, {\"data\": \"data06\", \"xindex\": 0, \"yindex\": 5, \"coordinates\": \"axes\", \"id\": \"el41539140549460563280pts\", \"facecolor\": \"#66A61E\", \"edgecolor\": \"none\", \"edgewidth\": 1.0, \"alpha\": 1, \"zorder\": 1000002.0, \"markerpath\": [[[0.0, 9.0], [2.3868279, 9.0], [4.676218837063681, 8.051703224294176], [6.3639610306789285, 6.3639610306789285], [8.051703224294176, 4.676218837063681], [9.0, 2.3868279], [9.0, 0.0], [9.0, -2.3868279], [8.051703224294176, -4.676218837063681], [6.3639610306789285, -6.3639610306789285], [4.676218837063681, -8.051703224294176], [2.3868279, -9.0], [0.0, -9.0], [-2.3868279, -9.0], [-4.676218837063681, -8.051703224294176], [-6.3639610306789285, -6.3639610306789285], [-8.051703224294176, -4.676218837063681], [-9.0, -2.3868279], [-9.0, 0.0], [-9.0, 2.3868279], [-8.051703224294176, 4.676218837063681], [-6.3639610306789285, 6.3639610306789285], [-4.676218837063681, 8.051703224294176], [-2.3868279, 9.0], [0.0, 9.0]], [\"M\", \"C\", \"C\", \"C\", \"C\", \"C\", \"C\", \"C\", \"C\", \"Z\"]]}], \"texts\": [{\"text\": \"Family, home, war\", \"position\": [0.8204685099846392, 0.21768457198920774], \"coordinates\": \"axes\", \"h_anchor\": \"start\", \"v_baseline\": \"auto\", \"rotation\": -0.0, \"fontsize\": 10.0, \"color\": \"#000000\", \"alpha\": 1, \"zorder\": 1000003.0, \"id\": \"el41539140549460562128\"}, {\"text\": \"Police, killed, murders\", \"position\": [0.8204685099846392, 0.17169487368162864], \"coordinates\": \"axes\", \"h_anchor\": \"start\", \"v_baseline\": \"auto\", \"rotation\": -0.0, \"fontsize\": 10.0, \"color\": \"#000000\", \"alpha\": 1, \"zorder\": 1000003.0, \"id\": \"el41539140549460563808\"}, {\"text\": \"Father, New York, brothers\", \"position\": [0.8204685099846392, 0.12570517537404954], \"coordinates\": \"axes\", \"h_anchor\": \"start\", \"v_baseline\": \"auto\", \"rotation\": -0.0, \"fontsize\": 10.0, \"color\": \"#000000\", \"alpha\": 1, \"zorder\": 1000003.0, \"id\": \"el41539140549460565488\"}, {\"text\": \"Dance, singing, love\", \"position\": [0.8204685099846392, 0.07971547706647045], \"coordinates\": \"axes\", \"h_anchor\": \"start\", \"v_baseline\": \"auto\", \"rotation\": -0.0, \"fontsize\": 10.0, \"color\": \"#000000\", \"alpha\": 1, \"zorder\": 1000003.0, \"id\": \"el41539140549421020352\"}, {\"text\": \"Killed, soldiers, captain\", \"position\": [0.8204685099846392, 0.03372577875889135], \"coordinates\": \"axes\", \"h_anchor\": \"start\", \"v_baseline\": \"auto\", \"rotation\": -0.0, \"fontsize\": 10.0, \"color\": \"#000000\", \"alpha\": 1, \"zorder\": 1000003.0, \"id\": \"el41539140549421022032\"}], \"collections\": [], \"images\": [], \"sharex\": [], \"sharey\": []}], \"data\": {\"data01\": [[-0.03159215088404366, -0.45663791320402886], [0.05822957027256338, 0.256929533865531], [0.058399024554247426, -0.04612821871658942], [-0.43458221470796804, -0.29655933230579506], [0.6037432800571017, -0.3456991338989089], [0.3548063612344581, 0.008230388449868098], [-0.02172250207705443, -0.04277898807708071], [0.5177811917071925, -0.2536618659106638], [0.4335012948307977, 0.14567214405204687], [0.34339799473545496, 0.24588751780959872], [0.31820603526510766, 0.08767290955547546], [-0.19657213727582853, 0.39573854896210925], [0.3442345942883043, -0.13024993477969463], [0.1607366978752424, -0.11945297477856227], [0.1563795065783695, -0.21300821701033482], [0.18357552763037874, 0.3029327061666986], [0.12067866743532428, 0.4813363821584589], [0.12564351913288888, 0.4177899987124327], [0.21979780091087622, 0.48012585338200914], [0.48195453604347716, 0.008013240019345533], [0.4758882198147056, -0.4358383186309247], [0.2751629686852379, -0.2942902403479915], [-0.3243379724030205, 0.3312099814646893], [0.3243862951002719, -0.45653595159186383], [0.1850753249911779, 0.5789634882504009]], \"data02\": [[-0.2587368350262618, -0.26527516559786957], [-0.22775176430437058, 0.06867225264698684], [-0.4301218469327288, 0.28528616015883534], [-0.3527560545316662, 0.12706104279951017], [-0.5523024142568739, -0.22470452093169108], [0.4157900555927239, 0.4066680050040376], [-0.6622802065035606, -0.20503714364142692], [-0.45990623558854987, 0.007717409858540057], [-0.3416411136605303, 0.036359351999961084], [-0.34156011933518005, -0.06836233054197617], [-0.3394231160832892, -0.1511074564578018], [-0.18645450426356014, 0.150485309679993], [-0.4660099693912445, -0.09927639405993571], [-0.5791042079012638, 0.2903462882632784], [-0.20835174801118317, -0.05859486722959816], [-0.19967295689696812, 0.006401158105055958]], \"data03\": [[0.1842728439475597, -0.011715611328299623], [-0.13227195754649126, 0.5745384801472381], [0.011707339999011584, 0.4624485755347979], [0.07164980401234082, 0.13140842985205484], [-0.05321665416838313, 0.12337031922670556], [0.5307508765954988, 0.1293499548695287], [-0.28445673314938785, 0.27573355826080437], [0.21436568495015884, 0.21833323177235375], [0.4928973738021543, -0.14112529581269717], [-0.0697835765252865, 0.5697755231183568], [-0.5962489128496042, 0.19029081995111047], [0.20869950117396832, 0.06431546201598057], [0.5655872568440865, 0.3427492412662697], [-0.42084558901816005, 0.46273188035729895], [-0.3031164788430419, 0.47587091621770383], [0.6448729810407794, -0.1557495377370637], [-0.18141401157117412, 0.47664757937416014], [-0.028860474947472948, 0.6542407465232705], [0.6688477850887058, -0.08783283749852551], [-0.5521585808438269, 0.028891781654075178], [-0.5810674876200954, 0.10583683075043433]], \"data04\": [[-0.4842963450926421, 0.17299124057611814], [-0.34166783709147913, 0.6344444329502953], [0.4184044202336738, 0.5850489899951163], [-0.17157923142425296, 0.23225249097460976], [0.6698670628968674, 0.11896605280395367], [-0.20377837648670416, 0.5597732710930737], [0.4020451359180303, 0.49856493148445374], [0.6677334884276219, 0.2695002905230577], [-0.02234991385406897, 0.3387044447457824], [0.06214704621807539, 0.6101371440051012], [-0.6012517387271848, -0.0418859194691775], [0.6273622875630892, 0.3594269833423288]], \"data05\": [[0.44206412093578173, -0.27869804841256207], [-0.2509077886527682, -0.5748301691298103], [0.5523203950143739, 0.4906695451776374], [0.19843842072642093, -0.3892916828503908], [0.3500865831297658, -0.33952163222346426], [-0.0822211719046293, -0.5783371225442145], [-0.016415337094761003, -0.6356033887664564], [0.019707608446931178, -0.6360131358153785], [0.24381678674291052, -0.5041387862290508], [0.08011541418687525, -0.4798779364145004], [-0.1524708594907454, -0.3409184384980287], [-0.020101379300060913, -0.3570984271707861], [-0.15353411958657529, -0.3013348801222534], [-0.22754763513663467, -0.45049222698404334], [0.1287536654528344, -0.6684899512527609], [0.07969434882060063, -0.3889371661029437], [-0.34789814258235424, -0.3258509720117311], [-0.3609008933642027, -0.48196142317941265], [-0.11274056497585859, -0.49926901658843537], [0.18267302179861425, -0.5787625309524596], [-0.0876522433589088, -0.20078309954756865], [-0.18334149000822167, -0.5551280766277863], [-0.551459865435424, 0.3351166974656385], [-0.5674182514385872, -0.35374010333970207], [-0.4533760890831642, -0.4451810757043979], [0.33498008050466554, -0.6458620573675335]], \"data06\": [[0.7974270353302613, 0.22841550159430954, 0.18242580328673044, 0.13643610497915135, 0.09044640667157224, 0.04445670836399314]], \"data07\": [[0.7820660522273426, 0.015329899435859717], [0.9910394265232977, 0.015329899435859717], [0.9935995903737841, 0.015329899435859717], [0.9935995903737841, 0.021461859210203577], [0.9935995903737841, 0.24834437086092717], [0.9935995903737841, 0.254476330635271], [0.9910394265232977, 0.254476330635271], [0.7820660522273426, 0.254476330635271], [0.7795058883768562, 0.254476330635271], [0.7795058883768562, 0.24834437086092717], [0.7795058883768562, 0.021461859210203577], [0.7795058883768562, 0.015329899435859717], [0.7820660522273426, 0.015329899435859717]]}, \"id\": \"el41539140549417513360\", \"plugins\": [{\"type\": \"reset\"}, {\"type\": \"zoom\", \"button\": true, \"enabled\": false}, {\"type\": \"boxzoom\", \"button\": true, \"enabled\": false}, {\"type\": \"htmltooltip\", \"id\": \"el41539140549460540096pts\", \"labels\": [\"Schindler's List\", \"One Flew Over the Cuckoo's Nest\", \"Gone with the Wind\", \"The Wizard of Oz\", \"Titanic\", \"Forrest Gump\", \"E.T. the Extra-Terrestrial\", \"The Silence of the Lambs\", \"Gandhi\", \"A Streetcar Named Desire\", \"The Best Years of Our Lives\", \"My Fair Lady\", \"Ben-Hur\", \"Doctor Zhivago\", \"The Pianist\", \"The Exorcist\", \"Out of Africa\", \"Good Will Hunting\", \"Terms of Endearment\", \"Giant\", \"The Grapes of Wrath\", \"Close Encounters of the Third Kind\", \"The Graduate\", \"Stagecoach\", \"Wuthering Heights\"], \"targets\": null, \"hoffset\": 10, \"voffset\": 10}, {\"type\": \"toptoolbar\"}, {\"type\": \"htmltooltip\", \"id\": \"el41539140549460541248pts\", \"labels\": [\"Casablanca\", \"Psycho\", \"Sunset Blvd.\", \"Vertigo\", \"Chinatown\", \"Amadeus\", \"High Noon\", \"The French Connection\", \"Fargo\", \"Pulp Fiction\", \"The Maltese Falcon\", \"A Clockwork Orange\", \"Double Indemnity\", \"Rebel Without a Cause\", \"The Third Man\", \"North by Northwest\"], \"targets\": null, \"hoffset\": 10, \"voffset\": 10}, {\"type\": \"toptoolbar\"}, {\"type\": \"htmltooltip\", \"id\": \"el41539140549460534320pts\", \"labels\": [\"The Godfather\", \"Raging Bull\", \"Citizen Kane\", \"The Godfather: Part II\", \"On the Waterfront\", \"12 Angry Men\", \"Rocky\", \"To Kill a Mockingbird\", \"Braveheart\", \"The Good, the Bad and the Ugly\", \"The Apartment\", \"Goodfellas\", \"City Lights\", \"It Happened One Night\", \"Midnight Cowboy\", \"Mr. Smith Goes to Washington\", \"Rain Man\", \"Annie Hall\", \"Network\", \"Taxi Driver\", \"Rear Window\"], \"targets\": null, \"hoffset\": 10, \"voffset\": 10}, {\"type\": \"toptoolbar\"}, {\"type\": \"htmltooltip\", \"id\": \"el41539140549460535472pts\", \"labels\": [\"West Side Story\", \"Singin' in the Rain\", \"It's a Wonderful Life\", \"Some Like It Hot\", \"The Philadelphia Story\", \"An American in Paris\", \"The King's Speech\", \"A Place in the Sun\", \"Tootsie\", \"Nashville\", \"American Graffiti\", \"Yankee Doodle Dandy\"], \"targets\": null, \"hoffset\": 10, \"voffset\": 10}, {\"type\": \"toptoolbar\"}, {\"type\": \"htmltooltip\", \"id\": \"el41539140549460536576pts\", \"labels\": [\"The Shawshank Redemption\", \"Lawrence of Arabia\", \"The Sound of Music\", \"Star Wars\", \"2001: A Space Odyssey\", \"The Bridge on the River Kwai\", \"Dr. Strangelove or: How I Learned to Stop Worrying and Love the Bomb\", \"Apocalypse Now\", \"The Lord of the Rings: The Return of the King\", \"Gladiator\", \"From Here to Eternity\", \"Saving Private Ryan\", \"Unforgiven\", \"Raiders of the Lost Ark\", \"Patton\", \"Jaws\", \"Butch Cassidy and the Sundance Kid\", \"The Treasure of the Sierra Madre\", \"Platoon\", \"Dances with Wolves\", \"The Deer Hunter\", \"All Quiet on the Western Front\", \"Shane\", \"The Green Mile\", \"The African Queen\", \"Mutiny on the Bounty\"], \"targets\": null, \"hoffset\": 10, \"voffset\": 10}, {\"type\": \"toptoolbar\"}]});\n",
       "      });\n",
       "    });\n",
       "}else{\n",
       "    // require.js not available: dynamically load d3 & mpld3\n",
       "    mpld3_load_lib(\"https://d3js.org/d3.v5.js\", function(){\n",
       "         mpld3_load_lib(\"https://mpld3.github.io/js/mpld3.v0.5.1.js\", function(){\n",
       "                 \n",
       "    mpld3.register_plugin(\"htmltooltip\", HtmlTooltipPlugin);\n",
       "    HtmlTooltipPlugin.prototype = Object.create(mpld3.Plugin.prototype);\n",
       "    HtmlTooltipPlugin.prototype.constructor = HtmlTooltipPlugin;\n",
       "    HtmlTooltipPlugin.prototype.requiredProps = [\"id\"];\n",
       "    HtmlTooltipPlugin.prototype.defaultProps = {labels:null,\n",
       "                                                target:null,\n",
       "                                                hoffset:0,\n",
       "                                                voffset:10,\n",
       "                                                targets:null};\n",
       "    function HtmlTooltipPlugin(fig, props){\n",
       "        mpld3.Plugin.call(this, fig, props);\n",
       "    };\n",
       "\n",
       "    HtmlTooltipPlugin.prototype.draw = function(){\n",
       "        var obj = mpld3.get_element(this.props.id);\n",
       "        var labels = this.props.labels;\n",
       "        var targets = this.props.targets;\n",
       "        var tooltip = d3.select(\"body\").append(\"div\")\n",
       "            .attr(\"class\", \"mpld3-tooltip\")\n",
       "            .style(\"position\", \"absolute\")\n",
       "            .style(\"z-index\", \"10\")\n",
       "            .style(\"visibility\", \"hidden\");\n",
       "\n",
       "        obj.elements()\n",
       "            .on(\"mouseover\", function(d, i){\n",
       "                tooltip.html(labels[i])\n",
       "                    .style(\"visibility\", \"visible\");\n",
       "            })\n",
       "            .on(\"mousemove\", function(d, i){\n",
       "                tooltip\n",
       "                .style(\"top\", d3.event.pageY + this.props.voffset + \"px\")\n",
       "                .style(\"left\",d3.event.pageX + this.props.hoffset + \"px\");\n",
       "            }.bind(this))\n",
       "            .on(\"mousedown.callout\", function(d, i){\n",
       "                window.open(targets[i],\"_blank\");\n",
       "            })\n",
       "            .on(\"mouseout\", function(d, i){\n",
       "                tooltip.style(\"visibility\", \"hidden\");\n",
       "            });\n",
       "    };\n",
       "    \n",
       "    mpld3.register_plugin(\"toptoolbar\", TopToolbar);\n",
       "    TopToolbar.prototype = Object.create(mpld3.Plugin.prototype);\n",
       "    TopToolbar.prototype.constructor = TopToolbar;\n",
       "    function TopToolbar(fig, props){\n",
       "        mpld3.Plugin.call(this, fig, props);\n",
       "    };\n",
       "\n",
       "    TopToolbar.prototype.draw = function(){\n",
       "      // the toolbar svg doesn't exist\n",
       "      // yet, so first draw it\n",
       "      this.fig.toolbar.draw();\n",
       "\n",
       "      // then change the y position to be\n",
       "      // at the top of the figure\n",
       "      this.fig.toolbar.toolbar.attr(\"x\", 150);\n",
       "      this.fig.toolbar.toolbar.attr(\"y\", 400);\n",
       "\n",
       "      // then remove the draw function,\n",
       "      // so that it is not called again\n",
       "      this.fig.toolbar.draw = function() {}\n",
       "    }\n",
       "    \n",
       "    mpld3.register_plugin(\"htmltooltip\", HtmlTooltipPlugin);\n",
       "    HtmlTooltipPlugin.prototype = Object.create(mpld3.Plugin.prototype);\n",
       "    HtmlTooltipPlugin.prototype.constructor = HtmlTooltipPlugin;\n",
       "    HtmlTooltipPlugin.prototype.requiredProps = [\"id\"];\n",
       "    HtmlTooltipPlugin.prototype.defaultProps = {labels:null,\n",
       "                                                target:null,\n",
       "                                                hoffset:0,\n",
       "                                                voffset:10,\n",
       "                                                targets:null};\n",
       "    function HtmlTooltipPlugin(fig, props){\n",
       "        mpld3.Plugin.call(this, fig, props);\n",
       "    };\n",
       "\n",
       "    HtmlTooltipPlugin.prototype.draw = function(){\n",
       "        var obj = mpld3.get_element(this.props.id);\n",
       "        var labels = this.props.labels;\n",
       "        var targets = this.props.targets;\n",
       "        var tooltip = d3.select(\"body\").append(\"div\")\n",
       "            .attr(\"class\", \"mpld3-tooltip\")\n",
       "            .style(\"position\", \"absolute\")\n",
       "            .style(\"z-index\", \"10\")\n",
       "            .style(\"visibility\", \"hidden\");\n",
       "\n",
       "        obj.elements()\n",
       "            .on(\"mouseover\", function(d, i){\n",
       "                tooltip.html(labels[i])\n",
       "                    .style(\"visibility\", \"visible\");\n",
       "            })\n",
       "            .on(\"mousemove\", function(d, i){\n",
       "                tooltip\n",
       "                .style(\"top\", d3.event.pageY + this.props.voffset + \"px\")\n",
       "                .style(\"left\",d3.event.pageX + this.props.hoffset + \"px\");\n",
       "            }.bind(this))\n",
       "            .on(\"mousedown.callout\", function(d, i){\n",
       "                window.open(targets[i],\"_blank\");\n",
       "            })\n",
       "            .on(\"mouseout\", function(d, i){\n",
       "                tooltip.style(\"visibility\", \"hidden\");\n",
       "            });\n",
       "    };\n",
       "    \n",
       "    mpld3.register_plugin(\"toptoolbar\", TopToolbar);\n",
       "    TopToolbar.prototype = Object.create(mpld3.Plugin.prototype);\n",
       "    TopToolbar.prototype.constructor = TopToolbar;\n",
       "    function TopToolbar(fig, props){\n",
       "        mpld3.Plugin.call(this, fig, props);\n",
       "    };\n",
       "\n",
       "    TopToolbar.prototype.draw = function(){\n",
       "      // the toolbar svg doesn't exist\n",
       "      // yet, so first draw it\n",
       "      this.fig.toolbar.draw();\n",
       "\n",
       "      // then change the y position to be\n",
       "      // at the top of the figure\n",
       "      this.fig.toolbar.toolbar.attr(\"x\", 150);\n",
       "      this.fig.toolbar.toolbar.attr(\"y\", 400);\n",
       "\n",
       "      // then remove the draw function,\n",
       "      // so that it is not called again\n",
       "      this.fig.toolbar.draw = function() {}\n",
       "    }\n",
       "    \n",
       "    mpld3.register_plugin(\"htmltooltip\", HtmlTooltipPlugin);\n",
       "    HtmlTooltipPlugin.prototype = Object.create(mpld3.Plugin.prototype);\n",
       "    HtmlTooltipPlugin.prototype.constructor = HtmlTooltipPlugin;\n",
       "    HtmlTooltipPlugin.prototype.requiredProps = [\"id\"];\n",
       "    HtmlTooltipPlugin.prototype.defaultProps = {labels:null,\n",
       "                                                target:null,\n",
       "                                                hoffset:0,\n",
       "                                                voffset:10,\n",
       "                                                targets:null};\n",
       "    function HtmlTooltipPlugin(fig, props){\n",
       "        mpld3.Plugin.call(this, fig, props);\n",
       "    };\n",
       "\n",
       "    HtmlTooltipPlugin.prototype.draw = function(){\n",
       "        var obj = mpld3.get_element(this.props.id);\n",
       "        var labels = this.props.labels;\n",
       "        var targets = this.props.targets;\n",
       "        var tooltip = d3.select(\"body\").append(\"div\")\n",
       "            .attr(\"class\", \"mpld3-tooltip\")\n",
       "            .style(\"position\", \"absolute\")\n",
       "            .style(\"z-index\", \"10\")\n",
       "            .style(\"visibility\", \"hidden\");\n",
       "\n",
       "        obj.elements()\n",
       "            .on(\"mouseover\", function(d, i){\n",
       "                tooltip.html(labels[i])\n",
       "                    .style(\"visibility\", \"visible\");\n",
       "            })\n",
       "            .on(\"mousemove\", function(d, i){\n",
       "                tooltip\n",
       "                .style(\"top\", d3.event.pageY + this.props.voffset + \"px\")\n",
       "                .style(\"left\",d3.event.pageX + this.props.hoffset + \"px\");\n",
       "            }.bind(this))\n",
       "            .on(\"mousedown.callout\", function(d, i){\n",
       "                window.open(targets[i],\"_blank\");\n",
       "            })\n",
       "            .on(\"mouseout\", function(d, i){\n",
       "                tooltip.style(\"visibility\", \"hidden\");\n",
       "            });\n",
       "    };\n",
       "    \n",
       "    mpld3.register_plugin(\"toptoolbar\", TopToolbar);\n",
       "    TopToolbar.prototype = Object.create(mpld3.Plugin.prototype);\n",
       "    TopToolbar.prototype.constructor = TopToolbar;\n",
       "    function TopToolbar(fig, props){\n",
       "        mpld3.Plugin.call(this, fig, props);\n",
       "    };\n",
       "\n",
       "    TopToolbar.prototype.draw = function(){\n",
       "      // the toolbar svg doesn't exist\n",
       "      // yet, so first draw it\n",
       "      this.fig.toolbar.draw();\n",
       "\n",
       "      // then change the y position to be\n",
       "      // at the top of the figure\n",
       "      this.fig.toolbar.toolbar.attr(\"x\", 150);\n",
       "      this.fig.toolbar.toolbar.attr(\"y\", 400);\n",
       "\n",
       "      // then remove the draw function,\n",
       "      // so that it is not called again\n",
       "      this.fig.toolbar.draw = function() {}\n",
       "    }\n",
       "    \n",
       "    mpld3.register_plugin(\"htmltooltip\", HtmlTooltipPlugin);\n",
       "    HtmlTooltipPlugin.prototype = Object.create(mpld3.Plugin.prototype);\n",
       "    HtmlTooltipPlugin.prototype.constructor = HtmlTooltipPlugin;\n",
       "    HtmlTooltipPlugin.prototype.requiredProps = [\"id\"];\n",
       "    HtmlTooltipPlugin.prototype.defaultProps = {labels:null,\n",
       "                                                target:null,\n",
       "                                                hoffset:0,\n",
       "                                                voffset:10,\n",
       "                                                targets:null};\n",
       "    function HtmlTooltipPlugin(fig, props){\n",
       "        mpld3.Plugin.call(this, fig, props);\n",
       "    };\n",
       "\n",
       "    HtmlTooltipPlugin.prototype.draw = function(){\n",
       "        var obj = mpld3.get_element(this.props.id);\n",
       "        var labels = this.props.labels;\n",
       "        var targets = this.props.targets;\n",
       "        var tooltip = d3.select(\"body\").append(\"div\")\n",
       "            .attr(\"class\", \"mpld3-tooltip\")\n",
       "            .style(\"position\", \"absolute\")\n",
       "            .style(\"z-index\", \"10\")\n",
       "            .style(\"visibility\", \"hidden\");\n",
       "\n",
       "        obj.elements()\n",
       "            .on(\"mouseover\", function(d, i){\n",
       "                tooltip.html(labels[i])\n",
       "                    .style(\"visibility\", \"visible\");\n",
       "            })\n",
       "            .on(\"mousemove\", function(d, i){\n",
       "                tooltip\n",
       "                .style(\"top\", d3.event.pageY + this.props.voffset + \"px\")\n",
       "                .style(\"left\",d3.event.pageX + this.props.hoffset + \"px\");\n",
       "            }.bind(this))\n",
       "            .on(\"mousedown.callout\", function(d, i){\n",
       "                window.open(targets[i],\"_blank\");\n",
       "            })\n",
       "            .on(\"mouseout\", function(d, i){\n",
       "                tooltip.style(\"visibility\", \"hidden\");\n",
       "            });\n",
       "    };\n",
       "    \n",
       "    mpld3.register_plugin(\"toptoolbar\", TopToolbar);\n",
       "    TopToolbar.prototype = Object.create(mpld3.Plugin.prototype);\n",
       "    TopToolbar.prototype.constructor = TopToolbar;\n",
       "    function TopToolbar(fig, props){\n",
       "        mpld3.Plugin.call(this, fig, props);\n",
       "    };\n",
       "\n",
       "    TopToolbar.prototype.draw = function(){\n",
       "      // the toolbar svg doesn't exist\n",
       "      // yet, so first draw it\n",
       "      this.fig.toolbar.draw();\n",
       "\n",
       "      // then change the y position to be\n",
       "      // at the top of the figure\n",
       "      this.fig.toolbar.toolbar.attr(\"x\", 150);\n",
       "      this.fig.toolbar.toolbar.attr(\"y\", 400);\n",
       "\n",
       "      // then remove the draw function,\n",
       "      // so that it is not called again\n",
       "      this.fig.toolbar.draw = function() {}\n",
       "    }\n",
       "    \n",
       "    mpld3.register_plugin(\"htmltooltip\", HtmlTooltipPlugin);\n",
       "    HtmlTooltipPlugin.prototype = Object.create(mpld3.Plugin.prototype);\n",
       "    HtmlTooltipPlugin.prototype.constructor = HtmlTooltipPlugin;\n",
       "    HtmlTooltipPlugin.prototype.requiredProps = [\"id\"];\n",
       "    HtmlTooltipPlugin.prototype.defaultProps = {labels:null,\n",
       "                                                target:null,\n",
       "                                                hoffset:0,\n",
       "                                                voffset:10,\n",
       "                                                targets:null};\n",
       "    function HtmlTooltipPlugin(fig, props){\n",
       "        mpld3.Plugin.call(this, fig, props);\n",
       "    };\n",
       "\n",
       "    HtmlTooltipPlugin.prototype.draw = function(){\n",
       "        var obj = mpld3.get_element(this.props.id);\n",
       "        var labels = this.props.labels;\n",
       "        var targets = this.props.targets;\n",
       "        var tooltip = d3.select(\"body\").append(\"div\")\n",
       "            .attr(\"class\", \"mpld3-tooltip\")\n",
       "            .style(\"position\", \"absolute\")\n",
       "            .style(\"z-index\", \"10\")\n",
       "            .style(\"visibility\", \"hidden\");\n",
       "\n",
       "        obj.elements()\n",
       "            .on(\"mouseover\", function(d, i){\n",
       "                tooltip.html(labels[i])\n",
       "                    .style(\"visibility\", \"visible\");\n",
       "            })\n",
       "            .on(\"mousemove\", function(d, i){\n",
       "                tooltip\n",
       "                .style(\"top\", d3.event.pageY + this.props.voffset + \"px\")\n",
       "                .style(\"left\",d3.event.pageX + this.props.hoffset + \"px\");\n",
       "            }.bind(this))\n",
       "            .on(\"mousedown.callout\", function(d, i){\n",
       "                window.open(targets[i],\"_blank\");\n",
       "            })\n",
       "            .on(\"mouseout\", function(d, i){\n",
       "                tooltip.style(\"visibility\", \"hidden\");\n",
       "            });\n",
       "    };\n",
       "    \n",
       "    mpld3.register_plugin(\"toptoolbar\", TopToolbar);\n",
       "    TopToolbar.prototype = Object.create(mpld3.Plugin.prototype);\n",
       "    TopToolbar.prototype.constructor = TopToolbar;\n",
       "    function TopToolbar(fig, props){\n",
       "        mpld3.Plugin.call(this, fig, props);\n",
       "    };\n",
       "\n",
       "    TopToolbar.prototype.draw = function(){\n",
       "      // the toolbar svg doesn't exist\n",
       "      // yet, so first draw it\n",
       "      this.fig.toolbar.draw();\n",
       "\n",
       "      // then change the y position to be\n",
       "      // at the top of the figure\n",
       "      this.fig.toolbar.toolbar.attr(\"x\", 150);\n",
       "      this.fig.toolbar.toolbar.attr(\"y\", 400);\n",
       "\n",
       "      // then remove the draw function,\n",
       "      // so that it is not called again\n",
       "      this.fig.toolbar.draw = function() {}\n",
       "    }\n",
       "    \n",
       "                 mpld3.draw_figure(\"fig_el415391405494175133606419072840\", {\"width\": 1008.0, \"height\": 432.0, \"axes\": [{\"bbox\": [0.125, 0.125, 0.775, 0.755], \"xlim\": [-0.7022446245855734, 0.7098314809788802], \"ylim\": [-0.7081718721860418, 0.6939226674565514], \"xdomain\": [-0.7022446245855734, 0.7098314809788802], \"ydomain\": [-0.7081718721860418, 0.6939226674565514], \"xscale\": \"linear\", \"yscale\": \"linear\", \"axes\": [{\"position\": \"bottom\", \"nticks\": 0, \"tickvalues\": [], \"tickformat_formatter\": \"\", \"tickformat\": \"\", \"scale\": \"linear\", \"fontsize\": null, \"grid\": {\"gridOn\": false}, \"visible\": false}, {\"position\": \"left\", \"nticks\": 0, \"tickvalues\": [], \"tickformat_formatter\": \"\", \"tickformat\": \"\", \"scale\": \"linear\", \"fontsize\": null, \"grid\": {\"gridOn\": false}, \"visible\": false}], \"axesbg\": \"#FFFFFF\", \"axesbgalpha\": null, \"zoomable\": true, \"id\": \"el41539140548945714192\", \"lines\": [], \"paths\": [{\"data\": \"data07\", \"xindex\": 0, \"yindex\": 1, \"coordinates\": \"axes\", \"pathcodes\": [\"M\", \"L\", \"S\", \"L\", \"S\", \"L\", \"S\", \"L\", \"S\", \"Z\"], \"id\": \"el41539140549460539520\", \"dasharray\": \"none\", \"alpha\": 0.8, \"facecolor\": \"rgba(255, 255, 255, 0.8)\", \"edgecolor\": \"rgba(204, 204, 204, 0.8)\", \"edgewidth\": 1.0, \"zorder\": 1000000.0}], \"markers\": [{\"data\": \"data01\", \"xindex\": 0, \"yindex\": 1, \"coordinates\": \"data\", \"id\": \"el41539140549460540096pts\", \"facecolor\": \"#1B9E77\", \"edgecolor\": \"none\", \"edgewidth\": 1.0, \"alpha\": 1, \"zorder\": 2, \"markerpath\": [[[0.0, 9.0], [2.3868279, 9.0], [4.676218837063681, 8.051703224294176], [6.3639610306789285, 6.3639610306789285], [8.051703224294176, 4.676218837063681], [9.0, 2.3868279], [9.0, 0.0], [9.0, -2.3868279], [8.051703224294176, -4.676218837063681], [6.3639610306789285, -6.3639610306789285], [4.676218837063681, -8.051703224294176], [2.3868279, -9.0], [0.0, -9.0], [-2.3868279, -9.0], [-4.676218837063681, -8.051703224294176], [-6.3639610306789285, -6.3639610306789285], [-8.051703224294176, -4.676218837063681], [-9.0, -2.3868279], [-9.0, 0.0], [-9.0, 2.3868279], [-8.051703224294176, 4.676218837063681], [-6.3639610306789285, 6.3639610306789285], [-4.676218837063681, 8.051703224294176], [-2.3868279, 9.0], [0.0, 9.0]], [\"M\", \"C\", \"C\", \"C\", \"C\", \"C\", \"C\", \"C\", \"C\", \"Z\"]]}, {\"data\": \"data02\", \"xindex\": 0, \"yindex\": 1, \"coordinates\": \"data\", \"id\": \"el41539140549460541248pts\", \"facecolor\": \"#D95F02\", \"edgecolor\": \"none\", \"edgewidth\": 1.0, \"alpha\": 1, \"zorder\": 2, \"markerpath\": [[[0.0, 9.0], [2.3868279, 9.0], [4.676218837063681, 8.051703224294176], [6.3639610306789285, 6.3639610306789285], [8.051703224294176, 4.676218837063681], [9.0, 2.3868279], [9.0, 0.0], [9.0, -2.3868279], [8.051703224294176, -4.676218837063681], [6.3639610306789285, -6.3639610306789285], [4.676218837063681, -8.051703224294176], [2.3868279, -9.0], [0.0, -9.0], [-2.3868279, -9.0], [-4.676218837063681, -8.051703224294176], [-6.3639610306789285, -6.3639610306789285], [-8.051703224294176, -4.676218837063681], [-9.0, -2.3868279], [-9.0, 0.0], [-9.0, 2.3868279], [-8.051703224294176, 4.676218837063681], [-6.3639610306789285, 6.3639610306789285], [-4.676218837063681, 8.051703224294176], [-2.3868279, 9.0], [0.0, 9.0]], [\"M\", \"C\", \"C\", \"C\", \"C\", \"C\", \"C\", \"C\", \"C\", \"Z\"]]}, {\"data\": \"data03\", \"xindex\": 0, \"yindex\": 1, \"coordinates\": \"data\", \"id\": \"el41539140549460534320pts\", \"facecolor\": \"#7570B3\", \"edgecolor\": \"none\", \"edgewidth\": 1.0, \"alpha\": 1, \"zorder\": 2, \"markerpath\": [[[0.0, 9.0], [2.3868279, 9.0], [4.676218837063681, 8.051703224294176], [6.3639610306789285, 6.3639610306789285], [8.051703224294176, 4.676218837063681], [9.0, 2.3868279], [9.0, 0.0], [9.0, -2.3868279], [8.051703224294176, -4.676218837063681], [6.3639610306789285, -6.3639610306789285], [4.676218837063681, -8.051703224294176], [2.3868279, -9.0], [0.0, -9.0], [-2.3868279, -9.0], [-4.676218837063681, -8.051703224294176], [-6.3639610306789285, -6.3639610306789285], [-8.051703224294176, -4.676218837063681], [-9.0, -2.3868279], [-9.0, 0.0], [-9.0, 2.3868279], [-8.051703224294176, 4.676218837063681], [-6.3639610306789285, 6.3639610306789285], [-4.676218837063681, 8.051703224294176], [-2.3868279, 9.0], [0.0, 9.0]], [\"M\", \"C\", \"C\", \"C\", \"C\", \"C\", \"C\", \"C\", \"C\", \"Z\"]]}, {\"data\": \"data04\", \"xindex\": 0, \"yindex\": 1, \"coordinates\": \"data\", \"id\": \"el41539140549460535472pts\", \"facecolor\": \"#E7298A\", \"edgecolor\": \"none\", \"edgewidth\": 1.0, \"alpha\": 1, \"zorder\": 2, \"markerpath\": [[[0.0, 9.0], [2.3868279, 9.0], [4.676218837063681, 8.051703224294176], [6.3639610306789285, 6.3639610306789285], [8.051703224294176, 4.676218837063681], [9.0, 2.3868279], [9.0, 0.0], [9.0, -2.3868279], [8.051703224294176, -4.676218837063681], [6.3639610306789285, -6.3639610306789285], [4.676218837063681, -8.051703224294176], [2.3868279, -9.0], [0.0, -9.0], [-2.3868279, -9.0], [-4.676218837063681, -8.051703224294176], [-6.3639610306789285, -6.3639610306789285], [-8.051703224294176, -4.676218837063681], [-9.0, -2.3868279], [-9.0, 0.0], [-9.0, 2.3868279], [-8.051703224294176, 4.676218837063681], [-6.3639610306789285, 6.3639610306789285], [-4.676218837063681, 8.051703224294176], [-2.3868279, 9.0], [0.0, 9.0]], [\"M\", \"C\", \"C\", \"C\", \"C\", \"C\", \"C\", \"C\", \"C\", \"Z\"]]}, {\"data\": \"data05\", \"xindex\": 0, \"yindex\": 1, \"coordinates\": \"data\", \"id\": \"el41539140549460536576pts\", \"facecolor\": \"#66A61E\", \"edgecolor\": \"none\", \"edgewidth\": 1.0, \"alpha\": 1, \"zorder\": 2, \"markerpath\": [[[0.0, 9.0], [2.3868279, 9.0], [4.676218837063681, 8.051703224294176], [6.3639610306789285, 6.3639610306789285], [8.051703224294176, 4.676218837063681], [9.0, 2.3868279], [9.0, 0.0], [9.0, -2.3868279], [8.051703224294176, -4.676218837063681], [6.3639610306789285, -6.3639610306789285], [4.676218837063681, -8.051703224294176], [2.3868279, -9.0], [0.0, -9.0], [-2.3868279, -9.0], [-4.676218837063681, -8.051703224294176], [-6.3639610306789285, -6.3639610306789285], [-8.051703224294176, -4.676218837063681], [-9.0, -2.3868279], [-9.0, 0.0], [-9.0, 2.3868279], [-8.051703224294176, 4.676218837063681], [-6.3639610306789285, 6.3639610306789285], [-4.676218837063681, 8.051703224294176], [-2.3868279, 9.0], [0.0, 9.0]], [\"M\", \"C\", \"C\", \"C\", \"C\", \"C\", \"C\", \"C\", \"C\", \"Z\"]]}, {\"data\": \"data06\", \"xindex\": 0, \"yindex\": 1, \"coordinates\": \"axes\", \"id\": \"el41539140549460563040pts\", \"facecolor\": \"#1B9E77\", \"edgecolor\": \"none\", \"edgewidth\": 1.0, \"alpha\": 1, \"zorder\": 1000002.0, \"markerpath\": [[[0.0, 9.0], [2.3868279, 9.0], [4.676218837063681, 8.051703224294176], [6.3639610306789285, 6.3639610306789285], [8.051703224294176, 4.676218837063681], [9.0, 2.3868279], [9.0, 0.0], [9.0, -2.3868279], [8.051703224294176, -4.676218837063681], [6.3639610306789285, -6.3639610306789285], [4.676218837063681, -8.051703224294176], [2.3868279, -9.0], [0.0, -9.0], [-2.3868279, -9.0], [-4.676218837063681, -8.051703224294176], [-6.3639610306789285, -6.3639610306789285], [-8.051703224294176, -4.676218837063681], [-9.0, -2.3868279], [-9.0, 0.0], [-9.0, 2.3868279], [-8.051703224294176, 4.676218837063681], [-6.3639610306789285, 6.3639610306789285], [-4.676218837063681, 8.051703224294176], [-2.3868279, 9.0], [0.0, 9.0]], [\"M\", \"C\", \"C\", \"C\", \"C\", \"C\", \"C\", \"C\", \"C\", \"Z\"]]}, {\"data\": \"data06\", \"xindex\": 0, \"yindex\": 2, \"coordinates\": \"axes\", \"id\": \"el41539140549460564720pts\", \"facecolor\": \"#D95F02\", \"edgecolor\": \"none\", \"edgewidth\": 1.0, \"alpha\": 1, \"zorder\": 1000002.0, \"markerpath\": [[[0.0, 9.0], [2.3868279, 9.0], [4.676218837063681, 8.051703224294176], [6.3639610306789285, 6.3639610306789285], [8.051703224294176, 4.676218837063681], [9.0, 2.3868279], [9.0, 0.0], [9.0, -2.3868279], [8.051703224294176, -4.676218837063681], [6.3639610306789285, -6.3639610306789285], [4.676218837063681, -8.051703224294176], [2.3868279, -9.0], [0.0, -9.0], [-2.3868279, -9.0], [-4.676218837063681, -8.051703224294176], [-6.3639610306789285, -6.3639610306789285], [-8.051703224294176, -4.676218837063681], [-9.0, -2.3868279], [-9.0, 0.0], [-9.0, 2.3868279], [-8.051703224294176, 4.676218837063681], [-6.3639610306789285, 6.3639610306789285], [-4.676218837063681, 8.051703224294176], [-2.3868279, 9.0], [0.0, 9.0]], [\"M\", \"C\", \"C\", \"C\", \"C\", \"C\", \"C\", \"C\", \"C\", \"Z\"]]}, {\"data\": \"data06\", \"xindex\": 0, \"yindex\": 3, \"coordinates\": \"axes\", \"id\": \"el41539140549421019584pts\", \"facecolor\": \"#7570B3\", \"edgecolor\": \"none\", \"edgewidth\": 1.0, \"alpha\": 1, \"zorder\": 1000002.0, \"markerpath\": [[[0.0, 9.0], [2.3868279, 9.0], [4.676218837063681, 8.051703224294176], [6.3639610306789285, 6.3639610306789285], [8.051703224294176, 4.676218837063681], [9.0, 2.3868279], [9.0, 0.0], [9.0, -2.3868279], [8.051703224294176, -4.676218837063681], [6.3639610306789285, -6.3639610306789285], [4.676218837063681, -8.051703224294176], [2.3868279, -9.0], [0.0, -9.0], [-2.3868279, -9.0], [-4.676218837063681, -8.051703224294176], [-6.3639610306789285, -6.3639610306789285], [-8.051703224294176, -4.676218837063681], [-9.0, -2.3868279], [-9.0, 0.0], [-9.0, 2.3868279], [-8.051703224294176, 4.676218837063681], [-6.3639610306789285, 6.3639610306789285], [-4.676218837063681, 8.051703224294176], [-2.3868279, 9.0], [0.0, 9.0]], [\"M\", \"C\", \"C\", \"C\", \"C\", \"C\", \"C\", \"C\", \"C\", \"Z\"]]}, {\"data\": \"data06\", \"xindex\": 0, \"yindex\": 4, \"coordinates\": \"axes\", \"id\": \"el41539140549421021264pts\", \"facecolor\": \"#E7298A\", \"edgecolor\": \"none\", \"edgewidth\": 1.0, \"alpha\": 1, \"zorder\": 1000002.0, \"markerpath\": [[[0.0, 9.0], [2.3868279, 9.0], [4.676218837063681, 8.051703224294176], [6.3639610306789285, 6.3639610306789285], [8.051703224294176, 4.676218837063681], [9.0, 2.3868279], [9.0, 0.0], [9.0, -2.3868279], [8.051703224294176, -4.676218837063681], [6.3639610306789285, -6.3639610306789285], [4.676218837063681, -8.051703224294176], [2.3868279, -9.0], [0.0, -9.0], [-2.3868279, -9.0], [-4.676218837063681, -8.051703224294176], [-6.3639610306789285, -6.3639610306789285], [-8.051703224294176, -4.676218837063681], [-9.0, -2.3868279], [-9.0, 0.0], [-9.0, 2.3868279], [-8.051703224294176, 4.676218837063681], [-6.3639610306789285, 6.3639610306789285], [-4.676218837063681, 8.051703224294176], [-2.3868279, 9.0], [0.0, 9.0]], [\"M\", \"C\", \"C\", \"C\", \"C\", \"C\", \"C\", \"C\", \"C\", \"Z\"]]}, {\"data\": \"data06\", \"xindex\": 0, \"yindex\": 5, \"coordinates\": \"axes\", \"id\": \"el41539140549460563280pts\", \"facecolor\": \"#66A61E\", \"edgecolor\": \"none\", \"edgewidth\": 1.0, \"alpha\": 1, \"zorder\": 1000002.0, \"markerpath\": [[[0.0, 9.0], [2.3868279, 9.0], [4.676218837063681, 8.051703224294176], [6.3639610306789285, 6.3639610306789285], [8.051703224294176, 4.676218837063681], [9.0, 2.3868279], [9.0, 0.0], [9.0, -2.3868279], [8.051703224294176, -4.676218837063681], [6.3639610306789285, -6.3639610306789285], [4.676218837063681, -8.051703224294176], [2.3868279, -9.0], [0.0, -9.0], [-2.3868279, -9.0], [-4.676218837063681, -8.051703224294176], [-6.3639610306789285, -6.3639610306789285], [-8.051703224294176, -4.676218837063681], [-9.0, -2.3868279], [-9.0, 0.0], [-9.0, 2.3868279], [-8.051703224294176, 4.676218837063681], [-6.3639610306789285, 6.3639610306789285], [-4.676218837063681, 8.051703224294176], [-2.3868279, 9.0], [0.0, 9.0]], [\"M\", \"C\", \"C\", \"C\", \"C\", \"C\", \"C\", \"C\", \"C\", \"Z\"]]}], \"texts\": [{\"text\": \"Family, home, war\", \"position\": [0.8204685099846392, 0.21768457198920774], \"coordinates\": \"axes\", \"h_anchor\": \"start\", \"v_baseline\": \"auto\", \"rotation\": -0.0, \"fontsize\": 10.0, \"color\": \"#000000\", \"alpha\": 1, \"zorder\": 1000003.0, \"id\": \"el41539140549460562128\"}, {\"text\": \"Police, killed, murders\", \"position\": [0.8204685099846392, 0.17169487368162864], \"coordinates\": \"axes\", \"h_anchor\": \"start\", \"v_baseline\": \"auto\", \"rotation\": -0.0, \"fontsize\": 10.0, \"color\": \"#000000\", \"alpha\": 1, \"zorder\": 1000003.0, \"id\": \"el41539140549460563808\"}, {\"text\": \"Father, New York, brothers\", \"position\": [0.8204685099846392, 0.12570517537404954], \"coordinates\": \"axes\", \"h_anchor\": \"start\", \"v_baseline\": \"auto\", \"rotation\": -0.0, \"fontsize\": 10.0, \"color\": \"#000000\", \"alpha\": 1, \"zorder\": 1000003.0, \"id\": \"el41539140549460565488\"}, {\"text\": \"Dance, singing, love\", \"position\": [0.8204685099846392, 0.07971547706647045], \"coordinates\": \"axes\", \"h_anchor\": \"start\", \"v_baseline\": \"auto\", \"rotation\": -0.0, \"fontsize\": 10.0, \"color\": \"#000000\", \"alpha\": 1, \"zorder\": 1000003.0, \"id\": \"el41539140549421020352\"}, {\"text\": \"Killed, soldiers, captain\", \"position\": [0.8204685099846392, 0.03372577875889135], \"coordinates\": \"axes\", \"h_anchor\": \"start\", \"v_baseline\": \"auto\", \"rotation\": -0.0, \"fontsize\": 10.0, \"color\": \"#000000\", \"alpha\": 1, \"zorder\": 1000003.0, \"id\": \"el41539140549421022032\"}], \"collections\": [], \"images\": [], \"sharex\": [], \"sharey\": []}], \"data\": {\"data01\": [[-0.03159215088404366, -0.45663791320402886], [0.05822957027256338, 0.256929533865531], [0.058399024554247426, -0.04612821871658942], [-0.43458221470796804, -0.29655933230579506], [0.6037432800571017, -0.3456991338989089], [0.3548063612344581, 0.008230388449868098], [-0.02172250207705443, -0.04277898807708071], [0.5177811917071925, -0.2536618659106638], [0.4335012948307977, 0.14567214405204687], [0.34339799473545496, 0.24588751780959872], [0.31820603526510766, 0.08767290955547546], [-0.19657213727582853, 0.39573854896210925], [0.3442345942883043, -0.13024993477969463], [0.1607366978752424, -0.11945297477856227], [0.1563795065783695, -0.21300821701033482], [0.18357552763037874, 0.3029327061666986], [0.12067866743532428, 0.4813363821584589], [0.12564351913288888, 0.4177899987124327], [0.21979780091087622, 0.48012585338200914], [0.48195453604347716, 0.008013240019345533], [0.4758882198147056, -0.4358383186309247], [0.2751629686852379, -0.2942902403479915], [-0.3243379724030205, 0.3312099814646893], [0.3243862951002719, -0.45653595159186383], [0.1850753249911779, 0.5789634882504009]], \"data02\": [[-0.2587368350262618, -0.26527516559786957], [-0.22775176430437058, 0.06867225264698684], [-0.4301218469327288, 0.28528616015883534], [-0.3527560545316662, 0.12706104279951017], [-0.5523024142568739, -0.22470452093169108], [0.4157900555927239, 0.4066680050040376], [-0.6622802065035606, -0.20503714364142692], [-0.45990623558854987, 0.007717409858540057], [-0.3416411136605303, 0.036359351999961084], [-0.34156011933518005, -0.06836233054197617], [-0.3394231160832892, -0.1511074564578018], [-0.18645450426356014, 0.150485309679993], [-0.4660099693912445, -0.09927639405993571], [-0.5791042079012638, 0.2903462882632784], [-0.20835174801118317, -0.05859486722959816], [-0.19967295689696812, 0.006401158105055958]], \"data03\": [[0.1842728439475597, -0.011715611328299623], [-0.13227195754649126, 0.5745384801472381], [0.011707339999011584, 0.4624485755347979], [0.07164980401234082, 0.13140842985205484], [-0.05321665416838313, 0.12337031922670556], [0.5307508765954988, 0.1293499548695287], [-0.28445673314938785, 0.27573355826080437], [0.21436568495015884, 0.21833323177235375], [0.4928973738021543, -0.14112529581269717], [-0.0697835765252865, 0.5697755231183568], [-0.5962489128496042, 0.19029081995111047], [0.20869950117396832, 0.06431546201598057], [0.5655872568440865, 0.3427492412662697], [-0.42084558901816005, 0.46273188035729895], [-0.3031164788430419, 0.47587091621770383], [0.6448729810407794, -0.1557495377370637], [-0.18141401157117412, 0.47664757937416014], [-0.028860474947472948, 0.6542407465232705], [0.6688477850887058, -0.08783283749852551], [-0.5521585808438269, 0.028891781654075178], [-0.5810674876200954, 0.10583683075043433]], \"data04\": [[-0.4842963450926421, 0.17299124057611814], [-0.34166783709147913, 0.6344444329502953], [0.4184044202336738, 0.5850489899951163], [-0.17157923142425296, 0.23225249097460976], [0.6698670628968674, 0.11896605280395367], [-0.20377837648670416, 0.5597732710930737], [0.4020451359180303, 0.49856493148445374], [0.6677334884276219, 0.2695002905230577], [-0.02234991385406897, 0.3387044447457824], [0.06214704621807539, 0.6101371440051012], [-0.6012517387271848, -0.0418859194691775], [0.6273622875630892, 0.3594269833423288]], \"data05\": [[0.44206412093578173, -0.27869804841256207], [-0.2509077886527682, -0.5748301691298103], [0.5523203950143739, 0.4906695451776374], [0.19843842072642093, -0.3892916828503908], [0.3500865831297658, -0.33952163222346426], [-0.0822211719046293, -0.5783371225442145], [-0.016415337094761003, -0.6356033887664564], [0.019707608446931178, -0.6360131358153785], [0.24381678674291052, -0.5041387862290508], [0.08011541418687525, -0.4798779364145004], [-0.1524708594907454, -0.3409184384980287], [-0.020101379300060913, -0.3570984271707861], [-0.15353411958657529, -0.3013348801222534], [-0.22754763513663467, -0.45049222698404334], [0.1287536654528344, -0.6684899512527609], [0.07969434882060063, -0.3889371661029437], [-0.34789814258235424, -0.3258509720117311], [-0.3609008933642027, -0.48196142317941265], [-0.11274056497585859, -0.49926901658843537], [0.18267302179861425, -0.5787625309524596], [-0.0876522433589088, -0.20078309954756865], [-0.18334149000822167, -0.5551280766277863], [-0.551459865435424, 0.3351166974656385], [-0.5674182514385872, -0.35374010333970207], [-0.4533760890831642, -0.4451810757043979], [0.33498008050466554, -0.6458620573675335]], \"data06\": [[0.7974270353302613, 0.22841550159430954, 0.18242580328673044, 0.13643610497915135, 0.09044640667157224, 0.04445670836399314]], \"data07\": [[0.7820660522273426, 0.015329899435859717], [0.9910394265232977, 0.015329899435859717], [0.9935995903737841, 0.015329899435859717], [0.9935995903737841, 0.021461859210203577], [0.9935995903737841, 0.24834437086092717], [0.9935995903737841, 0.254476330635271], [0.9910394265232977, 0.254476330635271], [0.7820660522273426, 0.254476330635271], [0.7795058883768562, 0.254476330635271], [0.7795058883768562, 0.24834437086092717], [0.7795058883768562, 0.021461859210203577], [0.7795058883768562, 0.015329899435859717], [0.7820660522273426, 0.015329899435859717]]}, \"id\": \"el41539140549417513360\", \"plugins\": [{\"type\": \"reset\"}, {\"type\": \"zoom\", \"button\": true, \"enabled\": false}, {\"type\": \"boxzoom\", \"button\": true, \"enabled\": false}, {\"type\": \"htmltooltip\", \"id\": \"el41539140549460540096pts\", \"labels\": [\"Schindler's List\", \"One Flew Over the Cuckoo's Nest\", \"Gone with the Wind\", \"The Wizard of Oz\", \"Titanic\", \"Forrest Gump\", \"E.T. the Extra-Terrestrial\", \"The Silence of the Lambs\", \"Gandhi\", \"A Streetcar Named Desire\", \"The Best Years of Our Lives\", \"My Fair Lady\", \"Ben-Hur\", \"Doctor Zhivago\", \"The Pianist\", \"The Exorcist\", \"Out of Africa\", \"Good Will Hunting\", \"Terms of Endearment\", \"Giant\", \"The Grapes of Wrath\", \"Close Encounters of the Third Kind\", \"The Graduate\", \"Stagecoach\", \"Wuthering Heights\"], \"targets\": null, \"hoffset\": 10, \"voffset\": 10}, {\"type\": \"toptoolbar\"}, {\"type\": \"htmltooltip\", \"id\": \"el41539140549460541248pts\", \"labels\": [\"Casablanca\", \"Psycho\", \"Sunset Blvd.\", \"Vertigo\", \"Chinatown\", \"Amadeus\", \"High Noon\", \"The French Connection\", \"Fargo\", \"Pulp Fiction\", \"The Maltese Falcon\", \"A Clockwork Orange\", \"Double Indemnity\", \"Rebel Without a Cause\", \"The Third Man\", \"North by Northwest\"], \"targets\": null, \"hoffset\": 10, \"voffset\": 10}, {\"type\": \"toptoolbar\"}, {\"type\": \"htmltooltip\", \"id\": \"el41539140549460534320pts\", \"labels\": [\"The Godfather\", \"Raging Bull\", \"Citizen Kane\", \"The Godfather: Part II\", \"On the Waterfront\", \"12 Angry Men\", \"Rocky\", \"To Kill a Mockingbird\", \"Braveheart\", \"The Good, the Bad and the Ugly\", \"The Apartment\", \"Goodfellas\", \"City Lights\", \"It Happened One Night\", \"Midnight Cowboy\", \"Mr. Smith Goes to Washington\", \"Rain Man\", \"Annie Hall\", \"Network\", \"Taxi Driver\", \"Rear Window\"], \"targets\": null, \"hoffset\": 10, \"voffset\": 10}, {\"type\": \"toptoolbar\"}, {\"type\": \"htmltooltip\", \"id\": \"el41539140549460535472pts\", \"labels\": [\"West Side Story\", \"Singin' in the Rain\", \"It's a Wonderful Life\", \"Some Like It Hot\", \"The Philadelphia Story\", \"An American in Paris\", \"The King's Speech\", \"A Place in the Sun\", \"Tootsie\", \"Nashville\", \"American Graffiti\", \"Yankee Doodle Dandy\"], \"targets\": null, \"hoffset\": 10, \"voffset\": 10}, {\"type\": \"toptoolbar\"}, {\"type\": \"htmltooltip\", \"id\": \"el41539140549460536576pts\", \"labels\": [\"The Shawshank Redemption\", \"Lawrence of Arabia\", \"The Sound of Music\", \"Star Wars\", \"2001: A Space Odyssey\", \"The Bridge on the River Kwai\", \"Dr. Strangelove or: How I Learned to Stop Worrying and Love the Bomb\", \"Apocalypse Now\", \"The Lord of the Rings: The Return of the King\", \"Gladiator\", \"From Here to Eternity\", \"Saving Private Ryan\", \"Unforgiven\", \"Raiders of the Lost Ark\", \"Patton\", \"Jaws\", \"Butch Cassidy and the Sundance Kid\", \"The Treasure of the Sierra Madre\", \"Platoon\", \"Dances with Wolves\", \"The Deer Hunter\", \"All Quiet on the Western Front\", \"Shane\", \"The Green Mile\", \"The African Queen\", \"Mutiny on the Bounty\"], \"targets\": null, \"hoffset\": 10, \"voffset\": 10}, {\"type\": \"toptoolbar\"}]});\n",
       "            })\n",
       "         });\n",
       "}\n",
       "</script>"
      ],
      "text/plain": [
       "<IPython.core.display.HTML object>"
      ]
     },
     "execution_count": 51,
     "metadata": {},
     "output_type": "execute_result"
    }
   ],
   "source": [
    "#create data frame that has the result of the MDS plus the cluster numbers and titles\n",
    "df = pd.DataFrame(dict(x=xs, y=ys, label=clusters2, title=titles)) \n",
    "\n",
    "#group by cluster\n",
    "groups = df.groupby('label')\n",
    "\n",
    "#define custom css to format the font and to remove the axis labeling\n",
    "css = \"\"\"\n",
    "text.mpld3-text, div.mpld3-tooltip {\n",
    "  font-family:Arial, Helvetica, sans-serif;\n",
    "}\n",
    "\n",
    "g.mpld3-xaxis, g.mpld3-yaxis {\n",
    "display: none; }\n",
    "\"\"\"\n",
    "\n",
    "# Plot \n",
    "fig, ax = plt.subplots(figsize=(14,6)) #set plot size\n",
    "ax.margins(0.03) # Optional, just adds 5% padding to the autoscaling\n",
    "\n",
    "#iterate through groups to layer the plot\n",
    "#note that I use the cluster_name and cluster_color dicts with the 'name' lookup to return the appropriate color/label\n",
    "for name, group in groups:\n",
    "    points = ax.plot(group.x, group.y, marker='o', linestyle='', ms=18, label=cluster_names[name], mec='none', color=cluster_colors[name])\n",
    "    ax.set_aspect('auto')\n",
    "    labels = [i for i in group.title]\n",
    "    \n",
    "    #set tooltip using points, labels and the already defined 'css'\n",
    "    tooltip = mpld3.plugins.PointHTMLTooltip(points[0], labels,\n",
    "                                       voffset=10, hoffset=10, css=css)\n",
    "    #connect tooltip to fig\n",
    "    mpld3.plugins.connect(fig, tooltip, TopToolbar())    \n",
    "    \n",
    "    #set tick marks as blank\n",
    "    ax.axes.get_xaxis().set_ticks([])\n",
    "    ax.axes.get_yaxis().set_ticks([])\n",
    "    \n",
    "    #set axis as blank\n",
    "    ax.axes.get_xaxis().set_visible(False)\n",
    "    ax.axes.get_yaxis().set_visible(False)\n",
    "\n",
    "    \n",
    "ax.legend(numpoints=1) #show legend with only one dot\n",
    "\n",
    "mpld3.display() #show the plot\n",
    "\n",
    "#uncomment the below to export to html\n",
    "#html = mpld3.fig_to_html(fig)\n",
    "#print(html)"
   ]
  },
  {
   "cell_type": "markdown",
   "metadata": {},
   "source": [
    "# Hierarchical document clustering"
   ]
  },
  {
   "cell_type": "code",
   "execution_count": 52,
   "metadata": {
    "collapsed": false,
    "jupyter": {
     "outputs_hidden": false
    }
   },
   "outputs": [
    {
     "data": {
      "image/png": "[encoded data removed]",
      "text/plain": [
       "<Figure size 1080x1440 with 1 Axes>"
      ]
     },
     "metadata": {
      "needs_background": "light"
     },
     "output_type": "display_data"
    }
   ],
   "source": [
    "from scipy.cluster.hierarchy import ward, dendrogram\n",
    "\n",
    "linkage_matrix = ward(dist) #define the linkage_matrix using ward clustering pre-computed distances\n",
    "\n",
    "fig, ax = plt.subplots(figsize=(15, 20)) # set size\n",
    "ax = dendrogram(linkage_matrix, orientation=\"right\", labels=titles);\n",
    "\n",
    "plt.tick_params(\\\n",
    "    axis= 'x',          # changes apply to the x-axis\n",
    "    which='both',      # both major and minor ticks are affected\n",
    "    bottom='off',      # ticks along the bottom edge are off\n",
    "    top='off',         # ticks along the top edge are off\n",
    "    labelbottom='off')\n",
    "\n",
    "plt.tight_layout() #show plot with tight layout\n",
    "\n",
    "#uncomment below to save figure\n",
    "plt.savefig('ward_clusters.png', dpi=200) #save figure as ward_clusters"
   ]
  },
  {
   "cell_type": "code",
   "execution_count": 53,
   "metadata": {
    "collapsed": false,
    "jupyter": {
     "outputs_hidden": false
    }
   },
   "outputs": [],
   "source": [
    "plt.close()"
   ]
  },
  {
   "cell_type": "markdown",
   "metadata": {},
   "source": [
    "# Latent Dirichlet Allocation\n",
    "* cf) https://12-03.tistory.com/2?category=720530"
   ]
  },
  {
   "cell_type": "code",
   "execution_count": 54,
   "metadata": {
    "collapsed": false,
    "jupyter": {
     "outputs_hidden": false
    }
   },
   "outputs": [],
   "source": [
    "#strip any proper names from a text...unfortunately right now this is yanking the first word from a sentence too.\n",
    "import string\n",
    "def strip_proppers(text):\n",
    "    # first tokenize by sentence, then by word to ensure that punctuation is caught as it's own token\n",
    "    tokens = [word for sent in nltk.sent_tokenize(text) for word in nltk.word_tokenize(sent) if word.islower()]\n",
    "    return \"\".join([\" \"+i if not i.startswith(\"'\") and i not in string.punctuation else i for i in tokens]).strip()"
   ]
  },
  {
   "cell_type": "code",
   "execution_count": 55,
   "metadata": {
    "collapsed": false,
    "jupyter": {
     "outputs_hidden": false
    }
   },
   "outputs": [],
   "source": [
    "#strip any proper nouns (NNP) or plural proper nouns (NNPS) from a text\n",
    "from nltk.tag import pos_tag\n",
    "\n",
    "def strip_proppers_POS(text):\n",
    "    tagged = pos_tag(text.split()) #use NLTK's part of speech tagger\n",
    "    non_propernouns = [word for word,pos in tagged if pos != 'NNP' and pos != 'NNPS']\n",
    "    return non_propernouns"
   ]
  },
  {
   "cell_type": "code",
   "execution_count": 89,
   "metadata": {
    "collapsed": false,
    "jupyter": {
     "outputs_hidden": false
    }
   },
   "outputs": [
    {
     "name": "stdout",
     "output_type": "stream",
     "text": [
      "CPU times: user 2.82 s, sys: 5.83 ms, total: 2.83 s\n",
      "Wall time: 2.83 s\n",
      "CPU times: user 306 ms, sys: 1.53 ms, total: 307 ms\n",
      "Wall time: 307 ms\n"
     ]
    }
   ],
   "source": [
    "#Latent Dirichlet Allocation implementation with Gensim\n",
    "\n",
    "from gensim import corpora, models, similarities \n",
    "\n",
    "#remove proper names\n",
    "preprocess = [strip_proppers(doc) for doc in synopses]\n",
    "\n",
    "%time tokenized_text = [tokenize_and_stem(text) for text in preprocess]\n",
    "%time texts = [[word for word in text if word not in stopwords] for text in tokenized_text]"
   ]
  },
  {
   "cell_type": "code",
   "execution_count": 90,
   "metadata": {
    "collapsed": false,
    "jupyter": {
     "outputs_hidden": false
    }
   },
   "outputs": [
    {
     "name": "stdout",
     "output_type": "stream",
     "text": [
      "1839\n"
     ]
    }
   ],
   "source": [
    "#print(len([word for word in texts[0] if word not in stopwords]))\n",
    "print(len(texts[0]))"
   ]
  },
  {
   "cell_type": "code",
   "execution_count": 91,
   "metadata": {
    "collapsed": false,
    "jupyter": {
     "outputs_hidden": false
    }
   },
   "outputs": [],
   "source": [
    "dictionary = corpora.Dictionary(texts) # text 사전 구축 "
   ]
  },
  {
   "cell_type": "code",
   "execution_count": 92,
   "metadata": {
    "collapsed": false,
    "jupyter": {
     "outputs_hidden": false
    }
   },
   "outputs": [],
   "source": [
    "dictionary.filter_extremes(no_below=1, no_above=0.8) # 너무 자주 나오거나, 너무 안 나오는 단어들 지우기 "
   ]
  },
  {
   "cell_type": "code",
   "execution_count": 93,
   "metadata": {
    "collapsed": false,
    "jupyter": {
     "outputs_hidden": false
    }
   },
   "outputs": [],
   "source": [
    "corpus = [dictionary.doc2bow(text) for text in texts] # doc2bow : 문서 데이터 수치화 - 문서를 단어의 id와 빈도수로 수치화 (bow = bag of words)"
   ]
  },
  {
   "cell_type": "code",
   "execution_count": 94,
   "metadata": {
    "collapsed": false,
    "jupyter": {
     "outputs_hidden": false
    }
   },
   "outputs": [
    {
     "data": {
      "text/plain": [
       "100"
      ]
     },
     "execution_count": 94,
     "metadata": {},
     "output_type": "execute_result"
    }
   ],
   "source": [
    "len(corpus)"
   ]
  },
  {
   "cell_type": "code",
   "execution_count": 95,
   "metadata": {
    "collapsed": false,
    "jupyter": {
     "outputs_hidden": false
    }
   },
   "outputs": [
    {
     "name": "stdout",
     "output_type": "stream",
     "text": [
      "CPU times: user 1min 58s, sys: 502 ms, total: 1min 58s\n",
      "Wall time: 29.8 s\n"
     ]
    }
   ],
   "source": [
    "%time lda = models.LdaModel(corpus, num_topics=5, id2word=dictionary, update_every=5, chunksize=10000, passes=100)"
   ]
  },
  {
   "cell_type": "code",
   "execution_count": 96,
   "metadata": {
    "collapsed": false,
    "jupyter": {
     "outputs_hidden": false
    }
   },
   "outputs": [
    {
     "name": "stdout",
     "output_type": "stream",
     "text": [
      "[(0, 0.42289057), (1, 0.26024964), (2, 0.3166122)]\n"
     ]
    }
   ],
   "source": [
    "print(lda[corpus[0]])"
   ]
  },
  {
   "cell_type": "code",
   "execution_count": 97,
   "metadata": {
    "collapsed": false,
    "jupyter": {
     "outputs_hidden": false
    }
   },
   "outputs": [],
   "source": [
    "topics = lda.print_topics(5, num_words=20)"
   ]
  },
  {
   "cell_type": "code",
   "execution_count": 98,
   "metadata": {},
   "outputs": [
    {
     "data": {
      "text/plain": [
       "[(0,\n",
       "  '0.007*\"father\" + 0.007*\"famili\" + 0.005*\"kill\" + 0.004*\"son\" + 0.004*\"ask\" + 0.004*\"meet\" + 0.004*\"n\\'t\" + 0.004*\"friend\" + 0.004*\"sing\" + 0.003*\"love\" + 0.003*\"becom\" + 0.003*\"polic\" + 0.003*\"brother\" + 0.003*\"show\" + 0.003*\"film\" + 0.003*\"night\" + 0.003*\"refus\" + 0.003*\"also\" + 0.003*\"murder\" + 0.003*\"go\"'),\n",
       " (1,\n",
       "  '0.006*\"car\" + 0.005*\"ask\" + 0.005*\"meet\" + 0.005*\"kill\" + 0.005*\"apart\" + 0.005*\"call\" + 0.004*\"polic\" + 0.004*\"go\" + 0.004*\"friend\" + 0.004*\"say\" + 0.004*\"n\\'t\" + 0.004*\"two\" + 0.004*\"night\" + 0.004*\"doe\" + 0.004*\"arriv\" + 0.004*\"goe\" + 0.004*\"day\" + 0.004*\"offic\" + 0.004*\"want\" + 0.003*\"next\"'),\n",
       " (2,\n",
       "  '0.008*\"kill\" + 0.006*\"men\" + 0.005*\"soldier\" + 0.005*\"order\" + 0.004*\"two\" + 0.004*\"arriv\" + 0.004*\"attack\" + 0.003*\"offic\" + 0.003*\"home\" + 0.003*\"n\\'t\" + 0.003*\"escap\" + 0.003*\"ship\" + 0.003*\"famili\" + 0.003*\"fire\" + 0.003*\"camp\" + 0.003*\"set\" + 0.003*\"command\" + 0.003*\"help\" + 0.003*\"group\" + 0.003*\"sever\"'),\n",
       " (3,\n",
       "  '0.005*\"home\" + 0.004*\"friend\" + 0.004*\"go\" + 0.004*\"day\" + 0.004*\"shark\" + 0.004*\"run\" + 0.004*\"say\" + 0.004*\"mother\" + 0.004*\"hous\" + 0.003*\"love\" + 0.003*\"first\" + 0.003*\"away\" + 0.003*\"life\" + 0.003*\"father\" + 0.003*\"come\" + 0.003*\"want\" + 0.003*\"two\" + 0.003*\"famili\" + 0.003*\"name\" + 0.003*\"ask\"'),\n",
       " (4,\n",
       "  '0.004*\"film\" + 0.004*\"kill\" + 0.004*\"command\" + 0.003*\"say\" + 0.003*\"life\" + 0.003*\"order\" + 0.003*\"attempt\" + 0.003*\"gold\" + 0.003*\"bandit\" + 0.003*\"attack\" + 0.003*\"first\" + 0.003*\"end\" + 0.003*\"way\" + 0.003*\"offic\" + 0.003*\"fight\" + 0.003*\"dure\" + 0.003*\"later\" + 0.003*\"home\" + 0.003*\"death\" + 0.003*\"father\"')]"
      ]
     },
     "execution_count": 98,
     "metadata": {},
     "output_type": "execute_result"
    }
   ],
   "source": [
    "topics"
   ]
  },
  {
   "cell_type": "code",
   "execution_count": 99,
   "metadata": {
    "collapsed": false,
    "jupyter": {
     "outputs_hidden": false
    }
   },
   "outputs": [],
   "source": [
    "topics_matrix = lda.show_topics(formatted=False, num_words=20)"
   ]
  },
  {
   "cell_type": "code",
   "execution_count": 100,
   "metadata": {
    "collapsed": false,
    "jupyter": {
     "outputs_hidden": false
    }
   },
   "outputs": [],
   "source": [
    "topics_matrix = np.array(topics_matrix)"
   ]
  },
  {
   "cell_type": "code",
   "execution_count": 101,
   "metadata": {},
   "outputs": [
    {
     "data": {
      "text/plain": [
       "array([[0,\n",
       "        list([('father', 0.007152229), ('famili', 0.0065334467), ('kill', 0.0048802835), ('son', 0.0044699544), ('ask', 0.0042116386), ('meet', 0.004099474), (\"n't\", 0.0037404401), ('friend', 0.0036956642), ('sing', 0.0036420985), ('love', 0.0034754174), ('becom', 0.0034734365), ('polic', 0.0034406339), ('brother', 0.0033877755), ('show', 0.0031788712), ('film', 0.0031714437), ('night', 0.00310722), ('refus', 0.0030975854), ('also', 0.0030634608), ('murder', 0.0030321407), ('go', 0.003024812)])],\n",
       "       [1,\n",
       "        list([('car', 0.0061929226), ('ask', 0.0054927017), ('meet', 0.005228406), ('kill', 0.0051161973), ('apart', 0.0047563217), ('call', 0.0047073206), ('polic', 0.004487032), ('go', 0.0042926674), ('friend', 0.0041936752), ('say', 0.0040315017), (\"n't\", 0.0040199934), ('two', 0.0038845725), ('night', 0.0038321435), ('doe', 0.0038021842), ('arriv', 0.0037961483), ('goe', 0.0037848162), ('day', 0.0037815443), ('offic', 0.0037363481), ('want', 0.003727335), ('next', 0.0034266573)])],\n",
       "       [2,\n",
       "        list([('kill', 0.0076653585), ('men', 0.005555778), ('soldier', 0.0052627954), ('order', 0.004941378), ('two', 0.004268054), ('arriv', 0.003709058), ('attack', 0.0036029364), ('offic', 0.0032317282), ('home', 0.0032074878), (\"n't\", 0.003094232), ('escap', 0.003041826), ('ship', 0.002974201), ('famili', 0.002943557), ('fire', 0.0029397847), ('camp', 0.0029179591), ('set', 0.0029173538), ('command', 0.0029013532), ('help', 0.0028833183), ('group', 0.00276119), ('sever', 0.002734484)])],\n",
       "       [3,\n",
       "        list([('home', 0.0054524043), ('friend', 0.0041519897), ('go', 0.0039903005), ('day', 0.0037766565), ('shark', 0.003743623), ('run', 0.003728109), ('say', 0.003598108), ('mother', 0.0035543486), ('hous', 0.0035274462), ('love', 0.0033003143), ('first', 0.0032553116), ('away', 0.003252195), ('life', 0.0032115397), ('father', 0.0031417105), ('come', 0.0031371247), ('want', 0.0031276052), ('two', 0.003100848), ('famili', 0.003089985), ('name', 0.0030756341), ('ask', 0.0030386462)])],\n",
       "       [4,\n",
       "        list([('film', 0.0042070267), ('kill', 0.00404916), ('command', 0.003555492), ('say', 0.0032113974), ('life', 0.003147716), ('order', 0.003103536), ('attempt', 0.003038463), ('gold', 0.0029774832), ('bandit', 0.0029763745), ('attack', 0.002974034), ('first', 0.002925202), ('end', 0.002893491), ('way', 0.00287257), ('offic', 0.0028499414), ('fight', 0.002817642), ('dure', 0.002760904), ('later', 0.0027514242), ('home', 0.0026984122), ('death', 0.0026785613), ('father', 0.0026549788)])]],\n",
       "      dtype=object)"
      ]
     },
     "execution_count": 101,
     "metadata": {},
     "output_type": "execute_result"
    }
   ],
   "source": [
    "topics_matrix"
   ]
  },
  {
   "cell_type": "code",
   "execution_count": 102,
   "metadata": {
    "collapsed": false,
    "jupyter": {
     "outputs_hidden": false
    }
   },
   "outputs": [
    {
     "data": {
      "text/plain": [
       "(5, 2)"
      ]
     },
     "execution_count": 102,
     "metadata": {},
     "output_type": "execute_result"
    }
   ],
   "source": [
    "topics_matrix.shape"
   ]
  },
  {
   "cell_type": "code",
   "execution_count": 110,
   "metadata": {
    "collapsed": false,
    "jupyter": {
     "outputs_hidden": false
    }
   },
   "outputs": [
    {
     "name": "stdout",
     "output_type": "stream",
     "text": [
      "['father', 'famili', 'kill', 'son', 'ask', 'meet', \"n't\", 'friend', 'sing', 'love', 'becom', 'polic', 'brother', 'show', 'film', 'night', 'refus', 'also', 'murder', 'go']\n",
      "\n",
      "['car', 'ask', 'meet', 'kill', 'apart', 'call', 'polic', 'go', 'friend', 'say', \"n't\", 'two', 'night', 'doe', 'arriv', 'goe', 'day', 'offic', 'want', 'next']\n",
      "\n",
      "['kill', 'men', 'soldier', 'order', 'two', 'arriv', 'attack', 'offic', 'home', \"n't\", 'escap', 'ship', 'famili', 'fire', 'camp', 'set', 'command', 'help', 'group', 'sever']\n",
      "\n",
      "['home', 'friend', 'go', 'day', 'shark', 'run', 'say', 'mother', 'hous', 'love', 'first', 'away', 'life', 'father', 'come', 'want', 'two', 'famili', 'name', 'ask']\n",
      "\n",
      "['film', 'kill', 'command', 'say', 'life', 'order', 'attempt', 'gold', 'bandit', 'attack', 'first', 'end', 'way', 'offic', 'fight', 'dure', 'later', 'home', 'death', 'father']\n",
      "\n"
     ]
    }
   ],
   "source": [
    "for i in topic_words:\n",
    "    print([word[0] for word in i])\n",
    "    print()"
   ]
  }
 ],
 "metadata": {
  "kernelspec": {
   "display_name": "Python 3",
   "language": "python",
   "name": "python3"
  },
  "language_info": {
   "codemirror_mode": {
    "name": "ipython",
    "version": 3
   },
   "file_extension": ".py",
   "mimetype": "text/x-python",
   "name": "python",
   "nbconvert_exporter": "python",
   "pygments_lexer": "ipython3",
   "version": "3.8.3"
  }
 },
 "nbformat": 4,
 "nbformat_minor": 4
}
