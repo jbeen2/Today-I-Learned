{
 "cells": [
  {
   "cell_type": "markdown",
   "metadata": {
    "id": "avOg5dCTHjLo"
   },
   "source": [
    "# Three ANN Models \n",
    "1. MLP\n",
    "2. CNN\n",
    "3. RNN & LSTM"
   ]
  },
  {
   "cell_type": "code",
   "execution_count": 1,
   "metadata": {
    "colab": {
     "base_uri": "https://localhost:8080/",
     "height": 350
    },
    "id": "oLuHAgxZHjLp",
    "outputId": "c331a9a9-0104-42a7-ecc2-5cd1ba8406f4"
   },
   "outputs": [
    {
     "name": "stdout",
     "output_type": "stream",
     "text": [
      "Downloading data from https://storage.googleapis.com/tensorflow/tf-keras-datasets/mnist.npz\n",
      "11493376/11490434 [==============================] - 0s 0us/step\n",
      "5\n"
     ]
    },
    {
     "data": {
      "image/png": "[encoded data removed]",
      "text/plain": [
       "<Figure size 432x288 with 1 Axes>"
      ]
     },
     "metadata": {
      "needs_background": "light",
      "tags": []
     },
     "output_type": "display_data"
    },
    {
     "name": "stdout",
     "output_type": "stream",
     "text": [
      "(60000, 28, 28)\n",
      "(10000, 28, 28)\n"
     ]
    }
   ],
   "source": [
    "%matplotlib inline\n",
    "import matplotlib.pyplot as plt\n",
    "from keras.datasets import mnist\n",
    "\n",
    "(x_train, y_train), (x_test, y_test) = mnist.load_data()\n",
    "image_index = 35\n",
    "print(y_train[image_index])\n",
    "plt.imshow(x_train[image_index], cmap='Greys')\n",
    "plt.show()\n",
    "\n",
    "print(x_train.shape)\n",
    "print(x_test.shape)"
   ]
  },
  {
   "cell_type": "code",
   "execution_count": 2,
   "metadata": {
    "colab": {
     "base_uri": "https://localhost:8080/",
     "height": 646
    },
    "id": "1gy6Wn1vHjLt",
    "outputId": "7b00ae94-f4a1-475d-d0a2-9afdada02ddc",
    "scrolled": true
   },
   "outputs": [
    {
     "name": "stdout",
     "output_type": "stream",
     "text": [
      "[5 0 4 1 9 2 1 3 1 4 3 5 3 6 1 7 2 8 6 9 4 0 9 1 1 2 4 3 2 7 3 8 6 9 0 5]\n",
      "[[0. 0. 0. 0. 0. 1. 0. 0. 0. 0.]\n",
      " [1. 0. 0. 0. 0. 0. 0. 0. 0. 0.]\n",
      " [0. 0. 0. 0. 1. 0. 0. 0. 0. 0.]\n",
      " [0. 1. 0. 0. 0. 0. 0. 0. 0. 0.]\n",
      " [0. 0. 0. 0. 0. 0. 0. 0. 0. 1.]\n",
      " [0. 0. 1. 0. 0. 0. 0. 0. 0. 0.]\n",
      " [0. 1. 0. 0. 0. 0. 0. 0. 0. 0.]\n",
      " [0. 0. 0. 1. 0. 0. 0. 0. 0. 0.]\n",
      " [0. 1. 0. 0. 0. 0. 0. 0. 0. 0.]\n",
      " [0. 0. 0. 0. 1. 0. 0. 0. 0. 0.]\n",
      " [0. 0. 0. 1. 0. 0. 0. 0. 0. 0.]\n",
      " [0. 0. 0. 0. 0. 1. 0. 0. 0. 0.]\n",
      " [0. 0. 0. 1. 0. 0. 0. 0. 0. 0.]\n",
      " [0. 0. 0. 0. 0. 0. 1. 0. 0. 0.]\n",
      " [0. 1. 0. 0. 0. 0. 0. 0. 0. 0.]\n",
      " [0. 0. 0. 0. 0. 0. 0. 1. 0. 0.]\n",
      " [0. 0. 1. 0. 0. 0. 0. 0. 0. 0.]\n",
      " [0. 0. 0. 0. 0. 0. 0. 0. 1. 0.]\n",
      " [0. 0. 0. 0. 0. 0. 1. 0. 0. 0.]\n",
      " [0. 0. 0. 0. 0. 0. 0. 0. 0. 1.]\n",
      " [0. 0. 0. 0. 1. 0. 0. 0. 0. 0.]\n",
      " [1. 0. 0. 0. 0. 0. 0. 0. 0. 0.]\n",
      " [0. 0. 0. 0. 0. 0. 0. 0. 0. 1.]\n",
      " [0. 1. 0. 0. 0. 0. 0. 0. 0. 0.]\n",
      " [0. 1. 0. 0. 0. 0. 0. 0. 0. 0.]\n",
      " [0. 0. 1. 0. 0. 0. 0. 0. 0. 0.]\n",
      " [0. 0. 0. 0. 1. 0. 0. 0. 0. 0.]\n",
      " [0. 0. 0. 1. 0. 0. 0. 0. 0. 0.]\n",
      " [0. 0. 1. 0. 0. 0. 0. 0. 0. 0.]\n",
      " [0. 0. 0. 0. 0. 0. 0. 1. 0. 0.]\n",
      " [0. 0. 0. 1. 0. 0. 0. 0. 0. 0.]\n",
      " [0. 0. 0. 0. 0. 0. 0. 0. 1. 0.]\n",
      " [0. 0. 0. 0. 0. 0. 1. 0. 0. 0.]\n",
      " [0. 0. 0. 0. 0. 0. 0. 0. 0. 1.]\n",
      " [1. 0. 0. 0. 0. 0. 0. 0. 0. 0.]\n",
      " [0. 0. 0. 0. 0. 1. 0. 0. 0. 0.]]\n"
     ]
    }
   ],
   "source": [
    "from keras.utils import to_categorical\n",
    "num_classes = 10\n",
    "\n",
    "print(y_train[:image_index + 1])\n",
    "y_train = to_categorical(y_train, num_classes)\n",
    "print(y_train[:image_index + 1])\n",
    "y_test = to_categorical(y_test, num_classes)"
   ]
  },
  {
   "cell_type": "markdown",
   "metadata": {
    "id": "cDTEpuFGHjLw"
   },
   "source": [
    "# 1. Mnist Training with MLP (Multi Layer Perceptron)\n",
    "* https://towardsdatascience.com/beginners-guide-to-building-neural-networks-in-tensorflow-dab7a09b941d"
   ]
  },
  {
   "cell_type": "code",
   "execution_count": 3,
   "metadata": {
    "colab": {
     "base_uri": "https://localhost:8080/",
     "height": 85
    },
    "id": "5iIqtukHWGvB",
    "outputId": "a0450b69-3694-4a6e-e0c6-2f500d76fb28"
   },
   "outputs": [
    {
     "name": "stdout",
     "output_type": "stream",
     "text": [
      "\u001b[K     |████████████████████████████████| 380.5MB 43kB/s \n",
      "\u001b[K     |████████████████████████████████| 501kB 50.2MB/s \n",
      "\u001b[K     |████████████████████████████████| 51kB 6.9MB/s \n",
      "\u001b[K     |████████████████████████████████| 4.3MB 56.0MB/s \n",
      "\u001b[?25h"
     ]
    }
   ],
   "source": [
    "from __future__ import absolute_import, division, print_function, unicode_literals\n",
    "!pip install -q tensorflow-gpu==2.0.0-rc1 # tensorflow gpu version 설치"
   ]
  },
  {
   "cell_type": "code",
   "execution_count": 4,
   "metadata": {
    "colab": {
     "base_uri": "https://localhost:8080/",
     "height": 35
    },
    "id": "q7b2NXXFVj_j",
    "outputId": "d464aa6c-9702-4281-91ad-6b04495aa1d2"
   },
   "outputs": [
    {
     "data": {
      "application/vnd.google.colaboratory.intrinsic+json": {
       "type": "string"
      },
      "text/plain": [
       "'2.3.0'"
      ]
     },
     "execution_count": 4,
     "metadata": {
      "tags": []
     },
     "output_type": "execute_result"
    }
   ],
   "source": [
    "import tensorflow as tf\n",
    "tf.__version__"
   ]
  },
  {
   "cell_type": "markdown",
   "metadata": {
    "id": "nCQUPjwKXVq1"
   },
   "source": [
    "## 1. baseline code "
   ]
  },
  {
   "cell_type": "code",
   "execution_count": 5,
   "metadata": {
    "colab": {
     "base_uri": "https://localhost:8080/",
     "height": 190
    },
    "id": "zu--CuvCHjLw",
    "outputId": "9cf5e1be-15d7-4126-a9b9-bec39c54c66b",
    "scrolled": true
   },
   "outputs": [
    {
     "name": "stdout",
     "output_type": "stream",
     "text": [
      "Epoch 1/3\n",
      "1875/1875 [==============================] - 3s 2ms/step - loss: 0.2968 - accuracy: 0.9135\n",
      "Epoch 2/3\n",
      "1875/1875 [==============================] - 3s 2ms/step - loss: 0.1426 - accuracy: 0.9577\n",
      "Epoch 3/3\n",
      "1875/1875 [==============================] - 3s 2ms/step - loss: 0.1048 - accuracy: 0.9685\n",
      "  1/313 [..............................] - ETA: 0s - loss: 0.0606 - accuracy: 0.9688WARNING:tensorflow:Callbacks method `on_test_batch_end` is slow compared to the batch time (batch time: 0.0015s vs `on_test_batch_end` time: 0.0029s). Check your callbacks.\n",
      "313/313 [==============================] - 1s 2ms/step - loss: 0.0856 - accuracy: 0.9727\n",
      "test loss, test acc: [0.08560201525688171, 0.9726999998092651]\n"
     ]
    }
   ],
   "source": [
    "# 1. dataset 생성하기 \n",
    "mnist = tf.keras.datasets.mnist\n",
    "(x_train, y_train), (x_test, y_test) = mnist.load_data()\n",
    "x_train, x_test = x_train / 255.0, x_test / 255.0  # image scaling : (0,1) 범위로 바꿔주기 \n",
    "\n",
    "# 2. model 구성하기 \n",
    "model = tf.keras.models.Sequential([\n",
    "  tf.keras.layers.Flatten(input_shape=(28, 28)),\n",
    "  tf.keras.layers.Dense(128, activation='relu'),\n",
    "  tf.keras.layers.Dropout(0.2),\n",
    "  tf.keras.layers.Dense(10, activation='softmax')\n",
    "])\n",
    "\n",
    "# 3. model 학습과정 설정하기 \n",
    "model.compile(optimizer='adam',\n",
    "              loss='sparse_categorical_crossentropy',\n",
    "              metrics=['accuracy'])\n",
    "\n",
    "# 4. model 학습시키기 \n",
    "history = model.fit(x_train, y_train, epochs=3)\n",
    "\n",
    "# 5. model 평가하기 \n",
    "print(\"test loss, test acc:\", model.evaluate(x_test, y_test))"
   ]
  },
  {
   "cell_type": "code",
   "execution_count": 6,
   "metadata": {
    "colab": {
     "base_uri": "https://localhost:8080/",
     "height": 289
    },
    "id": "-63YfvaSX0P1",
    "outputId": "a075c832-a0df-4038-ce14-4edff178c993"
   },
   "outputs": [
    {
     "name": "stdout",
     "output_type": "stream",
     "text": [
      "Model: \"sequential\"\n",
      "_________________________________________________________________\n",
      "Layer (type)                 Output Shape              Param #   \n",
      "=================================================================\n",
      "flatten (Flatten)            (None, 784)               0         \n",
      "_________________________________________________________________\n",
      "dense (Dense)                (None, 128)               100480    \n",
      "_________________________________________________________________\n",
      "dropout (Dropout)            (None, 128)               0         \n",
      "_________________________________________________________________\n",
      "dense_1 (Dense)              (None, 10)                1290      \n",
      "=================================================================\n",
      "Total params: 101,770\n",
      "Trainable params: 101,770\n",
      "Non-trainable params: 0\n",
      "_________________________________________________________________\n"
     ]
    }
   ],
   "source": [
    "# 6. model 구조 \n",
    "model.summary()"
   ]
  },
  {
   "cell_type": "code",
   "execution_count": 7,
   "metadata": {
    "colab": {
     "base_uri": "https://localhost:8080/",
     "height": 279
    },
    "id": "78ZmNnRyYCy4",
    "outputId": "489d1c19-2bf5-4ce4-d8e9-a9bc0cd10d3b"
   },
   "outputs": [
    {
     "data": {
      "image/png": "[encoded data removed]",
      "text/plain": [
       "<Figure size 432x288 with 2 Axes>"
      ]
     },
     "metadata": {
      "needs_background": "light",
      "tags": []
     },
     "output_type": "display_data"
    }
   ],
   "source": [
    "# 7. model 학습 결과 시각화 \n",
    "fig, loss_ax = plt.subplots()\n",
    "acc_ax = loss_ax.twinx()\n",
    "\n",
    "# train loss \n",
    "loss_ax.plot(history.history['loss'], 'y', label='train loss')\n",
    "loss_ax.set_xlabel('epoch')\n",
    "loss_ax.set_ylabel('loss')\n",
    "loss_ax.legend(loc='upper left')\n",
    "\n",
    "# train accuracy \n",
    "acc_ax.plot(history.history['accuracy'], 'b', label='train acc')\n",
    "acc_ax.set_ylabel('accuracy')\n",
    "acc_ax.legend(loc='upper right')\n",
    "\n",
    "plt.show()"
   ]
  },
  {
   "cell_type": "markdown",
   "metadata": {
    "id": "IUok8Z9idDPc"
   },
   "source": [
    "## 2. model 구조 변환하기 \n",
    "* Hidden Layer : 3\n",
    "* epoch : 50 \n",
    "* Activation Function : ReLU \n",
    "    - f(x) = max(0,x) \n",
    "    - f'(x) = 0 if x<=0 else 1 \n",
    "* WeightInitialization : He normalization \n",
    "    - Neural Network 학습 전 가중치들을 초기화하는 과정 \n",
    "    - Gradient Vanishing / Exploding 방지\n",
    "    - ReLU가 0 이하의 신호를 제거하기 때문에, 분산을 두배 주어 분산을 유지한다는 의도\n",
    "* BatchNormalization \n",
    "    - Mini Batch를 뽑아서, 해당 Batch에서 Normalization을 거치는 과정 \n",
    "    - propagation 중 parameter 크기에 영향 받지 않아서, 속도를 향상시킬 수 있음 \n",
    "* Optimization : RAdamOptimizer\n",
    "    - 목적함수 f의 최솟값을 찾는 알고리즘 \n",
    "    - Adam (Adaptive Optimizer) : 상대적인 업데이트 양에 따라 step size를 조정 \n",
    "    - RAdam (Rectified Adam) : adaptive learning rate term의 분산을 rectify 함으로써, 학습의 안정성 확보 \n",
    "* EarlyStopping\n",
    "    - 더 이상 개선의 여지가 없을 때 학습을 종료시키는 콜백함수"
   ]
  },
  {
   "cell_type": "code",
   "execution_count": 8,
   "metadata": {
    "colab": {
     "base_uri": "https://localhost:8080/",
     "height": 34
    },
    "id": "cNbhZxEblB7h",
    "outputId": "d553ee57-5cd1-484d-b427-0c7f6a5e0b26"
   },
   "outputs": [
    {
     "name": "stdout",
     "output_type": "stream",
     "text": [
      "(42000, 28, 28) (18000, 28, 28) (42000,) (18000,)\n"
     ]
    }
   ],
   "source": [
    "# 0. 교차검증을 위해, train/validation set으로 나누기 \n",
    "from sklearn.model_selection import train_test_split\n",
    "\n",
    "x_train, x_val, y_train, y_val = train_test_split(x_train, y_train, test_size=0.3, random_state=77)\n",
    "print(x_train.shape, x_val.shape, y_train.shape, y_val.shape)"
   ]
  },
  {
   "cell_type": "code",
   "execution_count": 10,
   "metadata": {
    "colab": {
     "base_uri": "https://localhost:8080/",
     "height": 292
    },
    "id": "OFKOk1MjlI9y",
    "outputId": "bffc8f27-d454-4d62-c164-24f82059fb80"
   },
   "outputs": [
    {
     "name": "stdout",
     "output_type": "stream",
     "text": [
      "Collecting keras-rectified-adam\n",
      "  Downloading https://files.pythonhosted.org/packages/21/79/9521f66b92186702cb58a214c1b923b416266381cd824e15a1733f6a5b06/keras-rectified-adam-0.17.0.tar.gz\n",
      "Requirement already satisfied: numpy in /usr/local/lib/python3.6/dist-packages (from keras-rectified-adam) (1.18.5)\n",
      "Requirement already satisfied: Keras in /usr/local/lib/python3.6/dist-packages (from keras-rectified-adam) (2.4.3)\n",
      "Requirement already satisfied: scipy>=0.14 in /usr/local/lib/python3.6/dist-packages (from Keras->keras-rectified-adam) (1.4.1)\n",
      "Requirement already satisfied: h5py in /usr/local/lib/python3.6/dist-packages (from Keras->keras-rectified-adam) (2.10.0)\n",
      "Requirement already satisfied: pyyaml in /usr/local/lib/python3.6/dist-packages (from Keras->keras-rectified-adam) (3.13)\n",
      "Requirement already satisfied: six in /usr/local/lib/python3.6/dist-packages (from h5py->Keras->keras-rectified-adam) (1.15.0)\n",
      "Building wheels for collected packages: keras-rectified-adam\n",
      "  Building wheel for keras-rectified-adam (setup.py) ... \u001b[?25l\u001b[?25hdone\n",
      "  Created wheel for keras-rectified-adam: filename=keras_rectified_adam-0.17.0-cp36-none-any.whl size=14783 sha256=b10c8850021ad7ff38a076304cae64a187ab786e4a18777e36594a9a0ac29fb3\n",
      "  Stored in directory: /root/.cache/pip/wheels/7b/01/27/3a934e1a5644f5b93c720422a6ef97034ea78a21ba71cfb549\n",
      "Successfully built keras-rectified-adam\n",
      "Installing collected packages: keras-rectified-adam\n",
      "Successfully installed keras-rectified-adam-0.17.0\n"
     ]
    }
   ],
   "source": [
    "!pip install keras-rectified-adam"
   ]
  },
  {
   "cell_type": "code",
   "execution_count": 11,
   "metadata": {
    "id": "GNaLIZaVj9Fg"
   },
   "outputs": [],
   "source": [
    "from keras_radam.training import RAdamOptimizer\n",
    "from keras.callbacks import EarlyStopping"
   ]
  },
  {
   "cell_type": "code",
   "execution_count": 21,
   "metadata": {
    "id": "dwKxwVQ0kAON"
   },
   "outputs": [],
   "source": [
    "# 1. model 구성하기 \n",
    "num_classes = 10\n",
    "model = tf.keras.Sequential([\n",
    "        tf.keras.layers.Flatten(input_shape=(28, 28)),                     \n",
    "\n",
    "        tf.keras.layers.Dense(256, kernel_initializer=\"he_normal\"),\n",
    "        tf.keras.layers.BatchNormalization(momentum=0.5, epsilon=1e-5, gamma_initializer=\"uniform\"),\n",
    "        tf.keras.layers.ReLU(),\n",
    "        tf.keras.layers.Dropout(0.2),\n",
    "\n",
    "        tf.keras.layers.Dense(64, kernel_initializer=\"he_normal\"),\n",
    "        tf.keras.layers.BatchNormalization(momentum=0.5, epsilon=1e-5, gamma_initializer=\"uniform\"),\n",
    "        tf.keras.layers.ReLU(),\n",
    "        tf.keras.layers.Dropout(0.2),\n",
    "\n",
    "        tf.keras.layers.Dense(16, kernel_initializer=\"he_normal\"),\n",
    "        tf.keras.layers.BatchNormalization(momentum=0.5, epsilon=1e-5, gamma_initializer=\"uniform\"),\n",
    "        tf.keras.layers.ReLU(),\n",
    "        tf.keras.layers.Dropout(0.2),\n",
    "\n",
    "        tf.keras.layers.Dense(num_classes, activation=\"softmax\", kernel_initializer=\"he_normal\"),\n",
    "        \n",
    "])"
   ]
  },
  {
   "cell_type": "code",
   "execution_count": 22,
   "metadata": {
    "colab": {
     "base_uri": "https://localhost:8080/",
     "height": 629
    },
    "id": "FVhUEKumkMV7",
    "outputId": "17d0b9d2-4642-47ae-95fc-5dc70e85e4f9"
   },
   "outputs": [
    {
     "name": "stdout",
     "output_type": "stream",
     "text": [
      "Model: \"sequential_3\"\n",
      "_________________________________________________________________\n",
      "Layer (type)                 Output Shape              Param #   \n",
      "=================================================================\n",
      "flatten_4 (Flatten)          (None, 784)               0         \n",
      "_________________________________________________________________\n",
      "dense_15 (Dense)             (None, 256)               200960    \n",
      "_________________________________________________________________\n",
      "batch_normalization_11 (Batc (None, 256)               1024      \n",
      "_________________________________________________________________\n",
      "re_lu_10 (ReLU)              (None, 256)               0         \n",
      "_________________________________________________________________\n",
      "dropout_11 (Dropout)         (None, 256)               0         \n",
      "_________________________________________________________________\n",
      "dense_16 (Dense)             (None, 64)                16448     \n",
      "_________________________________________________________________\n",
      "batch_normalization_12 (Batc (None, 64)                256       \n",
      "_________________________________________________________________\n",
      "re_lu_11 (ReLU)              (None, 64)                0         \n",
      "_________________________________________________________________\n",
      "dropout_12 (Dropout)         (None, 64)                0         \n",
      "_________________________________________________________________\n",
      "dense_17 (Dense)             (None, 16)                1040      \n",
      "_________________________________________________________________\n",
      "batch_normalization_13 (Batc (None, 16)                64        \n",
      "_________________________________________________________________\n",
      "re_lu_12 (ReLU)              (None, 16)                0         \n",
      "_________________________________________________________________\n",
      "dropout_13 (Dropout)         (None, 16)                0         \n",
      "_________________________________________________________________\n",
      "dense_18 (Dense)             (None, 10)                170       \n",
      "=================================================================\n",
      "Total params: 219,962\n",
      "Trainable params: 219,290\n",
      "Non-trainable params: 672\n",
      "_________________________________________________________________\n"
     ]
    }
   ],
   "source": [
    "# 2. optimizer 지정\n",
    "model.compile(optimizer = RAdamOptimizer(learning_rate=1e-4), loss=\"sparse_categorical_crossentropy\", metrics=[\"acc\"])\n",
    "\n",
    "# 3. model 구조 파악\n",
    "model.summary()"
   ]
  },
  {
   "cell_type": "code",
   "execution_count": 23,
   "metadata": {
    "id": "wGy2adrIxNZV"
   },
   "outputs": [],
   "source": [
    "# 4. early stopping 설정 \n",
    "early_stopping = EarlyStopping(monitor='val_loss', mode='min', patience=20) # 조기종료 콜백함수 정의"
   ]
  },
  {
   "cell_type": "code",
   "execution_count": 24,
   "metadata": {
    "colab": {
     "base_uri": "https://localhost:8080/",
     "height": 1000
    },
    "id": "R5TH7ougkWr9",
    "outputId": "fe8095f9-976d-4d6d-f38c-b3c0a65c43ed"
   },
   "outputs": [
    {
     "name": "stdout",
     "output_type": "stream",
     "text": [
      "Epoch 1/50\n",
      "4200/4200 [==============================] - 25s 6ms/step - loss: 1.9958 - acc: 0.4441 - val_loss: 1.2648 - val_acc: 0.8543\n",
      "Epoch 2/50\n",
      "4200/4200 [==============================] - 25s 6ms/step - loss: 1.1240 - acc: 0.7394 - val_loss: 0.5085 - val_acc: 0.9129\n",
      "Epoch 3/50\n",
      "4200/4200 [==============================] - 24s 6ms/step - loss: 0.7418 - acc: 0.8014 - val_loss: 0.2372 - val_acc: 0.9454\n",
      "Epoch 4/50\n",
      "4200/4200 [==============================] - 25s 6ms/step - loss: 0.6072 - acc: 0.8285 - val_loss: 0.2499 - val_acc: 0.9333\n",
      "Epoch 5/50\n",
      "4200/4200 [==============================] - 25s 6ms/step - loss: 0.5350 - acc: 0.8456 - val_loss: 0.1900 - val_acc: 0.9479\n",
      "Epoch 6/50\n",
      "4200/4200 [==============================] - 25s 6ms/step - loss: 0.5071 - acc: 0.8544 - val_loss: 0.2148 - val_acc: 0.9411\n",
      "Epoch 7/50\n",
      "4200/4200 [==============================] - 25s 6ms/step - loss: 0.4733 - acc: 0.8644 - val_loss: 0.1483 - val_acc: 0.9583\n",
      "Epoch 8/50\n",
      "4200/4200 [==============================] - 25s 6ms/step - loss: 0.4512 - acc: 0.8685 - val_loss: 0.1455 - val_acc: 0.9577\n",
      "Epoch 9/50\n",
      "4200/4200 [==============================] - 26s 6ms/step - loss: 0.4373 - acc: 0.8741 - val_loss: 0.1293 - val_acc: 0.9635\n",
      "Epoch 10/50\n",
      "4200/4200 [==============================] - 25s 6ms/step - loss: 0.4166 - acc: 0.8800 - val_loss: 0.1450 - val_acc: 0.9583\n",
      "Epoch 11/50\n",
      "4200/4200 [==============================] - 25s 6ms/step - loss: 0.4045 - acc: 0.8828 - val_loss: 0.1348 - val_acc: 0.9623\n",
      "Epoch 12/50\n",
      "4200/4200 [==============================] - 25s 6ms/step - loss: 0.3963 - acc: 0.8860 - val_loss: 0.1337 - val_acc: 0.9637\n",
      "Epoch 13/50\n",
      "4200/4200 [==============================] - 25s 6ms/step - loss: 0.3746 - acc: 0.8927 - val_loss: 0.1193 - val_acc: 0.9663\n",
      "Epoch 14/50\n",
      "4200/4200 [==============================] - 25s 6ms/step - loss: 0.3727 - acc: 0.8932 - val_loss: 0.1385 - val_acc: 0.9604\n",
      "Epoch 15/50\n",
      "4200/4200 [==============================] - 25s 6ms/step - loss: 0.3640 - acc: 0.8947 - val_loss: 0.1815 - val_acc: 0.9522\n",
      "Epoch 16/50\n",
      "4200/4200 [==============================] - 25s 6ms/step - loss: 0.3574 - acc: 0.8950 - val_loss: 0.1186 - val_acc: 0.9666\n",
      "Epoch 17/50\n",
      "4200/4200 [==============================] - 27s 6ms/step - loss: 0.3506 - acc: 0.8982 - val_loss: 0.1157 - val_acc: 0.9693\n",
      "Epoch 18/50\n",
      "4200/4200 [==============================] - 26s 6ms/step - loss: 0.3389 - acc: 0.9003 - val_loss: 0.1293 - val_acc: 0.9641\n",
      "Epoch 19/50\n",
      "4200/4200 [==============================] - 25s 6ms/step - loss: 0.3370 - acc: 0.9027 - val_loss: 0.1067 - val_acc: 0.9710\n",
      "Epoch 20/50\n",
      "4200/4200 [==============================] - 25s 6ms/step - loss: 0.3297 - acc: 0.9048 - val_loss: 0.1146 - val_acc: 0.9685\n",
      "Epoch 21/50\n",
      "4200/4200 [==============================] - 26s 6ms/step - loss: 0.3269 - acc: 0.9067 - val_loss: 0.1223 - val_acc: 0.9668\n",
      "Epoch 22/50\n",
      "4200/4200 [==============================] - 25s 6ms/step - loss: 0.3243 - acc: 0.9061 - val_loss: 0.1006 - val_acc: 0.9707\n",
      "Epoch 23/50\n",
      "4200/4200 [==============================] - 26s 6ms/step - loss: 0.3104 - acc: 0.9097 - val_loss: 0.1204 - val_acc: 0.9662\n",
      "Epoch 24/50\n",
      "4200/4200 [==============================] - 26s 6ms/step - loss: 0.3129 - acc: 0.9092 - val_loss: 0.1107 - val_acc: 0.9681\n",
      "Epoch 25/50\n",
      "4200/4200 [==============================] - 25s 6ms/step - loss: 0.3093 - acc: 0.9108 - val_loss: 0.1219 - val_acc: 0.9671\n",
      "Epoch 26/50\n",
      "4200/4200 [==============================] - 25s 6ms/step - loss: 0.3018 - acc: 0.9125 - val_loss: 0.1120 - val_acc: 0.9685\n",
      "Epoch 27/50\n",
      "4200/4200 [==============================] - 25s 6ms/step - loss: 0.2988 - acc: 0.9141 - val_loss: 0.1034 - val_acc: 0.9701\n",
      "Epoch 28/50\n",
      "4200/4200 [==============================] - 25s 6ms/step - loss: 0.2991 - acc: 0.9129 - val_loss: 0.1055 - val_acc: 0.9699\n",
      "Epoch 29/50\n",
      "4200/4200 [==============================] - 25s 6ms/step - loss: 0.2941 - acc: 0.9148 - val_loss: 0.0998 - val_acc: 0.9712\n",
      "Epoch 30/50\n",
      "4200/4200 [==============================] - 25s 6ms/step - loss: 0.2862 - acc: 0.9161 - val_loss: 0.1176 - val_acc: 0.9693\n",
      "Epoch 31/50\n",
      "4200/4200 [==============================] - 25s 6ms/step - loss: 0.2904 - acc: 0.9173 - val_loss: 0.0930 - val_acc: 0.9732\n",
      "Epoch 32/50\n",
      "4200/4200 [==============================] - 25s 6ms/step - loss: 0.2845 - acc: 0.9178 - val_loss: 0.1119 - val_acc: 0.9718\n",
      "Epoch 33/50\n",
      "4200/4200 [==============================] - 25s 6ms/step - loss: 0.2781 - acc: 0.9194 - val_loss: 0.0975 - val_acc: 0.9736\n",
      "Epoch 34/50\n",
      "4200/4200 [==============================] - 26s 6ms/step - loss: 0.2797 - acc: 0.9194 - val_loss: 0.1005 - val_acc: 0.9725\n",
      "Epoch 35/50\n",
      "4200/4200 [==============================] - 25s 6ms/step - loss: 0.2783 - acc: 0.9185 - val_loss: 0.1184 - val_acc: 0.9666\n",
      "Epoch 36/50\n",
      "4200/4200 [==============================] - 25s 6ms/step - loss: 0.2668 - acc: 0.9228 - val_loss: 0.1072 - val_acc: 0.9702\n",
      "Epoch 37/50\n",
      "4200/4200 [==============================] - 25s 6ms/step - loss: 0.2731 - acc: 0.9211 - val_loss: 0.0943 - val_acc: 0.9728\n",
      "Epoch 38/50\n",
      "4200/4200 [==============================] - 25s 6ms/step - loss: 0.2724 - acc: 0.9226 - val_loss: 0.1065 - val_acc: 0.9702\n",
      "Epoch 39/50\n",
      "4200/4200 [==============================] - 25s 6ms/step - loss: 0.2687 - acc: 0.9222 - val_loss: 0.0912 - val_acc: 0.9736\n",
      "Epoch 40/50\n",
      "4200/4200 [==============================] - 25s 6ms/step - loss: 0.2627 - acc: 0.9247 - val_loss: 0.0915 - val_acc: 0.9749\n",
      "Epoch 41/50\n",
      "4200/4200 [==============================] - 25s 6ms/step - loss: 0.2562 - acc: 0.9269 - val_loss: 0.1083 - val_acc: 0.9693\n",
      "Epoch 42/50\n",
      "4200/4200 [==============================] - 24s 6ms/step - loss: 0.2586 - acc: 0.9262 - val_loss: 0.0857 - val_acc: 0.9755\n",
      "Epoch 43/50\n",
      "4200/4200 [==============================] - 24s 6ms/step - loss: 0.2644 - acc: 0.9232 - val_loss: 0.0976 - val_acc: 0.9733\n",
      "Epoch 44/50\n",
      "4200/4200 [==============================] - 25s 6ms/step - loss: 0.2445 - acc: 0.9286 - val_loss: 0.1084 - val_acc: 0.9702\n",
      "Epoch 45/50\n",
      "4200/4200 [==============================] - 24s 6ms/step - loss: 0.2555 - acc: 0.9263 - val_loss: 0.0953 - val_acc: 0.9735\n",
      "Epoch 46/50\n",
      "4200/4200 [==============================] - 26s 6ms/step - loss: 0.2524 - acc: 0.9276 - val_loss: 0.0953 - val_acc: 0.9734\n",
      "Epoch 47/50\n",
      "4200/4200 [==============================] - 25s 6ms/step - loss: 0.2534 - acc: 0.9262 - val_loss: 0.0935 - val_acc: 0.9743\n",
      "Epoch 48/50\n",
      "4200/4200 [==============================] - 25s 6ms/step - loss: 0.2499 - acc: 0.9289 - val_loss: 0.0913 - val_acc: 0.9757\n",
      "Epoch 49/50\n",
      "4200/4200 [==============================] - 25s 6ms/step - loss: 0.2423 - acc: 0.9316 - val_loss: 0.0931 - val_acc: 0.9731\n",
      "Epoch 50/50\n",
      "4200/4200 [==============================] - 25s 6ms/step - loss: 0.2420 - acc: 0.9295 - val_loss: 0.1108 - val_acc: 0.9710\n"
     ]
    }
   ],
   "source": [
    "# 5. model 학습시키기 \n",
    "history = model.fit(x_train, y_train, epochs=50, batch_size=10, validation_data=(x_val, y_val), verbose=1)"
   ]
  },
  {
   "cell_type": "code",
   "execution_count": 25,
   "metadata": {
    "colab": {
     "base_uri": "https://localhost:8080/",
     "height": 283
    },
    "id": "w3wGyQaZn2n9",
    "outputId": "a8ba779d-5949-4649-ac79-a9680f7e3d34"
   },
   "outputs": [
    {
     "data": {
      "image/png": "[encoded data removed]",
      "text/plain": [
       "<Figure size 432x288 with 2 Axes>"
      ]
     },
     "metadata": {
      "needs_background": "light",
      "tags": []
     },
     "output_type": "display_data"
    }
   ],
   "source": [
    "# 6. model 학습 결과 시각화 \n",
    "fig, loss_ax = plt.subplots()\n",
    "acc_ax = loss_ax.twinx()\n",
    "\n",
    "# train / val loss \n",
    "loss_ax.plot(history.history['loss'], 'y', label='train loss')\n",
    "loss_ax.plot(history.history['val_loss'], 'r', label='val loss')\n",
    "loss_ax.set_xlabel('epoch')\n",
    "loss_ax.set_ylabel('loss')\n",
    "loss_ax.legend(loc='upper left')\n",
    "\n",
    "# train / val accuracy \n",
    "acc_ax.plot(history.history['acc'], 'b', label='train acc')\n",
    "acc_ax.plot(history.history['val_acc'], 'g', label='val acc')\n",
    "acc_ax.set_ylabel('accuracy')\n",
    "acc_ax.legend(loc='upper right')\n",
    "\n",
    "plt.show()"
   ]
  },
  {
   "cell_type": "code",
   "execution_count": 26,
   "metadata": {
    "colab": {
     "base_uri": "https://localhost:8080/",
     "height": 51
    },
    "id": "2PHE4hASyT-t",
    "outputId": "acb8cc0d-ebfb-4fce-ad2b-b9a9d58a645c"
   },
   "outputs": [
    {
     "name": "stdout",
     "output_type": "stream",
     "text": [
      "313/313 [==============================] - 1s 2ms/step - loss: 0.1019 - acc: 0.9717\n",
      "test loss, test acc: [0.1019098162651062, 0.9717000126838684]\n"
     ]
    }
   ],
   "source": [
    "# 7. model 평가하기 \n",
    "print(\"test loss, test acc:\", model.evaluate(x_test, y_test))"
   ]
  },
  {
   "cell_type": "markdown",
   "metadata": {
    "id": "eBxvZZV9HjLz"
   },
   "source": [
    "# 2. Mnist Training with Convolutional Neural Network (CNN) "
   ]
  },
  {
   "cell_type": "markdown",
   "metadata": {
    "id": "0t836_fR5Qt0"
   },
   "source": [
    "## 1. baseline code \n",
    "* Convolution -> Pooling -> Convolution -> Pooling -> Fully Connected Layer -> Output\n",
    "\n",
    "\n",
    "\n",
    "* https://www.sitepoint.com/keras-digit-recognition-tutorial/\n",
    "* https://victorzhou.com/blog/keras-cnn-tutorial/"
   ]
  },
  {
   "cell_type": "code",
   "execution_count": 27,
   "metadata": {
    "id": "dSrI-Nfl5aV7"
   },
   "outputs": [],
   "source": [
    "from keras.models import Sequential\n",
    "from keras.layers import Conv2D, MaxPooling2D, Dense, Flatten\n",
    "from keras.utils import to_categorical"
   ]
  },
  {
   "cell_type": "code",
   "execution_count": 28,
   "metadata": {
    "id": "c_n6Sri0ClkA"
   },
   "outputs": [],
   "source": [
    "import pandas as pd \n",
    "import numpy as np\n",
    "\n",
    "import random"
   ]
  },
  {
   "cell_type": "code",
   "execution_count": 31,
   "metadata": {
    "id": "by7Hdyqf5dm7"
   },
   "outputs": [],
   "source": [
    "# 1. dataset 생성하기 \n",
    "(train_images, train_labels), (test_images, test_labels) = mnist.load_data()\n",
    "\n",
    "# Normalize the images : (-0.5, 0.5) 범위로 만들어주기 \n",
    "train_images = (train_images / 255) - 0.5\n",
    "test_images = (test_images / 255) - 0.5"
   ]
  },
  {
   "cell_type": "code",
   "execution_count": 34,
   "metadata": {
    "id": "alZ2zxNP5vvo"
   },
   "outputs": [],
   "source": [
    "# Reshape the images \n",
    "train_images = np.expand_dims(train_images, axis=3)\n",
    "test_images = np.expand_dims(test_images, axis=3)"
   ]
  },
  {
   "cell_type": "code",
   "execution_count": 35,
   "metadata": {
    "colab": {
     "base_uri": "https://localhost:8080/",
     "height": 34
    },
    "id": "0_o03uo75w7j",
    "outputId": "5aa0f42e-8704-4ca0-ac65-942e39bf9031"
   },
   "outputs": [
    {
     "data": {
      "text/plain": [
       "((60000, 28, 28, 1), (10000, 28, 28, 1))"
      ]
     },
     "execution_count": 35,
     "metadata": {
      "tags": []
     },
     "output_type": "execute_result"
    }
   ],
   "source": [
    "train_images.shape, test_images.shape"
   ]
  },
  {
   "cell_type": "code",
   "execution_count": 36,
   "metadata": {
    "colab": {
     "base_uri": "https://localhost:8080/",
     "height": 34
    },
    "id": "C6U8BC8-48fU",
    "outputId": "e9b012d2-a4df-48b1-be28-e1f2f87edecf"
   },
   "outputs": [
    {
     "name": "stdout",
     "output_type": "stream",
     "text": [
      "(42000, 28, 28, 1) (18000, 28, 28, 1) (42000,) (18000,)\n"
     ]
    }
   ],
   "source": [
    "# train / validation split \n",
    "train_images, val_images, train_labels, val_labels = train_test_split(train_images, train_labels, test_size=0.3, random_state=77)\n",
    "print(train_images.shape, val_images.shape, train_labels.shape, val_labels.shape)"
   ]
  },
  {
   "cell_type": "code",
   "execution_count": 37,
   "metadata": {
    "id": "68rx3azfHjL0"
   },
   "outputs": [],
   "source": [
    "num_filters = 8\n",
    "filter_size = 3\n",
    "\n",
    "# 2. model 구성하기 \n",
    "model = Sequential([\n",
    "  Conv2D(num_filters, filter_size, input_shape=(28, 28, 1)),\n",
    "  MaxPooling2D(pool_size=2), Flatten(), Dense(10, activation='softmax'),\n",
    "])\n",
    "\n",
    "# 3. model compile \n",
    "model.compile(\n",
    "  'adam', loss='categorical_crossentropy', metrics=['accuracy'],\n",
    ")"
   ]
  },
  {
   "cell_type": "code",
   "execution_count": 38,
   "metadata": {
    "colab": {
     "base_uri": "https://localhost:8080/",
     "height": 289
    },
    "id": "SXxTxHMg6nx2",
    "outputId": "cc27f576-bf3f-48a4-c5b9-b160fd06b00e"
   },
   "outputs": [
    {
     "name": "stdout",
     "output_type": "stream",
     "text": [
      "Model: \"sequential_4\"\n",
      "_________________________________________________________________\n",
      "Layer (type)                 Output Shape              Param #   \n",
      "=================================================================\n",
      "conv2d (Conv2D)              (None, 26, 26, 8)         80        \n",
      "_________________________________________________________________\n",
      "max_pooling2d (MaxPooling2D) (None, 13, 13, 8)         0         \n",
      "_________________________________________________________________\n",
      "flatten_5 (Flatten)          (None, 1352)              0         \n",
      "_________________________________________________________________\n",
      "dense_19 (Dense)             (None, 10)                13530     \n",
      "=================================================================\n",
      "Total params: 13,610\n",
      "Trainable params: 13,610\n",
      "Non-trainable params: 0\n",
      "_________________________________________________________________\n"
     ]
    }
   ],
   "source": [
    "# 4. model 구조 \n",
    "model.summary()"
   ]
  },
  {
   "cell_type": "code",
   "execution_count": 39,
   "metadata": {
    "colab": {
     "base_uri": "https://localhost:8080/",
     "height": 119
    },
    "id": "72IxbMbE6cL6",
    "outputId": "bfe205cd-4db6-493c-fa8b-22574d213083"
   },
   "outputs": [
    {
     "name": "stdout",
     "output_type": "stream",
     "text": [
      "Epoch 1/3\n",
      "1313/1313 [==============================] - 4s 3ms/step - loss: 0.3887 - accuracy: 0.8886 - val_loss: 0.2397 - val_accuracy: 0.9307\n",
      "Epoch 2/3\n",
      "1313/1313 [==============================] - 4s 3ms/step - loss: 0.2002 - accuracy: 0.9437 - val_loss: 0.1713 - val_accuracy: 0.9508\n",
      "Epoch 3/3\n",
      "1313/1313 [==============================] - 4s 3ms/step - loss: 0.1468 - accuracy: 0.9589 - val_loss: 0.1496 - val_accuracy: 0.9550\n"
     ]
    }
   ],
   "source": [
    "# 5. model 학습시키기 \n",
    "history = model.fit(\n",
    "                    train_images, to_categorical(train_labels), epochs=3,\n",
    "                    validation_data=(val_images, to_categorical(val_labels)),\n",
    "                    ) "
   ]
  },
  {
   "cell_type": "code",
   "execution_count": 40,
   "metadata": {
    "colab": {
     "base_uri": "https://localhost:8080/",
     "height": 51
    },
    "id": "8UyPCglY6Uu_",
    "outputId": "52e0049d-b21e-4cf1-d67e-ddd9a6b29d7d"
   },
   "outputs": [
    {
     "name": "stdout",
     "output_type": "stream",
     "text": [
      "313/313 [==============================] - 1s 2ms/step - loss: 0.1392 - accuracy: 0.9602\n",
      "test loss, test acc: [0.13919305801391602, 0.9602000117301941]\n"
     ]
    }
   ],
   "source": [
    "# 6. model 평가하기 \n",
    "print(\"test loss, test acc:\", model.evaluate(test_images, to_categorical(test_labels)))"
   ]
  },
  {
   "cell_type": "code",
   "execution_count": 41,
   "metadata": {
    "colab": {
     "base_uri": "https://localhost:8080/",
     "height": 283
    },
    "id": "MCJ3qRPc6grq",
    "outputId": "3016f92e-72f8-4c96-c48e-eb3e0eaf5017"
   },
   "outputs": [
    {
     "data": {
      "image/png": "[encoded data removed]",
      "text/plain": [
       "<Figure size 432x288 with 2 Axes>"
      ]
     },
     "metadata": {
      "needs_background": "light",
      "tags": []
     },
     "output_type": "display_data"
    }
   ],
   "source": [
    "# 7. model 학습 결과 시각화 \n",
    "fig, loss_ax = plt.subplots()\n",
    "acc_ax = loss_ax.twinx()\n",
    "\n",
    "# train / val loss \n",
    "loss_ax.plot(history.history['loss'], 'y', label='train loss')\n",
    "loss_ax.plot(history.history['val_loss'], 'r', label='val loss')\n",
    "loss_ax.set_xlabel('epoch')\n",
    "loss_ax.set_ylabel('loss')\n",
    "loss_ax.legend(loc='upper left')\n",
    "\n",
    "# train / val accuracy \n",
    "acc_ax.plot(history.history['accuracy'], 'b', label='train acc')\n",
    "acc_ax.plot(history.history['val_accuracy'], 'g', label='val acc')\n",
    "acc_ax.set_ylabel('accuracy')\n",
    "acc_ax.legend(loc='upper right')\n",
    "\n",
    "plt.show()"
   ]
  },
  {
   "cell_type": "markdown",
   "metadata": {
    "id": "ufUO1nEE9Sxw"
   },
   "source": [
    "## 2. model 구조 변환하기 \n",
    "* Functional API 적용 \n",
    "* Data Augmentation\n",
    "    - 기존 데이터에서 새로운 데이터를 생성해 인공적으로 training set의 크기를 늘리는 방법\n",
    "    - 이미지 회전, 이동\n",
    "* Learning Rate Scheduling (성능 기반 스케쥴링) \n",
    "    - 매 N 스텝마다 (조기 종료처럼) 검증 오차를 측정하고, 오차가 줄어들지 않으면 $\\lambda$배 만큼 학습률을 감소시키는 방법 "
   ]
  },
  {
   "cell_type": "code",
   "execution_count": 47,
   "metadata": {
    "id": "RsYvasfw_3fW"
   },
   "outputs": [],
   "source": [
    "from tensorflow.keras.optimizers import RMSprop\n",
    "from tensorflow.keras.preprocessing.image import ImageDataGenerator"
   ]
  },
  {
   "cell_type": "code",
   "execution_count": 45,
   "metadata": {
    "colab": {
     "base_uri": "https://localhost:8080/",
     "height": 697
    },
    "id": "Et07qtA07P7b",
    "outputId": "f6aa7416-0615-4151-a8ba-9bd01e2ca0a5"
   },
   "outputs": [
    {
     "name": "stdout",
     "output_type": "stream",
     "text": [
      "Model: \"toy_resnet\"\n",
      "__________________________________________________________________________________________________\n",
      "Layer (type)                    Output Shape         Param #     Connected to                     \n",
      "==================================================================================================\n",
      "mnist (InputLayer)              [(None, 28, 28, 1)]  0                                            \n",
      "__________________________________________________________________________________________________\n",
      "conv2d_8 (Conv2D)               (None, 26, 26, 32)   320         mnist[0][0]                      \n",
      "__________________________________________________________________________________________________\n",
      "conv2d_9 (Conv2D)               (None, 24, 24, 64)   18496       conv2d_8[0][0]                   \n",
      "__________________________________________________________________________________________________\n",
      "max_pooling2d_2 (MaxPooling2D)  (None, 8, 8, 64)     0           conv2d_9[0][0]                   \n",
      "__________________________________________________________________________________________________\n",
      "conv2d_10 (Conv2D)              (None, 8, 8, 64)     36928       max_pooling2d_2[0][0]            \n",
      "__________________________________________________________________________________________________\n",
      "conv2d_11 (Conv2D)              (None, 8, 8, 64)     36928       conv2d_10[0][0]                  \n",
      "__________________________________________________________________________________________________\n",
      "add_2 (Add)                     (None, 8, 8, 64)     0           conv2d_11[0][0]                  \n",
      "                                                                 max_pooling2d_2[0][0]            \n",
      "__________________________________________________________________________________________________\n",
      "conv2d_12 (Conv2D)              (None, 8, 8, 64)     36928       add_2[0][0]                      \n",
      "__________________________________________________________________________________________________\n",
      "conv2d_13 (Conv2D)              (None, 8, 8, 64)     36928       conv2d_12[0][0]                  \n",
      "__________________________________________________________________________________________________\n",
      "add_3 (Add)                     (None, 8, 8, 64)     0           conv2d_13[0][0]                  \n",
      "                                                                 add_2[0][0]                      \n",
      "__________________________________________________________________________________________________\n",
      "conv2d_14 (Conv2D)              (None, 6, 6, 64)     36928       add_3[0][0]                      \n",
      "__________________________________________________________________________________________________\n",
      "global_average_pooling2d_1 (Glo (None, 64)           0           conv2d_14[0][0]                  \n",
      "__________________________________________________________________________________________________\n",
      "dense_22 (Dense)                (None, 256)          16640       global_average_pooling2d_1[0][0] \n",
      "__________________________________________________________________________________________________\n",
      "dropout_15 (Dropout)            (None, 256)          0           dense_22[0][0]                   \n",
      "__________________________________________________________________________________________________\n",
      "dense_23 (Dense)                (None, 10)           2570        dropout_15[0][0]                 \n",
      "==================================================================================================\n",
      "Total params: 222,666\n",
      "Trainable params: 222,666\n",
      "Non-trainable params: 0\n",
      "__________________________________________________________________________________________________\n"
     ]
    }
   ],
   "source": [
    "# 1. model 구성하기 \n",
    "inputs = tf.keras.Input(shape=(28, 28, 1), name=\"mnist\")\n",
    "\n",
    "x = tf.keras.layers.Conv2D(32, 3, activation=\"relu\")(inputs)\n",
    "x = tf.keras.layers.Conv2D(64, 3, activation=\"relu\")(x)\n",
    "block_1_output = tf.keras.layers.MaxPooling2D(3)(x)\n",
    "\n",
    "x = tf.keras.layers.Conv2D(64, 3, activation=\"relu\", padding=\"same\")(block_1_output)\n",
    "x = tf.keras.layers.Conv2D(64, 3, activation=\"relu\", padding=\"same\")(x)\n",
    "block_2_output = tf.keras.layers.add([x, block_1_output])\n",
    "\n",
    "x = tf.keras.layers.Conv2D(64, 3, activation=\"relu\", padding=\"same\")(block_2_output)\n",
    "x = tf.keras.layers.Conv2D(64, 3, activation=\"relu\", padding=\"same\")(x)\n",
    "block_3_output = tf.keras.layers.add([x, block_2_output])\n",
    "\n",
    "x = tf.keras.layers.Conv2D(64, 3, activation=\"relu\")(block_3_output)\n",
    "x = tf.keras.layers.GlobalAveragePooling2D()(x)\n",
    "x = tf.keras.layers.Dense(256, activation=\"relu\")(x)\n",
    "x = tf.keras.layers.Dropout(0.5)(x)\n",
    "outputs = tf.keras.layers.Dense(10, activation='softmax')(x)\n",
    "\n",
    "model = tf.keras.Model(inputs, outputs, name=\"toy_resnet\")\n",
    "model.summary()"
   ]
  },
  {
   "cell_type": "code",
   "execution_count": 48,
   "metadata": {
    "id": "ytRuqozo_wZ_"
   },
   "outputs": [],
   "source": [
    "# optimizer \n",
    "optimizer = RMSprop(learning_rate=0.002, rho=0.9, momentum=0.1, epsilon=1e-07, centered=True, name='RMSprop')"
   ]
  },
  {
   "cell_type": "code",
   "execution_count": 49,
   "metadata": {
    "id": "tEV0Uypg_678"
   },
   "outputs": [],
   "source": [
    "model.compile(loss='categorical_crossentropy', optimizer=optimizer, metrics=['accuracy'])"
   ]
  },
  {
   "cell_type": "code",
   "execution_count": 51,
   "metadata": {
    "id": "8inCQ_OhAF71"
   },
   "outputs": [],
   "source": [
    "# data augmentation \n",
    "datagen_train = ImageDataGenerator(rotation_range = 10,\n",
    "                                   width_shift_range = 0.25,\n",
    "                                   height_shift_range = 0.25,\n",
    "                                   shear_range = 0.1,\n",
    "                                   zoom_range = 0.4,\n",
    "                                   horizontal_flip = False)\n",
    "\n",
    "datagen_val = ImageDataGenerator() "
   ]
  },
  {
   "cell_type": "code",
   "execution_count": 50,
   "metadata": {
    "id": "6Ou971VeAAow"
   },
   "outputs": [],
   "source": [
    "batch_size = 500\n",
    "num_classes = 10\n",
    "epochs = 50"
   ]
  },
  {
   "cell_type": "code",
   "execution_count": 52,
   "metadata": {
    "id": "SFzUDVElAQHt"
   },
   "outputs": [],
   "source": [
    "step_train = x_train.shape[0] // batch_size\n",
    "step_val = x_val.shape[0] // batch_size\n",
    "\n",
    "# Learning Rate Scheduling (Performance Scheduling) \n",
    "learning_rate_reduction = tf.keras.callbacks.ReduceLROnPlateau( \n",
    "    monitor='loss', factor=0.25,  patience=2, verbose=1, mode=\"auto\", min_delta=0.0001, cooldown=0, min_lr=0.00001)\n",
    "\n",
    "# Early Stopping \n",
    "es = EarlyStopping(monitor='val_loss', mode='min', verbose=1, patience=10, restore_best_weights=True)"
   ]
  },
  {
   "cell_type": "code",
   "execution_count": 54,
   "metadata": {
    "colab": {
     "base_uri": "https://localhost:8080/",
     "height": 972
    },
    "id": "Zti9hIW2AUDv",
    "outputId": "015cc7b9-f8b8-4a64-8393-d9a4780af21e"
   },
   "outputs": [
    {
     "name": "stdout",
     "output_type": "stream",
     "text": [
      "Epoch 1/50\n",
      "84/84 [==============================] - ETA: 0s - loss: 0.3309 - accuracy: 0.9021WARNING:tensorflow:Callbacks method `on_test_batch_end` is slow compared to the batch time (batch time: 0.0017s vs `on_test_batch_end` time: 0.0029s). Check your callbacks.\n",
      "84/84 [==============================] - 9s 107ms/step - loss: 0.3309 - accuracy: 0.9021 - val_loss: 0.1111 - val_accuracy: 0.9662\n",
      "Epoch 2/50\n",
      "84/84 [==============================] - 9s 105ms/step - loss: 0.2771 - accuracy: 0.9196 - val_loss: 0.0511 - val_accuracy: 0.9852\n",
      "Epoch 3/50\n",
      "84/84 [==============================] - 9s 106ms/step - loss: 0.2034 - accuracy: 0.9399 - val_loss: 0.1133 - val_accuracy: 0.9699\n",
      "Epoch 4/50\n",
      "84/84 [==============================] - 9s 106ms/step - loss: 0.1815 - accuracy: 0.9465 - val_loss: 0.0376 - val_accuracy: 0.9891\n",
      "Epoch 5/50\n",
      "84/84 [==============================] - 9s 106ms/step - loss: 0.1634 - accuracy: 0.9517 - val_loss: 0.0390 - val_accuracy: 0.9893\n",
      "Epoch 6/50\n",
      "84/84 [==============================] - 9s 107ms/step - loss: 0.1426 - accuracy: 0.9572 - val_loss: 0.0430 - val_accuracy: 0.9880\n",
      "Epoch 7/50\n",
      "84/84 [==============================] - 9s 110ms/step - loss: 0.1416 - accuracy: 0.9592 - val_loss: 0.0412 - val_accuracy: 0.9888\n",
      "Epoch 8/50\n",
      "84/84 [==============================] - 9s 108ms/step - loss: 0.1202 - accuracy: 0.9643 - val_loss: 0.0375 - val_accuracy: 0.9897\n",
      "Epoch 9/50\n",
      "84/84 [==============================] - 9s 108ms/step - loss: 0.1157 - accuracy: 0.9651 - val_loss: 0.0268 - val_accuracy: 0.9930\n",
      "Epoch 10/50\n",
      "84/84 [==============================] - 9s 108ms/step - loss: 0.1089 - accuracy: 0.9685 - val_loss: 0.0295 - val_accuracy: 0.9921\n",
      "Epoch 11/50\n",
      "84/84 [==============================] - 9s 107ms/step - loss: 0.1026 - accuracy: 0.9692 - val_loss: 0.0327 - val_accuracy: 0.9910\n",
      "Epoch 12/50\n",
      "84/84 [==============================] - 9s 106ms/step - loss: 0.0941 - accuracy: 0.9717 - val_loss: 0.0295 - val_accuracy: 0.9928\n",
      "Epoch 13/50\n",
      "84/84 [==============================] - 9s 105ms/step - loss: 0.0947 - accuracy: 0.9712 - val_loss: 0.0463 - val_accuracy: 0.9889\n",
      "Epoch 14/50\n",
      "84/84 [==============================] - 9s 106ms/step - loss: 0.0908 - accuracy: 0.9726 - val_loss: 0.0234 - val_accuracy: 0.9943\n",
      "Epoch 15/50\n",
      "84/84 [==============================] - 9s 105ms/step - loss: 0.0842 - accuracy: 0.9751 - val_loss: 0.0230 - val_accuracy: 0.9936\n",
      "Epoch 16/50\n",
      "84/84 [==============================] - 9s 106ms/step - loss: 0.0843 - accuracy: 0.9746 - val_loss: 0.0235 - val_accuracy: 0.9935\n",
      "Epoch 17/50\n",
      "84/84 [==============================] - 9s 106ms/step - loss: 0.0818 - accuracy: 0.9759 - val_loss: 0.0249 - val_accuracy: 0.9931\n",
      "Epoch 18/50\n",
      "84/84 [==============================] - 9s 106ms/step - loss: 0.0812 - accuracy: 0.9759 - val_loss: 0.0290 - val_accuracy: 0.9929\n",
      "Epoch 19/50\n",
      "84/84 [==============================] - 9s 106ms/step - loss: 0.0801 - accuracy: 0.9752 - val_loss: 0.0476 - val_accuracy: 0.9866\n",
      "Epoch 20/50\n",
      "84/84 [==============================] - 9s 105ms/step - loss: 0.0852 - accuracy: 0.9742 - val_loss: 0.0294 - val_accuracy: 0.9921\n",
      "Epoch 21/50\n",
      "84/84 [==============================] - 9s 106ms/step - loss: 0.0721 - accuracy: 0.9775 - val_loss: 0.0266 - val_accuracy: 0.9941\n",
      "Epoch 22/50\n",
      "84/84 [==============================] - 9s 106ms/step - loss: 0.0752 - accuracy: 0.9781 - val_loss: 0.0275 - val_accuracy: 0.9937\n",
      "Epoch 23/50\n",
      "84/84 [==============================] - ETA: 0s - loss: 0.0749 - accuracy: 0.9772\n",
      "Epoch 00023: ReduceLROnPlateau reducing learning rate to 0.0005000000237487257.\n",
      "84/84 [==============================] - 9s 105ms/step - loss: 0.0749 - accuracy: 0.9772 - val_loss: 0.0261 - val_accuracy: 0.9931\n",
      "Epoch 24/50\n",
      "84/84 [==============================] - 9s 106ms/step - loss: 0.0554 - accuracy: 0.9827 - val_loss: 0.0240 - val_accuracy: 0.9944\n",
      "Epoch 25/50\n",
      "84/84 [==============================] - ETA: 0s - loss: 0.0537 - accuracy: 0.9837Restoring model weights from the end of the best epoch.\n",
      "84/84 [==============================] - 9s 106ms/step - loss: 0.0537 - accuracy: 0.9837 - val_loss: 0.0231 - val_accuracy: 0.9944\n",
      "Epoch 00025: early stopping\n"
     ]
    }
   ],
   "source": [
    "# 2. model 학습시키기 \n",
    "history = model.fit_generator(datagen_train.flow(train_images, to_categorical(train_labels), batch_size=batch_size),\n",
    "                              epochs=epochs,\n",
    "                              validation_data=(val_images, to_categorical(val_labels)),\n",
    "                              validation_steps=50,\n",
    "                              callbacks=[learning_rate_reduction, es],\n",
    "                              verbose=1)"
   ]
  },
  {
   "cell_type": "code",
   "execution_count": 57,
   "metadata": {
    "colab": {
     "base_uri": "https://localhost:8080/",
     "height": 279
    },
    "id": "DlOrqtEq9vxa",
    "outputId": "96873b13-3d42-468f-b883-4ed0aaa4ad6c"
   },
   "outputs": [
    {
     "data": {
      "image/png": "[encoded data removed]",
      "text/plain": [
       "<Figure size 432x288 with 2 Axes>"
      ]
     },
     "metadata": {
      "needs_background": "light",
      "tags": []
     },
     "output_type": "display_data"
    }
   ],
   "source": [
    "# 3. model 학습 결과 시각화 \n",
    "fig, loss_ax = plt.subplots()\n",
    "acc_ax = loss_ax.twinx()\n",
    "\n",
    "# train / val loss \n",
    "loss_ax.plot(history.history['loss'], 'y', label='train loss')\n",
    "loss_ax.plot(history.history['val_loss'], 'r', label='val loss')\n",
    "loss_ax.set_xlabel('epoch')\n",
    "loss_ax.set_ylabel('loss')\n",
    "loss_ax.legend(loc='upper left')\n",
    "\n",
    "# train / val accuracy \n",
    "acc_ax.plot(history.history['accuracy'], 'b', label='train acc')\n",
    "acc_ax.plot(history.history['val_accuracy'], 'g', label='val acc')\n",
    "acc_ax.set_ylabel('accuracy')\n",
    "acc_ax.legend(loc='upper right')\n",
    "\n",
    "plt.show()"
   ]
  },
  {
   "cell_type": "code",
   "execution_count": 58,
   "metadata": {
    "colab": {
     "base_uri": "https://localhost:8080/",
     "height": 51
    },
    "id": "YGoOqSyb90bW",
    "outputId": "ce34f63e-7f38-4c20-883c-e5938c2d6480"
   },
   "outputs": [
    {
     "name": "stdout",
     "output_type": "stream",
     "text": [
      "313/313 [==============================] - 1s 3ms/step - loss: 0.0211 - accuracy: 0.9925\n",
      "test loss, test acc: [0.0211181640625, 0.9925000071525574]\n"
     ]
    }
   ],
   "source": [
    "# 4. model 평가하기 \n",
    "print(\"test loss, test acc:\", model.evaluate(test_images, to_categorical(test_labels)))"
   ]
  },
  {
   "cell_type": "markdown",
   "metadata": {
    "id": "MDQKq3IPHjL2"
   },
   "source": [
    "# 3. Mnist Training with RNN and LSTM\n",
    "* https://www.kaggle.com/muhammedfathi/mnist-with-rnn-and-lstm"
   ]
  },
  {
   "cell_type": "code",
   "execution_count": 59,
   "metadata": {
    "id": "dGYcaiPou-JC"
   },
   "outputs": [],
   "source": [
    "from __future__ import print_function\n",
    "\n",
    "import keras\n",
    "from keras.datasets import mnist\n",
    "from keras.models import Model\n",
    "from keras.layers import Input, Dense, TimeDistributed\n",
    "from keras.layers import LSTM"
   ]
  },
  {
   "cell_type": "code",
   "execution_count": 80,
   "metadata": {
    "id": "Uly8z0FnvBCU"
   },
   "outputs": [],
   "source": [
    "# Training parameters.\n",
    "num_classes = 10\n",
    "\n",
    "# Embedding dimensions.\n",
    "row_hidden = 256\n",
    "col_hidden = 256"
   ]
  },
  {
   "cell_type": "code",
   "execution_count": 70,
   "metadata": {
    "id": "90R4l92NvBja"
   },
   "outputs": [],
   "source": [
    "# The data, split between train and test sets.\n",
    "(x_train, y_train), (x_test, y_test) = mnist.load_data()"
   ]
  },
  {
   "cell_type": "code",
   "execution_count": 71,
   "metadata": {
    "colab": {
     "base_uri": "https://localhost:8080/",
     "height": 68
    },
    "id": "UVGhqN6GvDQl",
    "outputId": "6ae21f18-5a2c-4c07-b66b-ab3fefcb8384"
   },
   "outputs": [
    {
     "name": "stdout",
     "output_type": "stream",
     "text": [
      "x_train shape: (60000, 28, 28, 1)\n",
      "60000 train samples\n",
      "10000 test samples\n"
     ]
    }
   ],
   "source": [
    "# Reshapes data to 4D for Hierarchical RNN.\n",
    "x_train = x_train.reshape(x_train.shape[0], 28, 28, 1)\n",
    "x_test = x_test.reshape(x_test.shape[0], 28, 28, 1)\n",
    "x_train = x_train.astype('float32')\n",
    "x_test = x_test.astype('float32')\n",
    "x_train /= 255\n",
    "x_test /= 255\n",
    "print('x_train shape:', x_train.shape)\n",
    "print(x_train.shape[0], 'train samples')\n",
    "print(x_test.shape[0], 'test samples')"
   ]
  },
  {
   "cell_type": "code",
   "execution_count": 72,
   "metadata": {
    "id": "hNT8HS1cvGx_"
   },
   "outputs": [],
   "source": [
    "# Converts class vectors to binary class matrices.\n",
    "y_train = keras.utils.to_categorical(y_train, num_classes)\n",
    "y_test = keras.utils.to_categorical(y_test, num_classes)"
   ]
  },
  {
   "cell_type": "code",
   "execution_count": 73,
   "metadata": {
    "colab": {
     "base_uri": "https://localhost:8080/",
     "height": 34
    },
    "id": "FXMxhZ3rB63k",
    "outputId": "9a1aeefa-1d9d-43f2-dd78-39635b5761f9"
   },
   "outputs": [
    {
     "name": "stdout",
     "output_type": "stream",
     "text": [
      "(42000, 28, 28, 1) (18000, 28, 28, 1) (42000, 10) (18000, 10)\n"
     ]
    }
   ],
   "source": [
    "# train / validation split \n",
    "x_train, x_val, y_train, y_val = train_test_split(x_train, y_train, test_size=0.3, random_state=77)\n",
    "print(x_train.shape, x_val.shape, y_train.shape, y_val.shape)"
   ]
  },
  {
   "cell_type": "code",
   "execution_count": 88,
   "metadata": {
    "id": "jw4NxabFvSeE"
   },
   "outputs": [],
   "source": [
    "row, col, pixel = x_train.shape[1:]\n",
    "\n",
    "# 4D input.\n",
    "x = Input(shape=(row, col, pixel))\n",
    "\n",
    "# Encodes a row of pixels using TimeDistributed Wrapper.\n",
    "encoded_rows = TimeDistributed(LSTM(row_hidden))(x)\n",
    "\n",
    "# Encodes columns of encoded rows.\n",
    "encoded_columns1 = LSTM(col_hidden)(encoded_rows)\n",
    "encoded_columns2 = LSTM(col_hidden)(encoded_rows)\n",
    "\n",
    "# Final predictions and model.\n",
    "prediction = Dense(num_classes, activation='softmax')(encoded_columns2)\n",
    "model = Model(x, prediction)\n",
    "model.compile(loss='categorical_crossentropy',\n",
    "              optimizer='rmsprop',\n",
    "              metrics=['accuracy'])"
   ]
  },
  {
   "cell_type": "code",
   "execution_count": 89,
   "metadata": {
    "colab": {
     "base_uri": "https://localhost:8080/",
     "height": 289
    },
    "id": "6-SW6dUSDUh1",
    "outputId": "55ad610d-6c63-4176-a25f-99221c9a954f"
   },
   "outputs": [
    {
     "name": "stdout",
     "output_type": "stream",
     "text": [
      "Model: \"functional_9\"\n",
      "_________________________________________________________________\n",
      "Layer (type)                 Output Shape              Param #   \n",
      "=================================================================\n",
      "input_7 (InputLayer)         [(None, 28, 28, 1)]       0         \n",
      "_________________________________________________________________\n",
      "time_distributed_6 (TimeDist (None, 28, 256)           264192    \n",
      "_________________________________________________________________\n",
      "lstm_16 (LSTM)               (None, 256)               525312    \n",
      "_________________________________________________________________\n",
      "dense_28 (Dense)             (None, 10)                2570      \n",
      "=================================================================\n",
      "Total params: 792,074\n",
      "Trainable params: 792,074\n",
      "Non-trainable params: 0\n",
      "_________________________________________________________________\n"
     ]
    }
   ],
   "source": [
    "model.summary()"
   ]
  },
  {
   "cell_type": "code",
   "execution_count": 90,
   "metadata": {
    "colab": {
     "base_uri": "https://localhost:8080/",
     "height": 357
    },
    "id": "hlDHXzPX-Tsr",
    "outputId": "ea98f552-8b20-4af2-d22b-271270fdaddb"
   },
   "outputs": [
    {
     "name": "stdout",
     "output_type": "stream",
     "text": [
      "Epoch 1/10\n",
      "1313/1313 [==============================] - 24s 19ms/step - loss: 0.4531 - accuracy: 0.8479 - val_loss: 0.3345 - val_accuracy: 0.8960\n",
      "Epoch 2/10\n",
      "1313/1313 [==============================] - 24s 18ms/step - loss: 0.1229 - accuracy: 0.9620 - val_loss: 0.1160 - val_accuracy: 0.9667\n",
      "Epoch 3/10\n",
      "1313/1313 [==============================] - 24s 18ms/step - loss: 0.0885 - accuracy: 0.9732 - val_loss: 0.0944 - val_accuracy: 0.9722\n",
      "Epoch 4/10\n",
      "1313/1313 [==============================] - 24s 18ms/step - loss: 0.0700 - accuracy: 0.9798 - val_loss: 0.0770 - val_accuracy: 0.9772\n",
      "Epoch 5/10\n",
      "1313/1313 [==============================] - 24s 18ms/step - loss: 0.0568 - accuracy: 0.9831 - val_loss: 0.0521 - val_accuracy: 0.9841\n",
      "Epoch 6/10\n",
      "1313/1313 [==============================] - 24s 18ms/step - loss: 0.0494 - accuracy: 0.9849 - val_loss: 0.0477 - val_accuracy: 0.9863\n",
      "Epoch 7/10\n",
      "1313/1313 [==============================] - 24s 18ms/step - loss: 0.0415 - accuracy: 0.9876 - val_loss: 0.0506 - val_accuracy: 0.9860\n",
      "Epoch 8/10\n",
      "1313/1313 [==============================] - 24s 18ms/step - loss: 0.0359 - accuracy: 0.9896 - val_loss: 0.0486 - val_accuracy: 0.9859\n",
      "Epoch 9/10\n",
      "1313/1313 [==============================] - 24s 18ms/step - loss: 0.0332 - accuracy: 0.9898 - val_loss: 0.0543 - val_accuracy: 0.9860\n",
      "Epoch 10/10\n",
      "1313/1313 [==============================] - 24s 18ms/step - loss: 0.0284 - accuracy: 0.9915 - val_loss: 0.0484 - val_accuracy: 0.9871\n"
     ]
    }
   ],
   "source": [
    "# Training.\n",
    "history = model.fit(\n",
    "                    x_train, y_train, batch_size=32, epochs=10, verbose=1, \n",
    "                    validation_data=(x_val, y_val))"
   ]
  },
  {
   "cell_type": "code",
   "execution_count": 91,
   "metadata": {
    "colab": {
     "base_uri": "https://localhost:8080/",
     "height": 279
    },
    "id": "_D1Sx6XECQnG",
    "outputId": "a1af0e7c-ca01-4d58-e1a1-87fb3b98e0cb"
   },
   "outputs": [
    {
     "data": {
      "image/png": "[encoded data removed]",
      "text/plain": [
       "<Figure size 432x288 with 2 Axes>"
      ]
     },
     "metadata": {
      "needs_background": "light",
      "tags": []
     },
     "output_type": "display_data"
    }
   ],
   "source": [
    "# visualization.\n",
    "fig, loss_ax = plt.subplots()\n",
    "acc_ax = loss_ax.twinx()\n",
    "\n",
    "# train / val loss \n",
    "loss_ax.plot(history.history['loss'], 'y', label='train loss')\n",
    "loss_ax.plot(history.history['val_loss'], 'r', label='val loss')\n",
    "loss_ax.set_xlabel('epoch')\n",
    "loss_ax.set_ylabel('loss')\n",
    "loss_ax.legend(loc='upper left')\n",
    "\n",
    "# train / val accuracy \n",
    "acc_ax.plot(history.history['accuracy'], 'b', label='train acc')\n",
    "acc_ax.plot(history.history['val_accuracy'], 'g', label='val acc')\n",
    "acc_ax.set_ylabel('accuracy')\n",
    "acc_ax.legend(loc='upper right')\n",
    "\n",
    "plt.show()"
   ]
  },
  {
   "cell_type": "code",
   "execution_count": 92,
   "metadata": {
    "colab": {
     "base_uri": "https://localhost:8080/",
     "height": 51
    },
    "id": "7ZpGy430-VY-",
    "outputId": "cd948ad1-46c5-49a3-bf98-894a28fe3ea6"
   },
   "outputs": [
    {
     "name": "stdout",
     "output_type": "stream",
     "text": [
      "Test loss: 0.045092761516571045\n",
      "Test accuracy: 0.9861999750137329\n"
     ]
    }
   ],
   "source": [
    "# Evaluation.\n",
    "scores = model.evaluate(x_test, y_test, verbose=0)\n",
    "print('Test loss:', scores[0])\n",
    "print('Test accuracy:', scores[1])"
   ]
  }
 ],
 "metadata": {
  "accelerator": "GPU",
  "colab": {
   "collapsed_sections": [],
   "name": "3-Three ANN Models.ipynb",
   "provenance": []
  },
  "kernelspec": {
   "display_name": "Python 3",
   "language": "python",
   "name": "python3"
  },
  "language_info": {
   "codemirror_mode": {
    "name": "ipython",
    "version": 3
   },
   "file_extension": ".py",
   "mimetype": "text/x-python",
   "name": "python",
   "nbconvert_exporter": "python",
   "pygments_lexer": "ipython3",
   "version": "3.8.3"
  }
 },
 "nbformat": 4,
 "nbformat_minor": 4
}
