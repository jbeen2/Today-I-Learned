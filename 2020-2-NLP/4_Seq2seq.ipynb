{
 "cells": [
  {
   "cell_type": "markdown",
   "metadata": {
    "id": "8nZBCsA_ZP-p"
   },
   "source": [
    "# Seq2seq\n",
    "* Sequence to Sequence : 한 문장(시퀀스)을 다른 문장(시퀀스)으로 변환하는 모델입니다. \n",
    "* 고정된 길이의 sequence를 입력받아, 알맞은 길이의 sequence를 출력해 줍니다. \n",
    "* ex) \"I am a student\" -> [Seq2Seq model] -> \"je suis étudiant\" "
   ]
  },
  {
   "cell_type": "markdown",
   "metadata": {
    "id": "6jmr25zYaFqp"
   },
   "source": [
    "## Seq2seq 모델 구조 \n",
    "* LSTM(또는 GRU) 기반 **encoder part**와 **decoder part**로 구성되어 있습니다. \n",
    "* Encoder : 입력 sequence의 상태 추출합니다. \n",
    "* Decoder : encoder에서 생성된 상태를 초기값으로 이용하여 순차적으로 sequence를 생성합니다. "
   ]
  },
  {
   "cell_type": "markdown",
   "metadata": {
    "id": "ZDMQsFNnaIav"
   },
   "source": [
    "![img](https://user-images.githubusercontent.com/43749571/97678810-c3c9b880-1ad7-11eb-8d90-35580eca18c2.png)"
   ]
  },
  {
   "cell_type": "markdown",
   "metadata": {
    "id": "s6bHivh7aNuS"
   },
   "source": [
    "1. **Encoder**는 'I am a student'라는 입력 문장을 받아 Context 벡터를 만듭니다.\n",
    "2. **Context 벡터**는 'I am a student'에 대한 정보를 압축하고 있는 벡터입니다. \n",
    "3. Context 벡터는 다시 **Decoder**로 전달되며 Decoder는 이를 활용하여 최종적으로 'je suis étudiant'라는 불어 문장을 생성합니다.\n"
   ]
  },
  {
   "cell_type": "markdown",
   "metadata": {
    "id": "BCdhy-syFAIs"
   },
   "source": [
    "## Training Phase "
   ]
  },
  {
   "cell_type": "markdown",
   "metadata": {
    "id": "zGsyV8XJFaT9"
   },
   "source": [
    "<img width=\"661\" alt=\"스크린샷 2020-10-29 오후 8 19 24\" src=\"https://user-images.githubusercontent.com/43749571/97678854-d217d480-1ad7-11eb-9821-7256b39e05ce.png\">"
   ]
  },
  {
   "cell_type": "markdown",
   "metadata": {
    "id": "EOwB2ubwFf-z"
   },
   "source": [
    "* 입력 문장을 단어 단위로 Tokenize 한 후, 순차적으로 LSTM(또는 GRU)에 입력받습니다. \n",
    "    - ex) 'I', 'like', 'an', 'apple', '.' \n",
    "* sequence의 마지막 단에서 상태를 추출합니다. \n",
    "    - $h_{final}$, $c_{final}$ 상태 벡터 \n",
    "\n",
    ".\n",
    "\n",
    "\n",
    "* **EOS** : 입력 sequence의 종료를 나타냅니다. (End Of Sequence) \n",
    "* Seq2seq에서는 EOS가 상당히 중요한데,\n",
    "    - EOS를 이용해 sequence의 종료 시점을 알 수 있고, \n",
    "    - LSTM(또는 GRU) 특성 중 같은 가중치를 사용한다는 점에서 무한히 확장 가능하기 때문입니다. \n",
    "\n",
    "\n",
    ".\n",
    "\n",
    "* 추가적으로, Seq2seq 구조에서 성능을 높이기 위해 입력 데이터를 반전(reverse) 시키는 방법이 있습니다.\n",
    "* ex) I like an apple -> ellpa na ekil I \n",
    "* Gradient의 전파가 원활해지기 때문에 학습이 빨라지고 정확도가 개선된다고 합니다.  "
   ]
  },
  {
   "cell_type": "markdown",
   "metadata": {
    "id": "SkWyUSoWHtoj"
   },
   "source": [
    "<img width=\"661\" alt=\"스크린샷 2020-10-29 오후 8 29 32\" src=\"https://user-images.githubusercontent.com/43749571/97678893-e0fe8700-1ad7-11eb-883f-b5bc01dd65a5.png\">"
   ]
  },
  {
   "cell_type": "markdown",
   "metadata": {
    "id": "EWnNkqgqH5VH"
   },
   "source": [
    "* 첫 LSTM에서 EOS를 입력으로 받습니다. \n",
    "* 두번째 LSTM에서는 첫번째 값을 입력으로 받습니다. \n",
    "* EOS에 도달할 때 까지 이와 같은 과정을 순차적으로 진행합니다. \n",
    "\n",
    "\n",
    "\n",
    "* Decoder 단계에서는 **Teacher Forcing** 방식으로 Training을 진행합니다. "
   ]
  },
  {
   "cell_type": "markdown",
   "metadata": {
    "id": "iTPDp9uzR5ox"
   },
   "source": [
    "### Teacher Forcing "
   ]
  },
  {
   "cell_type": "markdown",
   "metadata": {
    "id": "ZXW8DlclR2-j"
   },
   "source": [
    "![image2](https://user-images.githubusercontent.com/43749571/97678957-f673b100-1ad7-11eb-99eb-79749b4d3315.png)"
   ]
  },
  {
   "cell_type": "markdown",
   "metadata": {
    "id": "vlP9f7uOR8rY"
   },
   "source": [
    "* target word(Ground Truth)를 디코더의 다음 입력으로 넣어주는 기법입니다. \n",
    "* 즉, **(n-1) 스텝의 실제값**을 n 스텝의 입력값으로 이용합니다. \n",
    "\n",
    "\n",
    ". \n",
    "\n",
    "\n",
    "* 보통의 RNN/LSTM 등의 구조에서는 (n-1) 예측값을 n번째의 input으로 넣어주게 됩니다. \n",
    "* 하지만 위의 경우 잘못된 예측이 선행되면 계속적으로 잘못된 예측이 이루어지게 됩니다. \n",
    "* 또한 이러한 단점은 학습 초기에 학습 속도 저하의 요인이 됩니다. \n",
    "* 따라서 정확한 데이터로 훈련하기 위해, 예측값을 다음 스텝으로 넘기지 않고 **실제값을 매번 입력값으로 사용하는 방법**을 사용합니다. "
   ]
  },
  {
   "cell_type": "markdown",
   "metadata": {
    "id": "9C_Inh3QUMsM"
   },
   "source": [
    "## Inference Phase "
   ]
  },
  {
   "cell_type": "markdown",
   "metadata": {
    "id": "ww4TLUveVGU-"
   },
   "source": [
    "<img width=\"884\" alt=\"스크린샷 2020-10-29 오후 9 25 15\" src=\"https://user-images.githubusercontent.com/43749571/97679011-0c817180-1ad8-11eb-9d66-eefe19689bd3.png\">"
   ]
  },
  {
   "cell_type": "markdown",
   "metadata": {
    "id": "9hRqcZRTVXTz"
   },
   "source": [
    "* Training Phase에서는 Label을 알고 있기 때문에 입력에 참값을 넣어 Teacher Forcing 방식으로 학습합니다. \n",
    "* 반면 Inference Phase에서는 참값을 알 수 없기 때문에, **직전의 출력값과 상태 벡터**를 다음 LSTM의 입력 및 초기 상태로 이용하여 순차적으로 출력값을 얻습니다. "
   ]
  },
  {
   "cell_type": "markdown",
   "metadata": {
    "id": "kXkD2P13WDw5"
   },
   "source": [
    "# Code \n",
    "* https://towardsdatascience.com/natural-language-understanding-with-sequence-to-sequence-models-e87d41ad258b\n",
    "* [ATIS dataset](https://catalog.ldc.upenn.edu/docs/LDC93S4B/corpus.html)을 이용하여 **Slot Filling** 진행하기 "
   ]
  },
  {
   "cell_type": "code",
   "execution_count": 1,
   "metadata": {
    "colab": {
     "base_uri": "https://localhost:8080/"
    },
    "id": "9uXRC0M-WHKl",
    "outputId": "5e3b4ec9-7cba-4287-c585-cfaa82172e15"
   },
   "outputs": [
    {
     "name": "stdout",
     "output_type": "stream",
     "text": [
      "/content/drive/My Drive/Stat/2020-2-NLP/4-Seq2Seq\n"
     ]
    }
   ],
   "source": [
    "cd /content/drive/My Drive/Stat/2020-2-NLP/4-Seq2Seq"
   ]
  },
  {
   "cell_type": "code",
   "execution_count": 2,
   "metadata": {
    "colab": {
     "base_uri": "https://localhost:8080/",
     "height": 35
    },
    "id": "0hE9DqlhXFZ4",
    "outputId": "c39d8860-59af-4b5d-ec33-b1d8983fccf6"
   },
   "outputs": [
    {
     "data": {
      "application/vnd.google.colaboratory.intrinsic+json": {
       "type": "string"
      },
      "text/plain": [
       "'2.3.0'"
      ]
     },
     "execution_count": 2,
     "metadata": {
      "tags": []
     },
     "output_type": "execute_result"
    }
   ],
   "source": [
    "import tensorflow as tf\n",
    "tf.__version__ "
   ]
  },
  {
   "cell_type": "code",
   "execution_count": 3,
   "metadata": {
    "id": "FgwJyystXeyI"
   },
   "outputs": [],
   "source": [
    "import pandas as pd \n",
    "import numpy as np \n",
    "\n",
    "import os\n",
    "import pickle"
   ]
  },
  {
   "cell_type": "code",
   "execution_count": 22,
   "metadata": {
    "id": "XLZzzF8IedOx"
   },
   "outputs": [],
   "source": [
    "%matplotlib inline\n",
    "import matplotlib.pyplot as plt"
   ]
  },
  {
   "cell_type": "markdown",
   "metadata": {
    "id": "nVzmphgM_B-I"
   },
   "source": [
    "## Slot Filling \n",
    "* NLU (Natural Language Understanding)\n",
    "* 사용자의 발화로부터 대화의 도메인(domain), 의도(intent), 의미적 슬롯(semantic slot)을 분류합니다. \n",
    "* 슬롯을 채움으로써 자연어를 이해하는 작업을 수행할 수 있습니다. \n",
    "* ex) \"일요일에 서울에서 부산으로 가는 기차표 예약해줘\"\n",
    "    - domain : 기차 \n",
    "    - intent : 표 예약 \n",
    "    - semantic_slot : 일요일=날짜, 서울=출발지, 부산=목적지"
   ]
  },
  {
   "cell_type": "markdown",
   "metadata": {
    "id": "A4-NQZ2qYiR2"
   },
   "source": [
    "## Data Load "
   ]
  },
  {
   "cell_type": "markdown",
   "metadata": {
    "id": "bP2gx8LBBP0y"
   },
   "source": [
    "<img width=\"661\" alt=\"스크린샷 2020-10-30 오후 2 39 40\" src=\"https://user-images.githubusercontent.com/43749571/97679053-1dca7e00-1ad8-11eb-9bee-f804e3fbdf5a.png\">"
   ]
  },
  {
   "cell_type": "markdown",
   "metadata": {
    "id": "a7a0duLRB2wj"
   },
   "source": [
    "- Query text : 문장(질문)을 tokenize하여 corpus 단위로 나눈 것 \n",
    "- Query vector : Query text에 고유값을 부여해 준 것 ($\\simeq$ one-hot encoding) \n",
    "- Intent label : 문장(질문)의 의도   \n",
    "- Slot text : 각 corpus에서 분류한 semantic slot \n",
    "- Slot vector : Slot text에 고유값을 부여해 준 것 ($\\simeq$ one-hot encoding)\n",
    "    "
   ]
  },
  {
   "cell_type": "code",
   "execution_count": 4,
   "metadata": {
    "id": "W8x-UMtnXe0z"
   },
   "outputs": [],
   "source": [
    "def load_ds(fname='atis.train.pkl', verbose=True):\n",
    "    with open(fname, 'rb') as stream:\n",
    "        ds, dicts = pickle.load(stream)\n",
    "    print('Done  loading: ', fname)\n",
    "    print('      samples: {:4d}'.format(len(ds['query'])))\n",
    "    print('   vocab_size: {:4d}'.format(len(dicts['token_ids'])))\n",
    "    print('   slot count: {:4d}'.format(len(dicts['slot_ids'])))\n",
    "    print(' intent count: {:4d}'.format(len(dicts['intent_ids'])))\n",
    "    return ds,dicts"
   ]
  },
  {
   "cell_type": "code",
   "execution_count": 5,
   "metadata": {
    "id": "Vi5NBMYLZx8e"
   },
   "outputs": [],
   "source": [
    "# convert pickle file to arrays\n",
    "def load_atis(filename, add_start_end_token=False, verbose=True):\n",
    "    train_ds, dicts = load_ds(os.path.join(filename), verbose)\n",
    "    t2i, s2i, in2i = map(dicts.get, ['token_ids', 'slot_ids', 'intent_ids'])\n",
    "    i2t, i2s, i2in = map(lambda d: {d[k]:k for k in d.keys()}, [t2i,s2i,in2i])\n",
    "    query, slots, intent =  map(train_ds.get, ['query', 'slot_labels', 'intent_labels'])\n",
    "\n",
    "    if add_start_end_token:  # seq2seq 모델 적용을 위해, start token과 end token 설정 \n",
    "        i2s[178] = 'BOS'     # 문장 시작에 BOS \n",
    "        i2s[179] = 'EOS'     # 문장 끝에 EOS \n",
    "        s2i['BOS'] = 178\n",
    "        s2i['EOS'] = 179\n",
    "\n",
    "    input_tensor = []\n",
    "    target_tensor = []\n",
    "    query_data = []\n",
    "    intent_data = []\n",
    "    slot_data = []\n",
    "    to_show = np.random.randint(0, len(query)-1, 5)\n",
    "\n",
    "    for i in range(len(query)):\n",
    "        input_tensor.append(query[i])\n",
    "        slot_text = []\n",
    "        slot_vector = []\n",
    "\n",
    "        for j in range(len(query[i])):\n",
    "            slot_text.append(i2s[slots[i][j]])\n",
    "            slot_vector.append(slots[i][j])\n",
    "\n",
    "        if add_start_end_token:\n",
    "            slot_text[0] = 'BOS'\n",
    "            slot_vector[0] = 178\n",
    "            slot_text[-1] = 'EOS'\n",
    "            slot_vector[-1]= 179\n",
    "\n",
    "        target_tensor.append(slot_vector)\n",
    "        q = ' '.join(map(i2t.get, query[i]))\n",
    "        query_data.append(q.replace('BOS', '').replace('EOS',''))\n",
    "        intent_data.append(i2in[intent[i][0]])\n",
    "        slot = ' '.join(slot_text)\n",
    "        slot_data.append(slot[1:-1])\n",
    "\n",
    "        if i in to_show and verbose:\n",
    "            print('Query text:', q)\n",
    "            print('Query vector: ', query[i])\n",
    "            print('Intent label: ', i2in[intent[i][0]])\n",
    "            print('Slot text: ', slot)\n",
    "            print('Slot vector: ', slot_vector)\n",
    "            print('*'*74)\n",
    "\n",
    "    query_data = np.array(query_data)\n",
    "    intent_data = np.array(intent_data)\n",
    "    slot_data = np.array(slot_data)\n",
    "    intent_data_label = np.array(intent).flatten()\n",
    "    return t2i, s2i, in2i, i2t, i2s, i2in, input_tensor, target_tensor, query_data, intent_data, intent_data_label, slot_data"
   ]
  },
  {
   "cell_type": "code",
   "execution_count": 6,
   "metadata": {
    "colab": {
     "base_uri": "https://localhost:8080/"
    },
    "id": "kUU9Ky0lZx-o",
    "outputId": "b04d24eb-6265-4390-8d84-28fec618dd4b"
   },
   "outputs": [
    {
     "name": "stdout",
     "output_type": "stream",
     "text": [
      "Done  loading:  atis.train.pkl\n",
      "      samples: 4978\n",
      "   vocab_size:  943\n",
      "   slot count:  129\n",
      " intent count:   26\n",
      "Query text: BOS what kinds of planes are used by american airlines EOS\n",
      "Query vector:  [178 916 515 646 686 228 892 277 212 200 179]\n",
      "Intent label:  aircraft\n",
      "Slot text:  O O O O O O O O B-airline_name I-airline_name O\n",
      "Slot vector:  [128, 128, 128, 128, 128, 128, 128, 128, 2, 83, 128]\n",
      "**************************************************************************\n",
      "Query text: BOS what is the distance from los angeles international airport to los angeles EOS\n",
      "Query vector:  [178 916 498 827 373 444 563 216 496 203 851 563 216 179]\n",
      "Intent label:  distance\n",
      "Slot text:  O O O O O O B-fromloc.airport_name I-fromloc.airport_name I-fromloc.airport_name I-fromloc.airport_name O B-toloc.city_name I-toloc.city_name O\n",
      "Slot vector:  [128, 128, 128, 128, 128, 128, 47, 109, 109, 109, 128, 78, 125, 128]\n",
      "**************************************************************************\n",
      "Query text: BOS what does hou mean EOS\n",
      "Query vector:  [178 916 376 474 585 179]\n",
      "Intent label:  abbreviation\n",
      "Slot text:  O O O B-airport_code O O\n",
      "Slot vector:  [128, 128, 128, 3, 128, 128]\n",
      "**************************************************************************\n",
      "Query text: BOS what type of aircraft leaves from boston to washington dc before 9 am EOS\n",
      "Query vector:  [178 916 883 646 196 538 444 266 851 905 344 253 172 210 179]\n",
      "Intent label:  aircraft\n",
      "Slot text:  O O O O O O O B-fromloc.city_name O B-toloc.city_name B-toloc.state_code B-depart_time.time_relative B-depart_time.time I-depart_time.time O\n",
      "Slot vector:  [128, 128, 128, 128, 128, 128, 128, 48, 128, 78, 80, 36, 35, 100, 128]\n",
      "**************************************************************************\n",
      "Query text: BOS show me all the types of aircraft EOS\n",
      "Query vector:  [178 770 581 207 827 884 646 196 179]\n",
      "Intent label:  aircraft\n",
      "Slot text:  O O O O O O O O O\n",
      "Slot vector:  [128, 128, 128, 128, 128, 128, 128, 128, 128]\n",
      "**************************************************************************\n"
     ]
    }
   ],
   "source": [
    "# load ATIS training dataset  \n",
    "t2i_train, s2i_train, in2i_train, i2t_train, i2s_train, i2in_train, \\\n",
    "input_tensor_train, target_tensor_train, \\\n",
    "query_data_train, intent_data_train, intent_data_label_train, slot_data_train = load_atis('atis.train.pkl')"
   ]
  },
  {
   "cell_type": "code",
   "execution_count": 7,
   "metadata": {
    "colab": {
     "base_uri": "https://localhost:8080/"
    },
    "id": "9Y5kWhugZx1O",
    "outputId": "f9c46140-b4f1-40ef-ee88-549527f8ad5d"
   },
   "outputs": [
    {
     "name": "stdout",
     "output_type": "stream",
     "text": [
      "Done  loading:  atis.test.pkl\n",
      "      samples:  893\n",
      "   vocab_size:  943\n",
      "   slot count:  129\n",
      " intent count:   26\n",
      "Query text: BOS which flights leave chicago on april twelfth and arrive in indianapolis in the morning EOS\n",
      "Query vector:  [178 920 429 537 297 654 227 878 215 236 482 489 482 827 606 179]\n",
      "Intent label:  flight\n",
      "Slot text:  O O O O B-fromloc.city_name O B-depart_date.month_name B-depart_date.day_number O O O B-toloc.city_name O O B-arrive_time.period_of_day O\n",
      "Slot vector:  [128, 128, 128, 128, 48, 128, 28, 27, 128, 128, 128, 78, 128, 128, 12, 128]\n",
      "**************************************************************************\n",
      "Query text: BOS what is the ground transportation between the charlotte airport charlotte airport and downtown charlotte EOS\n",
      "Query vector:  [178 916 498 827 457 866 259 827 294 203 294 203 215 380 294 179]\n",
      "Intent label:  ground_service\n",
      "Slot text:  O O O O O O O O B-airport_name I-airport_name B-city_name I-city_name O O B-city_name O\n",
      "Slot vector:  [128, 128, 128, 128, 128, 128, 128, 128, 4, 84, 17, 91, 128, 128, 17, 128]\n",
      "**************************************************************************\n",
      "Query text: BOS now show me ground transportation in houston on monday afternoon EOS\n",
      "Query vector:  [178 637 770 581 457 866 482 476 654 601 191 179]\n",
      "Intent label:  ground_service\n",
      "Slot text:  O O O O O O O B-city_name O B-day_name B-period_of_day O\n",
      "Slot vector:  [128, 128, 128, 128, 128, 128, 128, 17, 128, 22, 57, 128]\n",
      "**************************************************************************\n",
      "Query text: BOS list flights from newark to houston EOS\n",
      "Query vector:  [178 549 429 444 620 851 476 179]\n",
      "Intent label:  flight\n",
      "Slot text:  O O O O B-fromloc.city_name O B-toloc.city_name O\n",
      "Slot vector:  [128, 128, 128, 128, 48, 128, 78, 128]\n",
      "**************************************************************************\n",
      "Query text: BOS what is the earliest arriving flight from houston to orlando EOS\n",
      "Query vector:  [178 916 498 827 387 238 428 444 476 851 667 179]\n",
      "Intent label:  flight\n",
      "Slot text:  O O O O B-flight_mod I-flight_mod O O B-fromloc.city_name O B-toloc.city_name O\n",
      "Slot vector:  [128, 128, 128, 128, 42, 105, 128, 128, 48, 128, 78, 128]\n",
      "**************************************************************************\n"
     ]
    }
   ],
   "source": [
    "# load ATIS test dataset\n",
    "t2i_test, s2i_test, in2i_test, i2t_test, i2s_test, i2in_test, \\\n",
    "input_tensor_test, target_tensor_test, \\\n",
    "query_data_test, intent_data_test, intent_data_label_test, slot_data_test = load_atis('atis.test.pkl')"
   ]
  },
  {
   "cell_type": "code",
   "execution_count": 8,
   "metadata": {
    "colab": {
     "base_uri": "https://localhost:8080/",
     "height": 904
    },
    "id": "qk_R4B9Ajb61",
    "outputId": "0059e2f5-fef0-486d-d27f-9feddc5dbfa1"
   },
   "outputs": [
    {
     "name": "stderr",
     "output_type": "stream",
     "text": [
      "/usr/local/lib/python3.6/dist-packages/ipykernel_launcher.py:1: FutureWarning: Passing a negative integer is deprecated in version 1.0 and will not be supported in future version. Instead, use None to not limit the column width.\n",
      "  \"\"\"Entry point for launching an IPython kernel.\n"
     ]
    },
    {
     "data": {
      "text/html": [
       "<div>\n",
       "<style scoped>\n",
       "    .dataframe tbody tr th:only-of-type {\n",
       "        vertical-align: middle;\n",
       "    }\n",
       "\n",
       "    .dataframe tbody tr th {\n",
       "        vertical-align: top;\n",
       "    }\n",
       "\n",
       "    .dataframe thead th {\n",
       "        text-align: right;\n",
       "    }\n",
       "</style>\n",
       "<table border=\"1\" class=\"dataframe\">\n",
       "  <thead>\n",
       "    <tr style=\"text-align: right;\">\n",
       "      <th></th>\n",
       "      <th>query</th>\n",
       "      <th>intent</th>\n",
       "      <th>slot filling</th>\n",
       "    </tr>\n",
       "  </thead>\n",
       "  <tbody>\n",
       "    <tr>\n",
       "      <th>0</th>\n",
       "      <td>i want to fly from boston at 838 am and arrive in denver at 1110 in the morning</td>\n",
       "      <td>flight</td>\n",
       "      <td>O O O O O B-fromloc.city_name O B-depart_time.time I-depart_time.time O O O B-toloc.city_name O B-arrive_time.time O O B-arrive_time.period_of_day</td>\n",
       "    </tr>\n",
       "    <tr>\n",
       "      <th>1</th>\n",
       "      <td>what is the arrival time in san francisco for the 755 am flight leaving washington</td>\n",
       "      <td>flight_time</td>\n",
       "      <td>O O O B-flight_time I-flight_time O B-fromloc.city_name I-fromloc.city_name O O B-depart_time.time I-depart_time.time O O B-fromloc.city_name</td>\n",
       "    </tr>\n",
       "    <tr>\n",
       "      <th>2</th>\n",
       "      <td>cheapest airfare from tacoma to orlando</td>\n",
       "      <td>airfare</td>\n",
       "      <td>B-cost_relative O O B-fromloc.city_name O B-toloc.city_name</td>\n",
       "    </tr>\n",
       "    <tr>\n",
       "      <th>3</th>\n",
       "      <td>what kind of aircraft is used on a flight from cleveland to dallas</td>\n",
       "      <td>aircraft</td>\n",
       "      <td>O O O O O O O O O O B-fromloc.city_name O B-toloc.city_name</td>\n",
       "    </tr>\n",
       "    <tr>\n",
       "      <th>4</th>\n",
       "      <td>what kind of ground transportation is available in denver</td>\n",
       "      <td>ground_service</td>\n",
       "      <td>O O O O O O O O B-city_name</td>\n",
       "    </tr>\n",
       "    <tr>\n",
       "      <th>5</th>\n",
       "      <td>what 's the airport at orlando</td>\n",
       "      <td>airport</td>\n",
       "      <td>O O O O O B-city_name</td>\n",
       "    </tr>\n",
       "    <tr>\n",
       "      <th>6</th>\n",
       "      <td>which airline serves denver pittsburgh and atlanta</td>\n",
       "      <td>airline</td>\n",
       "      <td>O O O B-fromloc.city_name B-fromloc.city_name O B-fromloc.city_name</td>\n",
       "    </tr>\n",
       "    <tr>\n",
       "      <th>7</th>\n",
       "      <td>how far is it from orlando airport to orlando</td>\n",
       "      <td>distance</td>\n",
       "      <td>O O O O O B-fromloc.airport_name I-fromloc.airport_name O B-toloc.city_name</td>\n",
       "    </tr>\n",
       "    <tr>\n",
       "      <th>8</th>\n",
       "      <td>what is fare code h</td>\n",
       "      <td>abbreviation</td>\n",
       "      <td>O O O O B-fare_basis_code</td>\n",
       "    </tr>\n",
       "    <tr>\n",
       "      <th>9</th>\n",
       "      <td>how much does the limousine service cost within pittsburgh</td>\n",
       "      <td>ground_fare</td>\n",
       "      <td>O O O O B-transport_type O O O B-city_name</td>\n",
       "    </tr>\n",
       "    <tr>\n",
       "      <th>10</th>\n",
       "      <td>please tell me how many nonstop flights there are from boston to atlanta</td>\n",
       "      <td>quantity</td>\n",
       "      <td>O O O O O B-flight_stop O O O O B-fromloc.city_name O B-toloc.city_name</td>\n",
       "    </tr>\n",
       "    <tr>\n",
       "      <th>11</th>\n",
       "      <td>what city is the airport mco in</td>\n",
       "      <td>city</td>\n",
       "      <td>O O O O O B-fromloc.airport_code O</td>\n",
       "    </tr>\n",
       "    <tr>\n",
       "      <th>12</th>\n",
       "      <td>flight numbers from columbus to minneapolis tomorrow</td>\n",
       "      <td>flight_no</td>\n",
       "      <td>O O O B-fromloc.city_name O B-toloc.city_name B-depart_date.today_relative</td>\n",
       "    </tr>\n",
       "    <tr>\n",
       "      <th>13</th>\n",
       "      <td>how many seats in a 100</td>\n",
       "      <td>capacity</td>\n",
       "      <td>O O O O O B-aircraft_code</td>\n",
       "    </tr>\n",
       "    <tr>\n",
       "      <th>14</th>\n",
       "      <td>give me the flights and fares on december twenty seventh from indianapolis to orlando</td>\n",
       "      <td>flight+airfare</td>\n",
       "      <td>O O O O O O O B-depart_date.month_name B-depart_date.day_number I-depart_date.day_number O B-fromloc.city_name O B-toloc.city_name</td>\n",
       "    </tr>\n",
       "    <tr>\n",
       "      <th>15</th>\n",
       "      <td>show me all meals on flights from atlanta to washington</td>\n",
       "      <td>meal</td>\n",
       "      <td>O O O B-meal O O O B-fromloc.city_name O B-toloc.city_name</td>\n",
       "    </tr>\n",
       "    <tr>\n",
       "      <th>16</th>\n",
       "      <td>what are the air restrictions on flights from pittsburgh to atlanta for the airfare of 416 dollars</td>\n",
       "      <td>restriction</td>\n",
       "      <td>O O O O O O O O B-fromloc.city_name O B-toloc.city_name O O O O B-fare_amount I-fare_amount</td>\n",
       "    </tr>\n",
       "    <tr>\n",
       "      <th>17</th>\n",
       "      <td>airline and flight number from columbus to minneapolis</td>\n",
       "      <td>airline+flight_no</td>\n",
       "      <td>O O O O O B-fromloc.city_name O B-toloc.city_name</td>\n",
       "    </tr>\n",
       "    <tr>\n",
       "      <th>18</th>\n",
       "      <td>what ground transportation is available from the pittsburgh airport to downtown and how much does it cost</td>\n",
       "      <td>ground_service+ground_fare</td>\n",
       "      <td>O O O O O O O B-fromloc.airport_name I-fromloc.airport_name O O O O O O O O</td>\n",
       "    </tr>\n",
       "    <tr>\n",
       "      <th>19</th>\n",
       "      <td>show me the costs and times for flights from san francisco to atlanta</td>\n",
       "      <td>airfare+flight_time</td>\n",
       "      <td>O O O O O B-flight_time O O O B-fromloc.city_name I-fromloc.city_name O B-toloc.city_name</td>\n",
       "    </tr>\n",
       "    <tr>\n",
       "      <th>20</th>\n",
       "      <td>show me the cheapest fare in the database</td>\n",
       "      <td>cheapest</td>\n",
       "      <td>O O O B-cost_relative O O O O</td>\n",
       "    </tr>\n",
       "    <tr>\n",
       "      <th>21</th>\n",
       "      <td>i want to fly from detroit to st. petersburg on northwest airlines and leave around 9 am tell me what aircraft are used by this flight and tell me the flight number</td>\n",
       "      <td>aircraft+flight+flight_no</td>\n",
       "      <td>O O O O O B-fromloc.city_name O B-toloc.city_name I-toloc.city_name O B-airline_name I-airline_name O O B-depart_time.time_relative B-depart_time.time I-depart_time.time O O O O O O O O O O O O O O O</td>\n",
       "    </tr>\n",
       "  </tbody>\n",
       "</table>\n",
       "</div>"
      ],
      "text/plain": [
       "                                                                                                                                                                     query  ...                                                                                                                                                                                               slot filling\n",
       "0    i want to fly from boston at 838 am and arrive in denver at 1110 in the morning                                                                                        ...   O O O O O B-fromloc.city_name O B-depart_time.time I-depart_time.time O O O B-toloc.city_name O B-arrive_time.time O O B-arrive_time.period_of_day                                                      \n",
       "1    what is the arrival time in san francisco for the 755 am flight leaving washington                                                                                     ...   O O O B-flight_time I-flight_time O B-fromloc.city_name I-fromloc.city_name O O B-depart_time.time I-depart_time.time O O B-fromloc.city_name                                                           \n",
       "2    cheapest airfare from tacoma to orlando                                                                                                                                ...   B-cost_relative O O B-fromloc.city_name O B-toloc.city_name                                                                                                                                             \n",
       "3    what kind of aircraft is used on a flight from cleveland to dallas                                                                                                     ...   O O O O O O O O O O B-fromloc.city_name O B-toloc.city_name                                                                                                                                             \n",
       "4    what kind of ground transportation is available in denver                                                                                                              ...   O O O O O O O O B-city_name                                                                                                                                                                             \n",
       "5    what 's the airport at orlando                                                                                                                                         ...   O O O O O B-city_name                                                                                                                                                                                   \n",
       "6    which airline serves denver pittsburgh and atlanta                                                                                                                     ...   O O O B-fromloc.city_name B-fromloc.city_name O B-fromloc.city_name                                                                                                                                     \n",
       "7    how far is it from orlando airport to orlando                                                                                                                          ...   O O O O O B-fromloc.airport_name I-fromloc.airport_name O B-toloc.city_name                                                                                                                             \n",
       "8    what is fare code h                                                                                                                                                    ...   O O O O B-fare_basis_code                                                                                                                                                                               \n",
       "9    how much does the limousine service cost within pittsburgh                                                                                                             ...   O O O O B-transport_type O O O B-city_name                                                                                                                                                              \n",
       "10   please tell me how many nonstop flights there are from boston to atlanta                                                                                               ...   O O O O O B-flight_stop O O O O B-fromloc.city_name O B-toloc.city_name                                                                                                                                 \n",
       "11   what city is the airport mco in                                                                                                                                        ...   O O O O O B-fromloc.airport_code O                                                                                                                                                                      \n",
       "12   flight numbers from columbus to minneapolis tomorrow                                                                                                                   ...   O O O B-fromloc.city_name O B-toloc.city_name B-depart_date.today_relative                                                                                                                              \n",
       "13   how many seats in a 100                                                                                                                                                ...   O O O O O B-aircraft_code                                                                                                                                                                               \n",
       "14   give me the flights and fares on december twenty seventh from indianapolis to orlando                                                                                  ...   O O O O O O O B-depart_date.month_name B-depart_date.day_number I-depart_date.day_number O B-fromloc.city_name O B-toloc.city_name                                                                      \n",
       "15   show me all meals on flights from atlanta to washington                                                                                                                ...   O O O B-meal O O O B-fromloc.city_name O B-toloc.city_name                                                                                                                                              \n",
       "16   what are the air restrictions on flights from pittsburgh to atlanta for the airfare of 416 dollars                                                                     ...   O O O O O O O O B-fromloc.city_name O B-toloc.city_name O O O O B-fare_amount I-fare_amount                                                                                                             \n",
       "17   airline and flight number from columbus to minneapolis                                                                                                                 ...   O O O O O B-fromloc.city_name O B-toloc.city_name                                                                                                                                                       \n",
       "18   what ground transportation is available from the pittsburgh airport to downtown and how much does it cost                                                              ...   O O O O O O O B-fromloc.airport_name I-fromloc.airport_name O O O O O O O O                                                                                                                             \n",
       "19   show me the costs and times for flights from san francisco to atlanta                                                                                                  ...   O O O O O B-flight_time O O O B-fromloc.city_name I-fromloc.city_name O B-toloc.city_name                                                                                                               \n",
       "20   show me the cheapest fare in the database                                                                                                                              ...   O O O B-cost_relative O O O O                                                                                                                                                                           \n",
       "21   i want to fly from detroit to st. petersburg on northwest airlines and leave around 9 am tell me what aircraft are used by this flight and tell me the flight number   ...   O O O O O B-fromloc.city_name O B-toloc.city_name I-toloc.city_name O B-airline_name I-airline_name O O B-depart_time.time_relative B-depart_time.time I-depart_time.time O O O O O O O O O O O O O O O \n",
       "\n",
       "[22 rows x 3 columns]"
      ]
     },
     "execution_count": 8,
     "metadata": {
      "tags": []
     },
     "output_type": "execute_result"
    }
   ],
   "source": [
    "pd.set_option('display.max_colwidth', -1)\n",
    "df = pd.DataFrame({'query': query_data_train, 'intent': intent_data_train, 'slot filling': slot_data_train})\n",
    "\n",
    "# 각 intent에 해당하는 query와 이에 대한 slot filling의 예시 \n",
    "df_small = pd.DataFrame(columns=['query','intent','slot filling'])\n",
    "j = 0\n",
    "for i in df.intent.unique():\n",
    "    df_small.loc[j] = df[df.intent==i].iloc[0]\n",
    "    j = j+1\n",
    "    \n",
    "df_small"
   ]
  },
  {
   "cell_type": "code",
   "execution_count": 9,
   "metadata": {
    "colab": {
     "base_uri": "https://localhost:8080/",
     "height": 514
    },
    "id": "RfJMZnn7Fphf",
    "outputId": "10c369cc-d533-4102-e3df-25fda5c935b4"
   },
   "outputs": [
    {
     "data": {
      "text/html": [
       "<div>\n",
       "<style scoped>\n",
       "    .dataframe tbody tr th:only-of-type {\n",
       "        vertical-align: middle;\n",
       "    }\n",
       "\n",
       "    .dataframe tbody tr th {\n",
       "        vertical-align: top;\n",
       "    }\n",
       "\n",
       "    .dataframe thead th {\n",
       "        text-align: right;\n",
       "    }\n",
       "</style>\n",
       "<table border=\"1\" class=\"dataframe\">\n",
       "  <thead>\n",
       "    <tr style=\"text-align: right;\">\n",
       "      <th></th>\n",
       "      <th>0</th>\n",
       "      <th>1</th>\n",
       "      <th>2</th>\n",
       "      <th>3</th>\n",
       "      <th>4</th>\n",
       "      <th>5</th>\n",
       "      <th>6</th>\n",
       "    </tr>\n",
       "  </thead>\n",
       "  <tbody>\n",
       "    <tr>\n",
       "      <th>0</th>\n",
       "      <td>B-aircraft_code</td>\n",
       "      <td>B-arrive_time.time_relative</td>\n",
       "      <td>B-depart_date.year</td>\n",
       "      <td>B-flight_time</td>\n",
       "      <td>B-return_date.day_name</td>\n",
       "      <td>B-today_relative</td>\n",
       "      <td>I-arrive_time.time_relative</td>\n",
       "    </tr>\n",
       "    <tr>\n",
       "      <th>1</th>\n",
       "      <td>B-airline_code</td>\n",
       "      <td>B-booking_class</td>\n",
       "      <td>B-depart_time.end_time</td>\n",
       "      <td>B-fromloc.airport_code</td>\n",
       "      <td>B-return_date.day_number</td>\n",
       "      <td>B-toloc.airport_code</td>\n",
       "      <td>I-city_name</td>\n",
       "    </tr>\n",
       "    <tr>\n",
       "      <th>2</th>\n",
       "      <td>B-airline_name</td>\n",
       "      <td>B-city_name</td>\n",
       "      <td>B-depart_time.period_mod</td>\n",
       "      <td>B-fromloc.airport_name</td>\n",
       "      <td>B-return_date.month_name</td>\n",
       "      <td>B-toloc.airport_name</td>\n",
       "      <td>I-class_type</td>\n",
       "    </tr>\n",
       "    <tr>\n",
       "      <th>3</th>\n",
       "      <td>B-airport_code</td>\n",
       "      <td>B-class_type</td>\n",
       "      <td>B-depart_time.period_of_day</td>\n",
       "      <td>B-fromloc.city_name</td>\n",
       "      <td>B-return_date.today_relative</td>\n",
       "      <td>B-toloc.city_name</td>\n",
       "      <td>I-cost_relative</td>\n",
       "    </tr>\n",
       "    <tr>\n",
       "      <th>4</th>\n",
       "      <td>B-airport_name</td>\n",
       "      <td>B-compartment</td>\n",
       "      <td>B-depart_time.start_time</td>\n",
       "      <td>B-fromloc.state_code</td>\n",
       "      <td>B-return_time.period_mod</td>\n",
       "      <td>B-toloc.country_name</td>\n",
       "      <td>I-depart_date.day_name</td>\n",
       "    </tr>\n",
       "    <tr>\n",
       "      <th>5</th>\n",
       "      <td>B-arrive_date.date_relative</td>\n",
       "      <td>B-connect</td>\n",
       "      <td>B-depart_time.time</td>\n",
       "      <td>B-fromloc.state_name</td>\n",
       "      <td>B-return_time.period_of_day</td>\n",
       "      <td>B-toloc.state_code</td>\n",
       "      <td>I-depart_date.day_number</td>\n",
       "    </tr>\n",
       "    <tr>\n",
       "      <th>6</th>\n",
       "      <td>B-arrive_date.day_name</td>\n",
       "      <td>B-cost_relative</td>\n",
       "      <td>B-depart_time.time_relative</td>\n",
       "      <td>B-meal</td>\n",
       "      <td>B-round_trip</td>\n",
       "      <td>B-toloc.state_name</td>\n",
       "      <td>I-depart_date.today_relative</td>\n",
       "    </tr>\n",
       "    <tr>\n",
       "      <th>7</th>\n",
       "      <td>B-arrive_date.day_number</td>\n",
       "      <td>B-day_name</td>\n",
       "      <td>B-economy</td>\n",
       "      <td>B-meal_code</td>\n",
       "      <td>B-state_code</td>\n",
       "      <td>B-transport_type</td>\n",
       "      <td>I-depart_time.end_time</td>\n",
       "    </tr>\n",
       "    <tr>\n",
       "      <th>8</th>\n",
       "      <td>B-arrive_date.month_name</td>\n",
       "      <td>B-day_number</td>\n",
       "      <td>B-fare_amount</td>\n",
       "      <td>B-meal_description</td>\n",
       "      <td>B-state_name</td>\n",
       "      <td>I-airline_name</td>\n",
       "      <td>I-depart_time.period_of_day</td>\n",
       "    </tr>\n",
       "    <tr>\n",
       "      <th>9</th>\n",
       "      <td>B-arrive_date.today_relative</td>\n",
       "      <td>B-days_code</td>\n",
       "      <td>B-fare_basis_code</td>\n",
       "      <td>B-mod</td>\n",
       "      <td>B-stoploc.airport_code</td>\n",
       "      <td>I-airport_name</td>\n",
       "      <td>I-depart_time.start_time</td>\n",
       "    </tr>\n",
       "    <tr>\n",
       "      <th>10</th>\n",
       "      <td>B-arrive_time.end_time</td>\n",
       "      <td>B-depart_date.date_relative</td>\n",
       "      <td>B-flight</td>\n",
       "      <td>B-month_name</td>\n",
       "      <td>B-stoploc.airport_name</td>\n",
       "      <td>I-arrive_date.day_number</td>\n",
       "      <td>I-depart_time.time</td>\n",
       "    </tr>\n",
       "    <tr>\n",
       "      <th>11</th>\n",
       "      <td>B-arrive_time.period_mod</td>\n",
       "      <td>B-depart_date.day_name</td>\n",
       "      <td>B-flight_days</td>\n",
       "      <td>B-or</td>\n",
       "      <td>B-stoploc.city_name</td>\n",
       "      <td>I-arrive_time.end_time</td>\n",
       "      <td>I-depart_time.time_relative</td>\n",
       "    </tr>\n",
       "    <tr>\n",
       "      <th>12</th>\n",
       "      <td>B-arrive_time.period_of_day</td>\n",
       "      <td>B-depart_date.day_number</td>\n",
       "      <td>B-flight_mod</td>\n",
       "      <td>B-period_of_day</td>\n",
       "      <td>B-stoploc.state_code</td>\n",
       "      <td>I-arrive_time.period_of_day</td>\n",
       "      <td>I-economy</td>\n",
       "    </tr>\n",
       "    <tr>\n",
       "      <th>13</th>\n",
       "      <td>B-arrive_time.start_time</td>\n",
       "      <td>B-depart_date.month_name</td>\n",
       "      <td>B-flight_number</td>\n",
       "      <td>B-restriction_code</td>\n",
       "      <td>B-time</td>\n",
       "      <td>I-arrive_time.start_time</td>\n",
       "      <td>I-fare_amount</td>\n",
       "    </tr>\n",
       "    <tr>\n",
       "      <th>14</th>\n",
       "      <td>B-arrive_time.time</td>\n",
       "      <td>B-depart_date.today_relative</td>\n",
       "      <td>B-flight_stop</td>\n",
       "      <td>B-return_date.date_relative</td>\n",
       "      <td>B-time_relative</td>\n",
       "      <td>I-arrive_time.time</td>\n",
       "      <td>I-fare_basis_code</td>\n",
       "    </tr>\n",
       "  </tbody>\n",
       "</table>\n",
       "</div>"
      ],
      "text/plain": [
       "                               0  ...                             6\n",
       "0   B-aircraft_code               ...  I-arrive_time.time_relative \n",
       "1   B-airline_code                ...  I-city_name                 \n",
       "2   B-airline_name                ...  I-class_type                \n",
       "3   B-airport_code                ...  I-cost_relative             \n",
       "4   B-airport_name                ...  I-depart_date.day_name      \n",
       "5   B-arrive_date.date_relative   ...  I-depart_date.day_number    \n",
       "6   B-arrive_date.day_name        ...  I-depart_date.today_relative\n",
       "7   B-arrive_date.day_number      ...  I-depart_time.end_time      \n",
       "8   B-arrive_date.month_name      ...  I-depart_time.period_of_day \n",
       "9   B-arrive_date.today_relative  ...  I-depart_time.start_time    \n",
       "10  B-arrive_time.end_time        ...  I-depart_time.time          \n",
       "11  B-arrive_time.period_mod      ...  I-depart_time.time_relative \n",
       "12  B-arrive_time.period_of_day   ...  I-economy                   \n",
       "13  B-arrive_time.start_time      ...  I-fare_amount               \n",
       "14  B-arrive_time.time            ...  I-fare_basis_code           \n",
       "\n",
       "[15 rows x 7 columns]"
      ]
     },
     "execution_count": 9,
     "metadata": {
      "tags": []
     },
     "output_type": "execute_result"
    }
   ],
   "source": [
    "# slot category \n",
    "i2s_train_values = list(i2s_train.values())\n",
    "df3 = pd.DataFrame()\n",
    "for i in range(7):\n",
    "    df3[str(i)] = i2s_train_values[i*15:(i+1)*15]\n",
    "df3"
   ]
  },
  {
   "cell_type": "markdown",
   "metadata": {
    "id": "JPI1Ml2CGNjH"
   },
   "source": [
    "## Model "
   ]
  },
  {
   "cell_type": "markdown",
   "metadata": {
    "id": "Tq5WbvP0IRqE"
   },
   "source": [
    "<img width=\"661\" alt=\"스크린샷 2020-10-30 오후 3 10 26\" src=\"https://user-images.githubusercontent.com/43749571/97679164-43578780-1ad8-11eb-9c7e-a6798eaba7bf.png\">"
   ]
  },
  {
   "cell_type": "code",
   "execution_count": 10,
   "metadata": {
    "id": "bKTQCGyhIav0"
   },
   "outputs": [],
   "source": [
    "from keras.models import Model\n",
    "from keras.layers import Input, LSTM, Dense, Embedding, Dropout\n",
    "from tensorflow.compat.v1.keras.layers import CuDNNLSTM"
   ]
  },
  {
   "cell_type": "code",
   "execution_count": 11,
   "metadata": {
    "id": "CI2C07kQIVSv"
   },
   "outputs": [],
   "source": [
    "def max_length(tensor):\n",
    "    return max(len(t) for t in tensor)"
   ]
  },
  {
   "cell_type": "markdown",
   "metadata": {
    "id": "B4RemELRnWsA"
   },
   "source": [
    "### Training Phase "
   ]
  },
  {
   "cell_type": "code",
   "execution_count": 12,
   "metadata": {
    "id": "QCrlQ4zOLaAd"
   },
   "outputs": [],
   "source": [
    "# Helper function to pad the query tensor and slot (target) tensor to the same length. \n",
    "# Also creates a tensor for teacher forcing.\n",
    "\n",
    "def create_tensors(input_tensor, target_tensor, nb_sample=9999999, max_len=0):\n",
    "    len_input, len_target  = max_length(input_tensor), max_length(target_tensor)\n",
    "    len_input = max(len_input, max_len)\n",
    "    len_target = max(len_target, max_len)\n",
    "    \n",
    "\n",
    "    # Padding the input and output tensor to the maximum length\n",
    "    # data를 최대 길이로 일정하게 맞춰주는 역할을 한다 (padding)\n",
    "\n",
    "    # padding=\"post\" : 각 sequence의 뒤쪽으로 패딩한다 (default = 0)\n",
    "    input_data = tf.keras.preprocessing.sequence.pad_sequences(input_tensor, \n",
    "                                                               maxlen=len_input,\n",
    "                                                               padding='post')\n",
    "\n",
    "    teacher_data = tf.keras.preprocessing.sequence.pad_sequences(target_tensor, \n",
    "                                                                 maxlen=len_target, \n",
    "                                                                 padding='post')\n",
    "    \n",
    "    target_data = [[teacher_data[n][i+1] for i in range(len(teacher_data[n])-1)] for n in range(len(teacher_data))]\n",
    "    target_data = tf.keras.preprocessing.sequence.pad_sequences(target_data, maxlen=len_target, padding=\"post\")\n",
    "    target_data = target_data.reshape((target_data.shape[0], target_data.shape[1], 1))\n",
    "    \n",
    "    nb = len(input_data)\n",
    "    p = np.random.permutation(nb)\n",
    "    input_data = input_data[p]\n",
    "    teacher_data = teacher_data[p]\n",
    "    target_data = target_data[p]\n",
    "\n",
    "    return input_data[:min(nb_sample, nb)], teacher_data[:min(nb_sample, nb)], target_data[:min(nb_sample, nb)], len_input, len_target "
   ]
  },
  {
   "cell_type": "code",
   "execution_count": 13,
   "metadata": {
    "id": "5n8e7ZQMWAaO"
   },
   "outputs": [],
   "source": [
    "# train data \n",
    "input_data_train, teacher_data_train, target_data_train, \\\n",
    "                  len_input_train, len_target_train  = create_tensors(input_tensor_train, target_tensor_train)"
   ]
  },
  {
   "cell_type": "code",
   "execution_count": 14,
   "metadata": {
    "id": "qm8lMouSWA8a"
   },
   "outputs": [],
   "source": [
    "# test data \n",
    "input_data_test, teacher_data_test, target_data_test, \\\n",
    "                 len_input_test, len_target_test  = create_tensors(input_tensor_test, target_tensor_test, max_len=len_input_train)"
   ]
  },
  {
   "cell_type": "code",
   "execution_count": 15,
   "metadata": {
    "colab": {
     "base_uri": "https://localhost:8080/"
    },
    "id": "w5bBDSqcWAxT",
    "outputId": "0ba3defd-3ddc-4aad-f21a-c743e66135a4"
   },
   "outputs": [
    {
     "data": {
      "text/plain": [
       "(943, 129)"
      ]
     },
     "execution_count": 15,
     "metadata": {
      "tags": []
     },
     "output_type": "execute_result"
    }
   ],
   "source": [
    "def get_vocab_size(t2i_train, t2i_test, s2i_train, s2i_test):\n",
    "    vocab_in_size = len({**t2i_train, **t2i_test})\n",
    "    vocab_out_size = len({**s2i_train, **s2i_test})\n",
    "    return vocab_in_size, vocab_out_size\n",
    "  \n",
    "vocab_in_size, vocab_out_size = get_vocab_size(t2i_train, t2i_test, s2i_train, s2i_test)\n",
    "vocab_in_size, vocab_out_size"
   ]
  },
  {
   "cell_type": "code",
   "execution_count": 20,
   "metadata": {
    "id": "Q3z9z7I8WAQP"
   },
   "outputs": [],
   "source": [
    "BUFFER_SIZE = len(input_data_train)\n",
    "BATCH_SIZE = 64\n",
    "N_BATCH = BUFFER_SIZE//BATCH_SIZE\n",
    "embedding_dim = 256\n",
    "units = 1024\n",
    "\n",
    "\n",
    "# Encoder layers \n",
    "encoder_inputs = Input(shape=(len_input_train,))  # 4978 \n",
    "encoder_emb = Embedding(input_dim=vocab_in_size, output_dim=embedding_dim)\n",
    "encoder_lstm = CuDNNLSTM(units=units, return_sequences=True, return_state=True)\n",
    "encoder_outputs, state_h, state_c = encoder_lstm(encoder_emb(encoder_inputs))\n",
    "encoder_states = [state_h, state_c]\n",
    "\n",
    "\n",
    "# Decoder layers\n",
    "decoder_inputs = Input(shape=(None,))\n",
    "decoder_emb = Embedding(input_dim=vocab_out_size, output_dim=embedding_dim)\n",
    "decoder_lstm = CuDNNLSTM(units=units, return_sequences=True, return_state=True)\n",
    "decoder_lstm_out, _, _ = decoder_lstm(decoder_emb(decoder_inputs), initial_state=encoder_states)\n",
    "# Two dense layers to improve inference capabilities.\n",
    "decoder_d1 = Dense(units, activation=\"relu\")\n",
    "decoder_d2 = Dense(vocab_out_size, activation=\"softmax\")\n",
    "# Drop-out is added in the dense layers to help mitigate overfitting in this part of the model.\n",
    "decoder_out = decoder_d2(Dropout(rate=.4)(decoder_d1(Dropout(rate=.4)(decoder_lstm_out))))\n",
    "\n",
    "\n",
    "\n",
    "# Training the Models \n",
    "\n",
    "# Note that this model has three inputs:\n",
    "#  encoder_inputs = [batch,encoded_words] from input (query)\n",
    "#  decoder_inputs = [batch,encoded_words] from output (slots). This is the \"teacher tensor\".\n",
    "#  decoder_out = [batch,encoded_words] from output (slots). This is the \"target tensor\".\n",
    "model = Model([encoder_inputs, decoder_inputs], decoder_out)\n",
    "\n",
    "# Use sparse_categorical_crossentropy so we don't have to expand decoder_out into a massive one-hot array.\n",
    "model.compile(optimizer=tf.optimizers.Adam(), loss=\"sparse_categorical_crossentropy\", metrics=['sparse_categorical_accuracy'])"
   ]
  },
  {
   "cell_type": "code",
   "execution_count": 21,
   "metadata": {
    "colab": {
     "base_uri": "https://localhost:8080/"
    },
    "id": "d1JFTRAfY8fe",
    "outputId": "736d1f82-3ee9-4c3e-a66a-9431d990d7ea"
   },
   "outputs": [
    {
     "name": "stdout",
     "output_type": "stream",
     "text": [
      "Model: \"functional_3\"\n",
      "__________________________________________________________________________________________________\n",
      "Layer (type)                    Output Shape         Param #     Connected to                     \n",
      "==================================================================================================\n",
      "input_3 (InputLayer)            [(None, 48)]         0                                            \n",
      "__________________________________________________________________________________________________\n",
      "input_4 (InputLayer)            [(None, None)]       0                                            \n",
      "__________________________________________________________________________________________________\n",
      "embedding_2 (Embedding)         (None, 48, 256)      241408      input_3[0][0]                    \n",
      "__________________________________________________________________________________________________\n",
      "embedding_3 (Embedding)         (None, None, 256)    33024       input_4[0][0]                    \n",
      "__________________________________________________________________________________________________\n",
      "cu_dnnlstm_2 (CuDNNLSTM)        [(None, 48, 1024), ( 5251072     embedding_2[0][0]                \n",
      "__________________________________________________________________________________________________\n",
      "cu_dnnlstm_3 (CuDNNLSTM)        [(None, None, 1024), 5251072     embedding_3[0][0]                \n",
      "                                                                 cu_dnnlstm_2[0][1]               \n",
      "                                                                 cu_dnnlstm_2[0][2]               \n",
      "__________________________________________________________________________________________________\n",
      "dropout_3 (Dropout)             (None, None, 1024)   0           cu_dnnlstm_3[0][0]               \n",
      "__________________________________________________________________________________________________\n",
      "dense_2 (Dense)                 (None, None, 1024)   1049600     dropout_3[0][0]                  \n",
      "__________________________________________________________________________________________________\n",
      "dropout_2 (Dropout)             (None, None, 1024)   0           dense_2[0][0]                    \n",
      "__________________________________________________________________________________________________\n",
      "dense_3 (Dense)                 (None, None, 129)    132225      dropout_2[0][0]                  \n",
      "==================================================================================================\n",
      "Total params: 11,958,401\n",
      "Trainable params: 11,958,401\n",
      "Non-trainable params: 0\n",
      "__________________________________________________________________________________________________\n"
     ]
    }
   ],
   "source": [
    "model.summary()"
   ]
  },
  {
   "cell_type": "code",
   "execution_count": 43,
   "metadata": {
    "id": "5NxbAqR6k0Ge"
   },
   "outputs": [],
   "source": [
    "# 교차검증을 위해, train/validation set으로 나누기 \n",
    "from sklearn.model_selection import train_test_split"
   ]
  },
  {
   "cell_type": "code",
   "execution_count": 44,
   "metadata": {
    "colab": {
     "base_uri": "https://localhost:8080/"
    },
    "id": "dd6Qh9CVflZ1",
    "outputId": "219e2fb6-4dc2-40df-8a4b-fa02d9dd7d75"
   },
   "outputs": [
    {
     "name": "stdout",
     "output_type": "stream",
     "text": [
      "(3484, 48) (1494, 48) (3484, 48, 1) (1494, 48, 1)\n"
     ]
    }
   ],
   "source": [
    "# input data \n",
    "input_train, input_val, target_train, target_val = train_test_split(input_data_train, target_data_train, test_size=0.3, random_state=77)\n",
    "print(input_train.shape, input_val.shape, target_train.shape, target_val.shape)"
   ]
  },
  {
   "cell_type": "code",
   "execution_count": 45,
   "metadata": {
    "colab": {
     "base_uri": "https://localhost:8080/"
    },
    "id": "6o3zOQEMkxY2",
    "outputId": "a3597276-e856-414e-d457-c16288e19044"
   },
   "outputs": [
    {
     "name": "stdout",
     "output_type": "stream",
     "text": [
      "(3484, 48) (1494, 48) (3484, 48, 1) (1494, 48, 1)\n"
     ]
    }
   ],
   "source": [
    "# teacher data \n",
    "teacher_train, teacher_val, target_train, target_val = train_test_split(teacher_data_train, target_data_train, test_size=0.3, random_state=77)\n",
    "print(teacher_train.shape, teacher_val.shape, target_train.shape, target_val.shape)"
   ]
  },
  {
   "cell_type": "code",
   "execution_count": 46,
   "metadata": {
    "colab": {
     "base_uri": "https://localhost:8080/"
    },
    "id": "sqEZFZuGY8N1",
    "outputId": "652e746f-6781-4404-fb37-fbee15a2adfd"
   },
   "outputs": [
    {
     "name": "stdout",
     "output_type": "stream",
     "text": [
      "Epoch 1/30\n",
      "55/55 [==============================] - 13s 228ms/step - loss: 0.2194 - sparse_categorical_accuracy: 0.9429 - val_loss: 0.2679 - val_sparse_categorical_accuracy: 0.9250\n",
      "Epoch 2/30\n",
      "55/55 [==============================] - 4s 68ms/step - loss: 0.2287 - sparse_categorical_accuracy: 0.9401 - val_loss: 0.1961 - val_sparse_categorical_accuracy: 0.9472\n",
      "Epoch 3/30\n",
      "55/55 [==============================] - 4s 68ms/step - loss: 0.1951 - sparse_categorical_accuracy: 0.9489 - val_loss: 0.1802 - val_sparse_categorical_accuracy: 0.9537\n",
      "Epoch 4/30\n",
      "55/55 [==============================] - 4s 69ms/step - loss: 0.1812 - sparse_categorical_accuracy: 0.9522 - val_loss: 0.1669 - val_sparse_categorical_accuracy: 0.9577\n",
      "Epoch 5/30\n",
      "55/55 [==============================] - 4s 69ms/step - loss: 0.1688 - sparse_categorical_accuracy: 0.9549 - val_loss: 0.1584 - val_sparse_categorical_accuracy: 0.9590\n",
      "Epoch 6/30\n",
      "55/55 [==============================] - 4s 68ms/step - loss: 0.1593 - sparse_categorical_accuracy: 0.9571 - val_loss: 0.1495 - val_sparse_categorical_accuracy: 0.9606\n",
      "Epoch 7/30\n",
      "55/55 [==============================] - 4s 68ms/step - loss: 0.1491 - sparse_categorical_accuracy: 0.9590 - val_loss: 0.1412 - val_sparse_categorical_accuracy: 0.9625\n",
      "Epoch 8/30\n",
      "55/55 [==============================] - 4s 69ms/step - loss: 0.1445 - sparse_categorical_accuracy: 0.9604 - val_loss: 0.1369 - val_sparse_categorical_accuracy: 0.9635\n",
      "Epoch 9/30\n",
      "55/55 [==============================] - 4s 68ms/step - loss: 0.1381 - sparse_categorical_accuracy: 0.9616 - val_loss: 0.1347 - val_sparse_categorical_accuracy: 0.9630\n",
      "Epoch 10/30\n",
      "55/55 [==============================] - 4s 68ms/step - loss: 0.1342 - sparse_categorical_accuracy: 0.9623 - val_loss: 0.1354 - val_sparse_categorical_accuracy: 0.9617\n",
      "Epoch 11/30\n",
      "55/55 [==============================] - 4s 69ms/step - loss: 0.1302 - sparse_categorical_accuracy: 0.9632 - val_loss: 0.1309 - val_sparse_categorical_accuracy: 0.9641\n",
      "Epoch 12/30\n",
      "55/55 [==============================] - 4s 69ms/step - loss: 0.1261 - sparse_categorical_accuracy: 0.9641 - val_loss: 0.1276 - val_sparse_categorical_accuracy: 0.9654\n",
      "Epoch 13/30\n",
      "55/55 [==============================] - 4s 69ms/step - loss: 0.1236 - sparse_categorical_accuracy: 0.9645 - val_loss: 0.1324 - val_sparse_categorical_accuracy: 0.9647\n",
      "Epoch 14/30\n",
      "55/55 [==============================] - 4s 69ms/step - loss: 0.1190 - sparse_categorical_accuracy: 0.9658 - val_loss: 0.1210 - val_sparse_categorical_accuracy: 0.9677\n",
      "Epoch 15/30\n",
      "55/55 [==============================] - 4s 68ms/step - loss: 0.1162 - sparse_categorical_accuracy: 0.9671 - val_loss: 0.1172 - val_sparse_categorical_accuracy: 0.9682\n",
      "Epoch 16/30\n",
      "55/55 [==============================] - 4s 69ms/step - loss: 0.1112 - sparse_categorical_accuracy: 0.9682 - val_loss: 0.1163 - val_sparse_categorical_accuracy: 0.9687\n",
      "Epoch 17/30\n",
      "55/55 [==============================] - 4s 69ms/step - loss: 0.1091 - sparse_categorical_accuracy: 0.9689 - val_loss: 0.1174 - val_sparse_categorical_accuracy: 0.9688\n",
      "Epoch 18/30\n",
      "55/55 [==============================] - 4s 69ms/step - loss: 0.1063 - sparse_categorical_accuracy: 0.9694 - val_loss: 0.1136 - val_sparse_categorical_accuracy: 0.9700\n",
      "Epoch 19/30\n",
      "55/55 [==============================] - 4s 69ms/step - loss: 0.1015 - sparse_categorical_accuracy: 0.9711 - val_loss: 0.1143 - val_sparse_categorical_accuracy: 0.9706\n",
      "Epoch 20/30\n",
      "55/55 [==============================] - 4s 69ms/step - loss: 0.0984 - sparse_categorical_accuracy: 0.9722 - val_loss: 0.1150 - val_sparse_categorical_accuracy: 0.9700\n",
      "Epoch 21/30\n",
      "55/55 [==============================] - 4s 69ms/step - loss: 0.0980 - sparse_categorical_accuracy: 0.9716 - val_loss: 0.1100 - val_sparse_categorical_accuracy: 0.9716\n",
      "Epoch 22/30\n",
      "55/55 [==============================] - 4s 69ms/step - loss: 0.0947 - sparse_categorical_accuracy: 0.9728 - val_loss: 0.1072 - val_sparse_categorical_accuracy: 0.9730\n",
      "Epoch 23/30\n",
      "55/55 [==============================] - 4s 69ms/step - loss: 0.0920 - sparse_categorical_accuracy: 0.9735 - val_loss: 0.1051 - val_sparse_categorical_accuracy: 0.9730\n",
      "Epoch 24/30\n",
      "55/55 [==============================] - 4s 69ms/step - loss: 0.0900 - sparse_categorical_accuracy: 0.9738 - val_loss: 0.1041 - val_sparse_categorical_accuracy: 0.9732\n",
      "Epoch 25/30\n",
      "55/55 [==============================] - 4s 69ms/step - loss: 0.0837 - sparse_categorical_accuracy: 0.9760 - val_loss: 0.1025 - val_sparse_categorical_accuracy: 0.9748\n",
      "Epoch 26/30\n",
      "55/55 [==============================] - 4s 69ms/step - loss: 0.0829 - sparse_categorical_accuracy: 0.9757 - val_loss: 0.1057 - val_sparse_categorical_accuracy: 0.9743\n",
      "Epoch 27/30\n",
      "55/55 [==============================] - 4s 69ms/step - loss: 0.0798 - sparse_categorical_accuracy: 0.9764 - val_loss: 0.1002 - val_sparse_categorical_accuracy: 0.9751\n",
      "Epoch 28/30\n",
      "55/55 [==============================] - 4s 69ms/step - loss: 0.0784 - sparse_categorical_accuracy: 0.9771 - val_loss: 0.1002 - val_sparse_categorical_accuracy: 0.9753\n",
      "Epoch 29/30\n",
      "55/55 [==============================] - 4s 69ms/step - loss: 0.0755 - sparse_categorical_accuracy: 0.9780 - val_loss: 0.1002 - val_sparse_categorical_accuracy: 0.9753\n",
      "Epoch 30/30\n",
      "55/55 [==============================] - 4s 70ms/step - loss: 0.0728 - sparse_categorical_accuracy: 0.9784 - val_loss: 0.1004 - val_sparse_categorical_accuracy: 0.9757\n"
     ]
    }
   ],
   "source": [
    "epochs = 30 \n",
    "\n",
    "history = model.fit([input_train, teacher_train], target_train,\n",
    "                    batch_size=BATCH_SIZE, epochs=epochs,\n",
    "                    validation_data=([input_val, teacher_val], target_val), verbose=1)"
   ]
  },
  {
   "cell_type": "code",
   "execution_count": 47,
   "metadata": {
    "colab": {
     "base_uri": "https://localhost:8080/",
     "height": 281
    },
    "id": "CjNSm-quezhm",
    "outputId": "9fd517a7-c876-4ab8-ec06-ccdff3849a86"
   },
   "outputs": [
    {
     "data": {
      "image/png": "[encoded data removed]",
      "text/plain": [
       "<Figure size 432x288 with 2 Axes>"
      ]
     },
     "metadata": {
      "needs_background": "light",
      "tags": []
     },
     "output_type": "display_data"
    }
   ],
   "source": [
    "# model 학습 결과 시각화 \n",
    "fig, loss_ax = plt.subplots()\n",
    "acc_ax = loss_ax.twinx()\n",
    "\n",
    "\n",
    "# train / val loss \n",
    "loss_ax.plot(history.history['loss'], 'y', label='train loss')\n",
    "loss_ax.plot(history.history['val_loss'], 'r', label='val loss')\n",
    "loss_ax.set_xlabel('epoch')\n",
    "loss_ax.set_ylabel('loss')\n",
    "loss_ax.legend(loc='upper left')\n",
    "\n",
    "# train / val accuracy \n",
    "acc_ax.plot(history.history['sparse_categorical_accuracy'], 'b', label='train acc')\n",
    "acc_ax.plot(history.history['val_sparse_categorical_accuracy'], 'g', label='val acc')\n",
    "acc_ax.set_ylabel('accuracy')\n",
    "acc_ax.legend(loc='upper right')\n",
    "\n",
    "plt.show()"
   ]
  },
  {
   "cell_type": "code",
   "execution_count": 48,
   "metadata": {
    "colab": {
     "base_uri": "https://localhost:8080/"
    },
    "id": "_8LiND-0froT",
    "outputId": "3e3a88a5-3000-4174-d306-ef2f48953c3b"
   },
   "outputs": [
    {
     "name": "stdout",
     "output_type": "stream",
     "text": [
      "28/28 [==============================] - 0s 14ms/step - loss: 0.1225 - sparse_categorical_accuracy: 0.9728\n",
      "test loss, test acc: [0.12251166254281998, 0.9727743268013]\n"
     ]
    }
   ],
   "source": [
    "print(\"test loss, test acc:\", model.evaluate([input_data_test, teacher_data_test], target_data_test))"
   ]
  },
  {
   "cell_type": "markdown",
   "metadata": {
    "id": "ac7wqkqrniTd"
   },
   "source": [
    "### Inference Phase "
   ]
  },
  {
   "cell_type": "code",
   "execution_count": 49,
   "metadata": {
    "id": "TD8n9p1snon5"
   },
   "outputs": [],
   "source": [
    "# 1. Encoder Model \n",
    "encoder_model = Model(encoder_inputs, [encoder_outputs, state_h, state_c])\n",
    "\n",
    "\n",
    "# 2. Decoder Model \n",
    "# inference phase decoder를 위해, 새로운 tensor set을 생성합니다. \n",
    "# (teaching force 방식이 아닌, 직전 값을 Input으로 받는 Decoder)\n",
    "# training phase에서 사용한 weight, bias를 사용할 수도 있습니다. \n",
    "\n",
    "inf_decoder_inputs = Input(shape=(None,), name=\"inf_decoder_inputs\")\n",
    "\n",
    "# We'll need to force feed the two state variables into the decoder each step.\n",
    "state_input_h = Input(shape=(units,), name=\"state_input_h\")\n",
    "state_input_c = Input(shape=(units,), name=\"state_input_c\")\n",
    "\n",
    "decoder_res, decoder_h, decoder_c = decoder_lstm(\n",
    "                                                decoder_emb(inf_decoder_inputs), \n",
    "                                                initial_state=[state_input_h, state_input_c])\n",
    "inf_decoder_out = decoder_d2(decoder_d1(decoder_res))\n",
    "\n",
    "inf_model = Model(inputs=[inf_decoder_inputs, state_input_h, state_input_c], \n",
    "                  outputs=[inf_decoder_out, decoder_h, decoder_c])"
   ]
  },
  {
   "cell_type": "code",
   "execution_count": 50,
   "metadata": {
    "id": "UJPAcXhmlRdf"
   },
   "outputs": [],
   "source": [
    "# 새로운 query 문장이 들어오면, 전처리를 수행해 줍니다. \n",
    "\n",
    "def preprocess_query(w):\n",
    "    w = w.rstrip().strip().lower()\n",
    "    w = \"BOS \" + w + \" EOS\"\n",
    "    return w\n",
    "\n",
    "\n",
    "\n",
    "# Converts the given query (just a string) into a vector of word IDs\n",
    "# using the language specified. This can be used for either the input (query)\n",
    "# or target (slot)\n",
    "# Output is 1-D: [timesteps/words]\n",
    "\n",
    "def query_to_vector(query, len_input=len_input_train, t2i=t2i_train):\n",
    "    pre = preprocess_query(query)\n",
    "    vec = np.zeros(len_input)\n",
    "    query_list = [t2i[s] for s in pre.split(' ')]\n",
    "    for i,w in enumerate(query_list):\n",
    "        vec[i] = w\n",
    "    return vec\n",
    "\n",
    "\n",
    "\n",
    "# Given an input string, an encoder model (infenc_model) and a decoder model (infmodel),\n",
    "# return a predicted slot string.\n",
    "\n",
    "def predict_slots(input_query, infenc_model, infmodel, \n",
    "                  len_input=len_input_train, \n",
    "                  t2i=t2i_train, s2i=s2i_train, i2s=i2s_train,\n",
    "                  len_target=len_target_train,\n",
    "                  attention=False):\n",
    "    sent_len = len(input_query.split())\n",
    "    sv = query_to_vector(input_query, len_input, t2i)\n",
    "    # Reshape so we can use the encoder model. New shape=[samples,sequence length]\n",
    "    sv = sv.reshape(1,len(sv))\n",
    "    [emb_out, sh, sc] = infenc_model.predict(x=sv)\n",
    "    \n",
    "    i = 0\n",
    "    start_vec = s2i[\"O\"]\n",
    "    stop_vec = s2i[\"O\"]\n",
    "    # We will continuously feed cur_vec as an input into the decoder to produce the next word,\n",
    "    # which will be assigned to cur_vec. Start it with \"EOS\".\n",
    "    cur_vec = np.zeros((1,1))\n",
    "    cur_vec[0,0] = start_vec\n",
    "    cur_word = \"BOS\"\n",
    "    output_query = \"\"\n",
    "    # Start doing the feeding. Terminate when the model predicts an \"EOS\" or we reach the end\n",
    "    # of the max target slot length.\n",
    "    while cur_word != \"EOS\" and i < (len_target-1) and i < sent_len+1: # current word 가 EOS토큰을 만날 때 까지, 혹은 마지막까지 \n",
    "        i += 1\n",
    "        if cur_word != \"BOS\":\n",
    "            output_query = output_query + \" \" + cur_word\n",
    "        x_in = [cur_vec, sh, sc]\n",
    "        # This will allow us to accomodate attention models, which we will talk about later.\n",
    "        if attention:\n",
    "            x_in += [emb_out]\n",
    "        [nvec, sh, sc] = infmodel.predict(x=x_in) # predict!!! \n",
    "        # The output of the model is a massive softmax vector with one spot for every possible word. Convert\n",
    "        # it to a word ID using argmax().\n",
    "\n",
    "        # predict 한 결과값에, 가장 큰 값을 가지고있는 인덱스를 넣어줍니다. \n",
    "        cur_vec[0,0] = np.argmax(nvec[0,0])\n",
    "        cur_word = i2s[np.argmax(nvec[0,0])]\n",
    "    return output_query"
   ]
  },
  {
   "cell_type": "code",
   "execution_count": 51,
   "metadata": {
    "colab": {
     "base_uri": "https://localhost:8080/"
    },
    "id": "arIY1ut_pDLy",
    "outputId": "97080642-d310-4386-c1a1-16356394f8d8"
   },
   "outputs": [
    {
     "name": "stdout",
     "output_type": "stream",
     "text": [
      " O O O B-cost_relative O O B-fromloc.city_name O B-toloc.city_name I-toloc.city_name\n"
     ]
    }
   ],
   "source": [
    "# Slot Filling 이 잘 된 것을 확인할 수 있습니다. \n",
    "input_query = \"what is the cheapest flight from boston to san francisco\"\n",
    "print(predict_slots(input_query, encoder_model, inf_model)) "
   ]
  },
  {
   "cell_type": "markdown",
   "metadata": {
    "id": "dSxsN3BOaluB"
   },
   "source": [
    "### 참고논문 \n",
    "* Sequence to sequence learning with neural networks \n",
    "* Learning Phrase Representations using RNN Encoder–Decoder\n",
    "* Attention-Based Recurrent Neural Network Models for Joint Intent Detection\n",
    "and Slot Filling\n",
    "for Statistical Machine Translation\n",
    "* 자연어 이해를 위한 적대 학습 방법 \n",
    "\n",
    "### 참고자료 \n",
    "* https://bkshin.tistory.com/entry/NLP-13-%EC%8B%9C%ED%80%80%EC%8A%A4%ED%88%AC%EC%8B%9C%ED%80%80%EC%8A%A4seq2seq\n",
    "* https://yjjo.tistory.com/35 \n",
    "* https://blog.naver.com/PostView.nhn?blogId=sooftware&logNo=221790750668&categoryNo=0&parentCategoryNo=0&viewDate=&currentPage=1&postListTopCurrentPage=1&from=postView\n"
   ]
  }
 ],
 "metadata": {
  "accelerator": "GPU",
  "colab": {
   "collapsed_sections": [],
   "name": "4-Seq2seq.ipynb",
   "provenance": []
  },
  "kernelspec": {
   "display_name": "Python 3",
   "language": "python",
   "name": "python3"
  },
  "language_info": {
   "codemirror_mode": {
    "name": "ipython",
    "version": 3
   },
   "file_extension": ".py",
   "mimetype": "text/x-python",
   "name": "python",
   "nbconvert_exporter": "python",
   "pygments_lexer": "ipython3",
   "version": "3.8.3"
  }
 },
 "nbformat": 4,
 "nbformat_minor": 4
}
