{
  "nbformat": 4,
  "nbformat_minor": 0,
  "metadata": {
    "colab": {
      "name": "5-BERT-for-dummies.ipynb",
      "provenance": [],
      "collapsed_sections": [],
      "machine_shape": "hm",
      "mount_file_id": "1Gh_V50zfmicEcKRmj8DFfMPA6jmJR-Vu",
      "authorship_tag": "ABX9TyNAQJDIxh14hFyClz9ATRPI",
      "include_colab_link": true
    },
    "kernelspec": {
      "name": "python3",
      "display_name": "Python 3"
    },
    "accelerator": "GPU"
  },
  "cells": [
    {
      "cell_type": "markdown",
      "metadata": {
        "id": "view-in-github",
        "colab_type": "text"
      },
      "source": [
        "<a href=\"https://colab.research.google.com/github/jbeen2/Today-I-Learned/blob/main/2020-2-NLP/5-BERT-for-dummies.ipynb\" target=\"_parent\"><img src=\"https://colab.research.google.com/assets/colab-badge.svg\" alt=\"Open In Colab\"/></a>"
      ]
    },
    {
      "cell_type": "markdown",
      "metadata": {
        "id": "lvwfqE_UN1CF"
      },
      "source": [
        "# BERT\n",
        "![Transformer](https://blog.kakaocdn.net/dn/Cz2K8/btqCwX7yfGQ/txkY1MEKNklEiDN0x4K9b0/img.png)\n",
        "* Bidirectional Encoder Representations from Transformers \n",
        "* **Attention mechanism**을 사용하는, **Transformer** Encoder-Decoder 기반 모델입니다. \n",
        "* BERT는 Transformer 구조에서 **왼쪽, Encoder** 부분만 사용합니다. "
      ]
    },
    {
      "cell_type": "markdown",
      "metadata": {
        "id": "eZUPBWnc4aRF"
      },
      "source": [
        "## Positional Encoding \n",
        "* Transformer 는 Convolution, Recurrent를 사용하지 않는, **Attention mechanism** 만 사용하여 속도를 향상시킨 모델입니다. \n",
        "* 위치 정보가 들어가는 RNN과 달리, Transformer는 **위치 정보**를 추가해 주어야 합니다. \n",
        "* 이를 위해 **sin**, **cos** 함수를 사용합니다. \n",
        "    - 전체 차원의 수가 짝수일 때는 sin 함수, 홀수일 때는 cos 함수의 값을 따릅니다. \n",
        "    - 위치 정보를 정수로 표현하면 모델에 끼치는 영향력이 지나치게 커질 수 있는데, sin, cos 함수를 사용하면 (-1, 1) 값으로 표현되기 때문에 이러한 점을 보완할 수 있습니다. \n",
        "\n",
        "```python\n",
        "# input embedding \n",
        "e = self.tok_embed(x) + self.pos_embed(pos) + self.seg_embed(seg)\n",
        "```"
      ]
    },
    {
      "cell_type": "markdown",
      "metadata": {
        "id": "bsCJmgwM5ZX0"
      },
      "source": [
        "## Multi-Head Attention \n",
        "* Encoder Block 의 가장 핵심적인 부분입니다. \n",
        "* Attention  \n",
        "    - Q(현재 단어)와 가장 비슷한 K를 찾은 후, K에 해당하는 V를 찾는 과정입니다. \n",
        "        - Q : Query, 찾고자 하는 대상 \n",
        "        - K : Key, 저장된 데이터를 찾고자 할 때 참조하는 대상 \n",
        "        - V : Value, 저장되는 데이터\n",
        "    - K를 통해서는 각 단어와 연관성의 확률을 계산하고, \n",
        "    - V는 그 확률을 사용해 attention 값을 계산합니다.     \n",
        "    - .\n",
        "    - Recurrent 구조에서는 시간이 흐를수록, 앞의 몇 가지 유용한 정보들을 손실하게 됩니다. \n",
        "    - 계산한 값에서 **높은 확률 값을 갖는 정보를 다시 한 번 참고**해서,\n",
        "    - 손실했던 정보를 반영하는 것이 Attention mechanism 입니다. \n",
        "* **Multi-head Attention** \n",
        "    - 서로 다른 가중치 행렬을 이용해 Attention 을 h번 계산한 다음 이를 Concatenate 합니다. \n",
        "    - MultiHead(Q,K,V) = [head1 ; ...; headh] * WO\n",
        "    - . \n",
        "    1. Bert-Base 모델은 12개의 Encoder Block을 사용합니다. \n",
        "    2. 각각의 token 벡터 768 차원을 헤드 수 만큼인 12개 등분하여, \n",
        "    3. 64개씩 12조각으로 차례대로 분리합니다. \n",
        "    4. 따라서 768차원의 벡터는 각각 부위별로 12번 Attention 을 받은 결과가 됩니다.\n",
        "    5. Attention 결과를 Point-Wise Feed Forward Network를 통과시켜, output을 도출하게 됩니다. "
      ]
    },
    {
      "cell_type": "markdown",
      "metadata": {
        "id": "hPUIFoIoObiJ"
      },
      "source": [
        "# Code \n",
        "* https://towardsdatascience.com/bert-for-dummies-step-by-step-tutorial-fb90890ffe03 \n",
        "* [ATIS dataset](https://www.kaggle.com/siddhadev/atis-dataset-from-ms-cntk?fbclid=IwAR2HTefgyVO4Kz0VhjFA0gH1ACc72CrA_k18RcDfgG5kQacHv_ZLMhEGj_Y&select=atis.test.pkl)(Airline Tranvel Information System dataset)을 이용하여 query label **Classification** 하기 "
      ]
    },
    {
      "cell_type": "code",
      "metadata": {
        "colab": {
          "base_uri": "https://localhost:8080/"
        },
        "id": "HTmqEUH6NpG7",
        "outputId": "1dbb5eb4-88b3-4791-a023-34801714eba7"
      },
      "source": [
        "import tensorflow as tf\n",
        "\n",
        "device_name = tf.test.gpu_device_name()\n",
        "if device_name != '/device:GPU:0':\n",
        "  raise SystemError('GPU device not found')\n",
        "print('Found GPU at: {}'.format(device_name))"
      ],
      "execution_count": 2,
      "outputs": [
        {
          "output_type": "stream",
          "text": [
            "Found GPU at: /device:GPU:0\n"
          ],
          "name": "stdout"
        }
      ]
    },
    {
      "cell_type": "code",
      "metadata": {
        "id": "6bNF-XGVPXSa"
      },
      "source": [
        "# !pip install urllib3==1.25.10\n",
        "# !pip install pytorch-pretrained-bert pytorch-nlp"
      ],
      "execution_count": null,
      "outputs": []
    },
    {
      "cell_type": "code",
      "metadata": {
        "id": "vo7cLExzPktr"
      },
      "source": [
        "% matplotlib inline \n",
        "\n",
        "import pandas as pd\n",
        "import numpy as np\n",
        "\n",
        "import io\n",
        "import os\n",
        "import pickle\n",
        "\n",
        "import random\n",
        "import time\n",
        "import datetime\n",
        "\n",
        "import matplotlib.pyplot as plt\n",
        "import seaborn as sns \n",
        "\n",
        "from tqdm import tqdm, trange\n",
        "\n",
        "from sklearn.model_selection import train_test_split"
      ],
      "execution_count": 3,
      "outputs": []
    },
    {
      "cell_type": "code",
      "metadata": {
        "id": "rohzq45fPWs8"
      },
      "source": [
        "import torch\n",
        "from torch.utils.data import TensorDataset, DataLoader, RandomSampler, SequentialSampler\n",
        "from keras.preprocessing.sequence import pad_sequences\n",
        "\n",
        "from pytorch_pretrained_bert import BertTokenizer, BertConfig\n",
        "from pytorch_pretrained_bert import BertAdam, BertForSequenceClassification"
      ],
      "execution_count": 4,
      "outputs": []
    },
    {
      "cell_type": "code",
      "metadata": {
        "colab": {
          "base_uri": "https://localhost:8080/",
          "height": 35
        },
        "id": "RyDVsupAPw3s",
        "outputId": "b457fc28-439e-45ec-b352-ec11881646bd"
      },
      "source": [
        "device = torch.device(\"cuda\" if torch.cuda.is_available() else \"cpu\")\n",
        "n_gpu = torch.cuda.device_count()\n",
        "torch.cuda.get_device_name(0)"
      ],
      "execution_count": 5,
      "outputs": [
        {
          "output_type": "execute_result",
          "data": {
            "application/vnd.google.colaboratory.intrinsic+json": {
              "type": "string"
            },
            "text/plain": [
              "'Tesla P100-PCIE-16GB'"
            ]
          },
          "metadata": {
            "tags": []
          },
          "execution_count": 5
        }
      ]
    },
    {
      "cell_type": "markdown",
      "metadata": {
        "id": "rVrGargXP7Pc"
      },
      "source": [
        "## Data Preprocess "
      ]
    },
    {
      "cell_type": "markdown",
      "metadata": {
        "id": "-GQYZ_HXpggm"
      },
      "source": [
        "### 1. Data Load "
      ]
    },
    {
      "cell_type": "code",
      "metadata": {
        "colab": {
          "base_uri": "https://localhost:8080/"
        },
        "id": "O9iipdhLPz-8",
        "outputId": "b4c905c2-9ec9-46be-e6e5-1cee0c439736"
      },
      "source": [
        "cd /content/drive/MyDrive/Stat/2020-2-NLP/5-BERT "
      ],
      "execution_count": 6,
      "outputs": [
        {
          "output_type": "stream",
          "text": [
            "/content/drive/MyDrive/Stat/2020-2-NLP/5-BERT\n"
          ],
          "name": "stdout"
        }
      ]
    },
    {
      "cell_type": "code",
      "metadata": {
        "id": "cDgQuuCYQAo8"
      },
      "source": [
        "def load_ds(fname='atis.train.pkl', verbose=True):\n",
        "    with open(fname, 'rb') as stream:\n",
        "        ds, dicts = pickle.load(stream)\n",
        "\n",
        "    print('Done  loading: ', fname)\n",
        "    print('      samples: {:4d}'.format(len(ds['query'])))\n",
        "    print('   vocab_size: {:4d}'.format(len(dicts['token_ids'])))\n",
        "    print('   slot count: {:4d}'.format(len(dicts['slot_ids'])))\n",
        "    print(' intent count: {:4d}'.format(len(dicts['intent_ids'])))\n",
        "\n",
        "    return ds, dicts"
      ],
      "execution_count": 7,
      "outputs": []
    },
    {
      "cell_type": "code",
      "metadata": {
        "id": "Jx7xawaOWaif"
      },
      "source": [
        "# convert Pickle file to arrays\n",
        "def load_atis(filename, add_start_end_token=False, verbose=True):\n",
        "    train_ds, dicts = load_ds(os.path.join(filename), verbose)\n",
        "    t2i, s2i, in2i = map(dicts.get, ['token_ids', 'slot_ids','intent_ids'])\n",
        "    i2t, i2s, i2in = map(lambda d: {d[k]:k for k in d.keys()}, [t2i,s2i,in2i])\n",
        "    query, slots, intent =  map(train_ds.get, ['query', 'slot_labels', 'intent_labels'])\n",
        "\n",
        "    if add_start_end_token:\n",
        "        i2s[178] = 'BOS'    # start token index 부여 \n",
        "        i2s[179] = 'EOS'    # end token index 부여 \n",
        "        s2i['BOS'] = 178\n",
        "        s2i['EOS'] = 179\n",
        "\n",
        "    input_tensor = []\n",
        "    target_tensor = []\n",
        "    query_data = []\n",
        "    intent_data = []\n",
        "    slot_data = []\n",
        "    to_show = np.random.randint(0, len(query)-1, 5)\n",
        "    \n",
        "    for i in range(len(query)):\n",
        "        input_tensor.append(query[i])\n",
        "        slot_text = []\n",
        "        slot_vector = []\n",
        "        for j in range(len(query[i])):\n",
        "            slot_text.append(i2s[slots[i][j]])\n",
        "            slot_vector.append(slots[i][j])\n",
        "        if add_start_end_token:\n",
        "            slot_text[0] = 'BOS'    # 문장 시작에 BOS \n",
        "            slot_vector[0] = 178\n",
        "            slot_text[-1] = 'EOS'   # 문장 끝에 EOS \n",
        "            slot_vector[-1]= 179\n",
        "        target_tensor.append(slot_vector)\n",
        "        q = ' '.join(map(i2t.get, query[i]))\n",
        "        query_data.append(q.replace('BOS', '').replace('EOS',''))\n",
        "        intent_data.append(i2in[intent[i][0]])\n",
        "        slot = ' '.join(slot_text)\n",
        "        slot_data.append(slot[1:-1])\n",
        "        if i in to_show and verbose:\n",
        "            print('Query text:', q)\n",
        "            print('Query vector: ', query[i])\n",
        "            print('Intent label: ', i2in[intent[i][0]])\n",
        "            print('Slot text: ', slot)\n",
        "            print('Slot vector: ', slot_vector)\n",
        "            print('*'*74)\n",
        "            \n",
        "    query_data = np.array(query_data)\n",
        "    intent_data = np.array(intent_data)\n",
        "    slot_data = np.array(slot_data)\n",
        "    intent_data_label = np.array(intent).flatten()\n",
        "    \n",
        "    return t2i, s2i, in2i, i2t, i2s, i2in, input_tensor, target_tensor, query_data, intent_data, intent_data_label, slot_data"
      ],
      "execution_count": 8,
      "outputs": []
    },
    {
      "cell_type": "code",
      "metadata": {
        "colab": {
          "base_uri": "https://localhost:8080/"
        },
        "id": "Ejrw4qgyW7W2",
        "outputId": "ded9c948-3a26-4def-9264-9c526d565006"
      },
      "source": [
        "# load ATIS training dataset  \n",
        "t2i_train, s2i_train, in2i_train, i2t_train, i2s_train, i2in_train, \\\n",
        "input_tensor_train, target_tensor_train, \\\n",
        "query_data_train, intent_data_train, intent_data_label_train, slot_data_train = load_atis('atis.train.pkl')"
      ],
      "execution_count": 9,
      "outputs": [
        {
          "output_type": "stream",
          "text": [
            "Done  loading:  atis.train.pkl\n",
            "      samples: 4978\n",
            "   vocab_size:  943\n",
            "   slot count:  129\n",
            " intent count:   26\n",
            "Query text: BOS what does it cost to fly from boston to oakland on united airlines EOS\n",
            "Query vector:  [178 916 376 499 327 851 431 444 266 851 644 654 887 200 179]\n",
            "Intent label:  airfare\n",
            "Slot text:  O O O O O O O O B-fromloc.city_name O B-toloc.city_name O B-airline_name I-airline_name O\n",
            "Slot vector:  [128, 128, 128, 128, 128, 128, 128, 128, 48, 128, 78, 128, 2, 83, 128]\n",
            "**************************************************************************\n",
            "Query text: BOS which airline offers the cheapest rate going from dallas to baltimore on july fourth EOS\n",
            "Query vector:  [178 920 199 650 827 296 709 452 444 339 851 247 654 507 439 179]\n",
            "Intent label:  airline\n",
            "Slot text:  O O O O O B-cost_relative O O O B-fromloc.city_name O B-toloc.city_name O B-depart_date.month_name B-depart_date.day_number O\n",
            "Slot vector:  [128, 128, 128, 128, 128, 21, 128, 128, 128, 48, 128, 78, 128, 28, 27, 128]\n",
            "**************************************************************************\n",
            "Query text: BOS i want to travel from kansas city to st. paul and be there by dinnertime EOS\n",
            "Query vector:  [178 479 902 851 867 444 511 301 851 789 673 215 250 831 277 368 179]\n",
            "Intent label:  flight\n",
            "Slot text:  O O O O O O B-fromloc.city_name I-fromloc.city_name O B-toloc.city_name I-toloc.city_name O O O B-depart_time.time_relative B-depart_time.period_of_day O\n",
            "Slot vector:  [128, 128, 128, 128, 128, 128, 48, 110, 128, 78, 125, 128, 128, 128, 36, 33, 128]\n",
            "**************************************************************************\n",
            "Query text: BOS does the philadelphia airport have a name EOS\n",
            "Query vector:  [178 376 827 678 203 463 180 612 179]\n",
            "Intent label:  airport\n",
            "Slot text:  O O O B-airport_name I-airport_name O O O O\n",
            "Slot vector:  [128, 128, 128, 4, 84, 128, 128, 128, 128]\n",
            "**************************************************************************\n",
            "Query text: BOS i 'd like a cheap flight from dallas to baltimore on january first EOS\n",
            "Query vector:  [178 479   0 545 180 295 428 444 339 851 247 654 502 425 179]\n",
            "Intent label:  flight\n",
            "Slot text:  O O O O O B-flight_mod O O B-fromloc.city_name O B-toloc.city_name O B-depart_date.month_name B-depart_date.day_number O\n",
            "Slot vector:  [128, 128, 128, 128, 128, 42, 128, 128, 48, 128, 78, 128, 28, 27, 128]\n",
            "**************************************************************************\n"
          ],
          "name": "stdout"
        }
      ]
    },
    {
      "cell_type": "code",
      "metadata": {
        "colab": {
          "base_uri": "https://localhost:8080/"
        },
        "id": "0OyEKfN2W-v2",
        "outputId": "2eadf055-d66d-45b9-b411-c232c5c19f9c"
      },
      "source": [
        "# load ATIS test dataset\n",
        "t2i_test, s2i_test, in2i_test, i2t_test, i2s_test, i2in_test, \\\n",
        "input_tensor_test, target_tensor_test, \\\n",
        "query_data_test, intent_data_test, intent_data_label_test, slot_data_test = load_atis('atis.test.pkl')"
      ],
      "execution_count": 11,
      "outputs": [
        {
          "output_type": "stream",
          "text": [
            "Done  loading:  atis.test.pkl\n",
            "      samples:  893\n",
            "   vocab_size:  943\n",
            "   slot count:  129\n",
            " intent count:   26\n",
            "Query text: BOS which flights leave april twelfth from indianapolis and arrive in montreal around 10 pm EOS\n",
            "Query vector:  [178 920 429 537 227 878 444 489 215 236 482 604 231  10 689 179]\n",
            "Intent label:  flight\n",
            "Slot text:  O O O O B-depart_date.month_name B-depart_date.day_number O B-fromloc.city_name O O O B-toloc.city_name B-arrive_time.time_relative B-arrive_time.time I-arrive_time.time O\n",
            "Slot vector:  [128, 128, 128, 128, 28, 27, 128, 48, 128, 128, 128, 78, 15, 14, 89, 128]\n",
            "**************************************************************************\n",
            "Query text: BOS list the distance in miles from san francisco international airport to san francisco downtown EOS\n",
            "Query vector:  [178 549 827 373 482 594 444 739 440 496 203 851 739 440 380 179]\n",
            "Intent label:  distance\n",
            "Slot text:  O O O O O O O B-fromloc.airport_name I-fromloc.airport_name I-fromloc.airport_name I-fromloc.airport_name O B-toloc.city_name I-toloc.city_name O O\n",
            "Slot vector:  [128, 128, 128, 128, 128, 128, 128, 47, 109, 109, 109, 128, 78, 125, 128, 128]\n",
            "**************************************************************************\n",
            "Query text: BOS show me the cheapest one way fare from san francisco to houston on february twenty eighth 1994 EOS\n",
            "Query vector:  [178 770 581 827 296 656 906 414 444 739 440 851 476 654 416 881 394  64\n",
            " 179]\n",
            "Intent label:  airfare\n",
            "Slot text:  O O O O B-cost_relative B-round_trip I-round_trip O O B-fromloc.city_name I-fromloc.city_name O B-toloc.city_name O B-depart_date.month_name B-depart_date.day_number I-depart_date.day_number B-depart_date.year O\n",
            "Slot vector:  [128, 128, 128, 128, 21, 66, 119, 128, 128, 48, 110, 128, 78, 128, 28, 27, 95, 30, 128]\n",
            "**************************************************************************\n",
            "Query text: BOS list flights from milwaukee to san jose on wednesday EOS\n",
            "Query vector:  [178 549 429 444 595 851 739 506 654 908 179]\n",
            "Intent label:  flight\n",
            "Slot text:  O O O O B-fromloc.city_name O B-toloc.city_name I-toloc.city_name O B-depart_date.day_name O\n",
            "Slot vector:  [128, 128, 128, 128, 48, 128, 78, 125, 128, 26, 128]\n",
            "**************************************************************************\n",
            "Query text: BOS list delta flights from seattle to salt lake city with aircraft type EOS\n",
            "Query vector:  [178 549 350 429 444 752 851 736 521 301 925 196 883 179]\n",
            "Intent label:  flight\n",
            "Slot text:  O O B-airline_name O O B-fromloc.city_name O B-toloc.city_name I-toloc.city_name I-toloc.city_name O O O O\n",
            "Slot vector:  [128, 128, 2, 128, 128, 48, 128, 78, 125, 125, 128, 128, 128, 128]\n",
            "**************************************************************************\n"
          ],
          "name": "stdout"
        }
      ]
    },
    {
      "cell_type": "code",
      "metadata": {
        "colab": {
          "base_uri": "https://localhost:8080/",
          "height": 785
        },
        "id": "NW7-JUoaYfOz",
        "outputId": "b90d1c03-e137-4d54-c5cc-71915e604cee"
      },
      "source": [
        "# [최종 예측해야 할 값] 질문(query)에 대한 intent \n",
        "\n",
        "pd.set_option('display.max_colwidth', -1)\n",
        "df = pd.DataFrame({'intent': intent_data_train, 'query': query_data_train})\n",
        "\n",
        "df_small = pd.DataFrame(columns=['intent', 'query'])\n",
        "j = 0\n",
        "for i in df.intent.unique():\n",
        "    df_small.loc[j] = df[df.intent==i].iloc[0]\n",
        "    j = j+1\n",
        "    \n",
        "df_small"
      ],
      "execution_count": 10,
      "outputs": [
        {
          "output_type": "stream",
          "text": [
            "/usr/local/lib/python3.6/dist-packages/ipykernel_launcher.py:3: FutureWarning: Passing a negative integer is deprecated in version 1.0 and will not be supported in future version. Instead, use None to not limit the column width.\n",
            "  This is separate from the ipykernel package so we can avoid doing imports until\n"
          ],
          "name": "stderr"
        },
        {
          "output_type": "execute_result",
          "data": {
            "text/html": [
              "<div>\n",
              "<style scoped>\n",
              "    .dataframe tbody tr th:only-of-type {\n",
              "        vertical-align: middle;\n",
              "    }\n",
              "\n",
              "    .dataframe tbody tr th {\n",
              "        vertical-align: top;\n",
              "    }\n",
              "\n",
              "    .dataframe thead th {\n",
              "        text-align: right;\n",
              "    }\n",
              "</style>\n",
              "<table border=\"1\" class=\"dataframe\">\n",
              "  <thead>\n",
              "    <tr style=\"text-align: right;\">\n",
              "      <th></th>\n",
              "      <th>intent</th>\n",
              "      <th>query</th>\n",
              "    </tr>\n",
              "  </thead>\n",
              "  <tbody>\n",
              "    <tr>\n",
              "      <th>0</th>\n",
              "      <td>flight</td>\n",
              "      <td>i want to fly from boston at 838 am and arrive in denver at 1110 in the morning</td>\n",
              "    </tr>\n",
              "    <tr>\n",
              "      <th>1</th>\n",
              "      <td>flight_time</td>\n",
              "      <td>what is the arrival time in san francisco for the 755 am flight leaving washington</td>\n",
              "    </tr>\n",
              "    <tr>\n",
              "      <th>2</th>\n",
              "      <td>airfare</td>\n",
              "      <td>cheapest airfare from tacoma to orlando</td>\n",
              "    </tr>\n",
              "    <tr>\n",
              "      <th>3</th>\n",
              "      <td>aircraft</td>\n",
              "      <td>what kind of aircraft is used on a flight from cleveland to dallas</td>\n",
              "    </tr>\n",
              "    <tr>\n",
              "      <th>4</th>\n",
              "      <td>ground_service</td>\n",
              "      <td>what kind of ground transportation is available in denver</td>\n",
              "    </tr>\n",
              "    <tr>\n",
              "      <th>5</th>\n",
              "      <td>airport</td>\n",
              "      <td>what 's the airport at orlando</td>\n",
              "    </tr>\n",
              "    <tr>\n",
              "      <th>6</th>\n",
              "      <td>airline</td>\n",
              "      <td>which airline serves denver pittsburgh and atlanta</td>\n",
              "    </tr>\n",
              "    <tr>\n",
              "      <th>7</th>\n",
              "      <td>distance</td>\n",
              "      <td>how far is it from orlando airport to orlando</td>\n",
              "    </tr>\n",
              "    <tr>\n",
              "      <th>8</th>\n",
              "      <td>abbreviation</td>\n",
              "      <td>what is fare code h</td>\n",
              "    </tr>\n",
              "    <tr>\n",
              "      <th>9</th>\n",
              "      <td>ground_fare</td>\n",
              "      <td>how much does the limousine service cost within pittsburgh</td>\n",
              "    </tr>\n",
              "    <tr>\n",
              "      <th>10</th>\n",
              "      <td>quantity</td>\n",
              "      <td>please tell me how many nonstop flights there are from boston to atlanta</td>\n",
              "    </tr>\n",
              "    <tr>\n",
              "      <th>11</th>\n",
              "      <td>city</td>\n",
              "      <td>what city is the airport mco in</td>\n",
              "    </tr>\n",
              "    <tr>\n",
              "      <th>12</th>\n",
              "      <td>flight_no</td>\n",
              "      <td>flight numbers from columbus to minneapolis tomorrow</td>\n",
              "    </tr>\n",
              "    <tr>\n",
              "      <th>13</th>\n",
              "      <td>capacity</td>\n",
              "      <td>how many seats in a 100</td>\n",
              "    </tr>\n",
              "    <tr>\n",
              "      <th>14</th>\n",
              "      <td>flight+airfare</td>\n",
              "      <td>give me the flights and fares on december twenty seventh from indianapolis to orlando</td>\n",
              "    </tr>\n",
              "    <tr>\n",
              "      <th>15</th>\n",
              "      <td>meal</td>\n",
              "      <td>show me all meals on flights from atlanta to washington</td>\n",
              "    </tr>\n",
              "    <tr>\n",
              "      <th>16</th>\n",
              "      <td>restriction</td>\n",
              "      <td>what are the air restrictions on flights from pittsburgh to atlanta for the airfare of 416 dollars</td>\n",
              "    </tr>\n",
              "    <tr>\n",
              "      <th>17</th>\n",
              "      <td>airline+flight_no</td>\n",
              "      <td>airline and flight number from columbus to minneapolis</td>\n",
              "    </tr>\n",
              "    <tr>\n",
              "      <th>18</th>\n",
              "      <td>ground_service+ground_fare</td>\n",
              "      <td>what ground transportation is available from the pittsburgh airport to downtown and how much does it cost</td>\n",
              "    </tr>\n",
              "    <tr>\n",
              "      <th>19</th>\n",
              "      <td>airfare+flight_time</td>\n",
              "      <td>show me the costs and times for flights from san francisco to atlanta</td>\n",
              "    </tr>\n",
              "    <tr>\n",
              "      <th>20</th>\n",
              "      <td>cheapest</td>\n",
              "      <td>show me the cheapest fare in the database</td>\n",
              "    </tr>\n",
              "    <tr>\n",
              "      <th>21</th>\n",
              "      <td>aircraft+flight+flight_no</td>\n",
              "      <td>i want to fly from detroit to st. petersburg on northwest airlines and leave around 9 am tell me what aircraft are used by this flight and tell me the flight number</td>\n",
              "    </tr>\n",
              "  </tbody>\n",
              "</table>\n",
              "</div>"
            ],
            "text/plain": [
              "                        intent                                                                                                                                                                   query\n",
              "0   flight                       i want to fly from boston at 838 am and arrive in denver at 1110 in the morning                                                                                      \n",
              "1   flight_time                  what is the arrival time in san francisco for the 755 am flight leaving washington                                                                                   \n",
              "2   airfare                      cheapest airfare from tacoma to orlando                                                                                                                              \n",
              "3   aircraft                     what kind of aircraft is used on a flight from cleveland to dallas                                                                                                   \n",
              "4   ground_service               what kind of ground transportation is available in denver                                                                                                            \n",
              "5   airport                      what 's the airport at orlando                                                                                                                                       \n",
              "6   airline                      which airline serves denver pittsburgh and atlanta                                                                                                                   \n",
              "7   distance                     how far is it from orlando airport to orlando                                                                                                                        \n",
              "8   abbreviation                 what is fare code h                                                                                                                                                  \n",
              "9   ground_fare                  how much does the limousine service cost within pittsburgh                                                                                                           \n",
              "10  quantity                     please tell me how many nonstop flights there are from boston to atlanta                                                                                             \n",
              "11  city                         what city is the airport mco in                                                                                                                                      \n",
              "12  flight_no                    flight numbers from columbus to minneapolis tomorrow                                                                                                                 \n",
              "13  capacity                     how many seats in a 100                                                                                                                                              \n",
              "14  flight+airfare               give me the flights and fares on december twenty seventh from indianapolis to orlando                                                                                \n",
              "15  meal                         show me all meals on flights from atlanta to washington                                                                                                              \n",
              "16  restriction                  what are the air restrictions on flights from pittsburgh to atlanta for the airfare of 416 dollars                                                                   \n",
              "17  airline+flight_no            airline and flight number from columbus to minneapolis                                                                                                               \n",
              "18  ground_service+ground_fare   what ground transportation is available from the pittsburgh airport to downtown and how much does it cost                                                            \n",
              "19  airfare+flight_time          show me the costs and times for flights from san francisco to atlanta                                                                                                \n",
              "20  cheapest                     show me the cheapest fare in the database                                                                                                                            \n",
              "21  aircraft+flight+flight_no    i want to fly from detroit to st. petersburg on northwest airlines and leave around 9 am tell me what aircraft are used by this flight and tell me the flight number "
            ]
          },
          "metadata": {
            "tags": []
          },
          "execution_count": 10
        }
      ]
    },
    {
      "cell_type": "markdown",
      "metadata": {
        "id": "pYoVL7uxY-nW"
      },
      "source": [
        "### 2. BERT Sentence  \n",
        "* [CLS] : at the **beginning** of our text\n",
        "* [SEP] : to mark the **end** of a sentence, or the **separation** between two sentences\n",
        "\n",
        "---\n",
        "\n",
        "BERT는 한 문장 or 두 문장만 입력 가능합니다. \n",
        "1. 한 문장 : [CLS] The man went to the store. [SEP] \n",
        "2. 두 문장 : [CLS] The man went to the store. [SEP] He bought a gallon of milk. [SEP]"
      ]
    },
    {
      "cell_type": "code",
      "metadata": {
        "colab": {
          "base_uri": "https://localhost:8080/"
        },
        "id": "WBE_fIgwXUzJ",
        "outputId": "35d8d669-f800-4c69-c3af-d2569f97218b"
      },
      "source": [
        "# BERT model의 input에 맞게 query 재가공 (special token 추가)\n",
        "sentences = [\"[CLS] \" + query + \" [SEP]\" for query in query_data_train]\n",
        "print(sentences[0])"
      ],
      "execution_count": 12,
      "outputs": [
        {
          "output_type": "stream",
          "text": [
            "[CLS]  i want to fly from boston at 838 am and arrive in denver at 1110 in the morning  [SEP]\n"
          ],
          "name": "stdout"
        }
      ]
    },
    {
      "cell_type": "markdown",
      "metadata": {
        "id": "WAtKQqaeas9J"
      },
      "source": [
        "### BERT Tokenizer \n",
        "* BERT Tokenizer 는 **WordPiece Model** 기반으로 tokenizing을 수행합니다. \n",
        "    - WordPiece Model : **Character Embedding + Word Embedding** 두 가지를 혼합한 모델\n",
        "        1. 먼저 캐릭터 단위로 분리를 합니다.\n",
        "        2. 그 다음, 자주 나오는 캐릭터들을 병합하여 하나의 토큰으로 만듭니다. \n",
        "            - 이렇게 하면 의미가 있는 캐릭터들이 묶여지기 때문에 캐릭터 임베딩과 워드 임베딩의 장점이 합쳐집니다.\n",
        "            - 또한 형태소분석이 필요 없기 때문에 다양한 언어에 유연하게 적용할 수도 있습니다. (한국어, 일본어)\n",
        "\n",
        "    - Process\n",
        "        1. original word가 subword로 쪼개집니다. \n",
        "        2. \"##bed\"는 어떤 단어의 일부, subword라는 뜻입니다. 독립적인 단어 \"bed\"랑 다르다는 것을 보여주기 위해 사용됩니다. \n",
        "        3. 전체 단어가 BERT vocab에 없으면 **subword로 분해하는 과정**을 거칩니다.\n",
        "        4. vocab에서 찾을 때까지 분해하고, 끝까지 못 찾으면 철자 하나씩까지 분해하게 됩니다."
      ]
    },
    {
      "cell_type": "code",
      "metadata": {
        "colab": {
          "base_uri": "https://localhost:8080/"
        },
        "id": "VPJAiU06Zo_D",
        "outputId": "4630a865-0665-464c-c5bf-76092ae33802"
      },
      "source": [
        "# BERT tokenizer를 불러와서, BERT vocabulary 의 형태에 맞게 tokenize 합니다. \n",
        "tokenizer = BertTokenizer.from_pretrained('bert-base-uncased', do_lower_case=True)\n",
        "\n",
        "tokenized_texts = [tokenizer.tokenize(sent) for sent in sentences]\n",
        "print(\"* Tokenize the first sentence *\")\n",
        "print(tokenized_texts[0])"
      ],
      "execution_count": 13,
      "outputs": [
        {
          "output_type": "stream",
          "text": [
            "100%|██████████| 231508/231508 [00:00<00:00, 5888079.28B/s]\n"
          ],
          "name": "stderr"
        },
        {
          "output_type": "stream",
          "text": [
            "* Tokenize the first sentence *\n",
            "['[CLS]', 'i', 'want', 'to', 'fly', 'from', 'boston', 'at', '83', '##8', 'am', 'and', 'arrive', 'in', 'denver', 'at', '111', '##0', 'in', 'the', 'morning', '[SEP]']\n"
          ],
          "name": "stdout"
        }
      ]
    },
    {
      "cell_type": "markdown",
      "metadata": {
        "id": "NUyv-YmycHCe"
      },
      "source": [
        "### 3. BERT input \n",
        "* BERT model에 적용하기 위해서는, input 형식에 맞게 데이터를 만드는 과정이 필요합니다. \n",
        "* BERT pre-training 단계에서는 두 가지 task를 수행합니다. \n",
        "    1. Next Sentence Prediction \n",
        "    2. Masked Language Model \n",
        "* 따라서 위의 과정에 맞는 데이터를 만들어서 적용시키는 과정이 필요합니다. \n",
        "![대체 텍스트](https://mino-park7.github.io/images/2019/02/bert-input-representation.png)\n",
        "\n",
        "--- \n",
        "\n",
        "* **input ids** : 각 token마다 index를 부여해서, vector로 만들어 줍니다. \n",
        "* **segment mask** \n",
        "    - **Next Sentence Prediction** \n",
        "        - 두 개의 문장을 주고, 두 번째 문장이 코퍼스 내에서 첫 번째 문장의 **바로 다음에 오는지** 여부를 예측하도록 하는 방식입니다. \n",
        "    - input 문장이 하나면 segment ID 모두 1으로 부여합니다. (input 문장 + 마지막 [SEP] 까지 1)\n",
        "    - input 문장이 두개면 첫 문장은 0, 다음 문장은 1로 줘서 구분합니다.\n",
        "* **attention mask** \n",
        "    - **Masked Language Model**\n",
        "        - 문장의 다음 단어를 예측하는 것이 아니라, 문장 내 **랜덤한 단어를 마스킹**하고 이를 예측하도록 하는 방식입니다. \n",
        "        - **마스킹 된 토큰을 맞추도록 학습한 결과**를 직접 벡터로 갖는 방식입니다. \n",
        "        - 마스킹은 전체 단어의 15% 정도만 진행하며, \n",
        "        - 모든 토큰을 마스킹하는 것이 아니라 80% 정도만 [Mask] 처리하고, 10%는 랜덤한 단어, 나머지 10%는 정상적인 단어로 유지합니다. \n"
      ]
    },
    {
      "cell_type": "code",
      "metadata": {
        "id": "7DAMfd8Zaghv"
      },
      "source": [
        "# 최대 길이 지정 \n",
        "MAX_LEN = 128\n",
        "\n",
        "\n",
        "# tokenizing & padding \n",
        "# tokenizing : token을 숫자 인덱스에 맞추어 변환합니다. \n",
        "# padding : 문장을 MAX_LEN 길이에 맞게 자르고, 모자란 부분을 패딩 0으로 채워줍니다. \n",
        "\n",
        "input_ids = pad_sequences([tokenizer.convert_tokens_to_ids(txt) for txt in tokenized_texts],\n",
        "                          maxlen=MAX_LEN, dtype=\"long\", truncating=\"post\", padding=\"post\")"
      ],
      "execution_count": 14,
      "outputs": []
    },
    {
      "cell_type": "code",
      "metadata": {
        "colab": {
          "base_uri": "https://localhost:8080/"
        },
        "id": "vfnyra4g6F8-",
        "outputId": "ed653008-65fe-4deb-f145-09325cc40402"
      },
      "source": [
        "print('* sentence : ',  sentences[0])\n",
        "print('* tokenized sentence : ',  tokenized_texts[0])\n",
        "print(\"=====\" * 30)\n",
        "print('* token id : ',  input_ids[0])"
      ],
      "execution_count": 15,
      "outputs": [
        {
          "output_type": "stream",
          "text": [
            "* sentence :  [CLS]  i want to fly from boston at 838 am and arrive in denver at 1110 in the morning  [SEP]\n",
            "* tokenized sentence :  ['[CLS]', 'i', 'want', 'to', 'fly', 'from', 'boston', 'at', '83', '##8', 'am', 'and', 'arrive', 'in', 'denver', 'at', '111', '##0', 'in', 'the', 'morning', '[SEP]']\n",
            "======================================================================================================================================================\n",
            "* token id :  [  101  1045  2215  2000  4875  2013  3731  2012  6640  2620  2572  1998\n",
            "  7180  1999  7573  2012 11118  2692  1999  1996  2851   102     0     0\n",
            "     0     0     0     0     0     0     0     0     0     0     0     0\n",
            "     0     0     0     0     0     0     0     0     0     0     0     0\n",
            "     0     0     0     0     0     0     0     0     0     0     0     0\n",
            "     0     0     0     0     0     0     0     0     0     0     0     0\n",
            "     0     0     0     0     0     0     0     0     0     0     0     0\n",
            "     0     0     0     0     0     0     0     0     0     0     0     0\n",
            "     0     0     0     0     0     0     0     0     0     0     0     0\n",
            "     0     0     0     0     0     0     0     0     0     0     0     0\n",
            "     0     0     0     0     0     0     0     0]\n"
          ],
          "name": "stdout"
        }
      ]
    },
    {
      "cell_type": "code",
      "metadata": {
        "colab": {
          "base_uri": "https://localhost:8080/"
        },
        "id": "SF_WRwoL4yAg",
        "outputId": "43883127-c051-45aa-d687-385132ab3272"
      },
      "source": [
        "# train set의 4978 query에 대해 tokenizing  \n",
        "# query의 첫 단어는 [CLS] = 101\n",
        "\n",
        "print(input_ids.shape)\n",
        "input_ids"
      ],
      "execution_count": 16,
      "outputs": [
        {
          "output_type": "stream",
          "text": [
            "(4978, 128)\n"
          ],
          "name": "stdout"
        },
        {
          "output_type": "execute_result",
          "data": {
            "text/plain": [
              "array([[ 101, 1045, 2215, ...,    0,    0,    0],\n",
              "       [ 101, 2054, 7599, ...,    0,    0,    0],\n",
              "       [ 101, 2054, 2003, ...,    0,    0,    0],\n",
              "       ...,\n",
              "       [ 101, 2029, 7608, ...,    0,    0,    0],\n",
              "       [ 101, 2515, 6803, ...,    0,    0,    0],\n",
              "       [ 101, 2003, 2045, ...,    0,    0,    0]])"
            ]
          },
          "metadata": {
            "tags": []
          },
          "execution_count": 16
        }
      ]
    },
    {
      "cell_type": "code",
      "metadata": {
        "id": "7Y8thnVp6lsc"
      },
      "source": [
        "# initialize attention masks\n",
        "attention_masks = []\n",
        "\n",
        "# 어텐션 마스크를 padding이 아니면 1, padding이면 0으로 설정합니다. \n",
        "# padding 부분은 BERT 모델에서 어텐션을 수행하지 않아 속도가 향상됩니다. \n",
        "for seq in input_ids:\n",
        "    seq_mask = [float(i>0) for i in seq]\n",
        "    attention_masks.append(seq_mask)"
      ],
      "execution_count": 17,
      "outputs": []
    },
    {
      "cell_type": "code",
      "metadata": {
        "colab": {
          "base_uri": "https://localhost:8080/"
        },
        "id": "bgzjt_FW7K3z",
        "outputId": "9889621b-f15f-49ab-fab9-52255566f2a6"
      },
      "source": [
        "print(\"* attention mask : \", attention_masks[0])"
      ],
      "execution_count": 18,
      "outputs": [
        {
          "output_type": "stream",
          "text": [
            "* attention mask :  [1.0, 1.0, 1.0, 1.0, 1.0, 1.0, 1.0, 1.0, 1.0, 1.0, 1.0, 1.0, 1.0, 1.0, 1.0, 1.0, 1.0, 1.0, 1.0, 1.0, 1.0, 1.0, 0.0, 0.0, 0.0, 0.0, 0.0, 0.0, 0.0, 0.0, 0.0, 0.0, 0.0, 0.0, 0.0, 0.0, 0.0, 0.0, 0.0, 0.0, 0.0, 0.0, 0.0, 0.0, 0.0, 0.0, 0.0, 0.0, 0.0, 0.0, 0.0, 0.0, 0.0, 0.0, 0.0, 0.0, 0.0, 0.0, 0.0, 0.0, 0.0, 0.0, 0.0, 0.0, 0.0, 0.0, 0.0, 0.0, 0.0, 0.0, 0.0, 0.0, 0.0, 0.0, 0.0, 0.0, 0.0, 0.0, 0.0, 0.0, 0.0, 0.0, 0.0, 0.0, 0.0, 0.0, 0.0, 0.0, 0.0, 0.0, 0.0, 0.0, 0.0, 0.0, 0.0, 0.0, 0.0, 0.0, 0.0, 0.0, 0.0, 0.0, 0.0, 0.0, 0.0, 0.0, 0.0, 0.0, 0.0, 0.0, 0.0, 0.0, 0.0, 0.0, 0.0, 0.0, 0.0, 0.0, 0.0, 0.0, 0.0, 0.0, 0.0, 0.0, 0.0, 0.0, 0.0, 0.0]\n"
          ],
          "name": "stdout"
        }
      ]
    },
    {
      "cell_type": "markdown",
      "metadata": {
        "id": "jMyGNDu37qMG"
      },
      "source": [
        "### 4. to tensor \n",
        "* BERT model 사용을 위해 (pytorch 사용을 위해) tensor에 올려줍니다. "
      ]
    },
    {
      "cell_type": "code",
      "metadata": {
        "id": "fdDSPzbD7bZw"
      },
      "source": [
        "# train, validation split \n",
        "labels = intent_data_label_train    # query의 intent (22개)\n",
        "\n",
        "\n",
        "# token id \n",
        "train_inputs, validation_inputs, train_labels, validation_labels = train_test_split(input_ids, labels, \n",
        "                                                                   random_state=2020, test_size=0.1)\n",
        "\n",
        "# attention mask \n",
        "train_masks, validation_masks, _, _ = train_test_split(attention_masks, input_ids,\n",
        "                                                       random_state=2020, test_size=0.1)"
      ],
      "execution_count": 19,
      "outputs": []
    },
    {
      "cell_type": "code",
      "metadata": {
        "id": "0XqZ8DvU8dz0"
      },
      "source": [
        "# data를 tensor에 올려줍니다 \n",
        "train_inputs, train_labels = torch.tensor(train_inputs) , torch.tensor(train_labels)\n",
        "validation_inputs, validation_labels = torch.tensor(validation_inputs) , torch.tensor(validation_labels)\n",
        "\n",
        "train_masks = torch.tensor(train_masks)\n",
        "validation_masks = torch.tensor(validation_masks)"
      ],
      "execution_count": 20,
      "outputs": []
    },
    {
      "cell_type": "code",
      "metadata": {
        "colab": {
          "base_uri": "https://localhost:8080/"
        },
        "id": "m5TyA2b1AZ5V",
        "outputId": "f3caf562-2ae8-4bee-c021-2301f7574537"
      },
      "source": [
        "print(\"*** BERT input ***\")\n",
        "print(\"=====\" * 20)\n",
        "print(\"* train input\")\n",
        "print(train_inputs[0])\n",
        "print()\n",
        "print(\"* train label\")\n",
        "print(train_labels[0])\n",
        "print()\n",
        "print(\"* train attention mask\")\n",
        "print(train_masks[0])\n",
        "print()\n",
        "print()\n",
        "print(\"* validation input\")\n",
        "print(validation_inputs[0])\n",
        "print()\n",
        "print(\"* validation label\")\n",
        "print(validation_labels[0])\n",
        "print()\n",
        "print(\"* validation attention mask\")\n",
        "print(validation_masks[0])"
      ],
      "execution_count": 21,
      "outputs": [
        {
          "output_type": "stream",
          "text": [
            "*** BERT input ***\n",
            "====================================================================================================\n",
            "* train input\n",
            "tensor([ 101, 2054, 2785, 1997, 2598, 5193, 2003, 2045, 1999, 4407,  102,    0,\n",
            "           0,    0,    0,    0,    0,    0,    0,    0,    0,    0,    0,    0,\n",
            "           0,    0,    0,    0,    0,    0,    0,    0,    0,    0,    0,    0,\n",
            "           0,    0,    0,    0,    0,    0,    0,    0,    0,    0,    0,    0,\n",
            "           0,    0,    0,    0,    0,    0,    0,    0,    0,    0,    0,    0,\n",
            "           0,    0,    0,    0,    0,    0,    0,    0,    0,    0,    0,    0,\n",
            "           0,    0,    0,    0,    0,    0,    0,    0,    0,    0,    0,    0,\n",
            "           0,    0,    0,    0,    0,    0,    0,    0,    0,    0,    0,    0,\n",
            "           0,    0,    0,    0,    0,    0,    0,    0,    0,    0,    0,    0,\n",
            "           0,    0,    0,    0,    0,    0,    0,    0,    0,    0,    0,    0,\n",
            "           0,    0,    0,    0,    0,    0,    0,    0])\n",
            "\n",
            "* train label\n",
            "tensor(21)\n",
            "\n",
            "* train attention mask\n",
            "tensor([1., 1., 1., 1., 1., 1., 1., 1., 1., 1., 1., 0., 0., 0., 0., 0., 0., 0.,\n",
            "        0., 0., 0., 0., 0., 0., 0., 0., 0., 0., 0., 0., 0., 0., 0., 0., 0., 0.,\n",
            "        0., 0., 0., 0., 0., 0., 0., 0., 0., 0., 0., 0., 0., 0., 0., 0., 0., 0.,\n",
            "        0., 0., 0., 0., 0., 0., 0., 0., 0., 0., 0., 0., 0., 0., 0., 0., 0., 0.,\n",
            "        0., 0., 0., 0., 0., 0., 0., 0., 0., 0., 0., 0., 0., 0., 0., 0., 0., 0.,\n",
            "        0., 0., 0., 0., 0., 0., 0., 0., 0., 0., 0., 0., 0., 0., 0., 0., 0., 0.,\n",
            "        0., 0., 0., 0., 0., 0., 0., 0., 0., 0., 0., 0., 0., 0., 0., 0., 0., 0.,\n",
            "        0., 0.])\n",
            "\n",
            "\n",
            "* validation input\n",
            "tensor([ 101, 2265, 1996, 7599, 2008, 2681, 4407, 2008, 2175, 2000, 5865, 2008,\n",
            "        2681, 2220, 2006, 9432, 2851,  102,    0,    0,    0,    0,    0,    0,\n",
            "           0,    0,    0,    0,    0,    0,    0,    0,    0,    0,    0,    0,\n",
            "           0,    0,    0,    0,    0,    0,    0,    0,    0,    0,    0,    0,\n",
            "           0,    0,    0,    0,    0,    0,    0,    0,    0,    0,    0,    0,\n",
            "           0,    0,    0,    0,    0,    0,    0,    0,    0,    0,    0,    0,\n",
            "           0,    0,    0,    0,    0,    0,    0,    0,    0,    0,    0,    0,\n",
            "           0,    0,    0,    0,    0,    0,    0,    0,    0,    0,    0,    0,\n",
            "           0,    0,    0,    0,    0,    0,    0,    0,    0,    0,    0,    0,\n",
            "           0,    0,    0,    0,    0,    0,    0,    0,    0,    0,    0,    0,\n",
            "           0,    0,    0,    0,    0,    0,    0,    0])\n",
            "\n",
            "* validation label\n",
            "tensor(14)\n",
            "\n",
            "* validation attention mask\n",
            "tensor([1., 1., 1., 1., 1., 1., 1., 1., 1., 1., 1., 1., 1., 1., 1., 1., 1., 1.,\n",
            "        0., 0., 0., 0., 0., 0., 0., 0., 0., 0., 0., 0., 0., 0., 0., 0., 0., 0.,\n",
            "        0., 0., 0., 0., 0., 0., 0., 0., 0., 0., 0., 0., 0., 0., 0., 0., 0., 0.,\n",
            "        0., 0., 0., 0., 0., 0., 0., 0., 0., 0., 0., 0., 0., 0., 0., 0., 0., 0.,\n",
            "        0., 0., 0., 0., 0., 0., 0., 0., 0., 0., 0., 0., 0., 0., 0., 0., 0., 0.,\n",
            "        0., 0., 0., 0., 0., 0., 0., 0., 0., 0., 0., 0., 0., 0., 0., 0., 0., 0.,\n",
            "        0., 0., 0., 0., 0., 0., 0., 0., 0., 0., 0., 0., 0., 0., 0., 0., 0., 0.,\n",
            "        0., 0.])\n"
          ],
          "name": "stdout"
        }
      ]
    },
    {
      "cell_type": "code",
      "metadata": {
        "id": "JsFLVTGw8676"
      },
      "source": [
        "# training 을 위한 batch size를 설정해 줍니다. (16 혹은 32 권장)\n",
        "batch_size = 32\n",
        "\n",
        "# DataLoader : data 전체를 사용하지 않고, minibatch 단위로 처리하여 학습의 효율성을 향상시킵니다. \n",
        "train_data = TensorDataset(train_inputs, train_masks, train_labels)     # [input, mask, label]\n",
        "train_sampler = RandomSampler(train_data)\n",
        "train_dataloader = DataLoader(train_data, sampler=train_sampler, batch_size=batch_size)\n",
        "\n",
        "validation_data = TensorDataset(validation_inputs, validation_masks, validation_labels)\n",
        "validation_sampler = SequentialSampler(validation_data)\n",
        "validation_dataloader = DataLoader(validation_data, sampler=validation_sampler, batch_size=batch_size)"
      ],
      "execution_count": 40,
      "outputs": []
    },
    {
      "cell_type": "markdown",
      "metadata": {
        "id": "LsSRG7FaBYbm"
      },
      "source": [
        "## Modeling "
      ]
    },
    {
      "cell_type": "markdown",
      "metadata": {
        "id": "_RkNnAtiHWUf"
      },
      "source": [
        "### 1. Model Load "
      ]
    },
    {
      "cell_type": "code",
      "metadata": {
        "colab": {
          "base_uri": "https://localhost:8080/"
        },
        "id": "Jv5D69Pn9kiJ",
        "outputId": "18727078-a147-470a-9926-57baf9194793"
      },
      "source": [
        "# 분류를 위한 BERT 모델을 생성합니다. \n",
        "# pre-trained 된 BERT 모델을 불러옵니다. \n",
        "\n",
        "model = BertForSequenceClassification.from_pretrained(\"bert-base-uncased\", num_labels=26)\n",
        "model.cuda()"
      ],
      "execution_count": 41,
      "outputs": [
        {
          "output_type": "execute_result",
          "data": {
            "text/plain": [
              "BertForSequenceClassification(\n",
              "  (bert): BertModel(\n",
              "    (embeddings): BertEmbeddings(\n",
              "      (word_embeddings): Embedding(30522, 768, padding_idx=0)\n",
              "      (position_embeddings): Embedding(512, 768)\n",
              "      (token_type_embeddings): Embedding(2, 768)\n",
              "      (LayerNorm): BertLayerNorm()\n",
              "      (dropout): Dropout(p=0.1, inplace=False)\n",
              "    )\n",
              "    (encoder): BertEncoder(\n",
              "      (layer): ModuleList(\n",
              "        (0): BertLayer(\n",
              "          (attention): BertAttention(\n",
              "            (self): BertSelfAttention(\n",
              "              (query): Linear(in_features=768, out_features=768, bias=True)\n",
              "              (key): Linear(in_features=768, out_features=768, bias=True)\n",
              "              (value): Linear(in_features=768, out_features=768, bias=True)\n",
              "              (dropout): Dropout(p=0.1, inplace=False)\n",
              "            )\n",
              "            (output): BertSelfOutput(\n",
              "              (dense): Linear(in_features=768, out_features=768, bias=True)\n",
              "              (LayerNorm): BertLayerNorm()\n",
              "              (dropout): Dropout(p=0.1, inplace=False)\n",
              "            )\n",
              "          )\n",
              "          (intermediate): BertIntermediate(\n",
              "            (dense): Linear(in_features=768, out_features=3072, bias=True)\n",
              "          )\n",
              "          (output): BertOutput(\n",
              "            (dense): Linear(in_features=3072, out_features=768, bias=True)\n",
              "            (LayerNorm): BertLayerNorm()\n",
              "            (dropout): Dropout(p=0.1, inplace=False)\n",
              "          )\n",
              "        )\n",
              "        (1): BertLayer(\n",
              "          (attention): BertAttention(\n",
              "            (self): BertSelfAttention(\n",
              "              (query): Linear(in_features=768, out_features=768, bias=True)\n",
              "              (key): Linear(in_features=768, out_features=768, bias=True)\n",
              "              (value): Linear(in_features=768, out_features=768, bias=True)\n",
              "              (dropout): Dropout(p=0.1, inplace=False)\n",
              "            )\n",
              "            (output): BertSelfOutput(\n",
              "              (dense): Linear(in_features=768, out_features=768, bias=True)\n",
              "              (LayerNorm): BertLayerNorm()\n",
              "              (dropout): Dropout(p=0.1, inplace=False)\n",
              "            )\n",
              "          )\n",
              "          (intermediate): BertIntermediate(\n",
              "            (dense): Linear(in_features=768, out_features=3072, bias=True)\n",
              "          )\n",
              "          (output): BertOutput(\n",
              "            (dense): Linear(in_features=3072, out_features=768, bias=True)\n",
              "            (LayerNorm): BertLayerNorm()\n",
              "            (dropout): Dropout(p=0.1, inplace=False)\n",
              "          )\n",
              "        )\n",
              "        (2): BertLayer(\n",
              "          (attention): BertAttention(\n",
              "            (self): BertSelfAttention(\n",
              "              (query): Linear(in_features=768, out_features=768, bias=True)\n",
              "              (key): Linear(in_features=768, out_features=768, bias=True)\n",
              "              (value): Linear(in_features=768, out_features=768, bias=True)\n",
              "              (dropout): Dropout(p=0.1, inplace=False)\n",
              "            )\n",
              "            (output): BertSelfOutput(\n",
              "              (dense): Linear(in_features=768, out_features=768, bias=True)\n",
              "              (LayerNorm): BertLayerNorm()\n",
              "              (dropout): Dropout(p=0.1, inplace=False)\n",
              "            )\n",
              "          )\n",
              "          (intermediate): BertIntermediate(\n",
              "            (dense): Linear(in_features=768, out_features=3072, bias=True)\n",
              "          )\n",
              "          (output): BertOutput(\n",
              "            (dense): Linear(in_features=3072, out_features=768, bias=True)\n",
              "            (LayerNorm): BertLayerNorm()\n",
              "            (dropout): Dropout(p=0.1, inplace=False)\n",
              "          )\n",
              "        )\n",
              "        (3): BertLayer(\n",
              "          (attention): BertAttention(\n",
              "            (self): BertSelfAttention(\n",
              "              (query): Linear(in_features=768, out_features=768, bias=True)\n",
              "              (key): Linear(in_features=768, out_features=768, bias=True)\n",
              "              (value): Linear(in_features=768, out_features=768, bias=True)\n",
              "              (dropout): Dropout(p=0.1, inplace=False)\n",
              "            )\n",
              "            (output): BertSelfOutput(\n",
              "              (dense): Linear(in_features=768, out_features=768, bias=True)\n",
              "              (LayerNorm): BertLayerNorm()\n",
              "              (dropout): Dropout(p=0.1, inplace=False)\n",
              "            )\n",
              "          )\n",
              "          (intermediate): BertIntermediate(\n",
              "            (dense): Linear(in_features=768, out_features=3072, bias=True)\n",
              "          )\n",
              "          (output): BertOutput(\n",
              "            (dense): Linear(in_features=3072, out_features=768, bias=True)\n",
              "            (LayerNorm): BertLayerNorm()\n",
              "            (dropout): Dropout(p=0.1, inplace=False)\n",
              "          )\n",
              "        )\n",
              "        (4): BertLayer(\n",
              "          (attention): BertAttention(\n",
              "            (self): BertSelfAttention(\n",
              "              (query): Linear(in_features=768, out_features=768, bias=True)\n",
              "              (key): Linear(in_features=768, out_features=768, bias=True)\n",
              "              (value): Linear(in_features=768, out_features=768, bias=True)\n",
              "              (dropout): Dropout(p=0.1, inplace=False)\n",
              "            )\n",
              "            (output): BertSelfOutput(\n",
              "              (dense): Linear(in_features=768, out_features=768, bias=True)\n",
              "              (LayerNorm): BertLayerNorm()\n",
              "              (dropout): Dropout(p=0.1, inplace=False)\n",
              "            )\n",
              "          )\n",
              "          (intermediate): BertIntermediate(\n",
              "            (dense): Linear(in_features=768, out_features=3072, bias=True)\n",
              "          )\n",
              "          (output): BertOutput(\n",
              "            (dense): Linear(in_features=3072, out_features=768, bias=True)\n",
              "            (LayerNorm): BertLayerNorm()\n",
              "            (dropout): Dropout(p=0.1, inplace=False)\n",
              "          )\n",
              "        )\n",
              "        (5): BertLayer(\n",
              "          (attention): BertAttention(\n",
              "            (self): BertSelfAttention(\n",
              "              (query): Linear(in_features=768, out_features=768, bias=True)\n",
              "              (key): Linear(in_features=768, out_features=768, bias=True)\n",
              "              (value): Linear(in_features=768, out_features=768, bias=True)\n",
              "              (dropout): Dropout(p=0.1, inplace=False)\n",
              "            )\n",
              "            (output): BertSelfOutput(\n",
              "              (dense): Linear(in_features=768, out_features=768, bias=True)\n",
              "              (LayerNorm): BertLayerNorm()\n",
              "              (dropout): Dropout(p=0.1, inplace=False)\n",
              "            )\n",
              "          )\n",
              "          (intermediate): BertIntermediate(\n",
              "            (dense): Linear(in_features=768, out_features=3072, bias=True)\n",
              "          )\n",
              "          (output): BertOutput(\n",
              "            (dense): Linear(in_features=3072, out_features=768, bias=True)\n",
              "            (LayerNorm): BertLayerNorm()\n",
              "            (dropout): Dropout(p=0.1, inplace=False)\n",
              "          )\n",
              "        )\n",
              "        (6): BertLayer(\n",
              "          (attention): BertAttention(\n",
              "            (self): BertSelfAttention(\n",
              "              (query): Linear(in_features=768, out_features=768, bias=True)\n",
              "              (key): Linear(in_features=768, out_features=768, bias=True)\n",
              "              (value): Linear(in_features=768, out_features=768, bias=True)\n",
              "              (dropout): Dropout(p=0.1, inplace=False)\n",
              "            )\n",
              "            (output): BertSelfOutput(\n",
              "              (dense): Linear(in_features=768, out_features=768, bias=True)\n",
              "              (LayerNorm): BertLayerNorm()\n",
              "              (dropout): Dropout(p=0.1, inplace=False)\n",
              "            )\n",
              "          )\n",
              "          (intermediate): BertIntermediate(\n",
              "            (dense): Linear(in_features=768, out_features=3072, bias=True)\n",
              "          )\n",
              "          (output): BertOutput(\n",
              "            (dense): Linear(in_features=3072, out_features=768, bias=True)\n",
              "            (LayerNorm): BertLayerNorm()\n",
              "            (dropout): Dropout(p=0.1, inplace=False)\n",
              "          )\n",
              "        )\n",
              "        (7): BertLayer(\n",
              "          (attention): BertAttention(\n",
              "            (self): BertSelfAttention(\n",
              "              (query): Linear(in_features=768, out_features=768, bias=True)\n",
              "              (key): Linear(in_features=768, out_features=768, bias=True)\n",
              "              (value): Linear(in_features=768, out_features=768, bias=True)\n",
              "              (dropout): Dropout(p=0.1, inplace=False)\n",
              "            )\n",
              "            (output): BertSelfOutput(\n",
              "              (dense): Linear(in_features=768, out_features=768, bias=True)\n",
              "              (LayerNorm): BertLayerNorm()\n",
              "              (dropout): Dropout(p=0.1, inplace=False)\n",
              "            )\n",
              "          )\n",
              "          (intermediate): BertIntermediate(\n",
              "            (dense): Linear(in_features=768, out_features=3072, bias=True)\n",
              "          )\n",
              "          (output): BertOutput(\n",
              "            (dense): Linear(in_features=3072, out_features=768, bias=True)\n",
              "            (LayerNorm): BertLayerNorm()\n",
              "            (dropout): Dropout(p=0.1, inplace=False)\n",
              "          )\n",
              "        )\n",
              "        (8): BertLayer(\n",
              "          (attention): BertAttention(\n",
              "            (self): BertSelfAttention(\n",
              "              (query): Linear(in_features=768, out_features=768, bias=True)\n",
              "              (key): Linear(in_features=768, out_features=768, bias=True)\n",
              "              (value): Linear(in_features=768, out_features=768, bias=True)\n",
              "              (dropout): Dropout(p=0.1, inplace=False)\n",
              "            )\n",
              "            (output): BertSelfOutput(\n",
              "              (dense): Linear(in_features=768, out_features=768, bias=True)\n",
              "              (LayerNorm): BertLayerNorm()\n",
              "              (dropout): Dropout(p=0.1, inplace=False)\n",
              "            )\n",
              "          )\n",
              "          (intermediate): BertIntermediate(\n",
              "            (dense): Linear(in_features=768, out_features=3072, bias=True)\n",
              "          )\n",
              "          (output): BertOutput(\n",
              "            (dense): Linear(in_features=3072, out_features=768, bias=True)\n",
              "            (LayerNorm): BertLayerNorm()\n",
              "            (dropout): Dropout(p=0.1, inplace=False)\n",
              "          )\n",
              "        )\n",
              "        (9): BertLayer(\n",
              "          (attention): BertAttention(\n",
              "            (self): BertSelfAttention(\n",
              "              (query): Linear(in_features=768, out_features=768, bias=True)\n",
              "              (key): Linear(in_features=768, out_features=768, bias=True)\n",
              "              (value): Linear(in_features=768, out_features=768, bias=True)\n",
              "              (dropout): Dropout(p=0.1, inplace=False)\n",
              "            )\n",
              "            (output): BertSelfOutput(\n",
              "              (dense): Linear(in_features=768, out_features=768, bias=True)\n",
              "              (LayerNorm): BertLayerNorm()\n",
              "              (dropout): Dropout(p=0.1, inplace=False)\n",
              "            )\n",
              "          )\n",
              "          (intermediate): BertIntermediate(\n",
              "            (dense): Linear(in_features=768, out_features=3072, bias=True)\n",
              "          )\n",
              "          (output): BertOutput(\n",
              "            (dense): Linear(in_features=3072, out_features=768, bias=True)\n",
              "            (LayerNorm): BertLayerNorm()\n",
              "            (dropout): Dropout(p=0.1, inplace=False)\n",
              "          )\n",
              "        )\n",
              "        (10): BertLayer(\n",
              "          (attention): BertAttention(\n",
              "            (self): BertSelfAttention(\n",
              "              (query): Linear(in_features=768, out_features=768, bias=True)\n",
              "              (key): Linear(in_features=768, out_features=768, bias=True)\n",
              "              (value): Linear(in_features=768, out_features=768, bias=True)\n",
              "              (dropout): Dropout(p=0.1, inplace=False)\n",
              "            )\n",
              "            (output): BertSelfOutput(\n",
              "              (dense): Linear(in_features=768, out_features=768, bias=True)\n",
              "              (LayerNorm): BertLayerNorm()\n",
              "              (dropout): Dropout(p=0.1, inplace=False)\n",
              "            )\n",
              "          )\n",
              "          (intermediate): BertIntermediate(\n",
              "            (dense): Linear(in_features=768, out_features=3072, bias=True)\n",
              "          )\n",
              "          (output): BertOutput(\n",
              "            (dense): Linear(in_features=3072, out_features=768, bias=True)\n",
              "            (LayerNorm): BertLayerNorm()\n",
              "            (dropout): Dropout(p=0.1, inplace=False)\n",
              "          )\n",
              "        )\n",
              "        (11): BertLayer(\n",
              "          (attention): BertAttention(\n",
              "            (self): BertSelfAttention(\n",
              "              (query): Linear(in_features=768, out_features=768, bias=True)\n",
              "              (key): Linear(in_features=768, out_features=768, bias=True)\n",
              "              (value): Linear(in_features=768, out_features=768, bias=True)\n",
              "              (dropout): Dropout(p=0.1, inplace=False)\n",
              "            )\n",
              "            (output): BertSelfOutput(\n",
              "              (dense): Linear(in_features=768, out_features=768, bias=True)\n",
              "              (LayerNorm): BertLayerNorm()\n",
              "              (dropout): Dropout(p=0.1, inplace=False)\n",
              "            )\n",
              "          )\n",
              "          (intermediate): BertIntermediate(\n",
              "            (dense): Linear(in_features=768, out_features=3072, bias=True)\n",
              "          )\n",
              "          (output): BertOutput(\n",
              "            (dense): Linear(in_features=3072, out_features=768, bias=True)\n",
              "            (LayerNorm): BertLayerNorm()\n",
              "            (dropout): Dropout(p=0.1, inplace=False)\n",
              "          )\n",
              "        )\n",
              "      )\n",
              "    )\n",
              "    (pooler): BertPooler(\n",
              "      (dense): Linear(in_features=768, out_features=768, bias=True)\n",
              "      (activation): Tanh()\n",
              "    )\n",
              "  )\n",
              "  (dropout): Dropout(p=0.1, inplace=False)\n",
              "  (classifier): Linear(in_features=768, out_features=26, bias=True)\n",
              ")"
            ]
          },
          "metadata": {
            "tags": []
          },
          "execution_count": 41
        }
      ]
    },
    {
      "cell_type": "code",
      "metadata": {
        "id": "ANNSS_FqHLUd"
      },
      "source": [
        "# optimizer parameter 설정 \n",
        "param_optimizer = list(model.named_parameters())\n",
        "no_decay = ['bias', 'gamma', 'beta']\n",
        "optimizer_grouped_parameters = [\n",
        "    {'params': [p for n, p in param_optimizer if not any(nd in n for nd in no_decay)],\n",
        "     'weight_decay_rate': 0.01},\n",
        "    {'params': [p for n, p in param_optimizer if any(nd in n for nd in no_decay)],\n",
        "     'weight_decay_rate': 0.0}\n",
        "]"
      ],
      "execution_count": 42,
      "outputs": []
    },
    {
      "cell_type": "code",
      "metadata": {
        "colab": {
          "base_uri": "https://localhost:8080/"
        },
        "id": "I9O6X8u9HMO6",
        "outputId": "48a4cb9e-a148-4491-d984-5d6e0b781c26"
      },
      "source": [
        "# optimizer \n",
        "optimizer = BertAdam(optimizer_grouped_parameters,\n",
        "                     lr=2e-5,\n",
        "                     warmup=.1)"
      ],
      "execution_count": 43,
      "outputs": [
        {
          "output_type": "stream",
          "text": [
            "t_total value of -1 results in schedule not being applied\n"
          ],
          "name": "stderr"
        }
      ]
    },
    {
      "cell_type": "code",
      "metadata": {
        "id": "12AMetjuB1Dg"
      },
      "source": [
        "# epoch\n",
        "epochs = 4\n",
        "\n",
        "# 총 훈련 step : batch 반복 횟수 * epoch\n",
        "total_steps = len(train_dataloader) * epochs"
      ],
      "execution_count": 45,
      "outputs": []
    },
    {
      "cell_type": "markdown",
      "metadata": {
        "id": "uHc1lJyUHZl3"
      },
      "source": [
        "### 2. Training "
      ]
    },
    {
      "cell_type": "code",
      "metadata": {
        "id": "ohQHPEhgFLIP"
      },
      "source": [
        "# 정확도 계산 함수 (prediction vs labels)\n",
        "def flat_accuracy(preds, labels):\n",
        "    \n",
        "    pred_flat = np.argmax(preds, axis=1).flatten()\n",
        "    labels_flat = labels.flatten()\n",
        "\n",
        "    return np.sum(pred_flat == labels_flat) / len(labels_flat)"
      ],
      "execution_count": 27,
      "outputs": []
    },
    {
      "cell_type": "code",
      "metadata": {
        "id": "gHyHpQODHiNv"
      },
      "source": [
        "# 시간 표시 함수\n",
        "def format_time(elapsed):\n",
        "    elapsed_rounded = int(round((elapsed)))\n",
        "    return str(datetime.timedelta(seconds=elapsed_rounded))     # hh:mm:ss "
      ],
      "execution_count": 28,
      "outputs": []
    },
    {
      "cell_type": "code",
      "metadata": {
        "colab": {
          "base_uri": "https://localhost:8080/"
        },
        "id": "BfZUDp8XHsv6",
        "outputId": "f77d5ea1-7904-4aa4-8347-7bf57c42d177"
      },
      "source": [
        "# loss 저장 \n",
        "train_loss_set = []\n",
        "\n",
        "# gradient 초기화 \n",
        "model.zero_grad()\n",
        "\n",
        "# epoch 만큼 반복 \n",
        "for epoch_i in range(0, epochs):\n",
        "    \n",
        "    # ========================================\n",
        "    #               Training\n",
        "    # ========================================\n",
        "    \n",
        "    print(\"\")\n",
        "    print('======== Epoch {:} / {:} ========'.format(epoch_i + 1, epochs))\n",
        "    print('Training...')\n",
        "\n",
        "    # 시작 시간 설정\n",
        "    t0 = time.time()\n",
        "\n",
        "    # loss 초기화\n",
        "    total_loss = 0\n",
        "    nb_tr_examples, nb_tr_steps = 0, 0\n",
        " \n",
        " \n",
        "    # training \n",
        "    model.train()\n",
        "        \n",
        "    # DataLoader 에서 batch 만큼 반복하여 가져옵니다. \n",
        "    for step, batch in enumerate(train_dataloader):\n",
        "        # 경과 정보 표시\n",
        "        if step % 50 == 0 and not step == 0:\n",
        "            elapsed = format_time(time.time() - t0)\n",
        "            print('  Batch {:>5,}  of  {:>5,}.    Elapsed: {:}.'.format(step, len(train_dataloader), elapsed))\n",
        "\n",
        "        # batch를 GPU에 올립니다. \n",
        "        batch = tuple(t.to(device) for t in batch)\n",
        "        \n",
        "        # batch에서 데이터를 추출합니다. \n",
        "        b_input_ids, b_input_mask, b_labels = batch\n",
        "\n",
        "        # 모델 학습 전, optimizer의 gradient를 초기화합니다. \n",
        "        optimizer.zero_grad()\n",
        "\n",
        "        # Forward             \n",
        "        outputs = model(b_input_ids, \n",
        "                        token_type_ids=None, \n",
        "                        attention_mask=b_input_mask, \n",
        "                        labels=b_labels)\n",
        "        \n",
        "        # loss를 저장합니다. \n",
        "        train_loss_set.append(outputs.item()) \n",
        "\n",
        "        # Backward : gradient 계산\n",
        "        outputs.backward()\n",
        "\n",
        "        # gradient를 통해 가중치 파라미터를 업데이트 합니다. \n",
        "        optimizer.step()\n",
        "\n",
        "        # 총 loss를 구합니다. \n",
        "        total_loss += outputs.item()\n",
        "        nb_tr_examples += b_input_ids.size(0)\n",
        "        nb_tr_steps += 1\n",
        "\n",
        "\n",
        "    # 평균 loss를 계산합니다. \n",
        "    avg_train_loss = total_loss / nb_tr_steps            \n",
        "\n",
        "    print(\"\")\n",
        "    print(\"  Average training loss: {0:.5f}\".format(avg_train_loss))\n",
        "    print(\"  Training epcoh took: {:}\".format(format_time(time.time() - t0)))\n",
        "\n",
        "\n",
        "\n",
        "    # ========================================\n",
        "    #               Validation\n",
        "    # ========================================\n",
        "\n",
        "    print(\"\")\n",
        "    print(\"Running Validation...\")\n",
        "\n",
        "    # 시작 시간 설정\n",
        "    t0 = time.time()\n",
        "\n",
        "    # evaluation \n",
        "    model.eval()\n",
        "\n",
        "    # 변수 초기화\n",
        "    eval_loss, eval_accuracy = 0, 0\n",
        "    nb_eval_steps, nb_eval_examples = 0, 0\n",
        "\n",
        "    # DataLoader 에서 batch 만큼 반복하여 가져옵니다. \n",
        "    for batch in validation_dataloader:\n",
        "        \n",
        "        # batch를 GPU에 올립니다. \n",
        "        batch = tuple(t.to(device) for t in batch)\n",
        "        \n",
        "        # batch에서 데이터를 추출합니다. \n",
        "        b_input_ids, b_input_mask, b_labels = batch\n",
        "        \n",
        "        # evaluation 단계 : gradient 업데이트 하지 않습니다. \n",
        "        with torch.no_grad():     \n",
        "            # Forward \n",
        "            logits = model(b_input_ids, \n",
        "                            token_type_ids=None, \n",
        "                            attention_mask=b_input_mask)\n",
        "\n",
        "        # CPU로 데이터 이동\n",
        "        logits = logits.detach().cpu().numpy()\n",
        "        label_ids = b_labels.to('cpu').numpy()\n",
        "        \n",
        "        # 출력 로짓과 라벨을 비교하여 정확도 계산\n",
        "        tmp_eval_accuracy = flat_accuracy(logits, label_ids)\n",
        "        eval_accuracy += tmp_eval_accuracy\n",
        "        nb_eval_steps += 1\n",
        "\n",
        "    print(\"  Accuracy: {0:.5f}\".format(eval_accuracy/nb_eval_steps))\n",
        "    print(\"  Validation took: {:}\".format(format_time(time.time() - t0)))\n",
        "\n",
        "print(\"\")\n",
        "print(\"Training complete!\")"
      ],
      "execution_count": 46,
      "outputs": [
        {
          "output_type": "stream",
          "text": [
            "\n",
            "======== Epoch 1 / 4 ========\n",
            "Training...\n",
            "  Batch    50  of    140.    Elapsed: 0:00:29.\n",
            "  Batch   100  of    140.    Elapsed: 0:00:58.\n",
            "\n",
            "  Average training loss: 0.55902\n",
            "  Training epcoh took: 0:01:22\n",
            "\n",
            "Running Validation...\n",
            "  Accuracy: 0.98047\n",
            "  Validation took: 0:00:02\n",
            "\n",
            "======== Epoch 2 / 4 ========\n",
            "Training...\n",
            "  Batch    50  of    140.    Elapsed: 0:00:29.\n",
            "  Batch   100  of    140.    Elapsed: 0:00:58.\n",
            "\n",
            "  Average training loss: 0.13461\n",
            "  Training epcoh took: 0:01:21\n",
            "\n",
            "Running Validation...\n",
            "  Accuracy: 0.99023\n",
            "  Validation took: 0:00:02\n",
            "\n",
            "======== Epoch 3 / 4 ========\n",
            "Training...\n",
            "  Batch    50  of    140.    Elapsed: 0:00:29.\n",
            "  Batch   100  of    140.    Elapsed: 0:00:59.\n",
            "\n",
            "  Average training loss: 0.06754\n",
            "  Training epcoh took: 0:01:22\n",
            "\n",
            "Running Validation...\n",
            "  Accuracy: 0.99219\n",
            "  Validation took: 0:00:02\n",
            "\n",
            "======== Epoch 4 / 4 ========\n",
            "Training...\n",
            "  Batch    50  of    140.    Elapsed: 0:00:29.\n",
            "  Batch   100  of    140.    Elapsed: 0:00:58.\n",
            "\n",
            "  Average training loss: 0.03857\n",
            "  Training epcoh took: 0:01:22\n",
            "\n",
            "Running Validation...\n",
            "  Accuracy: 0.99023\n",
            "  Validation took: 0:00:02\n",
            "\n",
            "Training complete!\n"
          ],
          "name": "stdout"
        }
      ]
    },
    {
      "cell_type": "code",
      "metadata": {
        "colab": {
          "base_uri": "https://localhost:8080/",
          "height": 513
        },
        "id": "PrwKmcCoKKUe",
        "outputId": "5bf86f7c-df84-49c4-c839-7d299d2d42bb"
      },
      "source": [
        "# loss를 시각화합니다. \n",
        "plt.figure(figsize=(15,8))\n",
        "plt.title(\"Training loss\")\n",
        "plt.xlabel(\"Batch\")\n",
        "plt.ylabel(\"Loss\")\n",
        "plt.plot(train_loss_set)\n",
        "plt.show()"
      ],
      "execution_count": 47,
      "outputs": [
        {
          "output_type": "display_data",
          "data": {
            "image/png": "[encoded data removed]",
            "text/plain": [
              "<Figure size 1080x576 with 1 Axes>"
            ]
          },
          "metadata": {
            "tags": [],
            "needs_background": "light"
          }
        }
      ]
    },
    {
      "cell_type": "markdown",
      "metadata": {
        "id": "fHul74yIfQoy"
      },
      "source": [
        "## Inference "
      ]
    },
    {
      "cell_type": "markdown",
      "metadata": {
        "id": "KA4XL7YvgMZh"
      },
      "source": [
        "### 1. Test set Preprocess \n",
        "* inference 과정을 위해, test set을 input 형식에 맞추어 재가공합니다. "
      ]
    },
    {
      "cell_type": "code",
      "metadata": {
        "id": "JQazUSZogUyH"
      },
      "source": [
        "# load test data\n",
        "sentences = [\"[CLS] \" + query + \" [SEP]\" for query in query_data_test]\n",
        "labels = intent_data_label_test\n",
        "\n",
        "tokenized_texts = [tokenizer.tokenize(sent) for sent in sentences]"
      ],
      "execution_count": 48,
      "outputs": []
    },
    {
      "cell_type": "code",
      "metadata": {
        "id": "yDmIp8qGgaM_"
      },
      "source": [
        "MAX_LEN = 128\n",
        "\n",
        "# Use the BERT tokenizer to convert the tokens to their index numbers in the BERT vocabulary\n",
        "input_ids = [tokenizer.convert_tokens_to_ids(x) for x in tokenized_texts]\n",
        "# Pad our input tokens\n",
        "input_ids = pad_sequences(input_ids, maxlen=MAX_LEN, dtype=\"long\", truncating=\"post\", padding=\"post\")"
      ],
      "execution_count": 49,
      "outputs": []
    },
    {
      "cell_type": "code",
      "metadata": {
        "id": "UbopWd1hgchW"
      },
      "source": [
        "# Create attention masks\n",
        "attention_masks = []\n",
        "\n",
        "# Create a mask of 1s for each token followed by 0s for padding\n",
        "for seq in input_ids:\n",
        "  seq_mask = [float(i>0) for i in seq]\n",
        "  attention_masks.append(seq_mask) "
      ],
      "execution_count": 50,
      "outputs": []
    },
    {
      "cell_type": "code",
      "metadata": {
        "id": "HCb7BHL-geoT"
      },
      "source": [
        "# to tensor\n",
        "prediction_inputs = torch.tensor(input_ids)\n",
        "prediction_masks = torch.tensor(attention_masks)\n",
        "prediction_labels = torch.tensor(labels)"
      ],
      "execution_count": 51,
      "outputs": []
    },
    {
      "cell_type": "code",
      "metadata": {
        "id": "biiYBeiSQ8_-"
      },
      "source": [
        "batch_size = 32  \n",
        "\n",
        "prediction_data = TensorDataset(prediction_inputs, prediction_masks, prediction_labels)\n",
        "prediction_sampler = SequentialSampler(prediction_data)\n",
        "prediction_dataloader = DataLoader(prediction_data, sampler=prediction_sampler, batch_size=batch_size)"
      ],
      "execution_count": 52,
      "outputs": []
    },
    {
      "cell_type": "markdown",
      "metadata": {
        "id": "Jos5m9k0gq-F"
      },
      "source": [
        "### 2. Evaluation \n",
        "* test set을 통해 모델이 적절한지 평가합니다. "
      ]
    },
    {
      "cell_type": "code",
      "metadata": {
        "colab": {
          "base_uri": "https://localhost:8080/"
        },
        "id": "AqBq4dAGgsww",
        "outputId": "bebcea62-c0df-442b-d239-25290bc90f6f"
      },
      "source": [
        "# ========================================\n",
        "#                Predict\n",
        "# ========================================\n",
        "\n",
        "print(\"\")\n",
        "print(\"Test...\")\n",
        "\n",
        "# 시작 시간 설정\n",
        "t0 = time.time()\n",
        "\n",
        "# evaluation \n",
        "model.eval()\n",
        "\n",
        "# tracking variables \n",
        "predictions , true_labels = [], []\n",
        "\n",
        "# DataLoader 에서 batch 만큼 반복하여 가져옵니다. \n",
        "for batch in prediction_dataloader:\n",
        "    \n",
        "    # batch를 GPU에 올립니다. \n",
        "    batch = tuple(t.to(device) for t in batch)\n",
        "    \n",
        "    # batch에서 데이터를 추출합니다. \n",
        "    b_input_ids, b_input_mask, b_labels = batch\n",
        "    \n",
        "    # evaluation 단계 : gradient 업데이트 하지 않습니다. \n",
        "    with torch.no_grad():     \n",
        "        # Forward \n",
        "        logits = model(b_input_ids, \n",
        "                        token_type_ids=None, \n",
        "                        attention_mask=b_input_mask)\n",
        "\n",
        "    # CPU로 데이터 이동\n",
        "    logits = logits.detach().cpu().numpy()\n",
        "    label_ids = b_labels.to('cpu').numpy()\n",
        "\n",
        "    # 예측값과 실제값을 저장합니다. \n",
        "    predictions.append(logits)\n",
        "    true_labels.append(label_ids)\n",
        "    \n",
        "print(\"\")\n",
        "print(\"Test took: {:}\".format(format_time(time.time() - t0)))\n",
        "print(\"Test complete!\")"
      ],
      "execution_count": 58,
      "outputs": [
        {
          "output_type": "stream",
          "text": [
            "\n",
            "Test...\n",
            "\n",
            "Test took: 0:00:04\n",
            "Test complete!\n"
          ],
          "name": "stdout"
        }
      ]
    },
    {
      "cell_type": "code",
      "metadata": {
        "colab": {
          "base_uri": "https://localhost:8080/"
        },
        "id": "cnH99AUYizLs",
        "outputId": "738aea44-21f3-4bef-e5bd-9a27521a7484"
      },
      "source": [
        "# 성능 평가 : Matthew's correlation coefficient\n",
        "from sklearn.metrics import matthews_corrcoef\n",
        "matthews_set = []\n",
        "\n",
        "for i in range(len(true_labels)):\n",
        "  matthews = matthews_corrcoef(true_labels[i],\n",
        "                 np.argmax(predictions[i], axis=1).flatten())\n",
        "  matthews_set.append(matthews)\n",
        "\n",
        "# Flatten the predictions and true values for aggregate Matthew's evaluation on the whole dataset\n",
        "flat_predictions = [item for sublist in predictions for item in sublist]\n",
        "flat_predictions = np.argmax(flat_predictions, axis=1).flatten()\n",
        "flat_true_labels = [item for sublist in true_labels for item in sublist]\n",
        "\n",
        "matthews_corrcoef(flat_true_labels, flat_predictions)"
      ],
      "execution_count": 59,
      "outputs": [
        {
          "output_type": "stream",
          "text": [
            "/usr/local/lib/python3.6/dist-packages/sklearn/metrics/_classification.py:900: RuntimeWarning: invalid value encountered in double_scalars\n",
            "  mcc = cov_ytyp / np.sqrt(cov_ytyt * cov_ypyp)\n"
          ],
          "name": "stderr"
        },
        {
          "output_type": "execute_result",
          "data": {
            "text/plain": [
              "0.9447790903474139"
            ]
          },
          "metadata": {
            "tags": []
          },
          "execution_count": 59
        }
      ]
    },
    {
      "cell_type": "markdown",
      "metadata": {
        "id": "_t_53rjikD0W"
      },
      "source": [
        "### 3. Inference\n",
        "* 학습한 결과를 통해, 새로운 문장이 들어왔을 때의 결과를 추론합니다. "
      ]
    },
    {
      "cell_type": "code",
      "metadata": {
        "id": "pOrvZKfVm0VL"
      },
      "source": [
        "label_index = pd.DataFrame({'intent' : intent_data_train, 'label' : intent_data_label_train})\n",
        "\n",
        "df_index_small = pd.DataFrame(columns=['intent', 'label'])\n",
        "j = 0\n",
        "for i in label_index.intent.unique():\n",
        "    df_index_small.loc[j] = label_index[label_index.intent==i].iloc[0]\n",
        "    j = j+1"
      ],
      "execution_count": 76,
      "outputs": []
    },
    {
      "cell_type": "code",
      "metadata": {
        "colab": {
          "base_uri": "https://localhost:8080/",
          "height": 731
        },
        "id": "1SQ_VM18nGL2",
        "outputId": "2e377c43-6b6d-4597-af15-cb1f2107338a"
      },
      "source": [
        "# intent의 label dataframe 생성 \n",
        "df_index_small.sort_values('label', ascending=True)"
      ],
      "execution_count": 79,
      "outputs": [
        {
          "output_type": "execute_result",
          "data": {
            "text/html": [
              "<div>\n",
              "<style scoped>\n",
              "    .dataframe tbody tr th:only-of-type {\n",
              "        vertical-align: middle;\n",
              "    }\n",
              "\n",
              "    .dataframe tbody tr th {\n",
              "        vertical-align: top;\n",
              "    }\n",
              "\n",
              "    .dataframe thead th {\n",
              "        text-align: right;\n",
              "    }\n",
              "</style>\n",
              "<table border=\"1\" class=\"dataframe\">\n",
              "  <thead>\n",
              "    <tr style=\"text-align: right;\">\n",
              "      <th></th>\n",
              "      <th>intent</th>\n",
              "      <th>label</th>\n",
              "    </tr>\n",
              "  </thead>\n",
              "  <tbody>\n",
              "    <tr>\n",
              "      <th>8</th>\n",
              "      <td>abbreviation</td>\n",
              "      <td>0</td>\n",
              "    </tr>\n",
              "    <tr>\n",
              "      <th>3</th>\n",
              "      <td>aircraft</td>\n",
              "      <td>1</td>\n",
              "    </tr>\n",
              "    <tr>\n",
              "      <th>21</th>\n",
              "      <td>aircraft+flight+flight_no</td>\n",
              "      <td>2</td>\n",
              "    </tr>\n",
              "    <tr>\n",
              "      <th>2</th>\n",
              "      <td>airfare</td>\n",
              "      <td>3</td>\n",
              "    </tr>\n",
              "    <tr>\n",
              "      <th>19</th>\n",
              "      <td>airfare+flight_time</td>\n",
              "      <td>5</td>\n",
              "    </tr>\n",
              "    <tr>\n",
              "      <th>6</th>\n",
              "      <td>airline</td>\n",
              "      <td>6</td>\n",
              "    </tr>\n",
              "    <tr>\n",
              "      <th>17</th>\n",
              "      <td>airline+flight_no</td>\n",
              "      <td>7</td>\n",
              "    </tr>\n",
              "    <tr>\n",
              "      <th>5</th>\n",
              "      <td>airport</td>\n",
              "      <td>8</td>\n",
              "    </tr>\n",
              "    <tr>\n",
              "      <th>13</th>\n",
              "      <td>capacity</td>\n",
              "      <td>9</td>\n",
              "    </tr>\n",
              "    <tr>\n",
              "      <th>20</th>\n",
              "      <td>cheapest</td>\n",
              "      <td>10</td>\n",
              "    </tr>\n",
              "    <tr>\n",
              "      <th>11</th>\n",
              "      <td>city</td>\n",
              "      <td>11</td>\n",
              "    </tr>\n",
              "    <tr>\n",
              "      <th>7</th>\n",
              "      <td>distance</td>\n",
              "      <td>13</td>\n",
              "    </tr>\n",
              "    <tr>\n",
              "      <th>0</th>\n",
              "      <td>flight</td>\n",
              "      <td>14</td>\n",
              "    </tr>\n",
              "    <tr>\n",
              "      <th>14</th>\n",
              "      <td>flight+airfare</td>\n",
              "      <td>15</td>\n",
              "    </tr>\n",
              "    <tr>\n",
              "      <th>12</th>\n",
              "      <td>flight_no</td>\n",
              "      <td>17</td>\n",
              "    </tr>\n",
              "    <tr>\n",
              "      <th>1</th>\n",
              "      <td>flight_time</td>\n",
              "      <td>19</td>\n",
              "    </tr>\n",
              "    <tr>\n",
              "      <th>9</th>\n",
              "      <td>ground_fare</td>\n",
              "      <td>20</td>\n",
              "    </tr>\n",
              "    <tr>\n",
              "      <th>4</th>\n",
              "      <td>ground_service</td>\n",
              "      <td>21</td>\n",
              "    </tr>\n",
              "    <tr>\n",
              "      <th>18</th>\n",
              "      <td>ground_service+ground_fare</td>\n",
              "      <td>22</td>\n",
              "    </tr>\n",
              "    <tr>\n",
              "      <th>15</th>\n",
              "      <td>meal</td>\n",
              "      <td>23</td>\n",
              "    </tr>\n",
              "    <tr>\n",
              "      <th>10</th>\n",
              "      <td>quantity</td>\n",
              "      <td>24</td>\n",
              "    </tr>\n",
              "    <tr>\n",
              "      <th>16</th>\n",
              "      <td>restriction</td>\n",
              "      <td>25</td>\n",
              "    </tr>\n",
              "  </tbody>\n",
              "</table>\n",
              "</div>"
            ],
            "text/plain": [
              "                        intent label\n",
              "8   abbreviation                0   \n",
              "3   aircraft                    1   \n",
              "21  aircraft+flight+flight_no   2   \n",
              "2   airfare                     3   \n",
              "19  airfare+flight_time         5   \n",
              "6   airline                     6   \n",
              "17  airline+flight_no           7   \n",
              "5   airport                     8   \n",
              "13  capacity                    9   \n",
              "20  cheapest                    10  \n",
              "11  city                        11  \n",
              "7   distance                    13  \n",
              "0   flight                      14  \n",
              "14  flight+airfare              15  \n",
              "12  flight_no                   17  \n",
              "1   flight_time                 19  \n",
              "9   ground_fare                 20  \n",
              "4   ground_service              21  \n",
              "18  ground_service+ground_fare  22  \n",
              "15  meal                        23  \n",
              "10  quantity                    24  \n",
              "16  restriction                 25  "
            ]
          },
          "metadata": {
            "tags": []
          },
          "execution_count": 79
        }
      ]
    },
    {
      "cell_type": "code",
      "metadata": {
        "id": "LLBIpXZ0kFSp"
      },
      "source": [
        "# 입력 데이터 변환\n",
        "def convert_input_data(sentences):\n",
        "\n",
        "    # tokenizing \n",
        "    tokenized_texts = [tokenizer.tokenize(sent) for sent in sentences]\n",
        "\n",
        "    MAX_LEN = 128\n",
        "    input_ids = [tokenizer.convert_tokens_to_ids(x) for x in tokenized_texts]\n",
        "    \n",
        "    # padding\n",
        "    input_ids = pad_sequences(input_ids, maxlen=MAX_LEN, dtype=\"long\", truncating=\"post\", padding=\"post\")\n",
        "\n",
        "    # attention mask \n",
        "    attention_masks = []\n",
        "\n",
        "    for seq in input_ids:\n",
        "        seq_mask = [float(i>0) for i in seq]\n",
        "        attention_masks.append(seq_mask)\n",
        "\n",
        "    # to pytorch tensor \n",
        "    inputs = torch.tensor(input_ids)\n",
        "    masks = torch.tensor(attention_masks)\n",
        "\n",
        "    return inputs, masks"
      ],
      "execution_count": 80,
      "outputs": []
    },
    {
      "cell_type": "code",
      "metadata": {
        "id": "WDLPbIzUnxac"
      },
      "source": [
        "# 문장 테스트\n",
        "def test_sentences(sentences):\n",
        "\n",
        "    model.eval()\n",
        "\n",
        "    # 문장을 입력 데이터로 변환합니다. \n",
        "    inputs, masks = convert_input_data(sentences)\n",
        "\n",
        "    # 데이터를 GPU에 올립니다. \n",
        "    b_input_ids = inputs.to(device)\n",
        "    b_input_mask = masks.to(device)\n",
        "\n",
        "\n",
        "    # inference  \n",
        "    with torch.no_grad():     \n",
        "        outputs = model(b_input_ids, \n",
        "                        token_type_ids=None, \n",
        "                        attention_mask=b_input_mask)\n",
        "\n",
        "    # prediction \n",
        "    logits = outputs.detach().cpu().numpy()\n",
        "\n",
        "    # output \n",
        "    result = df_index_small[df_index_small[\"label\"] == np.argmax(logits)][\"intent\"][0]\n",
        "\n",
        "    print(\"* intent *\")\n",
        "\n",
        "    return result"
      ],
      "execution_count": 89,
      "outputs": []
    },
    {
      "cell_type": "code",
      "metadata": {
        "colab": {
          "base_uri": "https://localhost:8080/",
          "height": 52
        },
        "id": "QgOv3rHtoKsc",
        "outputId": "a61f46af-eb77-4c92-d1dd-f185b60e2041"
      },
      "source": [
        "test_sentences(['What is the Cheapest Flight from San Francisco to Boston?'])"
      ],
      "execution_count": 90,
      "outputs": [
        {
          "output_type": "stream",
          "text": [
            "* intent *\n"
          ],
          "name": "stdout"
        },
        {
          "output_type": "execute_result",
          "data": {
            "application/vnd.google.colaboratory.intrinsic+json": {
              "type": "string"
            },
            "text/plain": [
              "'flight'"
            ]
          },
          "metadata": {
            "tags": []
          },
          "execution_count": 90
        }
      ]
    },
    {
      "cell_type": "markdown",
      "metadata": {
        "id": "evB5pzZ9f4_G"
      },
      "source": [
        "## 참고자료\n",
        "* BERT-for-dummies : https://towardsdatascience.com/bert-for-dummies-step-by-step-tutorial-fb90890ffe03 \n",
        "* BERT 톺아보기 : http://docs.likejazz.com/bert/"
      ]
    }
  ]
}