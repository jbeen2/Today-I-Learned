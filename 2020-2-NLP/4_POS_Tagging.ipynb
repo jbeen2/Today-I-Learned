{
  "nbformat": 4,
  "nbformat_minor": 0,
  "metadata": {
    "colab": {
      "name": "4-POS-Tagging.ipynb",
      "provenance": [],
      "collapsed_sections": [],
      "authorship_tag": "ABX9TyM14liDQX9c6+gDCq1o6uo5",
      "include_colab_link": true
    },
    "kernelspec": {
      "name": "python3",
      "display_name": "Python 3"
    },
    "accelerator": "GPU"
  },
  "cells": [
    {
      "cell_type": "markdown",
      "metadata": {
        "id": "view-in-github",
        "colab_type": "text"
      },
      "source": [
        "<a href=\"https://colab.research.google.com/github/jbeen2/Today-I-Learned/blob/main/2020-2-NLP/4_POS_Tagging.ipynb\" target=\"_parent\"><img src=\"https://colab.research.google.com/assets/colab-badge.svg\" alt=\"Open In Colab\"/></a>"
      ]
    },
    {
      "cell_type": "markdown",
      "metadata": {
        "id": "ZOk7XuFL-WRw"
      },
      "source": [
        "# POS Tagging \n",
        "* POS : Part Of Speech\n",
        "* the process of classifying words into their parts of speech\n",
        "* ex) Noun, Verb, Adjective, Adverb, Pronoun, …"
      ]
    },
    {
      "cell_type": "markdown",
      "metadata": {
        "id": "R77UkBMnGx31"
      },
      "source": [
        "## 0. POS Tagging "
      ]
    },
    {
      "cell_type": "markdown",
      "metadata": {
        "id": "y-ifFnv_HisH"
      },
      "source": [
        "### 1) Picking a Corpus to train the POS tagger\n",
        "* using [Penn Treebank tagset](https://www.ling.upenn.edu/courses/Fall_2003/ling001/penn_treebank_pos.html) \n",
        "* Most of the already trained taggers for English are trained on this tag set"
      ]
    },
    {
      "cell_type": "code",
      "metadata": {
        "colab": {
          "base_uri": "https://localhost:8080/"
        },
        "id": "KYnJP7gfGxoe",
        "outputId": "8c794de8-41ad-428c-d268-c9fde5d9a841"
      },
      "source": [
        "# download corpus\n",
        "import nltk\n",
        "nltk.download('treebank') "
      ],
      "execution_count": 1,
      "outputs": [
        {
          "output_type": "stream",
          "text": [
            "[nltk_data] Downloading package treebank to /root/nltk_data...\n",
            "[nltk_data]   Package treebank is already up-to-date!\n"
          ],
          "name": "stdout"
        },
        {
          "output_type": "execute_result",
          "data": {
            "text/plain": [
              "True"
            ]
          },
          "metadata": {
            "tags": []
          },
          "execution_count": 1
        }
      ]
    },
    {
      "cell_type": "code",
      "metadata": {
        "id": "sxASmkp4GxlW"
      },
      "source": [
        "from nltk.corpus import treebank\n",
        "sentences = treebank.tagged_sents()"
      ],
      "execution_count": 2,
      "outputs": []
    },
    {
      "cell_type": "code",
      "metadata": {
        "colab": {
          "base_uri": "https://localhost:8080/"
        },
        "id": "Upltdi_KIDE3",
        "outputId": "aa8fd255-63de-455a-bbd4-4f0963fcf04a"
      },
      "source": [
        "print(sentences[0])\n",
        "print(\"Tagged sentences: \", len(sentences))\n",
        "print(\"Tagged words:\", len(treebank.tagged_words()))"
      ],
      "execution_count": 4,
      "outputs": [
        {
          "output_type": "stream",
          "text": [
            "[('Pierre', 'NNP'), ('Vinken', 'NNP'), (',', ','), ('61', 'CD'), ('years', 'NNS'), ('old', 'JJ'), (',', ','), ('will', 'MD'), ('join', 'VB'), ('the', 'DT'), ('board', 'NN'), ('as', 'IN'), ('a', 'DT'), ('nonexecutive', 'JJ'), ('director', 'NN'), ('Nov.', 'NNP'), ('29', 'CD'), ('.', '.')]\n",
            "Tagged sentences:  3914\n",
            "Tagged words: 100676\n"
          ],
          "name": "stdout"
        }
      ]
    },
    {
      "cell_type": "code",
      "metadata": {
        "colab": {
          "base_uri": "https://localhost:8080/"
        },
        "id": "q6Y82lrjIrhw",
        "outputId": "c9113d02-16d5-416d-b7bd-8623cedfa041"
      },
      "source": [
        "tags = set([\n",
        "    tag for sentence in treebank.tagged_sents() \n",
        "    for _, tag in sentence\n",
        "])\n",
        "\n",
        "print('nb_tags: %s\\ntags: %s' % (len(tags), tags))"
      ],
      "execution_count": 3,
      "outputs": [
        {
          "output_type": "stream",
          "text": [
            "nb_tags: 46\n",
            "tags: {'POS', 'PRP$', 'NN', 'VB', 'VBG', 'NNPS', 'NNP', 'PDT', 'UH', 'VBZ', 'VBP', 'RP', 'VBN', '-RRB-', ',', 'RB', 'DT', 'RBR', 'SYM', 'IN', '#', '``', '.', 'JJS', 'JJR', 'VBD', 'CD', 'WDT', 'TO', 'PRP', '-LRB-', 'WP$', 'LS', 'EX', 'RBS', 'JJ', 'NNS', 'FW', ':', 'MD', '-NONE-', 'WP', 'CC', \"''\", 'WRB', '$'}\n"
          ],
          "name": "stdout"
        }
      ]
    },
    {
      "cell_type": "markdown",
      "metadata": {
        "id": "MGWM1zipIcWC"
      },
      "source": [
        "### 2) Feature Engineering \n",
        "* To catch **Characteristic of the word** \n",
        "* 2-letter suffix is a great indicator of **past-tense verbs**, ending in **“-ed”**.\n",
        "* 3-letter suffix helps recognize the **present** participle ending in **“-ing”**."
      ]
    },
    {
      "cell_type": "code",
      "metadata": {
        "id": "uRVeNGVRJUNq"
      },
      "source": [
        "def add_basic_features(sentence_terms, index):\n",
        "\n",
        "    \"\"\" Compute some very basic word features.\n",
        "        :param sentence_terms: [w1, w2, ...] \n",
        "        :type sentence_terms: list\n",
        "        :param index: the index of the word \n",
        "        :type index: int\n",
        "        :return: dict containing features\n",
        "        :rtype: dict\n",
        "    \"\"\"\n",
        "\n",
        "    term = sentence_terms[index]\n",
        "\n",
        "    return {\n",
        "        'nb_terms': len(sentence_terms),                # word length \n",
        "        'term': term,                                   # the word itself \n",
        "        'is_first': index == 0,                         # First or not (T/F)\n",
        "        'is_last': index == len(sentence_terms) - 1,    # Last or not \n",
        "        'is_capitalized': term[0].upper() == term[0],   # Capitalized or not \n",
        "        'is_all_caps': term.upper() == term,            # All of the letters are Capitalized or not \n",
        "        'is_all_lower': term.lower() == term,           # All of the letters are Lowercased or not \n",
        "        'prefix-1': term[0],                            # First Letter \n",
        "        'prefix-2': term[:2],                           # ~Second Letter \n",
        "        'prefix-3': term[:3],                           # ~Third Letter \n",
        "        'suffix-1': term[-1],                           # Last Letter \n",
        "        'suffix-2': term[-2:],                          # The Second Letter form the end \n",
        "        'suffix-3': term[-3:],                          # The Third Letter from the end \n",
        "        'prev_word': '' if index == 0 else sentence_terms[index - 1],       # Previous word \n",
        "        'next_word': '' if index == len(sentence_terms) - 1 else sentence_terms[index + 1],      # Next word \n",
        "        'has_hyphen': '-' in sentence_terms[index],\n",
        "        'is_numeric': sentence_terms[index].isdigit(),\n",
        "        'capitals_inside': sentence_terms[index][1:].lower() != sentence_terms[index][1:]\n",
        "    }"
      ],
      "execution_count": 3,
      "outputs": []
    },
    {
      "cell_type": "code",
      "metadata": {
        "colab": {
          "base_uri": "https://localhost:8080/"
        },
        "id": "VeU2NoMMNjcz",
        "outputId": "f69d16e9-0f1b-4382-bd62-c9b32910d0b9"
      },
      "source": [
        "# example : \"burning\"\n",
        "add_basic_features([\"I\", \"am\", \"burning\", \"in\", \"NLP\"], 2)"
      ],
      "execution_count": 4,
      "outputs": [
        {
          "output_type": "execute_result",
          "data": {
            "text/plain": [
              "{'capitals_inside': False,\n",
              " 'has_hyphen': False,\n",
              " 'is_all_caps': False,\n",
              " 'is_all_lower': True,\n",
              " 'is_capitalized': False,\n",
              " 'is_first': False,\n",
              " 'is_last': False,\n",
              " 'is_numeric': False,\n",
              " 'nb_terms': 5,\n",
              " 'next_word': 'in',\n",
              " 'prefix-1': 'b',\n",
              " 'prefix-2': 'bu',\n",
              " 'prefix-3': 'bur',\n",
              " 'prev_word': 'am',\n",
              " 'suffix-1': 'g',\n",
              " 'suffix-2': 'ng',\n",
              " 'suffix-3': 'ing',\n",
              " 'term': 'burning'}"
            ]
          },
          "metadata": {
            "tags": []
          },
          "execution_count": 4
        }
      ]
    },
    {
      "cell_type": "code",
      "metadata": {
        "id": "q_TlWyxGOBNk"
      },
      "source": [
        "# strip the tags from our tagged corpus\n",
        "def untag(tagged_sentence):\n",
        "\n",
        "    \"\"\" \n",
        "    Remove the tag for each tagged term.\n",
        "    :param tagged_sentence: a POS tagged sentence\n",
        "    :type tagged_sentence: list\n",
        "    :return: a list of tags\n",
        "    :rtype: list of strings\n",
        "    \"\"\"\n",
        "\n",
        "    return [w for w, _ in tagged_sentence]"
      ],
      "execution_count": 5,
      "outputs": []
    },
    {
      "cell_type": "markdown",
      "metadata": {
        "id": "ilqtwQd1N5zc"
      },
      "source": [
        "### 3) Split the Dataset for training and testing\n",
        "* train : test = 80 : 20 \n",
        "* train : val  = 75 : 25"
      ]
    },
    {
      "cell_type": "code",
      "metadata": {
        "id": "IScGAHSKN5jZ"
      },
      "source": [
        "# train, test split \n",
        "train_test_cutoff = int(.80 * len(sentences)) \n",
        "training_sentences = sentences[:train_test_cutoff]\n",
        "testing_sentences = sentences[train_test_cutoff:]\n",
        "\n",
        "# train, validation split \n",
        "train_val_cutoff = int(.25 * len(training_sentences))\n",
        "validation_sentences = training_sentences[:train_val_cutoff]\n",
        "training_sentences = training_sentences[train_val_cutoff:]"
      ],
      "execution_count": 6,
      "outputs": []
    },
    {
      "cell_type": "code",
      "metadata": {
        "colab": {
          "base_uri": "https://localhost:8080/"
        },
        "id": "-m3KvZLxN5gY",
        "outputId": "550d1273-50c3-4e2e-9300-3f23d0c10529"
      },
      "source": [
        "print(\"train : \", len(training_sentences))\n",
        "print(\"validation : \", len(validation_sentences))\n",
        "print(\"test : \", len(testing_sentences))"
      ],
      "execution_count": 7,
      "outputs": [
        {
          "output_type": "stream",
          "text": [
            "train :  2349\n",
            "validation :  782\n",
            "test :  783\n"
          ],
          "name": "stdout"
        }
      ]
    },
    {
      "cell_type": "code",
      "metadata": {
        "id": "prIub15XN5d5"
      },
      "source": [
        "def transform_to_dataset(tagged_sentences):\n",
        "\n",
        "    \"\"\"\n",
        "    Split tagged sentences to X and y datasets and append some basic features.\n",
        "    :param tagged_sentences: a list of POS tagged sentences\n",
        "    :param tagged_sentences: list of list of tuples (term_i, tag_i)\n",
        "    :return: \n",
        "    \"\"\"\n",
        "\n",
        "    X, y = [], []\n",
        "\n",
        "    for pos_tags in tagged_sentences:\n",
        "            for index, (term, class_) in enumerate(pos_tags):\n",
        "                # Add basic NLP features for each sentence term\n",
        "                X.append(add_basic_features(untag(pos_tags), index))\n",
        "                y.append(class_)\n",
        "                \n",
        "    return X, y"
      ],
      "execution_count": 8,
      "outputs": []
    },
    {
      "cell_type": "code",
      "metadata": {
        "id": "l5JJfTw5P5QM"
      },
      "source": [
        "X_train, y_train = transform_to_dataset(training_sentences)\n",
        "X_val, y_val = transform_to_dataset(validation_sentences)\n",
        "X_test, y_test = transform_to_dataset(testing_sentences)"
      ],
      "execution_count": 9,
      "outputs": []
    },
    {
      "cell_type": "code",
      "metadata": {
        "colab": {
          "base_uri": "https://localhost:8080/"
        },
        "id": "aHK4sbhXQAlm",
        "outputId": "289c0af9-ef49-4b81-fea3-dc6be67cb696"
      },
      "source": [
        "X_train[0]"
      ],
      "execution_count": 13,
      "outputs": [
        {
          "output_type": "execute_result",
          "data": {
            "text/plain": [
              "{'capitals_inside': False,\n",
              " 'has_hyphen': False,\n",
              " 'is_all_caps': False,\n",
              " 'is_all_lower': False,\n",
              " 'is_capitalized': True,\n",
              " 'is_first': True,\n",
              " 'is_last': False,\n",
              " 'is_numeric': False,\n",
              " 'nb_terms': 28,\n",
              " 'next_word': 'Ward',\n",
              " 'prefix-1': 'M',\n",
              " 'prefix-2': 'Mr',\n",
              " 'prefix-3': 'Mrs',\n",
              " 'prev_word': '',\n",
              " 'suffix-1': '.',\n",
              " 'suffix-2': 's.',\n",
              " 'suffix-3': 'rs.',\n",
              " 'term': 'Mrs.'}"
            ]
          },
          "metadata": {
            "tags": []
          },
          "execution_count": 13
        }
      ]
    },
    {
      "cell_type": "code",
      "metadata": {
        "colab": {
          "base_uri": "https://localhost:8080/",
          "height": 35
        },
        "id": "jG4QtnPwQQba",
        "outputId": "03a86e5c-9b01-4c46-d791-43dbeca678b1"
      },
      "source": [
        "y_train[0]"
      ],
      "execution_count": 14,
      "outputs": [
        {
          "output_type": "execute_result",
          "data": {
            "application/vnd.google.colaboratory.intrinsic+json": {
              "type": "string"
            },
            "text/plain": [
              "'NNP'"
            ]
          },
          "metadata": {
            "tags": []
          },
          "execution_count": 14
        }
      ]
    },
    {
      "cell_type": "code",
      "metadata": {
        "colab": {
          "base_uri": "https://localhost:8080/"
        },
        "id": "hBB7u1HhQWR1",
        "outputId": "b556fb34-87a8-44bb-dd01-1ae4e00607b3"
      },
      "source": [
        "print(\"train : \", len(X_train))\n",
        "print(\"validation : \", len(X_val))\n",
        "print(\"test : \", len(X_test))"
      ],
      "execution_count": 10,
      "outputs": [
        {
          "output_type": "stream",
          "text": [
            "train :  61107\n",
            "validation :  19530\n",
            "test :  20039\n"
          ],
          "name": "stdout"
        }
      ]
    },
    {
      "cell_type": "markdown",
      "metadata": {
        "id": "k89tXXLF-5eV"
      },
      "source": [
        "## 1. Machine Learning based POS Tagging \n",
        "* https://nlpforhackers.io/training-pos-tagger/\n",
        "* Decision Tree \n"
      ]
    },
    {
      "cell_type": "code",
      "metadata": {
        "id": "xA99SN-3-NqI"
      },
      "source": [
        "from sklearn.tree import DecisionTreeClassifier\n",
        "from sklearn.feature_extraction import DictVectorizer\n",
        "from sklearn.pipeline import Pipeline"
      ],
      "execution_count": 11,
      "outputs": []
    },
    {
      "cell_type": "code",
      "metadata": {
        "id": "pMc76254--m0"
      },
      "source": [
        "clf = Pipeline([\n",
        "    ('vectorizer', DictVectorizer(sparse=False)),\n",
        "    ('classifier', DecisionTreeClassifier(criterion='entropy'))\n",
        "])"
      ],
      "execution_count": 19,
      "outputs": []
    },
    {
      "cell_type": "code",
      "metadata": {
        "colab": {
          "base_uri": "https://localhost:8080/"
        },
        "id": "7EgYCNXxSldC",
        "outputId": "70d9557f-3a90-4f76-d1ac-cf0a79cac141"
      },
      "source": [
        "%%time\n",
        "clf.fit(X_train[:30000], y_train[:30000])"
      ],
      "execution_count": 20,
      "outputs": [
        {
          "output_type": "stream",
          "text": [
            "CPU times: user 53.4 s, sys: 2.52 s, total: 56 s\n",
            "Wall time: 56 s\n"
          ],
          "name": "stdout"
        },
        {
          "output_type": "execute_result",
          "data": {
            "text/plain": [
              "Pipeline(memory=None,\n",
              "         steps=[('vectorizer',\n",
              "                 DictVectorizer(dtype=<class 'numpy.float64'>, separator='=',\n",
              "                                sort=True, sparse=False)),\n",
              "                ('classifier',\n",
              "                 DecisionTreeClassifier(ccp_alpha=0.0, class_weight=None,\n",
              "                                        criterion='entropy', max_depth=None,\n",
              "                                        max_features=None, max_leaf_nodes=None,\n",
              "                                        min_impurity_decrease=0.0,\n",
              "                                        min_impurity_split=None,\n",
              "                                        min_samples_leaf=1, min_samples_split=2,\n",
              "                                        min_weight_fraction_leaf=0.0,\n",
              "                                        presort='deprecated', random_state=None,\n",
              "                                        splitter='best'))],\n",
              "         verbose=False)"
            ]
          },
          "metadata": {
            "tags": []
          },
          "execution_count": 20
        }
      ]
    },
    {
      "cell_type": "code",
      "metadata": {
        "colab": {
          "base_uri": "https://localhost:8080/"
        },
        "id": "VDYm4db9Stib",
        "outputId": "c279efd9-3209-4233-e20f-b2f75c936147"
      },
      "source": [
        "# Accuracy \n",
        "clf.score(X_test, y_test)"
      ],
      "execution_count": 21,
      "outputs": [
        {
          "output_type": "execute_result",
          "data": {
            "text/plain": [
              "0.9181595888018365"
            ]
          },
          "metadata": {
            "tags": []
          },
          "execution_count": 21
        }
      ]
    },
    {
      "cell_type": "code",
      "metadata": {
        "id": "xVDuQIx2TRoc"
      },
      "source": [
        "# Predict with our Classifier \n",
        "def postag(sentence):\n",
        "    tags = clf.predict([add_basic_features(sentence, index) for index in range(len(sentence))])\n",
        "    tagged_sentence = list(map(list, zip(sentence, tags)))\n",
        "    return tagged_sentence"
      ],
      "execution_count": 12,
      "outputs": []
    },
    {
      "cell_type": "code",
      "metadata": {
        "colab": {
          "base_uri": "https://localhost:8080/"
        },
        "id": "wf4zt3elXRts",
        "outputId": "8147553a-230b-4b82-b972-6ab70e38cbd6"
      },
      "source": [
        "from nltk import word_tokenize\n",
        "nltk.download('punkt')"
      ],
      "execution_count": 13,
      "outputs": [
        {
          "output_type": "stream",
          "text": [
            "[nltk_data] Downloading package punkt to /root/nltk_data...\n",
            "[nltk_data]   Package punkt is already up-to-date!\n"
          ],
          "name": "stdout"
        },
        {
          "output_type": "execute_result",
          "data": {
            "text/plain": [
              "True"
            ]
          },
          "metadata": {
            "tags": []
          },
          "execution_count": 13
        }
      ]
    },
    {
      "cell_type": "code",
      "metadata": {
        "id": "chtFhpZYTXO7"
      },
      "source": [
        "text = \"It's 2AM, so I am about to going to my bed.\""
      ],
      "execution_count": 39,
      "outputs": []
    },
    {
      "cell_type": "code",
      "metadata": {
        "colab": {
          "base_uri": "https://localhost:8080/"
        },
        "id": "3_aXzBR7XhAC",
        "outputId": "437618b0-33e4-43b8-ace3-3b5deaebd8a5"
      },
      "source": [
        "# text 에 대해 ML model로 POS tagging 한 결과 \n",
        "postag(word_tokenize(text))"
      ],
      "execution_count": 39,
      "outputs": [
        {
          "output_type": "execute_result",
          "data": {
            "text/plain": [
              "[['I', 'PRP'],\n",
              " ['am', 'NN'],\n",
              " ['about', 'IN'],\n",
              " ['to', 'TO'],\n",
              " ['going', 'VBG'],\n",
              " ['to', 'TO'],\n",
              " ['my', 'VB'],\n",
              " ['bed', 'VBN'],\n",
              " ['.', '.']]"
            ]
          },
          "metadata": {
            "tags": []
          },
          "execution_count": 39
        }
      ]
    },
    {
      "cell_type": "markdown",
      "metadata": {
        "id": "ukqTlXWV-_BD"
      },
      "source": [
        "## 2. DeepLearning based POS Tagging\n",
        "* https://becominghuman.ai/part-of-speech-tagging-tutorial-with-the-keras-deep-learning-library-d7f93fa05537 "
      ]
    },
    {
      "cell_type": "markdown",
      "metadata": {
        "id": "QqvxV4oYwqDu"
      },
      "source": [
        "### 1) Data Preprocessing "
      ]
    },
    {
      "cell_type": "code",
      "metadata": {
        "id": "UF5Tmm55ZYNp"
      },
      "source": [
        "# RAM이 계속 터져서 어쩔 수 없이 데이터의 일부만 사용하였습니다. \n",
        "X_train_, y_train_ = X_train[:10000], y_train[:10000] \n",
        "X_val_, y_val_ = X_val[:2000], y_val[:2000] \n",
        "X_test_, y_test_ = X_test[:2000], y_test[:2000] "
      ],
      "execution_count": 14,
      "outputs": []
    },
    {
      "cell_type": "code",
      "metadata": {
        "colab": {
          "base_uri": "https://localhost:8080/"
        },
        "id": "gMHi_JebYg_x",
        "outputId": "319c74d1-06a0-4648-deb6-2b4579f896ea"
      },
      "source": [
        "# Fit our DictVectorizer with our set of features\n",
        "dict_vectorizer = DictVectorizer(sparse=False)\n",
        "dict_vectorizer.fit(X_train_ + X_test_ + X_val_)"
      ],
      "execution_count": 15,
      "outputs": [
        {
          "output_type": "execute_result",
          "data": {
            "text/plain": [
              "DictVectorizer(dtype=<class 'numpy.float64'>, separator='=', sort=True,\n",
              "               sparse=False)"
            ]
          },
          "metadata": {
            "tags": []
          },
          "execution_count": 15
        }
      ]
    },
    {
      "cell_type": "code",
      "metadata": {
        "id": "aIn993bU_KsK"
      },
      "source": [
        "# Convert dict features to vectors\n",
        "X_train_ = dict_vectorizer.transform(X_train_)\n",
        "X_test_ = dict_vectorizer.transform(X_test_)\n",
        "X_val_ = dict_vectorizer.transform(X_val_)"
      ],
      "execution_count": 16,
      "outputs": []
    },
    {
      "cell_type": "code",
      "metadata": {
        "colab": {
          "base_uri": "https://localhost:8080/"
        },
        "id": "umqViMa7aj4p",
        "outputId": "aae4e835-ea2f-4dc0-d58d-f5cffd1c1266"
      },
      "source": [
        "from sklearn.preprocessing import LabelEncoder\n",
        "\n",
        "# Fit LabelEncoder with our list of classes\n",
        "label_encoder = LabelEncoder()\n",
        "label_encoder.fit(y_train_ + y_test_ + y_val_)"
      ],
      "execution_count": 17,
      "outputs": [
        {
          "output_type": "execute_result",
          "data": {
            "text/plain": [
              "LabelEncoder()"
            ]
          },
          "metadata": {
            "tags": []
          },
          "execution_count": 17
        }
      ]
    },
    {
      "cell_type": "code",
      "metadata": {
        "id": "n4X5GGfUv5zi"
      },
      "source": [
        "# Encode class values as integers\n",
        "y_train_ = label_encoder.transform(y_train_)\n",
        "y_test_ = label_encoder.transform(y_test_)\n",
        "y_val_ = label_encoder.transform(y_val_)"
      ],
      "execution_count": 18,
      "outputs": []
    },
    {
      "cell_type": "code",
      "metadata": {
        "colab": {
          "base_uri": "https://localhost:8080/"
        },
        "id": "rL6WE65KwE1-",
        "outputId": "2e2ffff5-23b0-4bd3-b1db-9f176da28e55"
      },
      "source": [
        "print(\"train : \", X_train_.shape, y_train_.shape)\n",
        "print(\"validation : \", X_val_.shape, y_val_.shape)\n",
        "print(\"test : \", X_test_.shape, y_test_.shape)"
      ],
      "execution_count": 19,
      "outputs": [
        {
          "output_type": "stream",
          "text": [
            "train :  (10000, 14577) (10000,)\n",
            "validation :  (2000, 14577) (2000,)\n",
            "test :  (2000, 14577) (2000,)\n"
          ],
          "name": "stdout"
        }
      ]
    },
    {
      "cell_type": "code",
      "metadata": {
        "id": "HItzAqVGwHGT"
      },
      "source": [
        "# Convert integers to dummy variables (one hot encoded)\n",
        "from keras.utils import np_utils\n",
        "\n",
        "y_train_ = np_utils.to_categorical(y_train_)\n",
        "y_test_ = np_utils.to_categorical(y_test_)\n",
        "y_val_ = np_utils.to_categorical(y_val_)"
      ],
      "execution_count": 20,
      "outputs": []
    },
    {
      "cell_type": "markdown",
      "metadata": {
        "id": "PA8nSGAPwsaq"
      },
      "source": [
        "### 2) Modeling "
      ]
    },
    {
      "cell_type": "code",
      "metadata": {
        "id": "gUxXQ9RHwfHx"
      },
      "source": [
        "from keras.models import Sequential\n",
        "from keras.layers import Dense, Dropout, Activation\n",
        "\n",
        "def build_model(input_dim, hidden_neurons, output_dim):\n",
        "    \"\"\"\n",
        "    Construct, compile and return a Keras model which will be used to fit/predict\n",
        "    \"\"\"\n",
        "    model = Sequential([\n",
        "        Dense(hidden_neurons, input_dim=input_dim),\n",
        "        Activation('relu'),\n",
        "        Dropout(0.2),\n",
        "        Dense(hidden_neurons),\n",
        "        Activation('relu'),\n",
        "        Dropout(0.2),\n",
        "        Dense(output_dim, activation='softmax')\n",
        "    ])\n",
        "\n",
        "    model.compile(loss='categorical_crossentropy', optimizer='adam', metrics=['accuracy'])\n",
        "    return model"
      ],
      "execution_count": 21,
      "outputs": []
    },
    {
      "cell_type": "code",
      "metadata": {
        "id": "bC8C6SSzwyqU"
      },
      "source": [
        "from keras.wrappers.scikit_learn import KerasClassifier\n",
        "\n",
        "model_params = {\n",
        "    'build_fn': build_model,\n",
        "    'input_dim': X_train_.shape[1],\n",
        "    'hidden_neurons': 512,\n",
        "    'output_dim': y_train_.shape[1],\n",
        "    'epochs': 50,\n",
        "    'batch_size': 256,\n",
        "    'verbose': 1,\n",
        "    'validation_data': (X_val_, y_val_),\n",
        "    'shuffle': True\n",
        "}\n",
        "\n",
        "clf = KerasClassifier(**model_params)"
      ],
      "execution_count": 33,
      "outputs": []
    },
    {
      "cell_type": "code",
      "metadata": {
        "id": "O4FbBci75wiJ"
      },
      "source": [
        "# Early Stopping \n",
        "from keras.callbacks import EarlyStopping\n",
        "early_stopping = EarlyStopping(monitor='val_loss', mode='min', patience=10) "
      ],
      "execution_count": 34,
      "outputs": []
    },
    {
      "cell_type": "code",
      "metadata": {
        "colab": {
          "base_uri": "https://localhost:8080/"
        },
        "id": "n8aaqBr4w9_S",
        "outputId": "49415f6c-dd2c-426f-9be6-aa48d56d87e8"
      },
      "source": [
        "hist = clf.fit(X_train_, y_train_, callbacks=[early_stopping])"
      ],
      "execution_count": 35,
      "outputs": [
        {
          "output_type": "stream",
          "text": [
            "Epoch 1/50\n",
            "40/40 [==============================] - 1s 19ms/step - loss: 2.3541 - accuracy: 0.4437 - val_loss: 1.1251 - val_accuracy: 0.7615\n",
            "Epoch 2/50\n",
            "40/40 [==============================] - 1s 14ms/step - loss: 0.6578 - accuracy: 0.8494 - val_loss: 0.4802 - val_accuracy: 0.8790\n",
            "Epoch 3/50\n",
            "40/40 [==============================] - 1s 14ms/step - loss: 0.2387 - accuracy: 0.9388 - val_loss: 0.3602 - val_accuracy: 0.8950\n",
            "Epoch 4/50\n",
            "40/40 [==============================] - 1s 14ms/step - loss: 0.1115 - accuracy: 0.9742 - val_loss: 0.3346 - val_accuracy: 0.9010\n",
            "Epoch 5/50\n",
            "40/40 [==============================] - 1s 14ms/step - loss: 0.0738 - accuracy: 0.9818 - val_loss: 0.3592 - val_accuracy: 0.8995\n",
            "Epoch 6/50\n",
            "40/40 [==============================] - 1s 14ms/step - loss: 0.0457 - accuracy: 0.9882 - val_loss: 0.3477 - val_accuracy: 0.9045\n",
            "Epoch 7/50\n",
            "40/40 [==============================] - 1s 14ms/step - loss: 0.0342 - accuracy: 0.9919 - val_loss: 0.3562 - val_accuracy: 0.9020\n",
            "Epoch 8/50\n",
            "40/40 [==============================] - 1s 14ms/step - loss: 0.0227 - accuracy: 0.9947 - val_loss: 0.3537 - val_accuracy: 0.9025\n",
            "Epoch 9/50\n",
            "40/40 [==============================] - 1s 13ms/step - loss: 0.0145 - accuracy: 0.9967 - val_loss: 0.3627 - val_accuracy: 0.9030\n",
            "Epoch 10/50\n",
            "40/40 [==============================] - 1s 13ms/step - loss: 0.0136 - accuracy: 0.9964 - val_loss: 0.3644 - val_accuracy: 0.9070\n",
            "Epoch 11/50\n",
            "40/40 [==============================] - 1s 13ms/step - loss: 0.0095 - accuracy: 0.9982 - val_loss: 0.3691 - val_accuracy: 0.9055\n",
            "Epoch 12/50\n",
            "40/40 [==============================] - 1s 13ms/step - loss: 0.0151 - accuracy: 0.9961 - val_loss: 0.3931 - val_accuracy: 0.9015\n",
            "Epoch 13/50\n",
            "40/40 [==============================] - 1s 14ms/step - loss: 0.0089 - accuracy: 0.9983 - val_loss: 0.3874 - val_accuracy: 0.9050\n",
            "Epoch 14/50\n",
            "40/40 [==============================] - 1s 13ms/step - loss: 0.0068 - accuracy: 0.9983 - val_loss: 0.3838 - val_accuracy: 0.9060\n"
          ],
          "name": "stdout"
        }
      ]
    },
    {
      "cell_type": "code",
      "metadata": {
        "colab": {
          "base_uri": "https://localhost:8080/",
          "height": 865
        },
        "id": "hzxljqt1x1g3",
        "outputId": "253b94ac-21e9-42d7-a8a5-db57356185c8"
      },
      "source": [
        "from keras.utils import plot_model\n",
        "plot_model(clf.model, show_shapes=True)"
      ],
      "execution_count": 36,
      "outputs": [
        {
          "output_type": "execute_result",
          "data": {
            "image/png": "[encoded data removed]",
            "text/plain": [
              "<IPython.core.display.Image object>"
            ]
          },
          "metadata": {
            "tags": []
          },
          "execution_count": 36
        }
      ]
    },
    {
      "cell_type": "code",
      "metadata": {
        "id": "zFbE7eU1xB--"
      },
      "source": [
        "import matplotlib.pyplot as plt\n",
        "\n",
        "def plot_model_performance(train_loss, train_acc, train_val_loss, train_val_acc):\n",
        "    \"\"\" Plot model loss and accuracy through epochs. \"\"\"\n",
        "    blue= '#34495E'\n",
        "    green = '#2ECC71'\n",
        "    orange = '#E23B13'\n",
        "\n",
        "    # plot model loss\n",
        "    fig, (ax1, ax2) = plt.subplots(2, figsize=(10, 8))\n",
        "    ax1.plot(range(1, len(train_loss) + 1), train_loss, blue, linewidth=5, label='training')\n",
        "    ax1.plot(range(1, len(train_val_loss) + 1), train_val_loss, green, linewidth=5, label='validation')\n",
        "    ax1.set_xlabel('# epoch')\n",
        "    ax1.set_ylabel('loss')\n",
        "    ax1.tick_params('y')\n",
        "    ax1.legend(loc='upper right', shadow=False)\n",
        "    ax1.set_title('Model loss through #epochs', color=orange, fontweight='bold')\n",
        "    \n",
        "    # plot model accuracy\n",
        "    ax2.plot(range(1, len(train_acc) + 1), train_acc, blue, linewidth=5, label='training')\n",
        "    ax2.plot(range(1, len(train_val_acc) + 1), train_val_acc, green, linewidth=5, label='validation')\n",
        "    ax2.set_xlabel('# epoch')\n",
        "    ax2.set_ylabel('accuracy')\n",
        "    ax2.tick_params('y')\n",
        "    ax2.legend(loc='lower right', shadow=False)\n",
        "    ax2.set_title('Model accuracy through #epochs', color=orange, fontweight='bold')"
      ],
      "execution_count": 26,
      "outputs": []
    },
    {
      "cell_type": "code",
      "metadata": {
        "colab": {
          "base_uri": "https://localhost:8080/",
          "height": 513
        },
        "id": "pKjUozJPxuXg",
        "outputId": "650032eb-da64-4b65-8c14-673000fe85c6"
      },
      "source": [
        "plot_model_performance(\n",
        "    train_loss=hist.history.get('loss', []),\n",
        "    train_acc=hist.history.get('accuracy', []),\n",
        "    train_val_loss=hist.history.get('val_loss', []),\n",
        "    train_val_acc=hist.history.get('val_accuracy', [])\n",
        ")"
      ],
      "execution_count": 37,
      "outputs": [
        {
          "output_type": "display_data",
          "data": {
            "image/png": "[encoded data removed]",
            "text/plain": [
              "<Figure size 720x576 with 2 Axes>"
            ]
          },
          "metadata": {
            "tags": [],
            "needs_background": "light"
          }
        }
      ]
    },
    {
      "cell_type": "code",
      "metadata": {
        "colab": {
          "base_uri": "https://localhost:8080/"
        },
        "id": "YlGHxkn8xxQ4",
        "outputId": "0ed57752-22d9-4b0d-8e2e-1ff4f5369a58"
      },
      "source": [
        "score = clf.score(X_test_, y_test_)\n",
        "print(score)"
      ],
      "execution_count": 38,
      "outputs": [
        {
          "output_type": "stream",
          "text": [
            "8/8 [==============================] - 0s 9ms/step - loss: 0.3795 - accuracy: 0.9115\n",
            "0.9114999771118164\n"
          ],
          "name": "stdout"
        }
      ]
    },
    {
      "cell_type": "code",
      "metadata": {
        "colab": {
          "base_uri": "https://localhost:8080/",
          "height": 35
        },
        "id": "P5r6GHED-4Ol",
        "outputId": "f0ee559d-20a0-4417-ee27-8547a1917720"
      },
      "source": [
        "text"
      ],
      "execution_count": 51,
      "outputs": [
        {
          "output_type": "execute_result",
          "data": {
            "application/vnd.google.colaboratory.intrinsic+json": {
              "type": "string"
            },
            "text/plain": [
              "\"It's 2AM, so I am about to going to my bed.\""
            ]
          },
          "metadata": {
            "tags": []
          },
          "execution_count": 51
        }
      ]
    },
    {
      "cell_type": "code",
      "metadata": {
        "colab": {
          "base_uri": "https://localhost:8080/"
        },
        "id": "txDxMClj9K29",
        "outputId": "d16b6d37-9cc0-4c60-ac0c-04b4b176eed4"
      },
      "source": [
        "# text 에 대해 DL model로 POS tagging 한 결과 \n",
        "clf.predict(dict_vectorizer.transform([add_basic_features(word_tokenize(text), index) for index in range(len(word_tokenize(text)))]))"
      ],
      "execution_count": 50,
      "outputs": [
        {
          "output_type": "stream",
          "text": [
            "1/1 [==============================] - 0s 2ms/step\n"
          ],
          "name": "stdout"
        },
        {
          "output_type": "execute_result",
          "data": {
            "text/plain": [
              "array([25, 38, 20,  3, 13, 25, 37, 13, 32, 35, 32, 26, 34,  7])"
            ]
          },
          "metadata": {
            "tags": []
          },
          "execution_count": 50
        }
      ]
    }
  ]
}