{
 "cells": [
  {
   "cell_type": "markdown",
   "metadata": {
    "id": "ZYwcIXq4t7cg"
   },
   "source": [
    "# Word embeddings in 2020. Review with code  examples\n",
    "* https://towardsdatascience.com/word-embeddings-in-2020-review-with-code-examples-11eb39a1ee6d "
   ]
  },
  {
   "cell_type": "markdown",
   "metadata": {
    "id": "JNesZThiXF0B"
   },
   "source": [
    "# Table of Contents \n",
    "1. One-hot or CountVectorizing \n",
    "2. TF-IDF\n",
    "3. Word2Vec\n",
    "4. Glove \n",
    "5. FastText \n",
    "6. ELMo\n",
    "7. Transformers"
   ]
  },
  {
   "cell_type": "code",
   "execution_count": null,
   "metadata": {
    "id": "ZqUw-NOmlt0u"
   },
   "outputs": [],
   "source": [
    "import pandas as pd \n",
    "import numpy as np \n",
    "\n",
    "import pprint"
   ]
  },
  {
   "cell_type": "code",
   "execution_count": null,
   "metadata": {
    "id": "L9sBX98cxO3l"
   },
   "outputs": [],
   "source": [
    "%matplotlib inline\n",
    "import matplotlib.pyplot as plt\n",
    "import seaborn as sns\n",
    "\n",
    "plt.style.use('seaborn')\n",
    "plt.rc('axes', unicode_minus=False)"
   ]
  },
  {
   "cell_type": "markdown",
   "metadata": {
    "id": "knWTPeFGvCVr"
   },
   "source": [
    "## 1. CountVectorizing\n",
    "\n",
    "The most basic method for transforming words into vectors is **to count occurrence** of each word in each document. Such approach is called countvectorizing or one-hot encoding.\n",
    "\n",
    "The main principle of this method is **1. to collect a set of documents** (they can be words, sentences, paragraphs or even articles) and **2. count the occurrence of every word** in each document. Strictly speaking, the columns of the resulting matrix are words and the rows are documents."
   ]
  },
  {
   "cell_type": "code",
   "execution_count": null,
   "metadata": {
    "id": "CqL-rowBt3FB"
   },
   "outputs": [],
   "source": [
    "from sklearn.feature_extraction.text import CountVectorizer\n",
    "\n",
    "# create CountVectorizer object\n",
    "vectorizer = CountVectorizer()\n",
    "corpus = [\n",
    "          'Text of the very first new sentence with the first words in sentence.',\n",
    "          'Text of the second sentence.',\n",
    "          'Number three with lot of words words words.',\n",
    "          'Short text, less words.',\n",
    "]"
   ]
  },
  {
   "cell_type": "code",
   "execution_count": null,
   "metadata": {
    "colab": {
     "base_uri": "https://localhost:8080/"
    },
    "id": "jp5Ylyahv-Sx",
    "outputId": "9c30d363-a43b-47e1-d7d6-a7e7e12b47c0"
   },
   "outputs": [
    {
     "data": {
      "text/plain": [
       "['first',\n",
       " 'in',\n",
       " 'less',\n",
       " 'lot',\n",
       " 'new',\n",
       " 'number',\n",
       " 'of',\n",
       " 'second',\n",
       " 'sentence',\n",
       " 'short',\n",
       " 'text',\n",
       " 'the',\n",
       " 'three',\n",
       " 'very',\n",
       " 'with',\n",
       " 'words']"
      ]
     },
     "execution_count": 4,
     "metadata": {
      "tags": []
     },
     "output_type": "execute_result"
    }
   ],
   "source": [
    "# learn the vocabulary and store CountVectorizer sparse matrix in term_frequencies\n",
    "term_frequencies = vectorizer.fit_transform(corpus) \n",
    "vocab = vectorizer.get_feature_names()\n",
    "vocab"
   ]
  },
  {
   "cell_type": "code",
   "execution_count": null,
   "metadata": {
    "colab": {
     "base_uri": "https://localhost:8080/"
    },
    "id": "n9Wzj12tFU4-",
    "outputId": "ae666f23-3fe3-456d-968d-2db1a1833f69"
   },
   "outputs": [
    {
     "data": {
      "text/plain": [
       "array([[2, 1, 0, 0, 1, 0, 1, 0, 2, 0, 1, 2, 0, 1, 1, 1],\n",
       "       [0, 0, 0, 0, 0, 0, 1, 1, 1, 0, 1, 1, 0, 0, 0, 0],\n",
       "       [0, 0, 0, 1, 0, 1, 1, 0, 0, 0, 0, 0, 1, 0, 1, 3],\n",
       "       [0, 0, 1, 0, 0, 0, 0, 0, 0, 1, 1, 0, 0, 0, 0, 1]])"
      ]
     },
     "execution_count": 5,
     "metadata": {
      "tags": []
     },
     "output_type": "execute_result"
    }
   ],
   "source": [
    "term_frequencies = term_frequencies.toarray() # convert sparse matrix to numpy array\n",
    "term_frequencies "
   ]
  },
  {
   "cell_type": "code",
   "execution_count": null,
   "metadata": {
    "colab": {
     "base_uri": "https://localhost:8080/"
    },
    "id": "pdCTLDzEv0c0",
    "outputId": "86926739-506f-4480-ad9f-5199470882b3"
   },
   "outputs": [
    {
     "name": "stdout",
     "output_type": "stream",
     "text": [
      "Vocab 사전 안의 단어 수 :  16\n",
      "tf matrix 안의 feature 수 :  16\n",
      "총 문장 수 :  4\n"
     ]
    }
   ],
   "source": [
    "# 각 문장마다 frequency matrix 만들어서 표현 \n",
    "print(\"Vocab 사전 안의 단어 수 : \", len(vocab))\n",
    "print(\"tf matrix 안의 feature 수 : \", len(term_frequencies[0]))\n",
    "print(\"총 문장 수 : \", term_frequencies.shape[0])"
   ]
  },
  {
   "cell_type": "code",
   "execution_count": null,
   "metadata": {
    "colab": {
     "base_uri": "https://localhost:8080/",
     "height": 265
    },
    "id": "7AMSth6SJ-VL",
    "outputId": "5fe3b1ef-4a5a-4254-cec2-40461fbe1a8f"
   },
   "outputs": [
    {
     "data": {
      "image/png": "[encoded data removed]",
      "text/plain": [
       "<Figure size 864x288 with 1 Axes>"
      ]
     },
     "metadata": {
      "tags": []
     },
     "output_type": "display_data"
    }
   ],
   "source": [
    "plt.figure(figsize = (12,4))\n",
    "sns.heatmap(term_frequencies, annot=True, cbar = False, xticklabels = vocab, cmap=\"Blues\");"
   ]
  },
  {
   "cell_type": "code",
   "execution_count": null,
   "metadata": {
    "colab": {
     "base_uri": "https://localhost:8080/"
    },
    "id": "aEgBzTv9u0Ov",
    "outputId": "2e1b522b-35ab-4f50-cd90-602404292bad"
   },
   "outputs": [
    {
     "data": {
      "text/plain": [
       "CountVectorizer(analyzer='word', binary=False, decode_error='strict',\n",
       "                dtype=<class 'numpy.int64'>, encoding='utf-8', input='content',\n",
       "                lowercase=True, max_df=1.0, max_features=None, min_df=1,\n",
       "                ngram_range=(1, 1), preprocessor=None, stop_words=None,\n",
       "                strip_accents=None, token_pattern='(?u)\\\\b\\\\w\\\\w+\\\\b',\n",
       "                tokenizer=None, vocabulary=None)"
      ]
     },
     "execution_count": 10,
     "metadata": {
      "tags": []
     },
     "output_type": "execute_result"
    }
   ],
   "source": [
    "vectorizer"
   ]
  },
  {
   "cell_type": "code",
   "execution_count": null,
   "metadata": {
    "colab": {
     "base_uri": "https://localhost:8080/"
    },
    "id": "5swG8_LdwPEN",
    "outputId": "619a6350-6a45-44a5-8549-6cef81799c4d"
   },
   "outputs": [
    {
     "data": {
      "text/plain": [
       "array([[0, 0, 0, 0, 2, 0, 0, 0, 1, 0, 0, 0, 0, 0, 0, 0]])"
      ]
     },
     "execution_count": 11,
     "metadata": {
      "tags": []
     },
     "output_type": "execute_result"
    }
   ],
   "source": [
    "# Convert another document with countvectorizing\n",
    "# new sentece가 들어오면, 기존의 임베딩 기준에 맞춰 transform\n",
    "\n",
    "vectorizer.transform(['A new new sentence.']).toarray()"
   ]
  },
  {
   "cell_type": "code",
   "execution_count": null,
   "metadata": {
    "colab": {
     "base_uri": "https://localhost:8080/",
     "height": 102
    },
    "id": "sjZlyYRiw5_J",
    "outputId": "562527a2-4d58-44f6-c25d-3a2adeb42812"
   },
   "outputs": [
    {
     "data": {
      "image/png": "[encoded data removed]",
      "text/plain": [
       "<Figure size 864x72 with 1 Axes>"
      ]
     },
     "metadata": {
      "tags": []
     },
     "output_type": "display_data"
    }
   ],
   "source": [
    "plt.figure(figsize = (12,1))\n",
    "sns.heatmap(vectorizer.transform(['A new new sentence.']).toarray(), annot=True, cbar = False, xticklabels = vocab, cmap=\"Blues\");"
   ]
  },
  {
   "cell_type": "markdown",
   "metadata": {
    "id": "CKO-WI3IEuaR"
   },
   "source": [
    "## 1. One-hot Vector \n",
    "Another approach in countvectorizing is just **to place 1 if the word is found** in the document (no matter how often) and **0 if the word is not found** in the document. In this case we get real 'one-hot' encoding."
   ]
  },
  {
   "cell_type": "code",
   "execution_count": null,
   "metadata": {
    "colab": {
     "base_uri": "https://localhost:8080/"
    },
    "id": "Qz87lYuXvN2I",
    "outputId": "901c8189-f2af-41e9-8e25-ac7f4916ad02"
   },
   "outputs": [
    {
     "data": {
      "text/plain": [
       "['Text of the very first new sentence with the first words in sentence.',\n",
       " 'Text of the second sentence.',\n",
       " 'Number three with lot of words words words.',\n",
       " 'Short text, less words.']"
      ]
     },
     "execution_count": 15,
     "metadata": {
      "tags": []
     },
     "output_type": "execute_result"
    }
   ],
   "source": [
    "corpus"
   ]
  },
  {
   "cell_type": "code",
   "execution_count": null,
   "metadata": {
    "colab": {
     "base_uri": "https://localhost:8080/"
    },
    "id": "Cd8wwfuWED1w",
    "outputId": "85fdaea4-eff7-4c76-e054-0c18176623e6"
   },
   "outputs": [
    {
     "data": {
      "text/plain": [
       "array([[1, 1, 0, 0, 1, 0, 1, 0, 1, 0, 1, 1, 0, 1, 1, 1],\n",
       "       [0, 0, 0, 0, 0, 0, 1, 1, 1, 0, 1, 1, 0, 0, 0, 0],\n",
       "       [0, 0, 0, 1, 0, 1, 1, 0, 0, 0, 0, 0, 1, 0, 1, 1],\n",
       "       [0, 0, 1, 0, 0, 0, 0, 0, 0, 1, 1, 0, 0, 0, 0, 1]])"
      ]
     },
     "execution_count": 13,
     "metadata": {
      "tags": []
     },
     "output_type": "execute_result"
    }
   ],
   "source": [
    "# one-hot encoding : 해당 token이 문서 내에 존재하면 1, 아니면 0 \n",
    "one_hot_vectorizer = CountVectorizer(binary=True)\n",
    "\n",
    "one_hot = one_hot_vectorizer.fit_transform(corpus).toarray()\n",
    "one_hot"
   ]
  },
  {
   "cell_type": "code",
   "execution_count": null,
   "metadata": {
    "colab": {
     "base_uri": "https://localhost:8080/",
     "height": 282
    },
    "id": "HMr0ixndJlL7",
    "outputId": "e2881750-2ae3-4ef5-ef0b-9c230c45f7b0"
   },
   "outputs": [
    {
     "data": {
      "text/plain": [
       "<matplotlib.axes._subplots.AxesSubplot at 0x7fefdd4e56d8>"
      ]
     },
     "execution_count": 14,
     "metadata": {
      "tags": []
     },
     "output_type": "execute_result"
    },
    {
     "data": {
      "image/png": "[encoded data removed]",
      "text/plain": [
       "<Figure size 864x288 with 1 Axes>"
      ]
     },
     "metadata": {
      "tags": []
     },
     "output_type": "display_data"
    }
   ],
   "source": [
    "plt.figure(figsize = (12,4))\n",
    "sns.heatmap(one_hot, annot=True, cbar = False, xticklabels = vocab, cmap=\"BuPu\")"
   ]
  },
  {
   "cell_type": "code",
   "execution_count": null,
   "metadata": {
    "colab": {
     "base_uri": "https://localhost:8080/",
     "height": 102
    },
    "id": "Foard9PPzO22",
    "outputId": "4176f093-25d0-459e-cbc5-a58a56f98789"
   },
   "outputs": [
    {
     "data": {
      "image/png": "[encoded data removed]",
      "text/plain": [
       "<Figure size 864x72 with 1 Axes>"
      ]
     },
     "metadata": {
      "tags": []
     },
     "output_type": "display_data"
    }
   ],
   "source": [
    "plt.figure(figsize = (12,1))\n",
    "sns.heatmap(one_hot_vectorizer.transform(['A new new sentence.']).toarray(), annot=True, cbar = False, xticklabels = vocab, cmap=\"BuPu\");"
   ]
  },
  {
   "cell_type": "markdown",
   "metadata": {
    "id": "5yiZ6Ua4w5u2"
   },
   "source": [
    "## 2. TF-IDF \n",
    "\n",
    "With a large corpus of documents some words like ‘a’, ‘the’, ‘is’, etc. **occur very frequently but they don’t carry a lot of information**. Using one-hot encoding approach we can decide that these words are important because they appear in many documents. One of the ways to solve this problem is stopwords filtering, but this solution is discrete and not flexible.\n",
    "\n",
    "\n",
    ".\n",
    "\n",
    "\n",
    "TF-IDF (term frequency - inverse document frequency) can deal with this problem better. TF-IDF **lowers the weight of commonly used words** and **raises the weight of rare words** that occur only in current document. \n",
    "\n",
    "<br><br>\n",
    "TF-IDF formula looks like this:\n",
    "\n",
    "$tfidf(term, document)= tf(term, document) \\cdot idf(term)$\n",
    "\n",
    "Where **TF** is calculated by dividing number of times the word occurs in the document by the total number of words in the document\n",
    "\n",
    "$tf(term, document)= \\frac{n_i}{\\sum_{k=1}^W n_k}$\n",
    "\n",
    "\n",
    "**IDF** (inverse document frequency), interpreted like inversed number of documents, in which the term we’re interested in occurs. \n",
    "\n",
    "\n",
    "N - number of documents, \n",
    "n(t) - number of documents with current word or term t.\n",
    "\n",
    "\n",
    "$idf(term) = \\log {\\frac{N}{n_t}} $\n",
    "\n",
    "\n"
   ]
  },
  {
   "cell_type": "code",
   "execution_count": null,
   "metadata": {
    "id": "s0EtgcwEhdFe"
   },
   "outputs": [],
   "source": [
    "from sklearn.feature_extraction.text import TfidfVectorizer"
   ]
  },
  {
   "cell_type": "code",
   "execution_count": null,
   "metadata": {
    "colab": {
     "base_uri": "https://localhost:8080/"
    },
    "id": "mYRpi5Ogvvk5",
    "outputId": "da0cc3a9-2c32-4f9d-c0ac-5f41bdf0dd6a"
   },
   "outputs": [
    {
     "data": {
      "text/plain": [
       "['Text of the very first new sentence with the first words in sentence.',\n",
       " 'Text of the second sentence.',\n",
       " 'Number three with lot of words words words.',\n",
       " 'Short text, less words.']"
      ]
     },
     "execution_count": 18,
     "metadata": {
      "tags": []
     },
     "output_type": "execute_result"
    }
   ],
   "source": [
    "corpus"
   ]
  },
  {
   "cell_type": "code",
   "execution_count": null,
   "metadata": {
    "id": "U_qgj-S0bbmQ"
   },
   "outputs": [],
   "source": [
    "# 위의 동일한 예시와 비교 \n",
    "tfidf_vectorizer = TfidfVectorizer()\n",
    "tfidf = tfidf_vectorizer.fit_transform(corpus).toarray()\n",
    "\n",
    "vocab = tfidf_vectorizer.get_feature_names()"
   ]
  },
  {
   "cell_type": "code",
   "execution_count": null,
   "metadata": {
    "colab": {
     "base_uri": "https://localhost:8080/"
    },
    "id": "RmnT3jzkbly4",
    "outputId": "6ee0b41f-89ac-4c31-80c2-0b5f81f1475d"
   },
   "outputs": [
    {
     "data": {
      "text/plain": [
       "array([[0.53805906, 0.26902953, 0.        , 0.        , 0.26902953,\n",
       "        0.        , 0.17171807, 0.        , 0.42421195, 0.        ,\n",
       "        0.17171807, 0.42421195, 0.        , 0.26902953, 0.21210597,\n",
       "        0.17171807],\n",
       "       [0.        , 0.        , 0.        , 0.        , 0.        ,\n",
       "        0.        , 0.36500336, 0.57184829, 0.45085176, 0.        ,\n",
       "        0.36500336, 0.45085176, 0.        , 0.        , 0.        ,\n",
       "        0.        ],\n",
       "       [0.        , 0.        , 0.        , 0.36047574, 0.        ,\n",
       "        0.36047574, 0.230087  , 0.        , 0.        , 0.        ,\n",
       "        0.        , 0.        , 0.36047574, 0.        , 0.28420321,\n",
       "        0.69026099],\n",
       "       [0.        , 0.        , 0.59603894, 0.        , 0.        ,\n",
       "        0.        , 0.        , 0.        , 0.        , 0.59603894,\n",
       "        0.38044393, 0.        , 0.        , 0.        , 0.        ,\n",
       "        0.38044393]])"
      ]
     },
     "execution_count": 20,
     "metadata": {
      "tags": []
     },
     "output_type": "execute_result"
    }
   ],
   "source": [
    "tfidf"
   ]
  },
  {
   "cell_type": "code",
   "execution_count": null,
   "metadata": {
    "colab": {
     "base_uri": "https://localhost:8080/",
     "height": 265
    },
    "id": "aF3ofLEo2h8d",
    "outputId": "92014f81-b3be-44e3-981a-6bf1088ab1b0"
   },
   "outputs": [
    {
     "data": {
      "image/png": "[encoded data removed]",
      "text/plain": [
       "<Figure size 864x288 with 1 Axes>"
      ]
     },
     "metadata": {
      "tags": []
     },
     "output_type": "display_data"
    }
   ],
   "source": [
    "plt.figure(figsize = (12,4))\n",
    "sns.heatmap(tfidf, annot=True, cbar = False, xticklabels = vocab, cmap=\"Blues\");"
   ]
  },
  {
   "cell_type": "code",
   "execution_count": null,
   "metadata": {
    "colab": {
     "base_uri": "https://localhost:8080/",
     "height": 102
    },
    "id": "onzw9YKEbs-A",
    "outputId": "5ddedb8c-2799-4769-c852-5913d0f25c1a"
   },
   "outputs": [
    {
     "data": {
      "image/png": "[encoded data removed]",
      "text/plain": [
       "<Figure size 864x72 with 1 Axes>"
      ]
     },
     "metadata": {
      "tags": []
     },
     "output_type": "display_data"
    }
   ],
   "source": [
    "plt.figure(figsize = (12,1))\n",
    "sns.heatmap(tfidf_vectorizer.transform(['A new new sentence.']).toarray(), annot=True, cbar = False, xticklabels = vocab, cmap=\"Blues\");"
   ]
  },
  {
   "cell_type": "markdown",
   "metadata": {
    "id": "Mq3G42rc5x0z"
   },
   "source": [
    "#### (cf) tf-idf 직접 구현하기 \n",
    "* sklearn 으로 나온 tf-idf 값과 실제로 구현한 값은 다릅니다. \n",
    "* 사이킷런의 TF-IDF는 위에서 배웠던 보편적인 TF-IDF 식에서 좀 더 조정된 다른 식을 사용합니다. \n",
    "* 하지만 크게 다른 식은 아니며 (IDF의 로그항의 분자에 1을 더해주며, 로그항에 1을 더해주고, TF-IDF에 L2 정규화라는 방법으로 값을 조정하는 등의 차이), 여전히 TF-IDF가 가진 의도를 그대로 갖고 있으므로 사이킷런의 TF-IDF를 그대로 사용하셔도 괜찮습니다."
   ]
  },
  {
   "cell_type": "code",
   "execution_count": null,
   "metadata": {
    "colab": {
     "base_uri": "https://localhost:8080/"
    },
    "id": "QEMcCS01yPW8",
    "outputId": "1e230534-c057-4dd5-abb7-eb5a37025015"
   },
   "outputs": [
    {
     "data": {
      "text/plain": [
       "array([[2, 1, 0, 0, 1, 0, 1, 0, 2, 0, 1, 2, 0, 1, 1, 1],\n",
       "       [0, 0, 0, 0, 0, 0, 1, 1, 1, 0, 1, 1, 0, 0, 0, 0],\n",
       "       [0, 0, 0, 1, 0, 1, 1, 0, 0, 0, 0, 0, 1, 0, 1, 3],\n",
       "       [0, 0, 1, 0, 0, 0, 0, 0, 0, 1, 1, 0, 0, 0, 0, 1]])"
      ]
     },
     "execution_count": 23,
     "metadata": {
      "tags": []
     },
     "output_type": "execute_result"
    }
   ],
   "source": [
    "tf = CountVectorizer().fit_transform(corpus).toarray()\n",
    "\n",
    "tf                           # CountVectorizer"
   ]
  },
  {
   "cell_type": "code",
   "execution_count": null,
   "metadata": {
    "colab": {
     "base_uri": "https://localhost:8080/"
    },
    "id": "rOcaLzPryht2",
    "outputId": "37c744f4-4a52-42cd-cd3a-f45c5c88f318"
   },
   "outputs": [
    {
     "data": {
      "text/plain": [
       "array([2, 1, 1, 1, 1, 1, 3, 1, 3, 1, 3, 3, 1, 1, 2, 5])"
      ]
     },
     "execution_count": 24,
     "metadata": {
      "tags": []
     },
     "output_type": "execute_result"
    }
   ],
   "source": [
    "np.sum(tf, axis=0)                       # df "
   ]
  },
  {
   "cell_type": "code",
   "execution_count": null,
   "metadata": {
    "colab": {
     "base_uri": "https://localhost:8080/"
    },
    "id": "kd7y3zNHynRl",
    "outputId": "a882b9fd-0e63-45fc-8386-c4930f213080"
   },
   "outputs": [
    {
     "data": {
      "text/plain": [
       "array([ 0.12493874,  0.30103   ,  0.30103   ,  0.30103   ,  0.30103   ,\n",
       "        0.30103   ,  0.        ,  0.30103   ,  0.        ,  0.30103   ,\n",
       "        0.        ,  0.        ,  0.30103   ,  0.30103   ,  0.12493874,\n",
       "       -0.17609126])"
      ]
     },
     "execution_count": 25,
     "metadata": {
      "tags": []
     },
     "output_type": "execute_result"
    }
   ],
   "source": [
    "np.log10(4/(1+np.sum(tf, axis=0)))       # idf "
   ]
  },
  {
   "cell_type": "code",
   "execution_count": null,
   "metadata": {
    "colab": {
     "base_uri": "https://localhost:8080/"
    },
    "id": "PG6WdzCRzX72",
    "outputId": "316a7c25-a248-4c44-a58b-d406b82b7871"
   },
   "outputs": [
    {
     "data": {
      "text/plain": [
       "array([[ 0.24987747,  0.30103   ,  0.        ,  0.        ,  0.30103   ,\n",
       "         0.        ,  0.        ,  0.        ,  0.        ,  0.        ,\n",
       "         0.        ,  0.        ,  0.        ,  0.30103   ,  0.12493874,\n",
       "        -0.17609126],\n",
       "       [ 0.        ,  0.        ,  0.        ,  0.        ,  0.        ,\n",
       "         0.        ,  0.        ,  0.30103   ,  0.        ,  0.        ,\n",
       "         0.        ,  0.        ,  0.        ,  0.        ,  0.        ,\n",
       "        -0.        ],\n",
       "       [ 0.        ,  0.        ,  0.        ,  0.30103   ,  0.        ,\n",
       "         0.30103   ,  0.        ,  0.        ,  0.        ,  0.        ,\n",
       "         0.        ,  0.        ,  0.30103   ,  0.        ,  0.12493874,\n",
       "        -0.52827378],\n",
       "       [ 0.        ,  0.        ,  0.30103   ,  0.        ,  0.        ,\n",
       "         0.        ,  0.        ,  0.        ,  0.        ,  0.30103   ,\n",
       "         0.        ,  0.        ,  0.        ,  0.        ,  0.        ,\n",
       "        -0.17609126]])"
      ]
     },
     "execution_count": 26,
     "metadata": {
      "tags": []
     },
     "output_type": "execute_result"
    }
   ],
   "source": [
    "# tf * idf\n",
    "np.multiply(tf, np.log10(4/(1+np.sum(tf, axis=0))))"
   ]
  },
  {
   "cell_type": "markdown",
   "metadata": {
    "id": "P8IxcZQGTGb6"
   },
   "source": [
    "## 3. Word2Vec"
   ]
  },
  {
   "cell_type": "markdown",
   "metadata": {
    "id": "pHdtizR4T1d_"
   },
   "source": [
    "The most commonly used models for word embeddings are [word2vec](https://github.com/dav/word2vec/) and [GloVe](https://nlp.stanford.edu/projects/glove/) which are both unsupervised approaches based on the distributional hypothesis (words that occur in the same contexts tend to have similar meanings).\n",
    "\n",
    "Word2Vec word embeddings are **vector representations of words**, \n",
    "that are typically learnt by an **unsupervised model** when fed \n",
    "with **large amounts of text as input** (e.g. Wikipedia, science, news, articles etc.). These representation of words capture **semantic similarity** between words among other properties. Word2Vec word embeddings are learnt in a such way, that [**distance**](https://en.wikipedia.org/wiki/Euclidean_distance) between vectors for words with **close meanings** (\"king\" and \"queen\" for example) are closer than distance for words with complety different meanings (\"king\" and \"carpet\" for example).\n",
    "\n",
    "![Замещающий текст](https://developers.google.com/machine-learning/crash-course/images/linear-relationships.svg)\n",
    "Image from [developers.google.com](https://developers.google.com/machine-learning/crash-course/embeddings/translating-to-a-lower-dimensional-space)\n",
    "\n",
    "Word2Vec vectors even allow some **mathematic operations** on vectors. For example, in this operation we are using word2vec vectors for each word:\n",
    "\n",
    "* king - man + woman = queen"
   ]
  },
  {
   "cell_type": "code",
   "execution_count": null,
   "metadata": {
    "colab": {
     "base_uri": "https://localhost:8080/"
    },
    "id": "dfo-brEm-STg",
    "outputId": "03c13b0e-ccfe-48c0-c65c-84eff49faeee"
   },
   "outputs": [
    {
     "name": "stdout",
     "output_type": "stream",
     "text": [
      "--2020-11-11 05:25:15--  https://s3.amazonaws.com/dl4j-distribution/GoogleNews-vectors-negative300.bin.gz\n",
      "Resolving s3.amazonaws.com (s3.amazonaws.com)... 52.217.93.62\n",
      "Connecting to s3.amazonaws.com (s3.amazonaws.com)|52.217.93.62|:443... connected.\n",
      "HTTP request sent, awaiting response... 200 OK\n",
      "Length: 1647046227 (1.5G) [application/x-gzip]\n",
      "Saving to: ‘GoogleNews-vectors-negative300.bin.gz’\n",
      "\n",
      "GoogleNews-vectors- 100%[===================>]   1.53G  37.8MB/s    in 39s     \n",
      "\n",
      "2020-11-11 05:25:54 (40.7 MB/s) - ‘GoogleNews-vectors-negative300.bin.gz’ saved [1647046227/1647046227]\n",
      "\n"
     ]
    }
   ],
   "source": [
    "# Download Google Word2Vec embeddings https://code.google.com/archive/p/word2vec/\n",
    "\n",
    "!wget https://s3.amazonaws.com/dl4j-distribution/GoogleNews-vectors-negative300.bin.gz\n",
    "!gunzip GoogleNews-vectors-negative300.bin"
   ]
  },
  {
   "cell_type": "code",
   "execution_count": null,
   "metadata": {
    "id": "AZ_HeKRI9_7l"
   },
   "outputs": [],
   "source": [
    "# Try Word2Vec with Gensim\n",
    "import gensim\n",
    "\n",
    "# Load pretrained vectors from Google\n",
    "model = gensim.models.KeyedVectors.load_word2vec_format('GoogleNews-vectors-negative300.bin', binary=True)"
   ]
  },
  {
   "cell_type": "code",
   "execution_count": null,
   "metadata": {
    "colab": {
     "base_uri": "https://localhost:8080/"
    },
    "id": "bT-yiT9L_c7b",
    "outputId": "58591164-ec72-4c4b-c638-258dd26b8381"
   },
   "outputs": [
    {
     "name": "stdout",
     "output_type": "stream",
     "text": [
      "(300,)\n",
      "[ 0.12597656  0.02978516  0.00860596  0.13964844 -0.02563477 -0.03613281\n",
      "  0.11181641 -0.19824219  0.05126953  0.36328125]\n"
     ]
    }
   ],
   "source": [
    "king = model['king']\n",
    "\n",
    "print(king.shape)\n",
    "print(king[:10])"
   ]
  },
  {
   "cell_type": "code",
   "execution_count": null,
   "metadata": {
    "colab": {
     "base_uri": "https://localhost:8080/"
    },
    "id": "fe3mPKJSeX_i",
    "outputId": "45e6f558-2025-4007-b088-ff3134585df9"
   },
   "outputs": [
    {
     "name": "stderr",
     "output_type": "stream",
     "text": [
      "/usr/local/lib/python3.6/dist-packages/gensim/matutils.py:737: FutureWarning: Conversion of the second argument of issubdtype from `int` to `np.signedinteger` is deprecated. In future, it will be treated as `np.int64 == np.dtype(int).type`.\n",
      "  if np.issubdtype(vec.dtype, np.int):\n"
     ]
    },
    {
     "name": "stdout",
     "output_type": "stream",
     "text": [
      "[('kings', 0.7138046026229858),\n",
      " ('queen', 0.6510956883430481),\n",
      " ('monarch', 0.6413194537162781),\n",
      " ('crown_prince', 0.6204220056533813),\n",
      " ('prince', 0.6159993410110474),\n",
      " ('sultan', 0.5864822864532471),\n",
      " ('ruler', 0.5797567367553711),\n",
      " ('princes', 0.5646552443504333),\n",
      " ('Prince_Paras', 0.543294370174408),\n",
      " ('throne', 0.5422104597091675)]\n"
     ]
    }
   ],
   "source": [
    "pprint.pprint(model.most_similar(\"king\"))"
   ]
  },
  {
   "cell_type": "code",
   "execution_count": null,
   "metadata": {
    "colab": {
     "base_uri": "https://localhost:8080/"
    },
    "id": "KN823WDfma-u",
    "outputId": "2bb9faf4-92a8-4161-ce1f-6b940043403d"
   },
   "outputs": [
    {
     "name": "stdout",
     "output_type": "stream",
     "text": [
      "Synonyms happy, cheerful have cosine distance: 0.6162261664867401\n",
      "Antonyms happy, sad have cosine distance: 0.46453857421875\n"
     ]
    },
    {
     "name": "stderr",
     "output_type": "stream",
     "text": [
      "/usr/local/lib/python3.6/dist-packages/gensim/matutils.py:737: FutureWarning: Conversion of the second argument of issubdtype from `int` to `np.signedinteger` is deprecated. In future, it will be treated as `np.int64 == np.dtype(int).type`.\n",
      "  if np.issubdtype(vec.dtype, np.int):\n"
     ]
    }
   ],
   "source": [
    "w1 = \"happy\"\n",
    "w2 = \"cheerful\"\n",
    "w3 = \"sad\"\n",
    "w1_w2_dist = model.distance(w1, w2)\n",
    "w1_w3_dist = model.distance(w1, w3)\n",
    "\n",
    "print(\"Synonyms {}, {} have cosine distance: {}\".format(w1, w2, w1_w2_dist))\n",
    "print(\"Antonyms {}, {} have cosine distance: {}\".format(w1, w3, w1_w3_dist))"
   ]
  },
  {
   "cell_type": "code",
   "execution_count": null,
   "metadata": {
    "colab": {
     "base_uri": "https://localhost:8080/"
    },
    "id": "JBznpSDbAAJx",
    "outputId": "1255d039-40f9-4483-b632-1e02a073a8a8"
   },
   "outputs": [
    {
     "name": "stderr",
     "output_type": "stream",
     "text": [
      "/usr/local/lib/python3.6/dist-packages/gensim/matutils.py:737: FutureWarning: Conversion of the second argument of issubdtype from `int` to `np.signedinteger` is deprecated. In future, it will be treated as `np.int64 == np.dtype(int).type`.\n",
      "  if np.issubdtype(vec.dtype, np.int):\n"
     ]
    },
    {
     "name": "stdout",
     "output_type": "stream",
     "text": [
      "[('queen', 0.7118192911148071),\n",
      " ('monarch', 0.6189674139022827),\n",
      " ('princess', 0.5902431011199951),\n",
      " ('crown_prince', 0.5499460697174072),\n",
      " ('prince', 0.5377321243286133),\n",
      " ('kings', 0.5236844420433044),\n",
      " ('Queen_Consort', 0.5235945582389832),\n",
      " ('queens', 0.518113374710083),\n",
      " ('sultan', 0.5098593235015869),\n",
      " ('monarchy', 0.5087411999702454)]\n"
     ]
    }
   ],
   "source": [
    "# king - man + woman = queen\n",
    "# man : king :: woman : x (queen)\n",
    "\n",
    "pprint.pprint(model.most_similar(positive=['woman', 'king'], negative=['man']))"
   ]
  },
  {
   "cell_type": "code",
   "execution_count": null,
   "metadata": {
    "colab": {
     "base_uri": "https://localhost:8080/"
    },
    "id": "w1g7No5gnG2U",
    "outputId": "9c42da12-2c72-4513-e480-694fa8971e7f"
   },
   "outputs": [
    {
     "name": "stderr",
     "output_type": "stream",
     "text": [
      "/usr/local/lib/python3.6/dist-packages/gensim/matutils.py:737: FutureWarning: Conversion of the second argument of issubdtype from `int` to `np.signedinteger` is deprecated. In future, it will be treated as `np.int64 == np.dtype(int).type`.\n",
      "  if np.issubdtype(vec.dtype, np.int):\n"
     ]
    },
    {
     "name": "stdout",
     "output_type": "stream",
     "text": [
      "[('Paris', 0.7502285242080688),\n",
      " ('Marseille', 0.603843092918396),\n",
      " ('French', 0.601784348487854),\n",
      " ('Colombes', 0.5965863466262817),\n",
      " ('Hopital_Europeen_Georges_Pompidou', 0.5867530107498169),\n",
      " ('Toulouse', 0.577813446521759),\n",
      " ('Parisian', 0.570327639579773),\n",
      " ('Cergy_Pontoise', 0.568040132522583),\n",
      " ('Marseilles', 0.5587785243988037),\n",
      " ('Strasbourg', 0.5559653043746948)]\n"
     ]
    }
   ],
   "source": [
    "# Madrid - Spain + France = Paris \n",
    "# Spain : Madrid :: France : x (Paris)\n",
    "\n",
    "pprint.pprint(model.most_similar(positive=['Madrid', 'France'], negative=['Spain']))"
   ]
  },
  {
   "cell_type": "code",
   "execution_count": null,
   "metadata": {
    "colab": {
     "base_uri": "https://localhost:8080/"
    },
    "id": "3ckykNCjA-UP",
    "outputId": "1279f035-20e0-4d54-f0ab-a373459c2462"
   },
   "outputs": [
    {
     "name": "stdout",
     "output_type": "stream",
     "text": [
      "'robot'\n"
     ]
    },
    {
     "name": "stderr",
     "output_type": "stream",
     "text": [
      "/usr/local/lib/python3.6/dist-packages/gensim/models/keyedvectors.py:895: FutureWarning: arrays to stack must be passed as a \"sequence\" type such as list or tuple. Support for non-sequence iterables such as generators is deprecated as of NumPy 1.16 and will raise an error in the future.\n",
      "  vectors = vstack(self.word_vec(word, use_norm=True) for word in used_words).astype(REAL)\n",
      "/usr/local/lib/python3.6/dist-packages/gensim/matutils.py:737: FutureWarning: Conversion of the second argument of issubdtype from `int` to `np.signedinteger` is deprecated. In future, it will be treated as `np.int64 == np.dtype(int).type`.\n",
      "  if np.issubdtype(vec.dtype, np.int):\n"
     ]
    }
   ],
   "source": [
    "pprint.pprint(model.doesnt_match(\"breakfast robot dinner lunch\".split()))"
   ]
  },
  {
   "cell_type": "code",
   "execution_count": null,
   "metadata": {
    "colab": {
     "base_uri": "https://localhost:8080/"
    },
    "id": "Pb121-XFBBc9",
    "outputId": "c0f12e43-a732-4ab7-cd1f-d2ff98e9e772"
   },
   "outputs": [
    {
     "name": "stdout",
     "output_type": "stream",
     "text": [
      "0.76640123\n"
     ]
    },
    {
     "name": "stderr",
     "output_type": "stream",
     "text": [
      "/usr/local/lib/python3.6/dist-packages/gensim/matutils.py:737: FutureWarning: Conversion of the second argument of issubdtype from `int` to `np.signedinteger` is deprecated. In future, it will be treated as `np.int64 == np.dtype(int).type`.\n",
      "  if np.issubdtype(vec.dtype, np.int):\n"
     ]
    }
   ],
   "source": [
    "pprint.pprint(model.similarity('woman', 'man'))  # -1 < cosine similarity < 1 "
   ]
  },
  {
   "cell_type": "code",
   "execution_count": null,
   "metadata": {
    "colab": {
     "base_uri": "https://localhost:8080/"
    },
    "id": "YVL0I1qBBDcg",
    "outputId": "6d7ac9fe-3cde-43cb-9059-6f9082559b08"
   },
   "outputs": [
    {
     "name": "stdout",
     "output_type": "stream",
     "text": [
      "0.12847973\n"
     ]
    },
    {
     "name": "stderr",
     "output_type": "stream",
     "text": [
      "/usr/local/lib/python3.6/dist-packages/gensim/matutils.py:737: FutureWarning: Conversion of the second argument of issubdtype from `int` to `np.signedinteger` is deprecated. In future, it will be treated as `np.int64 == np.dtype(int).type`.\n",
      "  if np.issubdtype(vec.dtype, np.int):\n"
     ]
    }
   ],
   "source": [
    "pprint.pprint(model.similarity('king', 'woman'))"
   ]
  },
  {
   "cell_type": "markdown",
   "metadata": {
    "id": "NEFSugKAFXeB"
   },
   "source": [
    "## 4. GloVe \n",
    "Another word embedding method is **GloVe** (“Global Vectors”). It is based on **matrix factorization** techniques on the word-context matrix. It first constructs a large matrix of **(words x context) co-occurrence information**, i.e. for each “word” (the rows), you count how frequently we see this word in some “context” (the columns) in a large corpus. Then this matrix is **factorized to a lower-dimensional (word x features) matrix**, where each row now stores a vector representation for each word. In general, this is done by minimizing a “reconstruction loss”. This loss tries to find the lower-dimensional representations which can explain most of the variance in the high-dimensional data."
   ]
  },
  {
   "cell_type": "code",
   "execution_count": null,
   "metadata": {
    "colab": {
     "base_uri": "https://localhost:8080/"
    },
    "id": "27udJLwcbVLv",
    "outputId": "89225156-aa81-4ffb-d0eb-2d42078f2103"
   },
   "outputs": [
    {
     "name": "stdout",
     "output_type": "stream",
     "text": [
      "Collecting en_core_web_lg==2.2.5\n",
      "\u001b[?25l  Downloading https://github.com/explosion/spacy-models/releases/download/en_core_web_lg-2.2.5/en_core_web_lg-2.2.5.tar.gz (827.9MB)\n",
      "\u001b[K     |████████████████████████████████| 827.9MB 1.2MB/s \n",
      "\u001b[?25hRequirement already satisfied: spacy>=2.2.2 in /usr/local/lib/python3.6/dist-packages (from en_core_web_lg==2.2.5) (2.2.4)\n",
      "Requirement already satisfied: tqdm<5.0.0,>=4.38.0 in /usr/local/lib/python3.6/dist-packages (from spacy>=2.2.2->en_core_web_lg==2.2.5) (4.41.1)\n",
      "Requirement already satisfied: preshed<3.1.0,>=3.0.2 in /usr/local/lib/python3.6/dist-packages (from spacy>=2.2.2->en_core_web_lg==2.2.5) (3.0.2)\n",
      "Requirement already satisfied: murmurhash<1.1.0,>=0.28.0 in /usr/local/lib/python3.6/dist-packages (from spacy>=2.2.2->en_core_web_lg==2.2.5) (1.0.3)\n",
      "Requirement already satisfied: plac<1.2.0,>=0.9.6 in /usr/local/lib/python3.6/dist-packages (from spacy>=2.2.2->en_core_web_lg==2.2.5) (1.1.3)\n",
      "Requirement already satisfied: thinc==7.4.0 in /usr/local/lib/python3.6/dist-packages (from spacy>=2.2.2->en_core_web_lg==2.2.5) (7.4.0)\n",
      "Requirement already satisfied: requests<3.0.0,>=2.13.0 in /usr/local/lib/python3.6/dist-packages (from spacy>=2.2.2->en_core_web_lg==2.2.5) (2.23.0)\n",
      "Requirement already satisfied: wasabi<1.1.0,>=0.4.0 in /usr/local/lib/python3.6/dist-packages (from spacy>=2.2.2->en_core_web_lg==2.2.5) (0.8.0)\n",
      "Requirement already satisfied: cymem<2.1.0,>=2.0.2 in /usr/local/lib/python3.6/dist-packages (from spacy>=2.2.2->en_core_web_lg==2.2.5) (2.0.4)\n",
      "Requirement already satisfied: srsly<1.1.0,>=1.0.2 in /usr/local/lib/python3.6/dist-packages (from spacy>=2.2.2->en_core_web_lg==2.2.5) (1.0.2)\n",
      "Requirement already satisfied: blis<0.5.0,>=0.4.0 in /usr/local/lib/python3.6/dist-packages (from spacy>=2.2.2->en_core_web_lg==2.2.5) (0.4.1)\n",
      "Requirement already satisfied: catalogue<1.1.0,>=0.0.7 in /usr/local/lib/python3.6/dist-packages (from spacy>=2.2.2->en_core_web_lg==2.2.5) (1.0.0)\n",
      "Requirement already satisfied: setuptools in /usr/local/lib/python3.6/dist-packages (from spacy>=2.2.2->en_core_web_lg==2.2.5) (50.3.2)\n",
      "Requirement already satisfied: numpy>=1.15.0 in /usr/local/lib/python3.6/dist-packages (from spacy>=2.2.2->en_core_web_lg==2.2.5) (1.18.5)\n",
      "Requirement already satisfied: certifi>=2017.4.17 in /usr/local/lib/python3.6/dist-packages (from requests<3.0.0,>=2.13.0->spacy>=2.2.2->en_core_web_lg==2.2.5) (2020.6.20)\n",
      "Requirement already satisfied: idna<3,>=2.5 in /usr/local/lib/python3.6/dist-packages (from requests<3.0.0,>=2.13.0->spacy>=2.2.2->en_core_web_lg==2.2.5) (2.10)\n",
      "Requirement already satisfied: urllib3!=1.25.0,!=1.25.1,<1.26,>=1.21.1 in /usr/local/lib/python3.6/dist-packages (from requests<3.0.0,>=2.13.0->spacy>=2.2.2->en_core_web_lg==2.2.5) (1.24.3)\n",
      "Requirement already satisfied: chardet<4,>=3.0.2 in /usr/local/lib/python3.6/dist-packages (from requests<3.0.0,>=2.13.0->spacy>=2.2.2->en_core_web_lg==2.2.5) (3.0.4)\n",
      "Requirement already satisfied: importlib-metadata>=0.20; python_version < \"3.8\" in /usr/local/lib/python3.6/dist-packages (from catalogue<1.1.0,>=0.0.7->spacy>=2.2.2->en_core_web_lg==2.2.5) (2.0.0)\n",
      "Requirement already satisfied: zipp>=0.5 in /usr/local/lib/python3.6/dist-packages (from importlib-metadata>=0.20; python_version < \"3.8\"->catalogue<1.1.0,>=0.0.7->spacy>=2.2.2->en_core_web_lg==2.2.5) (3.4.0)\n",
      "Building wheels for collected packages: en-core-web-lg\n",
      "  Building wheel for en-core-web-lg (setup.py) ... \u001b[?25l\u001b[?25hdone\n",
      "  Created wheel for en-core-web-lg: filename=en_core_web_lg-2.2.5-cp36-none-any.whl size=829180944 sha256=ec06582ae0b1a44e2d957af4bc149288b29dbf20ecd77b2148d915fdd5aca7c1\n",
      "  Stored in directory: /tmp/pip-ephem-wheel-cache-_thqqoig/wheels/2a/c1/a6/fc7a877b1efca9bc6a089d6f506f16d3868408f9ff89f8dbfc\n",
      "Successfully built en-core-web-lg\n",
      "Installing collected packages: en-core-web-lg\n",
      "Successfully installed en-core-web-lg-2.2.5\n",
      "\u001b[38;5;2m✔ Download and installation successful\u001b[0m\n",
      "You can now load the model via spacy.load('en_core_web_lg')\n"
     ]
    }
   ],
   "source": [
    "# Try Glove word embeddings with Spacy\n",
    "\n",
    "!python3 -m spacy download en_core_web_lg"
   ]
  },
  {
   "cell_type": "code",
   "execution_count": null,
   "metadata": {
    "id": "n2BdKnWLwY4R"
   },
   "outputs": [],
   "source": [
    "import spacy\n",
    "import en_core_web_lg  # Load the spacy model that you have installed"
   ]
  },
  {
   "cell_type": "code",
   "execution_count": null,
   "metadata": {
    "colab": {
     "base_uri": "https://localhost:8080/"
    },
    "id": "LkURcwd5LJUp",
    "outputId": "6f3a061b-cb16-48ff-bae9-4b5868fb179b"
   },
   "outputs": [
    {
     "data": {
      "text/plain": [
       "array([ 0.31542  , -0.35068  ,  0.42923  , -0.53825  , -0.1848   ,\n",
       "       -0.31082  ,  0.29196  , -0.7103   , -0.23867  ,  1.8471   ,\n",
       "       -0.36446  , -0.51282  ,  0.1221   ,  0.38909  , -0.073204 ,\n",
       "        0.035462 ,  0.33289  ,  0.66466  ,  0.027175 ,  0.42021  ,\n",
       "       -0.1452   ,  0.37991  , -0.6052   ,  0.10695  , -0.64716  ,\n",
       "       -0.010739 , -0.39754  ,  0.38857  , -0.20134  ,  0.69813  ,\n",
       "       -0.32411  ,  0.73085  , -0.1093   , -0.23511  ,  0.18482  ,\n",
       "       -0.11595  , -0.71003  , -0.22974  , -0.41979  ,  0.0081004,\n",
       "       -0.10504  , -0.44802  , -0.073928 , -0.4238   ,  0.28482  ,\n",
       "       -0.074517 ,  0.098161 ,  0.64602  , -0.25832  , -0.020452 ],\n",
       "      dtype=float32)"
      ]
     },
     "execution_count": 40,
     "metadata": {
      "tags": []
     },
     "output_type": "execute_result"
    }
   ],
   "source": [
    "nlp = en_core_web_lg.load()\n",
    "\n",
    "# process a sentence using the model\n",
    "doc = nlp(\"man king stands on the carpet and sees woman queen\")\n",
    "\n",
    "# Get the vector for 'king':\n",
    "doc[1].vector[0:50]"
   ]
  },
  {
   "cell_type": "code",
   "execution_count": null,
   "metadata": {
    "colab": {
     "base_uri": "https://localhost:8080/"
    },
    "id": "S7l1N33My2ie",
    "outputId": "59c4502e-4c81-42d5-b46d-68fb59521d5e"
   },
   "outputs": [
    {
     "data": {
      "text/plain": [
       "(300,)"
      ]
     },
     "execution_count": 42,
     "metadata": {
      "tags": []
     },
     "output_type": "execute_result"
    }
   ],
   "source": [
    "doc[1].vector.shape"
   ]
  },
  {
   "cell_type": "markdown",
   "metadata": {
    "id": "hI-998SUfAx-"
   },
   "source": [
    "Find similarity between King and Queen (higher value is better)."
   ]
  },
  {
   "cell_type": "code",
   "execution_count": null,
   "metadata": {
    "colab": {
     "base_uri": "https://localhost:8080/"
    },
    "id": "d0Xhtax6zA8v",
    "outputId": "f7826cc0-b0ef-48b6-ede7-7ff43722a1f2"
   },
   "outputs": [
    {
     "data": {
      "text/plain": [
       "man king stands on the carpet and sees woman queen"
      ]
     },
     "execution_count": 43,
     "metadata": {
      "tags": []
     },
     "output_type": "execute_result"
    }
   ],
   "source": [
    "doc"
   ]
  },
  {
   "cell_type": "code",
   "execution_count": null,
   "metadata": {
    "colab": {
     "base_uri": "https://localhost:8080/"
    },
    "id": "K34HpkmWaEqV",
    "outputId": "776609dd-1895-4416-c4d2-2da33b34d58a"
   },
   "outputs": [
    {
     "data": {
      "text/plain": [
       "0.72526103"
      ]
     },
     "execution_count": 45,
     "metadata": {
      "tags": []
     },
     "output_type": "execute_result"
    }
   ],
   "source": [
    "# doc[1] = king, doc[9] = queen \n",
    "doc[1].similarity(doc[9])"
   ]
  },
  {
   "cell_type": "markdown",
   "metadata": {
    "id": "FXm7aeh4hES5"
   },
   "source": [
    "Find similarity between King and carpet "
   ]
  },
  {
   "cell_type": "code",
   "execution_count": null,
   "metadata": {
    "colab": {
     "base_uri": "https://localhost:8080/"
    },
    "id": "vSqwqBrUcwMB",
    "outputId": "43e2cdfc-13fa-40a1-cdd7-67498615d7fd"
   },
   "outputs": [
    {
     "data": {
      "text/plain": [
       "0.20431946"
      ]
     },
     "execution_count": 46,
     "metadata": {
      "tags": []
     },
     "output_type": "execute_result"
    }
   ],
   "source": [
    "# doc[5] = carpet \n",
    "doc[1].similarity(doc[5])"
   ]
  },
  {
   "cell_type": "markdown",
   "metadata": {
    "id": "YHsyuyS3h65C"
   },
   "source": [
    "Check if king - man + woman = queen. We will multiply vectors for 'man' and 'woman' by two, because subtracting the vector for 'man' and adding the vector for 'woman' will do little to the original vector for “king”, likely because those “man” and “woman” are related themselves."
   ]
  },
  {
   "cell_type": "code",
   "execution_count": null,
   "metadata": {
    "id": "bgeg1mqexA4J"
   },
   "outputs": [],
   "source": [
    "from scipy.spatial import distance  # Distance computations"
   ]
  },
  {
   "cell_type": "code",
   "execution_count": null,
   "metadata": {
    "id": "Bfd7cpLWi0FS"
   },
   "outputs": [],
   "source": [
    "# Format the vocabulary for use in the distance function\n",
    "vectors = [token.vector for token in doc]\n",
    "vectors = np.array(vectors)"
   ]
  },
  {
   "cell_type": "code",
   "execution_count": null,
   "metadata": {
    "colab": {
     "base_uri": "https://localhost:8080/"
    },
    "id": "l98nwXm4xTuH",
    "outputId": "36e0005a-2b9d-46ba-aa39-b3d96d3e26d7"
   },
   "outputs": [
    {
     "data": {
      "text/plain": [
       "array([[-0.1731  ,  0.20663 ,  0.016543, ...,  0.16665 , -0.38341 ,\n",
       "        -0.073803],\n",
       "       [ 0.31542 , -0.35068 ,  0.42923 , ...,  0.11427 ,  0.58221 ,\n",
       "        -0.10559 ],\n",
       "       [-0.16884 ,  0.079022, -0.28417 , ..., -0.03371 ,  0.3172  ,\n",
       "        -0.48384 ],\n",
       "       ...,\n",
       "       [-0.064568,  0.26282 , -0.19812 , ...,  0.047125,  0.34753 ,\n",
       "        -0.12601 ],\n",
       "       [ 0.025567,  0.27885 , -0.16992 , ..., -0.018582, -0.10128 ,\n",
       "        -0.34728 ],\n",
       "       [ 0.4095  , -0.22693 ,  0.25362 , ..., -0.34563 ,  0.12043 ,\n",
       "        -0.36494 ]], dtype=float32)"
      ]
     },
     "execution_count": 51,
     "metadata": {
      "tags": []
     },
     "output_type": "execute_result"
    }
   ],
   "source": [
    "vectors"
   ]
  },
  {
   "cell_type": "code",
   "execution_count": null,
   "metadata": {
    "id": "UYLQSPMrzRrQ"
   },
   "outputs": [],
   "source": [
    "# king - man + woman \n",
    "v =  doc[1].vector - (doc[0].vector*2) + (doc[8].vector*2)"
   ]
  },
  {
   "cell_type": "code",
   "execution_count": null,
   "metadata": {
    "id": "fg60m-CjxSVn"
   },
   "outputs": [],
   "source": [
    "# Find the closest word below \n",
    "# v : king - man + woman = queen \n",
    "\n",
    "closest_index = distance.cdist(np.expand_dims(v, axis = 0), vectors, metric = 'cosine').argmin()\n",
    "output_word = doc[closest_index].text"
   ]
  },
  {
   "cell_type": "code",
   "execution_count": null,
   "metadata": {
    "colab": {
     "base_uri": "https://localhost:8080/"
    },
    "id": "JzIQvd6m5xYh",
    "outputId": "373ceec8-f7b5-44a0-90b2-ae28666c5421"
   },
   "outputs": [
    {
     "data": {
      "text/plain": [
       "array([[0.96129153, 0.49080751, 0.90049833, 0.88335325, 0.82939904,\n",
       "        0.78892341, 0.81655719, 0.87660343, 0.42924522, 0.33343582]])"
      ]
     },
     "execution_count": 54,
     "metadata": {
      "tags": []
     },
     "output_type": "execute_result"
    }
   ],
   "source": [
    "distance.cdist(np.expand_dims(v, axis = 0), vectors, metric = 'cosine')"
   ]
  },
  {
   "cell_type": "code",
   "execution_count": null,
   "metadata": {
    "colab": {
     "base_uri": "https://localhost:8080/"
    },
    "id": "s5eSGXGHzuZB",
    "outputId": "bba1aef1-18d3-455d-b8ac-8de3c01f32ac"
   },
   "outputs": [
    {
     "data": {
      "text/plain": [
       "man king stands on the carpet and sees woman queen"
      ]
     },
     "execution_count": 57,
     "metadata": {
      "tags": []
     },
     "output_type": "execute_result"
    }
   ],
   "source": [
    "doc"
   ]
  },
  {
   "cell_type": "code",
   "execution_count": null,
   "metadata": {
    "colab": {
     "base_uri": "https://localhost:8080/",
     "height": 35
    },
    "id": "AjVLpbCG9829",
    "outputId": "742a3cc8-339d-45ee-aa97-7f8faa67bb66"
   },
   "outputs": [
    {
     "data": {
      "application/vnd.google.colaboratory.intrinsic+json": {
       "type": "string"
      },
      "text/plain": [
       "'queen'"
      ]
     },
     "execution_count": 56,
     "metadata": {
      "tags": []
     },
     "output_type": "execute_result"
    }
   ],
   "source": [
    "output_word"
   ]
  },
  {
   "cell_type": "markdown",
   "metadata": {
    "id": "wwntpvV54Mc4"
   },
   "source": [
    "## 5. FastText\n",
    "\n",
    "[FastText](https://github.com/facebookresearch/fastText) is an extension of word2vec. FastText was developed by the team of Tomas Mikolov who proposed the word2vec framework in 2013.\n",
    "\n",
    "The main improvement of FastText over the original word2vec vectors is the **inclusion of character** [**n-grams**](https://en.wikipedia.org/wiki/N-gram), which allows computing word representations for words that did not appear in the training data (**“out-of-vocabulary” words**)."
   ]
  },
  {
   "cell_type": "code",
   "execution_count": null,
   "metadata": {
    "colab": {
     "base_uri": "https://localhost:8080/"
    },
    "id": "s8sfT_Z24MDw",
    "outputId": "7fbbcd2c-9216-4db4-c4b1-036a8b61b106"
   },
   "outputs": [
    {
     "name": "stdout",
     "output_type": "stream",
     "text": [
      "/usr/local/lib/python3.6/dist-packages/pip/_internal/commands/install.py:283: UserWarning: Disabling all use of wheels due to the use of --build-options / --global-options / --install-options.\n",
      "  cmdoptions.check_install_build_global(options)\n",
      "Requirement already satisfied: Cython in /usr/local/lib/python3.6/dist-packages (0.29.21)\n",
      "Collecting fasttext\n",
      "\u001b[?25l  Downloading https://files.pythonhosted.org/packages/f8/85/e2b368ab6d3528827b147fdb814f8189acc981a4bc2f99ab894650e05c40/fasttext-0.9.2.tar.gz (68kB)\n",
      "\u001b[K     |████████████████████████████████| 71kB 3.1MB/s \n",
      "\u001b[?25hRequirement already satisfied: pybind11>=2.2 in /usr/local/lib/python3.6/dist-packages (from fasttext) (2.6.0)\n",
      "Requirement already satisfied: setuptools>=0.7.0 in /usr/local/lib/python3.6/dist-packages (from fasttext) (50.3.2)\n",
      "Requirement already satisfied: numpy in /usr/local/lib/python3.6/dist-packages (from fasttext) (1.18.5)\n",
      "Building wheels for collected packages: fasttext\n",
      "  Building wheel for fasttext (setup.py) ... \u001b[?25l\u001b[?25hdone\n",
      "  Created wheel for fasttext: filename=fasttext-0.9.2-cp36-cp36m-linux_x86_64.whl size=3023091 sha256=5a915ecad3833f50d3a263d0c28444e0b27dad99f78d2bf9aaca03369d828a3b\n",
      "  Stored in directory: /root/.cache/pip/wheels/98/ba/7f/b154944a1cf5a8cee91c154b75231136cc3a3321ab0e30f592\n",
      "Successfully built fasttext\n",
      "Installing collected packages: fasttext\n",
      "Successfully installed fasttext-0.9.2\n"
     ]
    }
   ],
   "source": [
    "!pip install Cython --install-option=\"--no-cython-compile\"\n",
    "!pip install fasttext"
   ]
  },
  {
   "cell_type": "code",
   "execution_count": null,
   "metadata": {
    "id": "e91Bb28Q6mmi"
   },
   "outputs": [],
   "source": [
    "# download pre-trained language word vectors from one of 157 languges https://fasttext.cc/docs/en/crawl-vectors.html\n",
    "# it will take some time, about 5 minutes\n",
    "\n",
    "import fasttext\n",
    "import fasttext.util"
   ]
  },
  {
   "cell_type": "code",
   "execution_count": null,
   "metadata": {
    "colab": {
     "background_save": true,
     "base_uri": "https://localhost:8080/"
    },
    "id": "gu6wVBQ89-kd",
    "outputId": "aa7db9b4-d770-4935-e738-29fe6e2994d2"
   },
   "outputs": [
    {
     "name": "stdout",
     "output_type": "stream",
     "text": [
      "Downloading https://dl.fbaipublicfiles.com/fasttext/vectors-crawl/cc.en.300.bin.gz\n",
      "Buffered data was truncated after reaching the output size limit."
     ]
    }
   ],
   "source": [
    "fasttext.util.download_model('en', if_exists='ignore')     # English"
   ]
  },
  {
   "cell_type": "code",
   "execution_count": null,
   "metadata": {
    "id": "Y3owj1Ml0K-d"
   },
   "outputs": [],
   "source": [
    "ft = fasttext.load_model('cc.en.300.bin')"
   ]
  },
  {
   "cell_type": "code",
   "execution_count": null,
   "metadata": {
    "colab": {
     "base_uri": "https://localhost:8080/"
    },
    "id": "FnJKqcnl7l_L",
    "outputId": "711e6e50-0e28-4473-eeb3-fde27171d04f"
   },
   "outputs": [
    {
     "data": {
      "text/plain": [
       "(300,)"
      ]
     },
     "execution_count": 4,
     "metadata": {
      "tags": []
     },
     "output_type": "execute_result"
    }
   ],
   "source": [
    "ft.get_word_vector('king').shape"
   ]
  },
  {
   "cell_type": "markdown",
   "metadata": {
    "id": "b3Dv2Fun_ExK"
   },
   "source": [
    "Test model ability to create vectors for unknown words."
   ]
  },
  {
   "cell_type": "code",
   "execution_count": null,
   "metadata": {
    "colab": {
     "base_uri": "https://localhost:8080/"
    },
    "id": "1Om1eNJ-_h-J",
    "outputId": "4a125929-9562-428b-9b82-ce273a52e9c5"
   },
   "outputs": [
    {
     "data": {
      "text/plain": [
       "True"
      ]
     },
     "execution_count": 5,
     "metadata": {
      "tags": []
     },
     "output_type": "execute_result"
    }
   ],
   "source": [
    "'king' in ft.words"
   ]
  },
  {
   "cell_type": "code",
   "execution_count": null,
   "metadata": {
    "colab": {
     "base_uri": "https://localhost:8080/"
    },
    "id": "etfyb0xl--1M",
    "outputId": "8cbc2cdc-e664-450b-aab7-c5a60018f6e7"
   },
   "outputs": [
    {
     "data": {
      "text/plain": [
       "True"
      ]
     },
     "execution_count": 6,
     "metadata": {
      "tags": []
     },
     "output_type": "execute_result"
    }
   ],
   "source": [
    "'burgerking' in ft.words"
   ]
  },
  {
   "cell_type": "code",
   "execution_count": null,
   "metadata": {
    "colab": {
     "base_uri": "https://localhost:8080/"
    },
    "id": "kMR5VDgd_Pfg",
    "outputId": "105de884-75bb-4395-e0fd-bf5dba91a769"
   },
   "outputs": [
    {
     "data": {
      "text/plain": [
       "False"
      ]
     },
     "execution_count": 7,
     "metadata": {
      "tags": []
     },
     "output_type": "execute_result"
    }
   ],
   "source": [
    "'king-warrior' in ft.words"
   ]
  },
  {
   "cell_type": "code",
   "execution_count": null,
   "metadata": {
    "colab": {
     "base_uri": "https://localhost:8080/"
    },
    "id": "UTLZvg5e_cBQ",
    "outputId": "035e0930-b902-4945-d776-b6737b7462a3"
   },
   "outputs": [
    {
     "data": {
      "text/plain": [
       "[(0.7550359964370728, 'kings'),\n",
       " (0.7068519592285156, 'queen'),\n",
       " (0.7060439586639404, 'king-'),\n",
       " (0.6811205148696899, 'king.'),\n",
       " (0.660710871219635, 'king.The'),\n",
       " (0.6591265797615051, 'King'),\n",
       " (0.6495252251625061, 'prince'),\n",
       " (0.6278106570243835, '-king'),\n",
       " (0.6183920502662659, 'monarch'),\n",
       " (0.6070184707641602, 'queen-mother')]"
      ]
     },
     "execution_count": 8,
     "metadata": {
      "tags": []
     },
     "output_type": "execute_result"
    }
   ],
   "source": [
    "ft.get_nearest_neighbors('king')"
   ]
  },
  {
   "cell_type": "code",
   "execution_count": null,
   "metadata": {
    "colab": {
     "base_uri": "https://localhost:8080/"
    },
    "id": "D7S0lXL0_1D7",
    "outputId": "9e0889b6-6fe3-4331-bd20-ae6018014788"
   },
   "outputs": [
    {
     "data": {
      "text/plain": [
       "[(0.6571484208106995, 'mcdonalds'),\n",
       " (0.643631100654602, 'tacobell'),\n",
       " (0.6353889107704163, 'macdonalds'),\n",
       " (0.6343632340431213, 'Mcdonalds'),\n",
       " (0.6275104284286499, 'mcds'),\n",
       " (0.6220166087150574, 'pizzahut'),\n",
       " (0.6129778623580933, 'arbys'),\n",
       " (0.6086134314537048, 'BurgerKing'),\n",
       " (0.592319667339325, 'applebees'),\n",
       " (0.5817458629608154, 'wendys')]"
      ]
     },
     "execution_count": 9,
     "metadata": {
      "tags": []
     },
     "output_type": "execute_result"
    }
   ],
   "source": [
    "ft.get_nearest_neighbors('burgerking')"
   ]
  },
  {
   "cell_type": "code",
   "execution_count": null,
   "metadata": {
    "colab": {
     "base_uri": "https://localhost:8080/"
    },
    "id": "08DO8xhs_81M",
    "outputId": "cad32017-0f73-48f5-e2f0-55da2dafd0fd"
   },
   "outputs": [
    {
     "name": "stdout",
     "output_type": "stream",
     "text": [
      "[(0.43609192967414856,\n",
      "  'strachanenlightenmententrepreneursentrepreneurshipenvironmentalismEric'),\n",
      " (0.4255003333091736, 'hunter-warrior'),\n",
      " (0.39559242129325867, 'NinjaPirateZombieRobot'),\n",
      " (0.3859368860721588,\n",
      "  'deblogueroreflejoantecedentesexitlacuachebateysuteindesignableabsorbersexilatifundiosexibrezarsutemultiétnicosexiplinrapobrezarcorrentosoVd.lazadafisiochillidomabrezarsico-chuzaoutcolodrablogueroin'),\n",
      " (0.3846653997898102,\n",
      "  'ResultsLadderTeamsBluesBrumbiesBullsCheetahsChiefsCrusadersForceHighlandersHurricanesJaguaresKingsLionsRebelsRedsSharksStormersSunwolvesWaratahsPlayersTippingFantasyRugby'),\n",
      " (0.37958475947380066,\n",
      "  'FriendsHungryForAppsSharewareOnSaleDonationCoderGhacks'),\n",
      " (0.3776894211769104,\n",
      "  'ESTATERETAILCONSUMERPHONESCARSBIKESAPPSINTERNETTABLETSCOMPUTERSSOCIETYPOLITICSLAWCRIMEENVIRONMENTSCIENCEARTSCELEBRITIESSPORTSSPECIALSFIRST'),\n",
      " (0.37076932191848755,\n",
      "  'ResultsTeamsBroncosBulldogsCowboysDragonsEelsKnightsPanthersRabbitohsRaidersRoostersSea-EaglesSharksStormTigersTitansWarriorsPlayer'),\n",
      " (0.3690166175365448, 'racepro-lifeprofessorsproverbspsychologypublic'),\n",
      " (0.3687925338745117,\n",
      "  'videoAnglicansAtheistsBibleBishopsBloggingBooksBrooklynChaplainsChurchesCNEWAConvertsDeaconsEastern')]\n"
     ]
    }
   ],
   "source": [
    "pprint.pprint(ft.get_nearest_neighbors('king-warrior'))"
   ]
  },
  {
   "cell_type": "markdown",
   "metadata": {
    "id": "lvE181s7EVO3"
   },
   "source": [
    "## 6. ELMo (Embeddings from Language Models)\n",
    "\n",
    "Unlike traditional word embeddings such as word2vec and GLoVe, the ELMo vector assigned to a token or word depends on **current context** and is actually a function of the entire sentence containing that word. So, the same word can have different word vectors under different contexts. Also,  ELMo representations are purely character based, so they are not limited to any predefined vocabulary.\n",
    "\n",
    "\n",
    "Description from official site: \n",
    "\n",
    "\n",
    "**[ELMo](https://allennlp.org/elmo)** is a deep contextualized word representation that models both **(1) complex characteristics** of word use (e.g., syntax and semantics), and **(2)** how these uses vary across **linguistic contexts** (i.e., to model polysemy). These word vectors are learned functions of the internal states of a deep bidirectional language model (biLM), which is pre-trained on a large text corpus. They can be easily added to existing models and significantly improve the state of the art across a broad range of challenging NLP problems, including question answering, textual entailment and sentiment analysis. "
   ]
  },
  {
   "cell_type": "code",
   "execution_count": null,
   "metadata": {
    "colab": {
     "base_uri": "https://localhost:8080/"
    },
    "id": "3ZBZdmGyRAHd",
    "outputId": "6ad10d5a-dfb5-472c-d639-bbcedd1537ee"
   },
   "outputs": [
    {
     "name": "stdout",
     "output_type": "stream",
     "text": [
      "TensorFlow 1.x selected.\n"
     ]
    }
   ],
   "source": [
    "# use tensorflow 1.x for ELMo, because trere are still no ELMo for tensorflow 2.0\n",
    "\n",
    "%tensorflow_version 1.x"
   ]
  },
  {
   "cell_type": "code",
   "execution_count": null,
   "metadata": {
    "id": "T5vfQ_W2ABqG"
   },
   "outputs": [],
   "source": [
    "import tensorflow_hub as hub\n",
    "import tensorflow as tf"
   ]
  },
  {
   "cell_type": "code",
   "execution_count": null,
   "metadata": {
    "id": "cud78zEfKJNy"
   },
   "outputs": [],
   "source": [
    "# Download pretrained ELMo model from Tensorflow Hub https://tfhub.dev/google/elmo/3\n",
    "\n",
    "elmo = hub.Module(\"https://tfhub.dev/google/elmo/3\", trainable=True)"
   ]
  },
  {
   "cell_type": "code",
   "execution_count": null,
   "metadata": {
    "colab": {
     "base_uri": "https://localhost:8080/"
    },
    "id": "GW5eWPqCKOFz",
    "outputId": "637b15ef-c67f-4938-fa65-d064dbc476c6"
   },
   "outputs": [
    {
     "data": {
      "text/plain": [
       "['king arthur, also called arthur or aathur pendragon, legendary british king who appears in a cycle of medieval romances (known as the matter of britain) as the sovereign of a knightly fellowship of the round table.',\n",
       " 'it is not certain how these legends originated or whether the figure of arthur was based on a historical person.',\n",
       " 'the legend possibly originated either in wales or in those parts of northern britain inhabited by brythonic-speaking celts.',\n",
       " 'for a fuller treatment of the stories about king arthur, see also arthurian legend.']"
      ]
     },
     "execution_count": 16,
     "metadata": {
      "tags": []
     },
     "output_type": "execute_result"
    }
   ],
   "source": [
    "sentences =  \\\n",
    "['king arthur, also called arthur or aathur pendragon, legendary british king who appears in a cycle of \\\n",
    "medieval romances (known as the matter of britain) as the sovereign of a knightly fellowship of the round table.', \n",
    "'it is not certain how these legends originated or whether the figure of arthur was based on a historical person.', \n",
    "'the legend possibly originated either in wales or in those parts of northern britain inhabited by brythonic-speaking celts.', \n",
    "'for a fuller treatment of the stories about king arthur, see also arthurian legend.']"
   ]
  },
  {
   "cell_type": "markdown",
   "metadata": {
    "id": "2J2HsCMlCPk6"
   },
   "source": [
    "In order to send sentences to the model we need to split them into the arrays of words and pad arrays to the same length. Also we will create 'mask' array, that will show whether element is a real word or a padding symbol (in our case - '_'). We will use 'mask' array for visualization later, to show only real words. "
   ]
  },
  {
   "cell_type": "code",
   "execution_count": null,
   "metadata": {
    "id": "in6aekmEUMsZ"
   },
   "outputs": [],
   "source": [
    "words = []\n",
    "mask = []   # whether element is a real word or a padding symbol\n",
    "masked_words = []\n",
    "\n",
    "for sent in sentences:\n",
    "  splitted = sent.split()\n",
    "  for i in range(36):\n",
    "    try:\n",
    "      words.append(splitted[i])\n",
    "    except:\n",
    "      words.append('_')\n",
    "\n",
    "for word in words:\n",
    "  if word == \"_\":\n",
    "    mask.append(False)\n",
    "  else:\n",
    "    mask.append(True)\n",
    "    masked_words.append(word)"
   ]
  },
  {
   "cell_type": "code",
   "execution_count": null,
   "metadata": {
    "colab": {
     "base_uri": "https://localhost:8080/"
    },
    "id": "ruJQINKCBHhL",
    "outputId": "885780ce-9ee5-4c6a-ba67-4dd82b39619e"
   },
   "outputs": [
    {
     "data": {
      "text/plain": [
       "88"
      ]
     },
     "execution_count": 18,
     "metadata": {
      "tags": []
     },
     "output_type": "execute_result"
    }
   ],
   "source": [
    "len(masked_words)"
   ]
  },
  {
   "cell_type": "code",
   "execution_count": null,
   "metadata": {
    "colab": {
     "base_uri": "https://localhost:8080/"
    },
    "id": "tC3t_JfhATtB",
    "outputId": "2398b0c5-5973-49af-84d4-01fcebcd18bb"
   },
   "outputs": [
    {
     "data": {
      "text/plain": [
       "['king',\n",
       " 'arthur,',\n",
       " 'also',\n",
       " 'called',\n",
       " 'arthur',\n",
       " 'or',\n",
       " 'aathur',\n",
       " 'pendragon,',\n",
       " 'legendary',\n",
       " 'british',\n",
       " 'king',\n",
       " 'who',\n",
       " 'appears',\n",
       " 'in',\n",
       " 'a',\n",
       " 'cycle',\n",
       " 'of',\n",
       " 'medieval',\n",
       " 'romances',\n",
       " '(known',\n",
       " 'as',\n",
       " 'the',\n",
       " 'matter',\n",
       " 'of',\n",
       " 'britain)',\n",
       " 'as',\n",
       " 'the',\n",
       " 'sovereign',\n",
       " 'of',\n",
       " 'a',\n",
       " 'knightly',\n",
       " 'fellowship',\n",
       " 'of',\n",
       " 'the',\n",
       " 'round',\n",
       " 'table.',\n",
       " 'it',\n",
       " 'is',\n",
       " 'not',\n",
       " 'certain',\n",
       " 'how',\n",
       " 'these',\n",
       " 'legends',\n",
       " 'originated',\n",
       " 'or',\n",
       " 'whether',\n",
       " 'the',\n",
       " 'figure',\n",
       " 'of',\n",
       " 'arthur',\n",
       " 'was',\n",
       " 'based',\n",
       " 'on',\n",
       " 'a',\n",
       " 'historical',\n",
       " 'person.',\n",
       " 'the',\n",
       " 'legend',\n",
       " 'possibly',\n",
       " 'originated',\n",
       " 'either',\n",
       " 'in',\n",
       " 'wales',\n",
       " 'or',\n",
       " 'in',\n",
       " 'those',\n",
       " 'parts',\n",
       " 'of',\n",
       " 'northern',\n",
       " 'britain',\n",
       " 'inhabited',\n",
       " 'by',\n",
       " 'brythonic-speaking',\n",
       " 'celts.',\n",
       " 'for',\n",
       " 'a',\n",
       " 'fuller',\n",
       " 'treatment',\n",
       " 'of',\n",
       " 'the',\n",
       " 'stories',\n",
       " 'about',\n",
       " 'king',\n",
       " 'arthur,',\n",
       " 'see',\n",
       " 'also',\n",
       " 'arthurian',\n",
       " 'legend.']"
      ]
     },
     "execution_count": 19,
     "metadata": {
      "tags": []
     },
     "output_type": "execute_result"
    }
   ],
   "source": [
    "masked_words"
   ]
  },
  {
   "cell_type": "markdown",
   "metadata": {
    "id": "qkDSfBYdJFC_"
   },
   "source": [
    "Create embeddings with ELMo:"
   ]
  },
  {
   "cell_type": "code",
   "execution_count": null,
   "metadata": {
    "colab": {
     "base_uri": "https://localhost:8080/"
    },
    "id": "LoEjgebFMopG",
    "outputId": "ce96da7f-0938-4977-e6ab-8ab7bb5fe174"
   },
   "outputs": [
    {
     "name": "stdout",
     "output_type": "stream",
     "text": [
      "INFO:tensorflow:Saver not created because there are no variables in the graph to restore\n"
     ]
    },
    {
     "name": "stderr",
     "output_type": "stream",
     "text": [
      "INFO:tensorflow:Saver not created because there are no variables in the graph to restore\n"
     ]
    }
   ],
   "source": [
    "embeddings = elmo(\n",
    "    sentences,\n",
    "    signature=\"default\",\n",
    "    as_dict=True)[\"elmo\"]"
   ]
  },
  {
   "cell_type": "markdown",
   "metadata": {
    "id": "ZO-fH5ewJLQq"
   },
   "source": [
    "Convert Tensorflow tensors to numpy array."
   ]
  },
  {
   "cell_type": "code",
   "execution_count": null,
   "metadata": {
    "colab": {
     "base_uri": "https://localhost:8080/"
    },
    "id": "QrfigfFxNef1",
    "outputId": "ab61c901-9527-4d9e-e049-a853bdb7f7cf"
   },
   "outputs": [
    {
     "name": "stdout",
     "output_type": "stream",
     "text": [
      "CPU times: user 4.67 s, sys: 2.16 s, total: 6.82 s\n",
      "Wall time: 45.9 s\n"
     ]
    }
   ],
   "source": [
    "%%time\n",
    "with tf.Session() as sess:\n",
    "  sess.run(tf.global_variables_initializer())\n",
    "  sess.run(tf.tables_initializer())\n",
    "  x = sess.run(embeddings)"
   ]
  },
  {
   "cell_type": "code",
   "execution_count": null,
   "metadata": {
    "colab": {
     "base_uri": "https://localhost:8080/"
    },
    "id": "iUSvgkuZOILL",
    "outputId": "84f34e93-999a-45af-bb2e-336ee712aec2"
   },
   "outputs": [
    {
     "data": {
      "text/plain": [
       "(4, 36, 1024)"
      ]
     },
     "execution_count": 22,
     "metadata": {
      "tags": []
     },
     "output_type": "execute_result"
    }
   ],
   "source": [
    "x.shape"
   ]
  },
  {
   "cell_type": "code",
   "execution_count": null,
   "metadata": {
    "colab": {
     "base_uri": "https://localhost:8080/"
    },
    "id": "Nf_0UouAS4-i",
    "outputId": "1b242f11-df3a-4006-fde8-4eed71fae38a"
   },
   "outputs": [
    {
     "data": {
      "text/plain": [
       "(144, 1024)"
      ]
     },
     "execution_count": 23,
     "metadata": {
      "tags": []
     },
     "output_type": "execute_result"
    }
   ],
   "source": [
    "embs = x.reshape(-1, 1024)\n",
    "embs.shape"
   ]
  },
  {
   "cell_type": "code",
   "execution_count": null,
   "metadata": {
    "colab": {
     "base_uri": "https://localhost:8080/"
    },
    "id": "k7XZpPesCquG",
    "outputId": "3f825b1f-9559-4c41-b521-802ded3bafe6"
   },
   "outputs": [
    {
     "data": {
      "text/plain": [
       "(88, 1024)"
      ]
     },
     "execution_count": 24,
     "metadata": {
      "tags": []
     },
     "output_type": "execute_result"
    }
   ],
   "source": [
    "masked_embs = embs[mask]\n",
    "masked_embs.shape"
   ]
  },
  {
   "cell_type": "code",
   "execution_count": null,
   "metadata": {
    "colab": {
     "base_uri": "https://localhost:8080/"
    },
    "id": "kFeJ5o40A1t_",
    "outputId": "48b20346-fb85-4dfa-c82d-4e475ca19726"
   },
   "outputs": [
    {
     "data": {
      "text/plain": [
       "array([[-0.44123304, -0.17923462,  0.47934186, ..., -0.33612695,\n",
       "         0.7773374 ,  0.08487646],\n",
       "       [-0.04233672,  0.06511499,  0.5208795 , ..., -0.18671162,\n",
       "         0.50683296,  0.09752718],\n",
       "       [-0.6098745 ,  0.15565675,  0.4779752 , ...,  0.1553448 ,\n",
       "         0.16912039,  0.2637326 ],\n",
       "       ...,\n",
       "       [-0.15875362,  0.08522645,  0.35626957, ...,  0.32210034,\n",
       "         0.30930713,  0.21581416],\n",
       "       [ 0.1272653 , -0.46750683,  0.12438285, ...,  0.04791181,\n",
       "         1.1312263 ,  0.10167544],\n",
       "       [-0.29616615,  0.35837   , -0.8117656 , ..., -0.21540493,\n",
       "         0.6694703 ,  0.16377544]], dtype=float32)"
      ]
     },
     "execution_count": 25,
     "metadata": {
      "tags": []
     },
     "output_type": "execute_result"
    }
   ],
   "source": [
    "masked_embs"
   ]
  },
  {
   "cell_type": "markdown",
   "metadata": {
    "id": "bubmY1JNSNyy"
   },
   "source": [
    "Visualize embeddings using PCA"
   ]
  },
  {
   "cell_type": "code",
   "execution_count": null,
   "metadata": {
    "id": "Cg7utRgbSBA2"
   },
   "outputs": [],
   "source": [
    "# PCA : 주성분 분석\n",
    "# 변수들의 전체분산 대부분을 소수의 주성분을 통하여 설명하는 기법 \n",
    "# -> 기존 변수들의 선형결합을 이용해 새로운 변수들(새로운 좌표)로 변환 \n",
    "\n",
    "from sklearn.decomposition import PCA\n",
    "\n",
    "pca = PCA(n_components=10)\n",
    "y = pca.fit_transform(masked_embs)\n",
    "\n",
    "\n",
    "# T-SNE : T-Stochastic Neighbor Embedding, T-분포 확률적 임베딩 \n",
    "# 고차원의 데이터를 저차원의 데이터로 거리 관계를 유지하며 임베딩 시키는 기법 \n",
    "# -> 직관적으로 데이터의 구조를 시각화 (ex. 10차원 데이터 -> 2차원 평면 시각화)\n",
    "\n",
    "from sklearn.manifold import TSNE\n",
    "y = TSNE(n_components=2).fit_transform(y)"
   ]
  },
  {
   "cell_type": "code",
   "execution_count": null,
   "metadata": {
    "id": "efqZ1Xy2STHm"
   },
   "outputs": [],
   "source": [
    "import plotly as py\n",
    "import plotly.graph_objs as go\n",
    "\n",
    "\n",
    "data = [\n",
    "    go.Scatter(\n",
    "        x=[i[0] for i in y],\n",
    "        y=[i[1] for i in y],\n",
    "        mode='markers',\n",
    "        text=[i for i in masked_words],\n",
    "    marker=dict(\n",
    "        size=16,\n",
    "        color = [len(i) for i in masked_words], #set color equal to a variable\n",
    "        opacity= 0.8,\n",
    "        colorscale='Viridis',\n",
    "        showscale=False\n",
    "    )\n",
    "    )\n",
    "]\n",
    "layout = go.Layout()\n",
    "layout = dict(\n",
    "              yaxis = dict(zeroline = False),\n",
    "              xaxis = dict(zeroline = False)\n",
    "             )\n",
    "fig = go.Figure(data=data, layout=layout)"
   ]
  },
  {
   "cell_type": "code",
   "execution_count": null,
   "metadata": {
    "colab": {
     "base_uri": "https://localhost:8080/",
     "height": 542
    },
    "id": "BU7uQvt7GWo-",
    "outputId": "c9c1da80-1fc6-433a-de8e-9ab21f68b46e"
   },
   "outputs": [
    {
     "data": {
      "text/html": [
       "<html>\n",
       "<head><meta charset=\"utf-8\" /></head>\n",
       "<body>\n",
       "    <div>\n",
       "            <script src=\"https://cdnjs.cloudflare.com/ajax/libs/mathjax/2.7.5/MathJax.js?config=TeX-AMS-MML_SVG\"></script><script type=\"text/javascript\">if (window.MathJax) {MathJax.Hub.Config({SVG: {font: \"STIX-Web\"}});}</script>\n",
       "                <script type=\"text/javascript\">window.PlotlyConfig = {MathJaxConfig: 'local'};</script>\n",
       "        <script src=\"https://cdn.plot.ly/plotly-latest.min.js\"></script>    \n",
       "            <div id=\"0ea7b937-cc76-4aa9-9348-7bde37143968\" class=\"plotly-graph-div\" style=\"height:525px; width:100%;\"></div>\n",
       "            <script type=\"text/javascript\">\n",
       "                \n",
       "                    window.PLOTLYENV=window.PLOTLYENV || {};\n",
       "                    \n",
       "                if (document.getElementById(\"0ea7b937-cc76-4aa9-9348-7bde37143968\")) {\n",
       "                    Plotly.newPlot(\n",
       "                        '0ea7b937-cc76-4aa9-9348-7bde37143968',\n",
       "                        [{\"marker\": {\"color\": [4, 7, 4, 6, 6, 2, 6, 10, 9, 7, 4, 3, 7, 2, 1, 5, 2, 8, 8, 6, 2, 3, 6, 2, 8, 2, 3, 9, 2, 1, 8, 10, 2, 3, 5, 6, 2, 2, 3, 7, 3, 5, 7, 10, 2, 7, 3, 6, 2, 6, 3, 5, 2, 1, 10, 7, 3, 6, 8, 10, 6, 2, 5, 2, 2, 5, 5, 2, 8, 7, 9, 2, 18, 6, 3, 1, 6, 9, 2, 3, 7, 5, 4, 7, 3, 4, 9, 7], \"colorscale\": [[0.0, \"#440154\"], [0.1111111111111111, \"#482878\"], [0.2222222222222222, \"#3e4989\"], [0.3333333333333333, \"#31688e\"], [0.4444444444444444, \"#26828e\"], [0.5555555555555556, \"#1f9e89\"], [0.6666666666666666, \"#35b779\"], [0.7777777777777778, \"#6ece58\"], [0.8888888888888888, \"#b5de2b\"], [1.0, \"#fde725\"]], \"opacity\": 0.8, \"showscale\": false, \"size\": 16}, \"mode\": \"markers\", \"text\": [\"king\", \"arthur,\", \"also\", \"called\", \"arthur\", \"or\", \"aathur\", \"pendragon,\", \"legendary\", \"british\", \"king\", \"who\", \"appears\", \"in\", \"a\", \"cycle\", \"of\", \"medieval\", \"romances\", \"(known\", \"as\", \"the\", \"matter\", \"of\", \"britain)\", \"as\", \"the\", \"sovereign\", \"of\", \"a\", \"knightly\", \"fellowship\", \"of\", \"the\", \"round\", \"table.\", \"it\", \"is\", \"not\", \"certain\", \"how\", \"these\", \"legends\", \"originated\", \"or\", \"whether\", \"the\", \"figure\", \"of\", \"arthur\", \"was\", \"based\", \"on\", \"a\", \"historical\", \"person.\", \"the\", \"legend\", \"possibly\", \"originated\", \"either\", \"in\", \"wales\", \"or\", \"in\", \"those\", \"parts\", \"of\", \"northern\", \"britain\", \"inhabited\", \"by\", \"brythonic-speaking\", \"celts.\", \"for\", \"a\", \"fuller\", \"treatment\", \"of\", \"the\", \"stories\", \"about\", \"king\", \"arthur,\", \"see\", \"also\", \"arthurian\", \"legend.\"], \"type\": \"scatter\", \"x\": [19.76820182800293, 18.06068992614746, -3.874768018722534, -3.0854341983795166, 16.941125869750977, 2.187540054321289, 13.099345207214355, 11.877039909362793, 9.554068565368652, 7.187236785888672, 14.357358932495117, 2.192735433578491, 3.7136054039001465, 7.0132670402526855, -23.007831573486328, -1.6237387657165527, 8.72935962677002, 16.63125991821289, 4.5393195152282715, -1.060372233390808, 0.22247035801410675, -17.21292495727539, -6.620138168334961, 10.910346984863281, 2.870492458343506, 3.9298346042633057, -18.04960823059082, -8.874713897705078, 13.315598487854004, -18.783811569213867, -7.676112651824951, -3.7610795497894287, 7.8437066078186035, -23.861431121826172, -2.206752300262451, -28.567724227905273, -18.534751892089844, -11.948863983154297, -13.388073921203613, -17.546043395996094, -24.529277801513672, -31.788965225219727, -9.385347366333008, 38.804107666015625, 10.20039176940918, -21.703630447387695, -26.040063858032227, -6.81001615524292, 4.087187767028809, 13.898244857788086, 10.383854866027832, 18.483055114746094, 2.738708257675171, -23.688270568847656, 11.338983535766602, -36.22510528564453, -29.160846710205078, 11.190827369689941, 15.418527603149414, -3.225788116455078, 22.886489868164062, 20.993099212646484, 28.212356567382812, 27.743040084838867, 23.811534881591797, 28.84995460510254, 33.51140213012695, 21.651660919189453, 34.15480041503906, 28.184587478637695, 28.34604263305664, 17.280288696289062, 22.24456024169922, -32.119834899902344, -22.142257690429688, -34.307281494140625, -40.18392562866211, -43.93889617919922, -24.443513870239258, -28.326751708984375, -40.11674118041992, -26.85667610168457, 23.855867385864258, 23.171524047851562, -10.471184730529785, -7.705482482910156, 21.545909881591797, -33.316932678222656], \"y\": [-44.983070373535156, -35.122215270996094, 1.4954947233200073, -3.705629348754883, -28.854976654052734, -7.280342102050781, -31.86585807800293, -37.0549201965332, -27.33201026916504, -33.47956848144531, -43.944602966308594, -0.4550511837005615, 4.601224899291992, 17.010530471801758, -13.671236991882324, -16.563058853149414, 24.09552574157715, -16.992008209228516, -17.28771209716797, 7.782264232635498, 14.921270370483398, -10.89861011505127, -12.784995079040527, 29.026334762573242, -22.852352142333984, 11.911965370178223, -16.355545043945312, -23.969512939453125, 34.98651885986328, -22.36619758605957, -29.07160758972168, -22.182092666625977, 34.166595458984375, -20.085918426513672, -27.789535522460938, -39.653385162353516, 11.30935001373291, 10.573033332824707, 15.467072486877441, 6.54936408996582, 6.594263553619385, -0.47628867626190186, 27.965883255004883, 6.9020676612854, 9.563398361206055, 1.4938087463378906, -2.1554336547851562, 21.279239654541016, 27.84213638305664, -23.1121883392334, 4.62510347366333, 2.7373669147491455, 21.185916900634766, -8.286762237548828, -13.740221977233887, -37.68648910522461, 4.473448753356934, -4.602535247802734, 8.330708503723145, -43.141448974609375, 9.133599281311035, 15.195954322814941, -9.636775016784668, 13.915111541748047, 19.519075393676758, -1.3243874311447144, -5.577672004699707, 25.260509490966797, -12.100018501281738, -14.744232177734375, 8.09541130065918, 19.649171829223633, -11.573410034179688, -35.66791534423828, 17.290029525756836, 12.653033256530762, 16.97987174987793, 14.149938583374023, 24.979543685913086, 12.628217697143555, 5.322788715362549, 20.334009170532227, -42.157196044921875, -31.30470848083496, 1.4918948411941528, 5.928730010986328, -24.75717544555664, -41.60826110839844]}],\n",
       "                        {\"template\": {\"data\": {\"bar\": [{\"error_x\": {\"color\": \"#2a3f5f\"}, \"error_y\": {\"color\": \"#2a3f5f\"}, \"marker\": {\"line\": {\"color\": \"#E5ECF6\", \"width\": 0.5}}, \"type\": \"bar\"}], \"barpolar\": [{\"marker\": {\"line\": {\"color\": \"#E5ECF6\", \"width\": 0.5}}, \"type\": \"barpolar\"}], \"carpet\": [{\"aaxis\": {\"endlinecolor\": \"#2a3f5f\", \"gridcolor\": \"white\", \"linecolor\": \"white\", \"minorgridcolor\": \"white\", \"startlinecolor\": \"#2a3f5f\"}, \"baxis\": {\"endlinecolor\": \"#2a3f5f\", \"gridcolor\": \"white\", \"linecolor\": \"white\", \"minorgridcolor\": \"white\", \"startlinecolor\": \"#2a3f5f\"}, \"type\": \"carpet\"}], \"choropleth\": [{\"colorbar\": {\"outlinewidth\": 0, \"ticks\": \"\"}, \"type\": \"choropleth\"}], \"contour\": [{\"colorbar\": {\"outlinewidth\": 0, \"ticks\": \"\"}, \"colorscale\": [[0.0, \"#0d0887\"], [0.1111111111111111, \"#46039f\"], [0.2222222222222222, \"#7201a8\"], [0.3333333333333333, \"#9c179e\"], [0.4444444444444444, \"#bd3786\"], [0.5555555555555556, \"#d8576b\"], [0.6666666666666666, \"#ed7953\"], [0.7777777777777778, \"#fb9f3a\"], [0.8888888888888888, \"#fdca26\"], [1.0, \"#f0f921\"]], \"type\": \"contour\"}], \"contourcarpet\": [{\"colorbar\": {\"outlinewidth\": 0, \"ticks\": \"\"}, \"type\": \"contourcarpet\"}], \"heatmap\": [{\"colorbar\": {\"outlinewidth\": 0, \"ticks\": \"\"}, \"colorscale\": [[0.0, \"#0d0887\"], [0.1111111111111111, \"#46039f\"], [0.2222222222222222, \"#7201a8\"], [0.3333333333333333, \"#9c179e\"], [0.4444444444444444, \"#bd3786\"], [0.5555555555555556, \"#d8576b\"], [0.6666666666666666, \"#ed7953\"], [0.7777777777777778, \"#fb9f3a\"], [0.8888888888888888, \"#fdca26\"], [1.0, \"#f0f921\"]], \"type\": \"heatmap\"}], \"heatmapgl\": [{\"colorbar\": {\"outlinewidth\": 0, \"ticks\": \"\"}, \"colorscale\": [[0.0, \"#0d0887\"], [0.1111111111111111, \"#46039f\"], [0.2222222222222222, \"#7201a8\"], [0.3333333333333333, \"#9c179e\"], [0.4444444444444444, \"#bd3786\"], [0.5555555555555556, \"#d8576b\"], [0.6666666666666666, \"#ed7953\"], [0.7777777777777778, \"#fb9f3a\"], [0.8888888888888888, \"#fdca26\"], [1.0, \"#f0f921\"]], \"type\": \"heatmapgl\"}], \"histogram\": [{\"marker\": {\"colorbar\": {\"outlinewidth\": 0, \"ticks\": \"\"}}, \"type\": \"histogram\"}], \"histogram2d\": [{\"colorbar\": {\"outlinewidth\": 0, \"ticks\": \"\"}, \"colorscale\": [[0.0, \"#0d0887\"], [0.1111111111111111, \"#46039f\"], [0.2222222222222222, \"#7201a8\"], [0.3333333333333333, \"#9c179e\"], [0.4444444444444444, \"#bd3786\"], [0.5555555555555556, \"#d8576b\"], [0.6666666666666666, \"#ed7953\"], [0.7777777777777778, \"#fb9f3a\"], [0.8888888888888888, \"#fdca26\"], [1.0, \"#f0f921\"]], \"type\": \"histogram2d\"}], \"histogram2dcontour\": [{\"colorbar\": {\"outlinewidth\": 0, \"ticks\": \"\"}, \"colorscale\": [[0.0, \"#0d0887\"], [0.1111111111111111, \"#46039f\"], [0.2222222222222222, \"#7201a8\"], [0.3333333333333333, \"#9c179e\"], [0.4444444444444444, \"#bd3786\"], [0.5555555555555556, \"#d8576b\"], [0.6666666666666666, \"#ed7953\"], [0.7777777777777778, \"#fb9f3a\"], [0.8888888888888888, \"#fdca26\"], [1.0, \"#f0f921\"]], \"type\": \"histogram2dcontour\"}], \"mesh3d\": [{\"colorbar\": {\"outlinewidth\": 0, \"ticks\": \"\"}, \"type\": \"mesh3d\"}], \"parcoords\": [{\"line\": {\"colorbar\": {\"outlinewidth\": 0, \"ticks\": \"\"}}, \"type\": \"parcoords\"}], \"pie\": [{\"automargin\": true, \"type\": \"pie\"}], \"scatter\": [{\"marker\": {\"colorbar\": {\"outlinewidth\": 0, \"ticks\": \"\"}}, \"type\": \"scatter\"}], \"scatter3d\": [{\"line\": {\"colorbar\": {\"outlinewidth\": 0, \"ticks\": \"\"}}, \"marker\": {\"colorbar\": {\"outlinewidth\": 0, \"ticks\": \"\"}}, \"type\": \"scatter3d\"}], \"scattercarpet\": [{\"marker\": {\"colorbar\": {\"outlinewidth\": 0, \"ticks\": \"\"}}, \"type\": \"scattercarpet\"}], \"scattergeo\": [{\"marker\": {\"colorbar\": {\"outlinewidth\": 0, \"ticks\": \"\"}}, \"type\": \"scattergeo\"}], \"scattergl\": [{\"marker\": {\"colorbar\": {\"outlinewidth\": 0, \"ticks\": \"\"}}, \"type\": \"scattergl\"}], \"scattermapbox\": [{\"marker\": {\"colorbar\": {\"outlinewidth\": 0, \"ticks\": \"\"}}, \"type\": \"scattermapbox\"}], \"scatterpolar\": [{\"marker\": {\"colorbar\": {\"outlinewidth\": 0, \"ticks\": \"\"}}, \"type\": \"scatterpolar\"}], \"scatterpolargl\": [{\"marker\": {\"colorbar\": {\"outlinewidth\": 0, \"ticks\": \"\"}}, \"type\": \"scatterpolargl\"}], \"scatterternary\": [{\"marker\": {\"colorbar\": {\"outlinewidth\": 0, \"ticks\": \"\"}}, \"type\": \"scatterternary\"}], \"surface\": [{\"colorbar\": {\"outlinewidth\": 0, \"ticks\": \"\"}, \"colorscale\": [[0.0, \"#0d0887\"], [0.1111111111111111, \"#46039f\"], [0.2222222222222222, \"#7201a8\"], [0.3333333333333333, \"#9c179e\"], [0.4444444444444444, \"#bd3786\"], [0.5555555555555556, \"#d8576b\"], [0.6666666666666666, \"#ed7953\"], [0.7777777777777778, \"#fb9f3a\"], [0.8888888888888888, \"#fdca26\"], [1.0, \"#f0f921\"]], \"type\": \"surface\"}], \"table\": [{\"cells\": {\"fill\": {\"color\": \"#EBF0F8\"}, \"line\": {\"color\": \"white\"}}, \"header\": {\"fill\": {\"color\": \"#C8D4E3\"}, \"line\": {\"color\": \"white\"}}, \"type\": \"table\"}]}, \"layout\": {\"annotationdefaults\": {\"arrowcolor\": \"#2a3f5f\", \"arrowhead\": 0, \"arrowwidth\": 1}, \"coloraxis\": {\"colorbar\": {\"outlinewidth\": 0, \"ticks\": \"\"}}, \"colorscale\": {\"diverging\": [[0, \"#8e0152\"], [0.1, \"#c51b7d\"], [0.2, \"#de77ae\"], [0.3, \"#f1b6da\"], [0.4, \"#fde0ef\"], [0.5, \"#f7f7f7\"], [0.6, \"#e6f5d0\"], [0.7, \"#b8e186\"], [0.8, \"#7fbc41\"], [0.9, \"#4d9221\"], [1, \"#276419\"]], \"sequential\": [[0.0, \"#0d0887\"], [0.1111111111111111, \"#46039f\"], [0.2222222222222222, \"#7201a8\"], [0.3333333333333333, \"#9c179e\"], [0.4444444444444444, \"#bd3786\"], [0.5555555555555556, \"#d8576b\"], [0.6666666666666666, \"#ed7953\"], [0.7777777777777778, \"#fb9f3a\"], [0.8888888888888888, \"#fdca26\"], [1.0, \"#f0f921\"]], \"sequentialminus\": [[0.0, \"#0d0887\"], [0.1111111111111111, \"#46039f\"], [0.2222222222222222, \"#7201a8\"], [0.3333333333333333, \"#9c179e\"], [0.4444444444444444, \"#bd3786\"], [0.5555555555555556, \"#d8576b\"], [0.6666666666666666, \"#ed7953\"], [0.7777777777777778, \"#fb9f3a\"], [0.8888888888888888, \"#fdca26\"], [1.0, \"#f0f921\"]]}, \"colorway\": [\"#636efa\", \"#EF553B\", \"#00cc96\", \"#ab63fa\", \"#FFA15A\", \"#19d3f3\", \"#FF6692\", \"#B6E880\", \"#FF97FF\", \"#FECB52\"], \"font\": {\"color\": \"#2a3f5f\"}, \"geo\": {\"bgcolor\": \"white\", \"lakecolor\": \"white\", \"landcolor\": \"#E5ECF6\", \"showlakes\": true, \"showland\": true, \"subunitcolor\": \"white\"}, \"hoverlabel\": {\"align\": \"left\"}, \"hovermode\": \"closest\", \"mapbox\": {\"style\": \"light\"}, \"paper_bgcolor\": \"white\", \"plot_bgcolor\": \"#E5ECF6\", \"polar\": {\"angularaxis\": {\"gridcolor\": \"white\", \"linecolor\": \"white\", \"ticks\": \"\"}, \"bgcolor\": \"#E5ECF6\", \"radialaxis\": {\"gridcolor\": \"white\", \"linecolor\": \"white\", \"ticks\": \"\"}}, \"scene\": {\"xaxis\": {\"backgroundcolor\": \"#E5ECF6\", \"gridcolor\": \"white\", \"gridwidth\": 2, \"linecolor\": \"white\", \"showbackground\": true, \"ticks\": \"\", \"zerolinecolor\": \"white\"}, \"yaxis\": {\"backgroundcolor\": \"#E5ECF6\", \"gridcolor\": \"white\", \"gridwidth\": 2, \"linecolor\": \"white\", \"showbackground\": true, \"ticks\": \"\", \"zerolinecolor\": \"white\"}, \"zaxis\": {\"backgroundcolor\": \"#E5ECF6\", \"gridcolor\": \"white\", \"gridwidth\": 2, \"linecolor\": \"white\", \"showbackground\": true, \"ticks\": \"\", \"zerolinecolor\": \"white\"}}, \"shapedefaults\": {\"line\": {\"color\": \"#2a3f5f\"}}, \"ternary\": {\"aaxis\": {\"gridcolor\": \"white\", \"linecolor\": \"white\", \"ticks\": \"\"}, \"baxis\": {\"gridcolor\": \"white\", \"linecolor\": \"white\", \"ticks\": \"\"}, \"bgcolor\": \"#E5ECF6\", \"caxis\": {\"gridcolor\": \"white\", \"linecolor\": \"white\", \"ticks\": \"\"}}, \"title\": {\"x\": 0.05}, \"xaxis\": {\"automargin\": true, \"gridcolor\": \"white\", \"linecolor\": \"white\", \"ticks\": \"\", \"title\": {\"standoff\": 15}, \"zerolinecolor\": \"white\", \"zerolinewidth\": 2}, \"yaxis\": {\"automargin\": true, \"gridcolor\": \"white\", \"linecolor\": \"white\", \"ticks\": \"\", \"title\": {\"standoff\": 15}, \"zerolinecolor\": \"white\", \"zerolinewidth\": 2}}}, \"xaxis\": {\"zeroline\": false}, \"yaxis\": {\"zeroline\": false}},\n",
       "                        {\"responsive\": true}\n",
       "                    ).then(function(){\n",
       "                            \n",
       "var gd = document.getElementById('0ea7b937-cc76-4aa9-9348-7bde37143968');\n",
       "var x = new MutationObserver(function (mutations, observer) {{\n",
       "        var display = window.getComputedStyle(gd).display;\n",
       "        if (!display || display === 'none') {{\n",
       "            console.log([gd, 'removed!']);\n",
       "            Plotly.purge(gd);\n",
       "            observer.disconnect();\n",
       "        }}\n",
       "}});\n",
       "\n",
       "// Listen for the removal of the full notebook cells\n",
       "var notebookContainer = gd.closest('#notebook-container');\n",
       "if (notebookContainer) {{\n",
       "    x.observe(notebookContainer, {childList: true});\n",
       "}}\n",
       "\n",
       "// Listen for the clearing of the current output cell\n",
       "var outputEl = gd.closest('.output');\n",
       "if (outputEl) {{\n",
       "    x.observe(outputEl, {childList: true});\n",
       "}}\n",
       "\n",
       "                        })\n",
       "                };\n",
       "                \n",
       "            </script>\n",
       "        </div>\n",
       "</body>\n",
       "</html>"
      ]
     },
     "metadata": {
      "tags": []
     },
     "output_type": "display_data"
    }
   ],
   "source": [
    "fig.show()"
   ]
  },
  {
   "cell_type": "markdown",
   "metadata": {
    "id": "ns4h9haN15DG"
   },
   "source": [
    "## 7. Transformers\n",
    "\n",
    "At last it's time for current state-of-the-art approach - Transformers. Famous [GPT-2](https://openai.com/blog/better-language-models/), [BERT](https://github.com/google-research/bert), [CTRL](https://blog.einstein.ai/introducing-a-conditional-transformer-language-model-for-controllable-generation/) are all Transformers-based and produce context-sensitive embeddings like ELMo. But unlike ELMo Transformers do not use [RNN](https://en.wikipedia.org/wiki/Recurrent_neural_network), trey do not require to process words in sentence sequentially one-by-one. All words in the sentence are processed in parallel, this approach speeds up processing and solves [vanishing gradient problem](https://en.wikipedia.org/wiki/Vanishing_gradient_problem).\n",
    "\n",
    "Transformers use the [**attention mechanism**](https://arxiv.org/abs/1706.03762) to describe the **connections and dependencies** of each specific word with all other words in the sentence. This mechanism and the main principles of Transformers described in detail in a beautifully illustrated [article](http://jalammar.github.io/illustrated-transformer/) by Jay Alammar.\n",
    "\n",
    "![alt text](http://jalammar.github.io/images/t/transformer_resideual_layer_norm_3.png) Image from [http://jalammar.github.io](http://jalammar.github.io/illustrated-transformer/)\n",
    "\n"
   ]
  },
  {
   "cell_type": "markdown",
   "metadata": {
    "id": "zvHAQ0_tINn4"
   },
   "source": [
    "For our example we wil use brilliant [Transformers](https://huggingface.co/transformers/) library, which contains the latest Transformers-based models (such as [BERT](https://huggingface.co/transformers/model_doc/bert.html), [XLNet](https://huggingface.co/transformers/model_doc/xlnet.html), [DialoGPT](https://huggingface.co/transformers/model_doc/dialogpt.html) or [GPT-2](https://huggingface.co/transformers/model_doc/gpt2.html)). \n",
    "\n",
    "Let's make some embeddings with BERT. Firstly we will need to install Transformers library."
   ]
  },
  {
   "cell_type": "code",
   "execution_count": null,
   "metadata": {
    "colab": {
     "base_uri": "https://localhost:8080/"
    },
    "id": "Y05tZ1HmVuiD",
    "outputId": "f9935809-7e43-430e-8d3a-c92b63a1aeee"
   },
   "outputs": [
    {
     "name": "stdout",
     "output_type": "stream",
     "text": [
      "Requirement already satisfied: transformers in /usr/local/lib/python3.6/dist-packages (3.4.0)\n",
      "Requirement already satisfied: tqdm>=4.27 in /usr/local/lib/python3.6/dist-packages (from transformers) (4.41.1)\n",
      "Requirement already satisfied: sacremoses in /usr/local/lib/python3.6/dist-packages (from transformers) (0.0.43)\n",
      "Requirement already satisfied: dataclasses; python_version < \"3.7\" in /usr/local/lib/python3.6/dist-packages (from transformers) (0.7)\n",
      "Requirement already satisfied: protobuf in /usr/local/lib/python3.6/dist-packages (from transformers) (3.12.4)\n",
      "Requirement already satisfied: packaging in /usr/local/lib/python3.6/dist-packages (from transformers) (20.4)\n",
      "Requirement already satisfied: numpy in /usr/local/lib/python3.6/dist-packages (from transformers) (1.18.5)\n",
      "Requirement already satisfied: filelock in /usr/local/lib/python3.6/dist-packages (from transformers) (3.0.12)\n",
      "Requirement already satisfied: sentencepiece!=0.1.92 in /usr/local/lib/python3.6/dist-packages (from transformers) (0.1.94)\n",
      "Requirement already satisfied: tokenizers==0.9.2 in /usr/local/lib/python3.6/dist-packages (from transformers) (0.9.2)\n",
      "Requirement already satisfied: requests in /usr/local/lib/python3.6/dist-packages (from transformers) (2.23.0)\n",
      "Requirement already satisfied: regex!=2019.12.17 in /usr/local/lib/python3.6/dist-packages (from transformers) (2019.12.20)\n",
      "Requirement already satisfied: six in /usr/local/lib/python3.6/dist-packages (from sacremoses->transformers) (1.15.0)\n",
      "Requirement already satisfied: click in /usr/local/lib/python3.6/dist-packages (from sacremoses->transformers) (7.1.2)\n",
      "Requirement already satisfied: joblib in /usr/local/lib/python3.6/dist-packages (from sacremoses->transformers) (0.17.0)\n",
      "Requirement already satisfied: setuptools in /usr/local/lib/python3.6/dist-packages (from protobuf->transformers) (50.3.2)\n",
      "Requirement already satisfied: pyparsing>=2.0.2 in /usr/local/lib/python3.6/dist-packages (from packaging->transformers) (2.4.7)\n",
      "Requirement already satisfied: certifi>=2017.4.17 in /usr/local/lib/python3.6/dist-packages (from requests->transformers) (2020.6.20)\n",
      "Requirement already satisfied: chardet<4,>=3.0.2 in /usr/local/lib/python3.6/dist-packages (from requests->transformers) (3.0.4)\n",
      "Requirement already satisfied: urllib3!=1.25.0,!=1.25.1,<1.26,>=1.21.1 in /usr/local/lib/python3.6/dist-packages (from requests->transformers) (1.24.3)\n",
      "Requirement already satisfied: idna<3,>=2.5 in /usr/local/lib/python3.6/dist-packages (from requests->transformers) (2.10)\n"
     ]
    }
   ],
   "source": [
    "!pip install transformers"
   ]
  },
  {
   "cell_type": "markdown",
   "metadata": {
    "id": "KyvVhedCO77-"
   },
   "source": [
    "Now we import **1. pytorch**, **2. the pretrained BERT model**, and a **3. BERT tokenizer**, that will do all the needed work of converting sentences into **format appropriate for BERT** (tokenizing itself and adding special tokens like [SEP] and [CLS])."
   ]
  },
  {
   "cell_type": "code",
   "execution_count": null,
   "metadata": {
    "id": "SQgQVUWBE3uK"
   },
   "outputs": [],
   "source": [
    "import torch\n",
    "torch.manual_seed(0)\n",
    "from transformers import BertTokenizer, BertModel\n",
    "\n",
    "import logging\n",
    "\n",
    "\n",
    "# Load pre-trained model tokenizer (vocabulary)\n",
    "tokenizer = BertTokenizer.from_pretrained('bert-base-uncased', do_lower_case=True)"
   ]
  },
  {
   "cell_type": "markdown",
   "metadata": {
    "id": "RoKGZPu1dnDz"
   },
   "source": [
    "Enter some sentences and tokenize them."
   ]
  },
  {
   "cell_type": "code",
   "execution_count": null,
   "metadata": {
    "colab": {
     "base_uri": "https://localhost:8080/"
    },
    "id": "WQiMtrxHPyYz",
    "outputId": "8cb1518d-5adb-427b-ae00-4b83e9378a4a"
   },
   "outputs": [
    {
     "data": {
      "text/plain": [
       "['king arthur, also called arthur or aathur pendragon, legendary british king who appears in a cycle of medieval romances (known as the matter of britain) as the sovereign of a knightly fellowship of the round table.',\n",
       " 'it is not certain how these legends originated or whether the figure of arthur was based on a historical person.',\n",
       " 'the legend possibly originated either in wales or in those parts of northern britain inhabited by brythonic-speaking celts.',\n",
       " 'for a fuller treatment of the stories about king arthur, see also arthurian legend.']"
      ]
     },
     "execution_count": 4,
     "metadata": {
      "tags": []
     },
     "output_type": "execute_result"
    }
   ],
   "source": [
    "sentences =  \\\n",
    "['king arthur, also called arthur or aathur pendragon, legendary british king who appears in a cycle of \\\n",
    "medieval romances (known as the matter of britain) as the sovereign of a knightly fellowship of the round table.', \n",
    "'it is not certain how these legends originated or whether the figure of arthur was based on a historical person.', \n",
    "'the legend possibly originated either in wales or in those parts of northern britain inhabited by brythonic-speaking celts.', \n",
    "'for a fuller treatment of the stories about king arthur, see also arthurian legend.']"
   ]
  },
  {
   "cell_type": "markdown",
   "metadata": {
    "id": "uO5uXSKaZhrd"
   },
   "source": [
    "BERT Input \n",
    "\n",
    "- [CLS] : at the beginning of our text\n",
    "- [SEP] : to mark the end of a sentence, or the separation between two sentences\n",
    "\n",
    "- BERT vocab 안에 있는 토큰 \n",
    "\n",
    "- BERT tokenizer의 토큰 ID\n",
    "\n",
    "- mask ID : indicate which elements in the **sequence** are tokens and which are **padding** elements\n",
    "\n",
    "- segment ID : 문장 구분, input sentence 개수 \n",
    "\n",
    "- positional embeddings : 한 문장 내 특정 토큰의 순서\n",
    "\n",
    " \n",
    ".\n",
    "\n",
    "\n",
    "두 문장을 입력하는 경우\n",
    "\n",
    "- [CLS] The man went to the store. [SEP] He bought a gallon of milk. [SEP]\n",
    "\n",
    " \n",
    "\n",
    "한 문장을 입력하는 경우 \n",
    "\n",
    "- [CLS] The man went to the store. [SEP]"
   ]
  },
  {
   "cell_type": "code",
   "execution_count": null,
   "metadata": {
    "colab": {
     "base_uri": "https://localhost:8080/"
    },
    "id": "dIgUC1H-Qq3s",
    "outputId": "ccaec1be-5770-459e-8045-8c5b177bfcfc"
   },
   "outputs": [
    {
     "name": "stdout",
     "output_type": "stream",
     "text": [
      " Original:  king arthur, also called arthur or aathur pendragon, legendary british king who appears in a cycle \n",
      "Tokenized:  ['king', 'arthur', ',', 'also', 'called', 'arthur', 'or', 'aa', '##th', '##ur', 'pen', '##dra', '##gon', ',', 'legendary', 'british', 'king', 'who', 'appears', 'in', 'a', 'cycle', 'of', 'medieval', 'romance', '##s', '(', 'known', 'as', 'the', 'matter', 'of', 'britain', ')', 'as', 'the', 'sovereign', 'of', 'a', 'knight', '##ly', 'fellowship', 'of', 'the', 'round', 'table', '.']\n",
      "Token IDs:  [2332, 4300, 1010, 2036, 2170, 4300, 2030, 9779, 2705, 3126, 7279, 7265, 7446, 1010, 8987, 2329, 2332, 2040, 3544, 1999, 1037, 5402, 1997, 5781, 7472, 2015, 1006, 2124, 2004, 1996, 3043, 1997, 3725, 1007, 2004, 1996, 11074, 1997, 1037, 5000, 2135, 7881, 1997, 1996, 2461, 2795, 1012]\n"
     ]
    }
   ],
   "source": [
    "# Print the original sentence.\n",
    "print(' Original: ', sentences[0][:99])\n",
    "\n",
    "# Print the sentence split into tokens.\n",
    "print('Tokenized: ', tokenizer.tokenize(sentences[0]))\n",
    "\n",
    "# Print the sentence mapped to token ids.\n",
    "print('Token IDs: ', tokenizer.convert_tokens_to_ids(tokenizer.tokenize(sentences[0])))\n"
   ]
  },
  {
   "cell_type": "markdown",
   "metadata": {
    "id": "8CLrBzF0Xor1"
   },
   "source": [
    "Note that some tokens may look like this: ['aa', '##th', '##ur', 'pen', '##dra', '##gon']. This is because of the BERT tokenizer was created with a **WordPiece model**. This model greedily creates a **fixed-size vocabulary** of individual characters, subwords, and words that best fits our language data. BERT tokenizer uses vocabulary that contains all English characters plus the ~30,000 most common words and subwords found in the English language corpus the model is trained on. So, **if the word is not mentioned in a vocabulary, that words is splitted into subwords and characters**.  The two hash signs (##) before some subwords shows that subword is part of a larger word and preceded by another subword.   "
   ]
  },
  {
   "cell_type": "markdown",
   "metadata": {
    "id": "2zmBhPaTF-Iz"
   },
   "source": [
    "(cf) WordPiece Model \n",
    "* **캐릭터 임베딩 + 워드 임베딩** 두 가지를 혼합한 모델\n",
    "> 1. 먼저 캐릭터 단위로 분리를 합니다. \n",
    "> 2. 그 다음 자주 나오는 캐릭터들을 병합하여 하나의 토큰으로 만듭니다. \n",
    "> * 이렇게 하면 의미가 있는 캐릭터들이 묶여지기 때문에 캐릭터 임베딩과 워드 임베딩의 장점이 합쳐집니다. \n",
    "> * 또한 형태소분석이 필요 없어서 다양한 언어에 적용할 수도 있습니다. (한국어, 일본어) \n",
    "\n",
    "* original word가 subword로 쪼개집니다.\n",
    "* \"##bed\"는 어떤 단어의 일부, subword라는 뜻입니다. \n",
    "독립적인 단어 \"bed\"랑 다르다는 것을 보여주기 위해 사용됩니다. \n",
    "\n",
    "* 전체 단어가 BERT vocab에 없으면 subword로 분해하는 과정을 거칩니다. \n",
    "* 이 때, vocab에서 찾을 때까지 분해하고, 끝까지 못 찾으면 철자 하나씩까지 분해하게 됩니다. "
   ]
  },
  {
   "cell_type": "markdown",
   "metadata": {
    "id": "wJj-lGP-W0me"
   },
   "source": [
    "We will use tokenizer.encode_plus function, that will:\n",
    "\n",
    "- Split the sentence into tokens.\n",
    "- Add the special [CLS] and [SEP] tokens.\n",
    "- Map the tokens to their IDs.\n",
    "- Pad or truncate all sentences to the same length.\n",
    "- Create the attention masks which explicitly differentiate real tokens from [PAD] tokens.\n"
   ]
  },
  {
   "cell_type": "code",
   "execution_count": null,
   "metadata": {
    "colab": {
     "base_uri": "https://localhost:8080/"
    },
    "id": "CvZPrF5fWzTZ",
    "outputId": "9ccf9c50-befb-41c1-fe5d-3edab73cbd8b"
   },
   "outputs": [
    {
     "name": "stdout",
     "output_type": "stream",
     "text": [
      "Original:  king arthur, also called arthur or aathur pendragon, legendary british king who appears in a cycle of medieval romances (known as the matter of britain) as the sovereign of a knightly fellowship of the round table.\n",
      "Token IDs: tensor([  101,  2332,  4300,  1010,  2036,  2170,  4300,  2030,  9779,  2705,\n",
      "         3126,  7279,  7265,  7446,  1010,  8987,  2329,  2332,  2040,  3544,\n",
      "         1999,  1037,  5402,  1997,  5781,  7472,  2015,  1006,  2124,  2004,\n",
      "         1996,  3043,  1997,  3725,  1007,  2004,  1996, 11074,  1997,  1037,\n",
      "         5000,  2135,  7881,  1997,  1996,  2461,  2795,   102])\n"
     ]
    },
    {
     "name": "stderr",
     "output_type": "stream",
     "text": [
      "/usr/local/lib/python3.6/dist-packages/transformers/tokenization_utils_base.py:1944: FutureWarning: The `pad_to_max_length` argument is deprecated and will be removed in a future version, use `padding=True` or `padding='longest'` to pad to the longest sequence in the batch, or use `padding='max_length'` to pad to a max length. In this case, you can give a specific length with `max_length` (e.g. `max_length=45`) or leave max_length to None to pad to the maximal input size of the model (e.g. 512 for Bert).\n",
      "  FutureWarning,\n"
     ]
    }
   ],
   "source": [
    "# Tokenize all of the sentences and map the tokens to thier word IDs.\n",
    "input_ids = []\n",
    "attention_masks = []\n",
    "tokenized_texts = []\n",
    "\n",
    "\n",
    "for sent in sentences:\n",
    "    encoded_dict = tokenizer.encode_plus(\n",
    "                        sent,                      # Sentence to encode.\n",
    "                        add_special_tokens = True, # Add '[CLS]' and '[SEP]'\n",
    "                        truncation=True,\n",
    "                        max_length = 48,           # Pad & truncate all sentences.\n",
    "                        pad_to_max_length = True,                        \n",
    "                        return_tensors = 'pt',     # Return pytorch tensors.\n",
    "                   )\n",
    "\n",
    "    # Save tokens from sentence as a separate array. We will use it later to explore and compare embeddings.\n",
    "    marked_text = \"[CLS] \" + sent + \" [SEP]\"\n",
    "    tokenized_texts.append(tokenizer.tokenize(marked_text))\n",
    "    \n",
    "    # Add the encoded sentence to the list.    \n",
    "    input_ids.append(encoded_dict['input_ids'])\n",
    "\n",
    "# Convert the list into tensor.\n",
    "input_ids = torch.cat(input_ids, dim=0)\n",
    "\n",
    "# Print sentence 0, now as a list of IDs.\n",
    "print('Original: ', sentences[0])\n",
    "print('Token IDs:', input_ids[0])"
   ]
  },
  {
   "cell_type": "markdown",
   "metadata": {
    "id": "l-HG1Chbh2da"
   },
   "source": [
    "**Segment ID**. BERT is trained on and expects sentence pairs using 1s and 0s to distinguish between the two sentences. We will encode each sentence separately so we will just mark each token in each sentence with 1.\n",
    "* 인풋 문장이 하나면 segment ID 모두 1으로 부여합니다. (인풋 문장 + 마지막 [SEP] 까지 1)\n",
    "\n",
    "* 인풋 문장이 두개면 첫 문장은 0, 다음 문장은 1로 줘서 구분합니다."
   ]
  },
  {
   "cell_type": "code",
   "execution_count": null,
   "metadata": {
    "colab": {
     "base_uri": "https://localhost:8080/"
    },
    "id": "0LjE5M-Qfzxg",
    "outputId": "f1c63896-a8db-4a90-cc40-a175f5e38061"
   },
   "outputs": [
    {
     "data": {
      "text/plain": [
       "torch.Size([4, 48])"
      ]
     },
     "execution_count": 7,
     "metadata": {
      "tags": []
     },
     "output_type": "execute_result"
    }
   ],
   "source": [
    "segments_ids = torch.ones_like(input_ids)\n",
    "segments_ids.shape"
   ]
  },
  {
   "cell_type": "markdown",
   "metadata": {
    "id": "tAlTfj9nlItq"
   },
   "source": [
    "Now we can call BERT model and finally get embeddings."
   ]
  },
  {
   "cell_type": "code",
   "execution_count": null,
   "metadata": {
    "id": "xbI_5u3AlEFt"
   },
   "outputs": [],
   "source": [
    "# 미리 학습된 모델(가중치) 불러오기\n",
    "model = BertModel.from_pretrained('bert-base-uncased',\n",
    "                                  output_hidden_states = True, ) # Whether the model returns all hidden-states.\n",
    "\n",
    "\n",
    "# 모델 \"evaluation\" 모드 : feed-forward operation                                  \n",
    "model.eval();"
   ]
  },
  {
   "cell_type": "code",
   "execution_count": null,
   "metadata": {
    "id": "zhj427SijVU4"
   },
   "outputs": [],
   "source": [
    "# Forward Propagation 과정만 거치기 때문에, no_grad() 사용 \n",
    "# Pretrained 된 모델을 불러왔기 때문에, Backpropagation을 통해 가중치 업데이트하거나 학습시키지 않음 \n",
    "\n",
    "with torch.no_grad():\n",
    "    outputs = model(input_ids, segments_ids)\n",
    "\n",
    "    # Evaluating the model will return a different number of objects based on \n",
    "    # how it's  configured in the `from_pretrained` call earlier. In this case, \n",
    "    # becase we set `output_hidden_states = True`, the third item will be the \n",
    "    # hidden states from all layers. See the documentation for more details:\n",
    "    # https://huggingface.co/transformers/model_doc/bert.html#bertmodel\n",
    "\n",
    "    hidden_states = outputs[2]"
   ]
  },
  {
   "cell_type": "markdown",
   "metadata": {
    "id": "nCKyebgprKLG"
   },
   "source": [
    "Let's examine what we've got."
   ]
  },
  {
   "cell_type": "code",
   "execution_count": null,
   "metadata": {
    "colab": {
     "base_uri": "https://localhost:8080/"
    },
    "id": "KRgeWRVHrRHK",
    "outputId": "94e61966-2286-4cac-ce4a-7b6c27805367"
   },
   "outputs": [
    {
     "name": "stdout",
     "output_type": "stream",
     "text": [
      "Number of layers: 13   (initial embeddings + 12 BERT layers)\n",
      "Number of batches: 4\n",
      "Number of tokens: 48\n",
      "Number of hidden units: 768\n"
     ]
    }
   ],
   "source": [
    "print (\"Number of layers:\", len(hidden_states), \"  (initial embeddings + 12 BERT layers)\")\n",
    "print (\"Number of batches:\", len(hidden_states[0]))\n",
    "print (\"Number of tokens:\", len(hidden_states[0][0]))\n",
    "print (\"Number of hidden units:\", len(hidden_states[0][0][0]))\n"
   ]
  },
  {
   "cell_type": "code",
   "execution_count": null,
   "metadata": {
    "colab": {
     "base_uri": "https://localhost:8080/"
    },
    "id": "t9ecIgL1mdox",
    "outputId": "8af8d646-c47e-403a-92e6-2bf2d8840851"
   },
   "outputs": [
    {
     "data": {
      "text/plain": [
       "torch.Size([13, 4, 48, 768])"
      ]
     },
     "execution_count": 11,
     "metadata": {
      "tags": []
     },
     "output_type": "execute_result"
    }
   ],
   "source": [
    "# Concatenate the tensors for all layers. We use `stack` here to\n",
    "# create a new dimension in the tensor.\n",
    "\n",
    "# 현재 encoded_layers의 차원 \n",
    "# [layer 개수, batch 개수, token 개수, feature 개수]\n",
    "\n",
    "\n",
    "# 12+1개의 layer를 합쳐서 하나의 큰 tensor로 만들기 \n",
    "token_embeddings = torch.stack(hidden_states, dim=0)\n",
    "token_embeddings.size()"
   ]
  },
  {
   "cell_type": "code",
   "execution_count": null,
   "metadata": {
    "colab": {
     "base_uri": "https://localhost:8080/"
    },
    "id": "_YcTplZDq_Ip",
    "outputId": "0d5dc8f7-4a27-4d37-b073-121555231fd8"
   },
   "outputs": [
    {
     "data": {
      "text/plain": [
       "torch.Size([4, 48, 13, 768])"
      ]
     },
     "execution_count": 12,
     "metadata": {
      "tags": []
     },
     "output_type": "execute_result"
    }
   ],
   "source": [
    "# Swap dimensions, so we get tensors in format: [sentence, tokens, hidden layes, features]\n",
    "\n",
    "\n",
    "# [batch 개수, token 개수, layer 개수, feature 개수]\n",
    "token_embeddings = token_embeddings.permute(1,2,0,3)\n",
    "token_embeddings.size()"
   ]
  },
  {
   "cell_type": "code",
   "execution_count": null,
   "metadata": {
    "colab": {
     "base_uri": "https://localhost:8080/"
    },
    "id": "Hm6lbPc2s0k9",
    "outputId": "8c1befd7-a8e1-41c8-f05b-f9bcff03300e"
   },
   "outputs": [
    {
     "data": {
      "text/plain": [
       "torch.Size([4, 48, 4, 768])"
      ]
     },
     "execution_count": 13,
     "metadata": {
      "tags": []
     },
     "output_type": "execute_result"
    }
   ],
   "source": [
    "# we will use last four hidden layers to create each word embedding\n",
    "# 논문에서는 맨 마지막 4개의 레이어 합친게 성능이 가장 좋았다고 합니다\n",
    "\n",
    "processed_embeddings = token_embeddings[:, :, 9:, :]\n",
    "processed_embeddings.shape  # 합치기만 했으니 한 토큰을 나타내는 벡터 길이는 여전히 768"
   ]
  },
  {
   "cell_type": "code",
   "execution_count": null,
   "metadata": {
    "colab": {
     "base_uri": "https://localhost:8080/"
    },
    "id": "q908hPTzxnMU",
    "outputId": "e44d15eb-4929-4a0d-99a9-44b910d08ec6"
   },
   "outputs": [
    {
     "data": {
      "text/plain": [
       "torch.Size([4, 48, 3072])"
      ]
     },
     "execution_count": 14,
     "metadata": {
      "tags": []
     },
     "output_type": "execute_result"
    }
   ],
   "source": [
    "# Concatenate four layers for each token to create embeddings\n",
    "\n",
    "# batch 차원 없애기 : 4*768 = 3072\n",
    "embeddings = torch.reshape(processed_embeddings, (4, 48, -1))\n",
    "embeddings.shape   "
   ]
  },
  {
   "cell_type": "markdown",
   "metadata": {
    "id": "CgzGSE0UEfGK"
   },
   "source": [
    "Let's examine embeddings for the first sentence. Firstly we need to get ids of tokens we need to compare."
   ]
  },
  {
   "cell_type": "code",
   "execution_count": null,
   "metadata": {
    "colab": {
     "base_uri": "https://localhost:8080/"
    },
    "id": "FbTQaukmzM1v",
    "outputId": "c9449081-4b67-44c6-90e4-67f93655d933"
   },
   "outputs": [
    {
     "name": "stdout",
     "output_type": "stream",
     "text": [
      "0 [CLS]\n",
      "1 king\n",
      "2 arthur\n",
      "3 ,\n",
      "4 also\n",
      "5 called\n",
      "6 arthur\n",
      "7 or\n",
      "8 aa\n",
      "9 ##th\n",
      "10 ##ur\n",
      "11 pen\n",
      "12 ##dra\n",
      "13 ##gon\n",
      "14 ,\n",
      "15 legendary\n",
      "16 british\n",
      "17 king\n",
      "18 who\n",
      "19 appears\n",
      "20 in\n",
      "21 a\n",
      "22 cycle\n",
      "23 of\n",
      "24 medieval\n",
      "25 romance\n",
      "26 ##s\n",
      "27 (\n",
      "28 known\n",
      "29 as\n",
      "30 the\n",
      "31 matter\n",
      "32 of\n",
      "33 britain\n",
      "34 )\n",
      "35 as\n",
      "36 the\n",
      "37 sovereign\n",
      "38 of\n",
      "39 a\n",
      "40 knight\n",
      "41 ##ly\n",
      "42 fellowship\n",
      "43 of\n",
      "44 the\n",
      "45 round\n",
      "46 table\n",
      "47 .\n",
      "48 [SEP]\n"
     ]
    }
   ],
   "source": [
    "for i, token_str in enumerate(tokenized_texts[0]):\n",
    "    print (i, token_str)"
   ]
  },
  {
   "cell_type": "markdown",
   "metadata": {
    "id": "mmunweJ427pw"
   },
   "source": [
    "We can see that word 'king' is places at indexes 1 and 17. We will check distance between embeddings 1 and 17. Also, we will check if embedding for word 'arthur' is closer to king then word 'table'."
   ]
  },
  {
   "cell_type": "code",
   "execution_count": null,
   "metadata": {
    "colab": {
     "base_uri": "https://localhost:8080/"
    },
    "id": "NDVo-mBtzi_3",
    "outputId": "389d58d4-9073-45eb-8d5e-7f745e44d1b8"
   },
   "outputs": [
    {
     "name": "stdout",
     "output_type": "stream",
     "text": [
      "Distance for two kings:  0.21\n",
      "Distance from king to table:  0.73\n",
      "Distance from Archtur to king:  0.40\n"
     ]
    }
   ],
   "source": [
    "from scipy.spatial.distance import cosine\n",
    " \n",
    "kings = cosine(embeddings[0][1], embeddings[0][17])\n",
    "king_table = cosine(embeddings[0][1], embeddings[0][46])\n",
    "king_archtur = cosine(embeddings[0][2], embeddings[0][1])\n",
    " \n",
    "print('Distance for two kings:  %.2f' % kings)\n",
    "print('Distance from king to table:  %.2f' % king_table)\n",
    "print('Distance from Archtur to king:  %.2f' % king_archtur)"
   ]
  },
  {
   "cell_type": "markdown",
   "metadata": {
    "id": "qmYn9mPB5hcr"
   },
   "source": [
    "So we see that embeddings for two 'kings' are quite similar but not same, and Archtur is closer to be a king than a table. "
   ]
  },
  {
   "cell_type": "markdown",
   "metadata": {
    "id": "1RSA_l9h6Ftz"
   },
   "source": [
    "Things may be simplier with **[simplerepresentations](https://github.com/AliOsm/simplerepresentations)** module. This module does all the work we did earlier - extracts needed hidden states from BERT and creates embeddings in a few lines of code. "
   ]
  },
  {
   "cell_type": "code",
   "execution_count": null,
   "metadata": {
    "colab": {
     "base_uri": "https://localhost:8080/"
    },
    "id": "le0O7JeS62P8",
    "outputId": "13ea6125-27b4-4e4b-8550-73306d6c7e4a"
   },
   "outputs": [
    {
     "name": "stdout",
     "output_type": "stream",
     "text": [
      "Collecting simplerepresentations\n",
      "  Downloading https://files.pythonhosted.org/packages/b6/c7/6b3dbc9b94612307a1f360640da888d5599783b601b0944422e1ba560b58/simplerepresentations-0.0.4.tar.gz\n",
      "Requirement already satisfied: numpy in /usr/local/lib/python3.6/dist-packages (from simplerepresentations) (1.18.5)\n",
      "Requirement already satisfied: torch in /usr/local/lib/python3.6/dist-packages (from simplerepresentations) (1.7.0+cu101)\n",
      "Requirement already satisfied: transformers in /usr/local/lib/python3.6/dist-packages (from simplerepresentations) (3.4.0)\n",
      "Requirement already satisfied: tqdm in /usr/local/lib/python3.6/dist-packages (from simplerepresentations) (4.41.1)\n",
      "Requirement already satisfied: typing-extensions in /usr/local/lib/python3.6/dist-packages (from torch->simplerepresentations) (3.7.4.3)\n",
      "Requirement already satisfied: dataclasses in /usr/local/lib/python3.6/dist-packages (from torch->simplerepresentations) (0.7)\n",
      "Requirement already satisfied: future in /usr/local/lib/python3.6/dist-packages (from torch->simplerepresentations) (0.16.0)\n",
      "Requirement already satisfied: requests in /usr/local/lib/python3.6/dist-packages (from transformers->simplerepresentations) (2.23.0)\n",
      "Requirement already satisfied: sentencepiece!=0.1.92 in /usr/local/lib/python3.6/dist-packages (from transformers->simplerepresentations) (0.1.94)\n",
      "Requirement already satisfied: sacremoses in /usr/local/lib/python3.6/dist-packages (from transformers->simplerepresentations) (0.0.43)\n",
      "Requirement already satisfied: packaging in /usr/local/lib/python3.6/dist-packages (from transformers->simplerepresentations) (20.4)\n",
      "Requirement already satisfied: tokenizers==0.9.2 in /usr/local/lib/python3.6/dist-packages (from transformers->simplerepresentations) (0.9.2)\n",
      "Requirement already satisfied: protobuf in /usr/local/lib/python3.6/dist-packages (from transformers->simplerepresentations) (3.12.4)\n",
      "Requirement already satisfied: regex!=2019.12.17 in /usr/local/lib/python3.6/dist-packages (from transformers->simplerepresentations) (2019.12.20)\n",
      "Requirement already satisfied: filelock in /usr/local/lib/python3.6/dist-packages (from transformers->simplerepresentations) (3.0.12)\n",
      "Requirement already satisfied: urllib3!=1.25.0,!=1.25.1,<1.26,>=1.21.1 in /usr/local/lib/python3.6/dist-packages (from requests->transformers->simplerepresentations) (1.24.3)\n",
      "Requirement already satisfied: chardet<4,>=3.0.2 in /usr/local/lib/python3.6/dist-packages (from requests->transformers->simplerepresentations) (3.0.4)\n",
      "Requirement already satisfied: certifi>=2017.4.17 in /usr/local/lib/python3.6/dist-packages (from requests->transformers->simplerepresentations) (2020.6.20)\n",
      "Requirement already satisfied: idna<3,>=2.5 in /usr/local/lib/python3.6/dist-packages (from requests->transformers->simplerepresentations) (2.10)\n",
      "Requirement already satisfied: six in /usr/local/lib/python3.6/dist-packages (from sacremoses->transformers->simplerepresentations) (1.15.0)\n",
      "Requirement already satisfied: click in /usr/local/lib/python3.6/dist-packages (from sacremoses->transformers->simplerepresentations) (7.1.2)\n",
      "Requirement already satisfied: joblib in /usr/local/lib/python3.6/dist-packages (from sacremoses->transformers->simplerepresentations) (0.17.0)\n",
      "Requirement already satisfied: pyparsing>=2.0.2 in /usr/local/lib/python3.6/dist-packages (from packaging->transformers->simplerepresentations) (2.4.7)\n",
      "Requirement already satisfied: setuptools in /usr/local/lib/python3.6/dist-packages (from protobuf->transformers->simplerepresentations) (50.3.2)\n",
      "Building wheels for collected packages: simplerepresentations\n",
      "  Building wheel for simplerepresentations (setup.py) ... \u001b[?25l\u001b[?25hdone\n",
      "  Created wheel for simplerepresentations: filename=simplerepresentations-0.0.4-cp36-none-any.whl size=8439 sha256=fd2d141cf97879e1c2a9e99aba293ae0693f3200ea7920138c6b309c213abecf\n",
      "  Stored in directory: /root/.cache/pip/wheels/ab/cd/ab/6ba46ab4845442abb114bf92136a0d760151de2ccfb3af4d7d\n",
      "Successfully built simplerepresentations\n",
      "Installing collected packages: simplerepresentations\n",
      "Successfully installed simplerepresentations-0.0.4\n"
     ]
    }
   ],
   "source": [
    "# the simplest way to extract text features from any Transformer based model. \n",
    "!pip install simplerepresentations"
   ]
  },
  {
   "cell_type": "code",
   "execution_count": null,
   "metadata": {
    "colab": {
     "base_uri": "https://localhost:8080/",
     "height": 166,
     "referenced_widgets": [
      "235754cd74a348ff89554479b0daad2d",
      "6ae5e9c9599745a2b96d97537a12aaf3",
      "609729ddcd5e4b4fa701fdddad03d058",
      "085e77de62dc4f3e8fc583fff130540d",
      "b54d114d3c4b4b4f9c39a508971191d9",
      "f714ebaacc614d9eaa575d33887927f0",
      "07eafe66752b4f068811d1affd79e573",
      "20e10277dbef4c9abe4c2c34100aa763",
      "d181128dd56444e4bd555e4de710500a",
      "e110ccde231d4eb8ad2a55da8e25fa89",
      "97183b2f3b7648c18c81fde31c7a695b",
      "e51c4aafe9dd43c095a5b2f02a9e4d58",
      "c55d1bcacb254fedb39433b6c06bedd0",
      "8aa473b2c48b40daac6a722b7bceab4c",
      "ada81497636a4de59f9da77db5863079",
      "300d3aede274411095894fd74b862ee8"
     ]
    },
    "id": "1T01bAY75Mcv",
    "outputId": "6a53c64d-3fc9-456b-98b2-2503c24bdc2b"
   },
   "outputs": [
    {
     "name": "stdout",
     "output_type": "stream",
     "text": [
      "Converting to features started.\n"
     ]
    },
    {
     "data": {
      "application/vnd.jupyter.widget-view+json": {
       "model_id": "235754cd74a348ff89554479b0daad2d",
       "version_major": 2,
       "version_minor": 0
      },
      "text/plain": [
       "HBox(children=(FloatProgress(value=0.0, max=4.0), HTML(value='')))"
      ]
     },
     "metadata": {
      "tags": []
     },
     "output_type": "display_data"
    },
    {
     "name": "stdout",
     "output_type": "stream",
     "text": [
      "\n"
     ]
    },
    {
     "data": {
      "application/vnd.jupyter.widget-view+json": {
       "model_id": "d181128dd56444e4bd555e4de710500a",
       "version_major": 2,
       "version_minor": 0
      },
      "text/plain": [
       "HBox(children=(FloatProgress(value=0.0, max=1.0), HTML(value='')))"
      ]
     },
     "metadata": {
      "tags": []
     },
     "output_type": "display_data"
    },
    {
     "name": "stdout",
     "output_type": "stream",
     "text": [
      "\n",
      "(4, 768)\n",
      "(4, 48, 3072)\n"
     ]
    }
   ],
   "source": [
    "import torch\n",
    "from simplerepresentations import RepresentationModel\n",
    "torch.manual_seed(0)\n",
    "\n",
    "model_type = 'bert'\n",
    "model_name = 'bert-base-uncased'\n",
    "\n",
    "representation_model = RepresentationModel(\n",
    "\t\tmodel_type=model_type,\n",
    "\t\tmodel_name=model_name,\n",
    "\t\tbatch_size=4,\n",
    "\t\tmax_seq_length=48, # truncate sentences to be less than or equal to 48 tokens\n",
    "\t\tcombination_method='cat', # concatenate the last `last_hidden_to_use` hidden states\n",
    "\t\tlast_hidden_to_use=4 # use the last 4 hidden states to build tokens representations\n",
    "\t)\n",
    "\n",
    "text_a = sentences\n",
    "\n",
    "all_sentences_representations, all_tokens_representations = representation_model(text_a=text_a)\n",
    "\n",
    "print(all_sentences_representations.shape) # (4, 768) => (number of sentences, hidden size)\n",
    "print(all_tokens_representations.shape) # (4, 48, 3072) => (number of sentences, number of tokens, hidden size)"
   ]
  },
  {
   "cell_type": "markdown",
   "metadata": {
    "id": "H5hXmpV57wgh"
   },
   "source": [
    "Check distaces between Archtur, king and table."
   ]
  },
  {
   "cell_type": "code",
   "execution_count": null,
   "metadata": {
    "colab": {
     "base_uri": "https://localhost:8080/"
    },
    "id": "lu1llFF27eXc",
    "outputId": "ae47f9de-92c5-48a4-c17a-45254c0927e4"
   },
   "outputs": [
    {
     "name": "stdout",
     "output_type": "stream",
     "text": [
      "Distance for two kings:  0.21\n",
      "Distance from king to table:  0.73\n",
      "Distance from Archtur to king:  0.40\n"
     ]
    }
   ],
   "source": [
    "from scipy.spatial.distance import cosine\n",
    "\n",
    "kings = cosine(all_tokens_representations[0][1], all_tokens_representations[0][17])\n",
    "king_table = cosine(all_tokens_representations[0][1], all_tokens_representations[0][46])\n",
    "king_archtur = cosine(all_tokens_representations[0][2], all_tokens_representations[0][1])\n",
    "\n",
    "print('Distance for two kings:  %.2f' % kings)\n",
    "print('Distance from king to table:  %.2f' % king_table)\n",
    "print('Distance from Archtur to king:  %.2f' % king_archtur)"
   ]
  },
  {
   "cell_type": "markdown",
   "metadata": {
    "id": "w8M5HubwC1BX"
   },
   "source": [
    "Same results, less code."
   ]
  },
  {
   "cell_type": "markdown",
   "metadata": {
    "id": "qMhX6QOORrxq"
   },
   "source": [
    "## Conclusion\n",
    "\n",
    "I hope that after reading this article you have formed an idea of the current approaches to word embeddings and began to understand how to quickly implement these approaches in Python. The world of NLP is diverse and there are many more models and methods for embeddings. In my article I focused on the most common and those that we ourselves often use in our work. You can find additional information in the **References** section."
   ]
  },
  {
   "cell_type": "markdown",
   "metadata": {
    "id": "XxnDjaFYMolw"
   },
   "source": [
    "## References\n",
    "\n",
    "- [BERT Word Embeddings Tutorial](https://mccormickml.com/2019/05/14/BERT-word-embeddings-tutorial/)\n",
    "- [The Illustrated Transformer](http://jalammar.github.io/illustrated-transformer/)\n",
    "- [The Illustrated GPT-2 (Visualizing Transformer Language Models)](http://jalammar.github.io/illustrated-gpt2/) \n",
    "- [FROM Pre-trained Word Embeddings TO Pre-trained Language Models — Focus on BERT](https://towardsdatascience.com/from-pre-trained-word-embeddings-to-pre-trained-language-models-focus-on-bert-343815627598)\n",
    "- [ Make your own Rick Sanchez (bot) with Transformers and DialoGPT fine-tuning](https://towardsdatascience.com/make-your-own-rick-sanchez-bot-with-transformers-and-dialogpt-fine-tuning-f85e6d1f4e30)\n",
    "- [Playing with word vectors](https://medium.com/swlh/playing-with-word-vectors-308ab2faa519) \n",
    "- [Intuitive Guide to Understanding GloVe Embeddings](https://towardsdatascience.com/light-on-math-ml-intuitive-guide-to-understanding-glove-embeddings-b13b4f19c010)\n",
    "- [Word Embeddings in Python with Spacy and Gensim](https://www.shanelynn.ie/word-embeddings-in-python-with-spacy-and-gensim/)\n",
    "- [Brief review of word embedding families (2019) ](https://medium.com/analytics-vidhya/brief-review-of-word-embedding-families-2019-b2bbc601bbfe)\n",
    "- [Word embeddings: exploration, explanation, and exploitation (with code in Python)](https://towardsdatascience.com/word-embeddings-exploration-explanation-and-exploitation-with-code-in-python-5dac99d5d795)"
   ]
  }
 ],
 "metadata": {
  "accelerator": "GPU",
  "colab": {
   "collapsed_sections": [
    "qMhX6QOORrxq"
   ],
   "name": "word-embeddings.ipynb",
   "provenance": []
  },
  "kernelspec": {
   "display_name": "Python 3",
   "language": "python",
   "name": "python3"
  },
  "language_info": {
   "codemirror_mode": {
    "name": "ipython",
    "version": 3
   },
   "file_extension": ".py",
   "mimetype": "text/x-python",
   "name": "python",
   "nbconvert_exporter": "python",
   "pygments_lexer": "ipython3",
   "version": "3.8.3"
  },
  "widgets": {
   "application/vnd.jupyter.widget-state+json": {
    "07eafe66752b4f068811d1affd79e573": {
     "model_module": "@jupyter-widgets/base",
     "model_name": "LayoutModel",
     "state": {
      "_model_module": "@jupyter-widgets/base",
      "_model_module_version": "1.2.0",
      "_model_name": "LayoutModel",
      "_view_count": null,
      "_view_module": "@jupyter-widgets/base",
      "_view_module_version": "1.2.0",
      "_view_name": "LayoutView",
      "align_content": null,
      "align_items": null,
      "align_self": null,
      "border": null,
      "bottom": null,
      "display": null,
      "flex": null,
      "flex_flow": null,
      "grid_area": null,
      "grid_auto_columns": null,
      "grid_auto_flow": null,
      "grid_auto_rows": null,
      "grid_column": null,
      "grid_gap": null,
      "grid_row": null,
      "grid_template_areas": null,
      "grid_template_columns": null,
      "grid_template_rows": null,
      "height": null,
      "justify_content": null,
      "justify_items": null,
      "left": null,
      "margin": null,
      "max_height": null,
      "max_width": null,
      "min_height": null,
      "min_width": null,
      "object_fit": null,
      "object_position": null,
      "order": null,
      "overflow": null,
      "overflow_x": null,
      "overflow_y": null,
      "padding": null,
      "right": null,
      "top": null,
      "visibility": null,
      "width": null
     }
    },
    "085e77de62dc4f3e8fc583fff130540d": {
     "model_module": "@jupyter-widgets/base",
     "model_name": "LayoutModel",
     "state": {
      "_model_module": "@jupyter-widgets/base",
      "_model_module_version": "1.2.0",
      "_model_name": "LayoutModel",
      "_view_count": null,
      "_view_module": "@jupyter-widgets/base",
      "_view_module_version": "1.2.0",
      "_view_name": "LayoutView",
      "align_content": null,
      "align_items": null,
      "align_self": null,
      "border": null,
      "bottom": null,
      "display": null,
      "flex": null,
      "flex_flow": null,
      "grid_area": null,
      "grid_auto_columns": null,
      "grid_auto_flow": null,
      "grid_auto_rows": null,
      "grid_column": null,
      "grid_gap": null,
      "grid_row": null,
      "grid_template_areas": null,
      "grid_template_columns": null,
      "grid_template_rows": null,
      "height": null,
      "justify_content": null,
      "justify_items": null,
      "left": null,
      "margin": null,
      "max_height": null,
      "max_width": null,
      "min_height": null,
      "min_width": null,
      "object_fit": null,
      "object_position": null,
      "order": null,
      "overflow": null,
      "overflow_x": null,
      "overflow_y": null,
      "padding": null,
      "right": null,
      "top": null,
      "visibility": null,
      "width": null
     }
    },
    "20e10277dbef4c9abe4c2c34100aa763": {
     "model_module": "@jupyter-widgets/controls",
     "model_name": "DescriptionStyleModel",
     "state": {
      "_model_module": "@jupyter-widgets/controls",
      "_model_module_version": "1.5.0",
      "_model_name": "DescriptionStyleModel",
      "_view_count": null,
      "_view_module": "@jupyter-widgets/base",
      "_view_module_version": "1.2.0",
      "_view_name": "StyleView",
      "description_width": ""
     }
    },
    "235754cd74a348ff89554479b0daad2d": {
     "model_module": "@jupyter-widgets/controls",
     "model_name": "HBoxModel",
     "state": {
      "_dom_classes": [],
      "_model_module": "@jupyter-widgets/controls",
      "_model_module_version": "1.5.0",
      "_model_name": "HBoxModel",
      "_view_count": null,
      "_view_module": "@jupyter-widgets/controls",
      "_view_module_version": "1.5.0",
      "_view_name": "HBoxView",
      "box_style": "",
      "children": [
       "IPY_MODEL_6ae5e9c9599745a2b96d97537a12aaf3",
       "IPY_MODEL_609729ddcd5e4b4fa701fdddad03d058"
      ],
      "layout": "IPY_MODEL_085e77de62dc4f3e8fc583fff130540d"
     }
    },
    "300d3aede274411095894fd74b862ee8": {
     "model_module": "@jupyter-widgets/controls",
     "model_name": "DescriptionStyleModel",
     "state": {
      "_model_module": "@jupyter-widgets/controls",
      "_model_module_version": "1.5.0",
      "_model_name": "DescriptionStyleModel",
      "_view_count": null,
      "_view_module": "@jupyter-widgets/base",
      "_view_module_version": "1.2.0",
      "_view_name": "StyleView",
      "description_width": ""
     }
    },
    "609729ddcd5e4b4fa701fdddad03d058": {
     "model_module": "@jupyter-widgets/controls",
     "model_name": "HTMLModel",
     "state": {
      "_dom_classes": [],
      "_model_module": "@jupyter-widgets/controls",
      "_model_module_version": "1.5.0",
      "_model_name": "HTMLModel",
      "_view_count": null,
      "_view_module": "@jupyter-widgets/controls",
      "_view_module_version": "1.5.0",
      "_view_name": "HTMLView",
      "description": "",
      "description_tooltip": null,
      "layout": "IPY_MODEL_07eafe66752b4f068811d1affd79e573",
      "placeholder": "​",
      "style": "IPY_MODEL_20e10277dbef4c9abe4c2c34100aa763",
      "value": " 4/4 [00:00&lt;00:00, 25.89it/s]"
     }
    },
    "6ae5e9c9599745a2b96d97537a12aaf3": {
     "model_module": "@jupyter-widgets/controls",
     "model_name": "FloatProgressModel",
     "state": {
      "_dom_classes": [],
      "_model_module": "@jupyter-widgets/controls",
      "_model_module_version": "1.5.0",
      "_model_name": "FloatProgressModel",
      "_view_count": null,
      "_view_module": "@jupyter-widgets/controls",
      "_view_module_version": "1.5.0",
      "_view_name": "ProgressView",
      "bar_style": "success",
      "description": "100%",
      "description_tooltip": null,
      "layout": "IPY_MODEL_b54d114d3c4b4b4f9c39a508971191d9",
      "max": 4,
      "min": 0,
      "orientation": "horizontal",
      "style": "IPY_MODEL_f714ebaacc614d9eaa575d33887927f0",
      "value": 4
     }
    },
    "8aa473b2c48b40daac6a722b7bceab4c": {
     "model_module": "@jupyter-widgets/controls",
     "model_name": "ProgressStyleModel",
     "state": {
      "_model_module": "@jupyter-widgets/controls",
      "_model_module_version": "1.5.0",
      "_model_name": "ProgressStyleModel",
      "_view_count": null,
      "_view_module": "@jupyter-widgets/base",
      "_view_module_version": "1.2.0",
      "_view_name": "StyleView",
      "bar_color": null,
      "description_width": "initial"
     }
    },
    "97183b2f3b7648c18c81fde31c7a695b": {
     "model_module": "@jupyter-widgets/controls",
     "model_name": "HTMLModel",
     "state": {
      "_dom_classes": [],
      "_model_module": "@jupyter-widgets/controls",
      "_model_module_version": "1.5.0",
      "_model_name": "HTMLModel",
      "_view_count": null,
      "_view_module": "@jupyter-widgets/controls",
      "_view_module_version": "1.5.0",
      "_view_name": "HTMLView",
      "description": "",
      "description_tooltip": null,
      "layout": "IPY_MODEL_ada81497636a4de59f9da77db5863079",
      "placeholder": "​",
      "style": "IPY_MODEL_300d3aede274411095894fd74b862ee8",
      "value": " 1/1 [00:00&lt;00:00, 10.34it/s]"
     }
    },
    "ada81497636a4de59f9da77db5863079": {
     "model_module": "@jupyter-widgets/base",
     "model_name": "LayoutModel",
     "state": {
      "_model_module": "@jupyter-widgets/base",
      "_model_module_version": "1.2.0",
      "_model_name": "LayoutModel",
      "_view_count": null,
      "_view_module": "@jupyter-widgets/base",
      "_view_module_version": "1.2.0",
      "_view_name": "LayoutView",
      "align_content": null,
      "align_items": null,
      "align_self": null,
      "border": null,
      "bottom": null,
      "display": null,
      "flex": null,
      "flex_flow": null,
      "grid_area": null,
      "grid_auto_columns": null,
      "grid_auto_flow": null,
      "grid_auto_rows": null,
      "grid_column": null,
      "grid_gap": null,
      "grid_row": null,
      "grid_template_areas": null,
      "grid_template_columns": null,
      "grid_template_rows": null,
      "height": null,
      "justify_content": null,
      "justify_items": null,
      "left": null,
      "margin": null,
      "max_height": null,
      "max_width": null,
      "min_height": null,
      "min_width": null,
      "object_fit": null,
      "object_position": null,
      "order": null,
      "overflow": null,
      "overflow_x": null,
      "overflow_y": null,
      "padding": null,
      "right": null,
      "top": null,
      "visibility": null,
      "width": null
     }
    },
    "b54d114d3c4b4b4f9c39a508971191d9": {
     "model_module": "@jupyter-widgets/base",
     "model_name": "LayoutModel",
     "state": {
      "_model_module": "@jupyter-widgets/base",
      "_model_module_version": "1.2.0",
      "_model_name": "LayoutModel",
      "_view_count": null,
      "_view_module": "@jupyter-widgets/base",
      "_view_module_version": "1.2.0",
      "_view_name": "LayoutView",
      "align_content": null,
      "align_items": null,
      "align_self": null,
      "border": null,
      "bottom": null,
      "display": null,
      "flex": null,
      "flex_flow": null,
      "grid_area": null,
      "grid_auto_columns": null,
      "grid_auto_flow": null,
      "grid_auto_rows": null,
      "grid_column": null,
      "grid_gap": null,
      "grid_row": null,
      "grid_template_areas": null,
      "grid_template_columns": null,
      "grid_template_rows": null,
      "height": null,
      "justify_content": null,
      "justify_items": null,
      "left": null,
      "margin": null,
      "max_height": null,
      "max_width": null,
      "min_height": null,
      "min_width": null,
      "object_fit": null,
      "object_position": null,
      "order": null,
      "overflow": null,
      "overflow_x": null,
      "overflow_y": null,
      "padding": null,
      "right": null,
      "top": null,
      "visibility": null,
      "width": null
     }
    },
    "c55d1bcacb254fedb39433b6c06bedd0": {
     "model_module": "@jupyter-widgets/base",
     "model_name": "LayoutModel",
     "state": {
      "_model_module": "@jupyter-widgets/base",
      "_model_module_version": "1.2.0",
      "_model_name": "LayoutModel",
      "_view_count": null,
      "_view_module": "@jupyter-widgets/base",
      "_view_module_version": "1.2.0",
      "_view_name": "LayoutView",
      "align_content": null,
      "align_items": null,
      "align_self": null,
      "border": null,
      "bottom": null,
      "display": null,
      "flex": null,
      "flex_flow": null,
      "grid_area": null,
      "grid_auto_columns": null,
      "grid_auto_flow": null,
      "grid_auto_rows": null,
      "grid_column": null,
      "grid_gap": null,
      "grid_row": null,
      "grid_template_areas": null,
      "grid_template_columns": null,
      "grid_template_rows": null,
      "height": null,
      "justify_content": null,
      "justify_items": null,
      "left": null,
      "margin": null,
      "max_height": null,
      "max_width": null,
      "min_height": null,
      "min_width": null,
      "object_fit": null,
      "object_position": null,
      "order": null,
      "overflow": null,
      "overflow_x": null,
      "overflow_y": null,
      "padding": null,
      "right": null,
      "top": null,
      "visibility": null,
      "width": null
     }
    },
    "d181128dd56444e4bd555e4de710500a": {
     "model_module": "@jupyter-widgets/controls",
     "model_name": "HBoxModel",
     "state": {
      "_dom_classes": [],
      "_model_module": "@jupyter-widgets/controls",
      "_model_module_version": "1.5.0",
      "_model_name": "HBoxModel",
      "_view_count": null,
      "_view_module": "@jupyter-widgets/controls",
      "_view_module_version": "1.5.0",
      "_view_name": "HBoxView",
      "box_style": "",
      "children": [
       "IPY_MODEL_e110ccde231d4eb8ad2a55da8e25fa89",
       "IPY_MODEL_97183b2f3b7648c18c81fde31c7a695b"
      ],
      "layout": "IPY_MODEL_e51c4aafe9dd43c095a5b2f02a9e4d58"
     }
    },
    "e110ccde231d4eb8ad2a55da8e25fa89": {
     "model_module": "@jupyter-widgets/controls",
     "model_name": "FloatProgressModel",
     "state": {
      "_dom_classes": [],
      "_model_module": "@jupyter-widgets/controls",
      "_model_module_version": "1.5.0",
      "_model_name": "FloatProgressModel",
      "_view_count": null,
      "_view_module": "@jupyter-widgets/controls",
      "_view_module_version": "1.5.0",
      "_view_name": "ProgressView",
      "bar_style": "success",
      "description": "100%",
      "description_tooltip": null,
      "layout": "IPY_MODEL_c55d1bcacb254fedb39433b6c06bedd0",
      "max": 1,
      "min": 0,
      "orientation": "horizontal",
      "style": "IPY_MODEL_8aa473b2c48b40daac6a722b7bceab4c",
      "value": 1
     }
    },
    "e51c4aafe9dd43c095a5b2f02a9e4d58": {
     "model_module": "@jupyter-widgets/base",
     "model_name": "LayoutModel",
     "state": {
      "_model_module": "@jupyter-widgets/base",
      "_model_module_version": "1.2.0",
      "_model_name": "LayoutModel",
      "_view_count": null,
      "_view_module": "@jupyter-widgets/base",
      "_view_module_version": "1.2.0",
      "_view_name": "LayoutView",
      "align_content": null,
      "align_items": null,
      "align_self": null,
      "border": null,
      "bottom": null,
      "display": null,
      "flex": null,
      "flex_flow": null,
      "grid_area": null,
      "grid_auto_columns": null,
      "grid_auto_flow": null,
      "grid_auto_rows": null,
      "grid_column": null,
      "grid_gap": null,
      "grid_row": null,
      "grid_template_areas": null,
      "grid_template_columns": null,
      "grid_template_rows": null,
      "height": null,
      "justify_content": null,
      "justify_items": null,
      "left": null,
      "margin": null,
      "max_height": null,
      "max_width": null,
      "min_height": null,
      "min_width": null,
      "object_fit": null,
      "object_position": null,
      "order": null,
      "overflow": null,
      "overflow_x": null,
      "overflow_y": null,
      "padding": null,
      "right": null,
      "top": null,
      "visibility": null,
      "width": null
     }
    },
    "f714ebaacc614d9eaa575d33887927f0": {
     "model_module": "@jupyter-widgets/controls",
     "model_name": "ProgressStyleModel",
     "state": {
      "_model_module": "@jupyter-widgets/controls",
      "_model_module_version": "1.5.0",
      "_model_name": "ProgressStyleModel",
      "_view_count": null,
      "_view_module": "@jupyter-widgets/base",
      "_view_module_version": "1.2.0",
      "_view_name": "StyleView",
      "bar_color": null,
      "description_width": "initial"
     }
    }
   }
  }
 },
 "nbformat": 4,
 "nbformat_minor": 4
}
